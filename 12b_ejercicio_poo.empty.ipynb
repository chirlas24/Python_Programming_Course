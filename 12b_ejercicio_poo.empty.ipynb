{
 "cells": [
  {
   "cell_type": "markdown",
   "metadata": {
    "slideshow": {
     "slide_type": "slide"
    }
   },
   "source": [
    "# Ejercicio guiado de POO\n",
    "\n",
    "<img src=\"https://www.python.org/static/img/python-logo.png\" alt=\"yogen\" style=\"width: 200px; float: right;\"/>\n",
    "<br>\n",
    "<br>\n",
    "<br>\n",
    "<a href = \"http://yogen.io\"><img src=\"http://yogen.io/assets/logo.svg\" alt=\"yogen\" style=\"width: 200px; float: right;\"/></a>"
   ]
  },
  {
   "cell_type": "markdown",
   "metadata": {
    "slideshow": {
     "slide_type": "slide"
    }
   },
   "source": [
    "# Objetivos\n",
    "\n",
    "- Poner en práctica lo que hemos aprendido en clase, de manera guiada."
   ]
  },
  {
   "cell_type": "markdown",
   "metadata": {},
   "source": [
    " "
   ]
  },
  {
   "cell_type": "markdown",
   "metadata": {},
   "source": [
    "# La playa del bipartidismo\n",
    "\n",
    "Planteamiento: Vamos a implementar una metáfora para el bipartidismo: en una playa hay dos tiendas de helados. Cada persona que quiere un helado, lo compra en la tienda que tiene mas cerca.\n",
    "\n",
    "En este primer paso, el objetivo es simplemente crear una playa con dos tiendas en posiciones aleatorias y calcular cuantos helados vende cada una."
   ]
  },
  {
   "cell_type": "markdown",
   "metadata": {},
   "source": [
    "Primero, escribimos una clase Shop, que por ahora solo tendra un atributo: su posición dentro de la playa, representada como una recta desde el 0.0 al 1.0"
   ]
  },
  {
   "cell_type": "code",
   "execution_count": null,
   "metadata": {
    "collapsed": true
   },
   "outputs": [],
   "source": []
  },
  {
   "cell_type": "markdown",
   "metadata": {},
   "source": [
    "#### Siguiente paso\n",
    "\n",
    "Ahora, modificamos la clase Shop para que, al 'nacer', elija una posición al azar."
   ]
  },
  {
   "cell_type": "code",
   "execution_count": null,
   "metadata": {
    "collapsed": true
   },
   "outputs": [],
   "source": []
  },
  {
   "cell_type": "markdown",
   "metadata": {},
   "source": [
    "#### La playa\n",
    "\n",
    "Por ahora solo tendrá dos tiendas, que serán su único atributo"
   ]
  },
  {
   "cell_type": "code",
   "execution_count": null,
   "metadata": {
    "collapsed": true
   },
   "outputs": [],
   "source": []
  },
  {
   "cell_type": "markdown",
   "metadata": {},
   "source": [
    "#### `__repr__`\n",
    "\n",
    "\n",
    "Cuando mostramos `Beach` por pantalla, no obtenemos información muy útil, no? \n",
    "\n",
    "Implementa un método `__repr__` para `Shop`."
   ]
  },
  {
   "cell_type": "code",
   "execution_count": null,
   "metadata": {
    "collapsed": true
   },
   "outputs": [],
   "source": []
  },
  {
   "cell_type": "markdown",
   "metadata": {},
   "source": [
    "#### `__repr__`\n",
    "\n",
    "Y ahora para `Beach`"
   ]
  },
  {
   "cell_type": "code",
   "execution_count": null,
   "metadata": {
    "collapsed": true
   },
   "outputs": [],
   "source": []
  },
  {
   "cell_type": "markdown",
   "metadata": {},
   "source": [
    "#### Siguiente paso\n",
    "\n",
    "Ahora, vamos a hacer la parte mas difícil del trabajo: una clase `Person`, que sepa elegir entre varias tiendas. \n",
    "\n",
    "Como en OOP esta muy feo que una clase acceda directamente a los atributos de otra, vamos a hacer que la `Shop` sepa decirle a quien le pregunte como de lejos estan. Para ello, necesitara saber la posicion de quien le llama, que se la dira \"voluntariamente\""
   ]
  },
  {
   "cell_type": "code",
   "execution_count": null,
   "metadata": {
    "collapsed": true
   },
   "outputs": [],
   "source": []
  },
  {
   "cell_type": "markdown",
   "metadata": {},
   "source": [
    "Y ya estamos! ahora que la `Person` sabe elegir una tienda, solo tiene que comprar el helado!! La `Shop` necesitara llevar la cuenta de cuantos helados ha vendido, y la `Beach` lo pondra todo en marcha lanzando n personas."
   ]
  },
  {
   "cell_type": "code",
   "execution_count": null,
   "metadata": {
    "collapsed": true
   },
   "outputs": [],
   "source": []
  },
  {
   "cell_type": "markdown",
   "metadata": {},
   "source": [
    "### Retos para casa:\n",
    "\n",
    "1. Prueba a hacer una Playa que pueda tener mas de dos tiendas. Cuanto codigo tienes que cambiar? Cuanto habrias tenido que cambiar si hubieras tomado el approach tienda1, tienda2?\n",
    "\n",
    "2. Haz que en una misma Playa pueda pasar mas de un dia, sin hacer tiendas nuevas. Que deberia pasar con helados_vendidos al final (o al principio, que seria mejor?) del dia? Como seria la manera mas OOP de implementarlo?\n",
    "\n",
    "3. Ahora a por el mas dificil todavia (esto es de tres chilis por lo menos): Queremos ver como las posiciones de las tiendas evolucionan si cada tienda es capaz de cambiar su posicion cada dia, considerando cuanto territorio cubriria moviendose a la derecha, a la izquierda, o quedandose quieta. Para esto, entre otras cosas:\n",
    "  * La Tienda debera preguntarle a la Playa cual seria su territorio en caso de moverse, y la Playa tendra que saber contestarle.\n",
    "  * La Tienda debera cambiar su posicion en base a cual seria mejor.\n",
    "  * La Playa debera hacer pasar un dia tras otro, hasta que nos quedemos contentos de haber llegado a un equilibrio (o nos cansemos de esperar)\n",
    "    \n",
    "Para este ultimo, os podeis inspirar (a ser posible solo cuando esteis atascados del todo) en la [implementacion que tengo colgada en Github](https://github.com/danimateos/laPlaya), aunque con cuidado: las aproximaciones no son exactamente iguales, y desde luego no os hace falta implementar todo lo que tengo ahi.\n",
    "\n",
    "A disfrutar!!"
   ]
  },
  {
   "cell_type": "code",
   "execution_count": null,
   "metadata": {
    "collapsed": true
   },
   "outputs": [],
   "source": []
  }
 ],
 "metadata": {
  "celltoolbar": "Slideshow",
  "kernelspec": {
   "display_name": "Python 3",
   "language": "python",
   "name": "python3"
  },
  "language_info": {
   "codemirror_mode": {
    "name": "ipython",
    "version": 3
   },
   "file_extension": ".py",
   "mimetype": "text/x-python",
   "name": "python",
   "nbconvert_exporter": "python",
   "pygments_lexer": "ipython3",
   "version": "3.6.2"
  },
  "livereveal": {
   "scroll": true,
   "start_slideshow_at": "selected"
  }
 },
 "nbformat": 4,
 "nbformat_minor": 2
}
