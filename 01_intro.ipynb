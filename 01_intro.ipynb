{
 "cells": [
  {
   "cell_type": "markdown",
   "metadata": {
    "slideshow": {
     "slide_type": "slide"
    }
   },
   "source": [
    "# Iniciación a la programación con Python\n",
    "\n",
    "\n",
    "\n",
    "<img src=\"https://www.python.org/static/img/python-logo.png\" alt=\"yogen\" style=\"width: 200px; float: right;\"/>\n",
    "<br>\n",
    "<br>\n",
    "<br>\n",
    "<a href = \"http://yogen.io\"><img src=\"http://yogen.io/assets/logo.svg\" alt=\"yogen\" style=\"width: 200px; float: right;\"/></a>\n"
   ]
  },
  {
   "cell_type": "markdown",
   "metadata": {
    "slideshow": {
     "slide_type": "slide"
    }
   },
   "source": [
    "# Objetivos del curso \n",
    "\n",
    "-   Pensar cómo resolver problemas con ayuda del ordenador"
   ]
  },
  {
   "cell_type": "markdown",
   "metadata": {
    "slideshow": {
     "slide_type": "fragment"
    }
   },
   "source": [
    "-   Dejar de ser usuarios para ser creadores"
   ]
  },
  {
   "cell_type": "markdown",
   "metadata": {
    "slideshow": {
     "slide_type": "fragment"
    }
   },
   "source": [
    "-   Crear nuestras propias soluciones para resolver problemas de\n",
    "    *data science* con el ordenador"
   ]
  },
  {
   "cell_type": "markdown",
   "metadata": {
    "slideshow": {
     "slide_type": "slide"
    }
   },
   "source": [
    "## Objetivo principal\n",
    "\n",
    "\n",
    "-   Aprender a programar, es decir, aprender a escribir\n",
    "    *software*"
   ]
  },
  {
   "cell_type": "markdown",
   "metadata": {
    "slideshow": {
     "slide_type": "fragment"
    }
   },
   "source": [
    "¿Pero qué es un programa?"
   ]
  },
  {
   "cell_type": "markdown",
   "metadata": {
    "slideshow": {
     "slide_type": "slide"
    }
   },
   "source": [
    "## ¿Qué es un programa?\n",
    "\n",
    "-   Las personas interactuamos con el ordenador a través de programas.\n",
    "\n",
    "-   Algunos programas interactúan también con otros programas, en vez\n",
    "    de personas."
   ]
  },
  {
   "cell_type": "markdown",
   "metadata": {
    "slideshow": {
     "slide_type": "fragment"
    }
   },
   "source": [
    "Un programa es un procedimiento para resolver un problema con un\n",
    "ordenador."
   ]
  },
  {
   "cell_type": "markdown",
   "metadata": {
    "slideshow": {
     "slide_type": "fragment"
    }
   },
   "source": [
    "Ese procedimiento consiste en una serie de instrucciones"
   ]
  },
  {
   "cell_type": "markdown",
   "metadata": {
    "slideshow": {
     "slide_type": "slide"
    }
   },
   "source": [
    "## Ordenadores y programas \n",
    "\n",
    "El ordenador no puede funcionar sin programas. El ordenador no es más que un conjunto de dispositivos organizados según una *arquitectura*.\n",
    "\n",
    "-   Procesador (CPU)\n",
    "\n",
    "-   Memoria RAM (volátil, se pierde al apagar)\n",
    "\n",
    "-   Almacenamiento (disco duro, permanente, no se pierde al apagar)\n",
    "\n",
    "-   Otros dispositivos"
   ]
  },
  {
   "cell_type": "markdown",
   "metadata": {
    "slideshow": {
     "slide_type": "slide"
    }
   },
   "source": [
    "## Tipos de programas\n",
    "\n",
    "Hay muchos tipos de programas:\n",
    "\n",
    "-   Sistema operativo: organiza la comunicación entre los dispositivos\n",
    "\n",
    "-   Programas de usuario: ofimática, navegador web\n",
    "\n",
    "-   Programas que trabajan con programas: por ejemplo, el servidor web"
   ]
  },
  {
   "cell_type": "markdown",
   "metadata": {
    "slideshow": {
     "slide_type": "slide"
    }
   },
   "source": [
    "## ¿Cómo se hace un programa?"
   ]
  },
  {
   "cell_type": "markdown",
   "metadata": {
    "slideshow": {
     "slide_type": "fragment"
    }
   },
   "source": [
    "Lenguajes de programación\n",
    "\n",
    "-   Cualquier persona puede hacer un programa. Hay que escribir una\n",
    "    lista de instrucciones, codificadas en un **lenguaje de programación**."
   ]
  },
  {
   "cell_type": "markdown",
   "metadata": {
    "slideshow": {
     "slide_type": "fragment"
    }
   },
   "source": [
    "-   Existen muchos lenguajes de programación\n",
    "\n",
    "    -  <http://es.wikipedia.org/wiki/Lista_de_lenguajes_de_programaci%C3%B3n>"
   ]
  },
  {
   "cell_type": "markdown",
   "metadata": {
    "slideshow": {
     "slide_type": "slide"
    }
   },
   "source": [
    "¿Qué lenguaje vamos a estudiar?"
   ]
  },
  {
   "cell_type": "markdown",
   "metadata": {
    "slideshow": {
     "slide_type": "fragment"
    }
   },
   "source": [
    "![Python](https://www.python.org/static/img/python-logo.png)\n",
    "\n",
    "Lenguaje muy utilizado en ciencias, ingeniería, desarrollo web y ***data science***"
   ]
  },
  {
   "cell_type": "markdown",
   "metadata": {
    "slideshow": {
     "slide_type": "slide"
    }
   },
   "source": [
    "## Lenguajes de programación \n",
    "\n",
    "Tipos de lenguajes\n",
    "\n",
    "-   El ordenador solo entiende un tipo de lenguaje, el  **lenguaje\n",
    "    máquina** o **lenguaje ensamblador**"
   ]
  },
  {
   "cell_type": "markdown",
   "metadata": {
    "slideshow": {
     "slide_type": "fragment"
    }
   },
   "source": [
    "-   Nosotros escribiremos en un **lenguaje de alto nivel**."
   ]
  },
  {
   "cell_type": "markdown",
   "metadata": {
    "slideshow": {
     "slide_type": "fragment"
    }
   },
   "source": [
    "-   La traducción de un lenguaje a otro la realizan los programas\n",
    "    denominados **compiladores** o\n",
    "    **intérpretes**."
   ]
  },
  {
   "cell_type": "markdown",
   "metadata": {
    "slideshow": {
     "slide_type": "slide"
    }
   },
   "source": [
    "## Lenguajes de alto y bajo nivel\n",
    "\n",
    "Ejemplos de lenguajes de alto y bajo nivel\n"
   ]
  },
  {
   "cell_type": "markdown",
   "metadata": {
    "slideshow": {
     "slide_type": "fragment"
    }
   },
   "source": [
    "#### Lenguaje de bajo nivel\n",
    "\n",
    "```pseudocode\n",
    ".model small\n",
    ".stack \n",
    ".data\n",
    "Cadena1 DB 'Hola mundo.'\n",
    ".code\n",
    "\n",
    "programa:\n",
    "    MOV AX, @data\n",
    "    MOV DS, AX   \n",
    "    MOV DX, offset Cadena1 \n",
    "    MOV AH, 9 \n",
    "    INT 21h   \n",
    "    INT 20h\n",
    "end programa\n",
    "```"
   ]
  },
  {
   "cell_type": "markdown",
   "metadata": {
    "slideshow": {
     "slide_type": "slide"
    }
   },
   "source": [
    "#### Lenguaje de alto nivel\n",
    "\n",
    "```python\n",
    "print('Hola mundo')\n",
    "```"
   ]
  },
  {
   "cell_type": "markdown",
   "metadata": {
    "slideshow": {
     "slide_type": "slide"
    }
   },
   "source": [
    "## Ventajas e inconvenientes\n",
    "\n",
    "#### Tiempo de ejecución y desarrollo\n",
    "\n",
    "\n",
    "|  Tiempo |  Bajo nivel | Alto nivel  |\n",
    "|---|---|---|\n",
    "| Ejecución  | Rápido  | Lento  |\n",
    "| Desarrollo | Largo  | Corto  |"
   ]
  },
  {
   "cell_type": "markdown",
   "metadata": {
    "slideshow": {
     "slide_type": "fragment"
    }
   },
   "source": [
    "#### Lenguaje del ordenador \n",
    "El ordenador solo entiende el lenguaje máquina. La traducción la realizan:\n",
    "\n",
    "-   Compiladores\n",
    "\n",
    "    -   Producen un programa ejecutable independiente.\n",
    "\n",
    "-   Intérpretes\n",
    "\n",
    "    -   Interpretan el programa línea tras línea. Más sencillos para\n",
    "        realizar pruebas y modificar programas sobre la marcha."
   ]
  },
  {
   "cell_type": "markdown",
   "metadata": {
    "slideshow": {
     "slide_type": "slide"
    }
   },
   "source": [
    "# Por qué Python"
   ]
  },
  {
   "cell_type": "markdown",
   "metadata": {
    "slideshow": {
     "slide_type": "fragment"
    }
   },
   "source": [
    "[![Python](https://imgs.xkcd.com/comics/python.png)](https://xkcd.com/353/)"
   ]
  },
  {
   "cell_type": "markdown",
   "metadata": {
    "slideshow": {
     "slide_type": "fragment"
    }
   },
   "source": [
    "Básicamente, es el lenguaje perfecto para empezar"
   ]
  },
  {
   "cell_type": "markdown",
   "metadata": {
    "slideshow": {
     "slide_type": "slide"
    }
   },
   "source": [
    "## Características de Python\n",
    "\n",
    "Interpretado\n",
    "\n",
    "Tipado **fuerte** pero **dinámico**\n",
    "\n",
    "Orientado a la **legibilidad**\n",
    "\n"
   ]
  },
  {
   "cell_type": "markdown",
   "metadata": {
    "slideshow": {
     "slide_type": "slide"
    }
   },
   "source": [
    "## The zen of Python"
   ]
  },
  {
   "cell_type": "code",
   "execution_count": 1,
   "metadata": {
    "slideshow": {
     "slide_type": "fragment"
    }
   },
   "outputs": [
    {
     "name": "stdout",
     "output_type": "stream",
     "text": [
      "The Zen of Python, by Tim Peters\n",
      "\n",
      "Beautiful is better than ugly.\n",
      "Explicit is better than implicit.\n",
      "Simple is better than complex.\n",
      "Complex is better than complicated.\n",
      "Flat is better than nested.\n",
      "Sparse is better than dense.\n",
      "Readability counts.\n",
      "Special cases aren't special enough to break the rules.\n",
      "Although practicality beats purity.\n",
      "Errors should never pass silently.\n",
      "Unless explicitly silenced.\n",
      "In the face of ambiguity, refuse the temptation to guess.\n",
      "There should be one-- and preferably only one --obvious way to do it.\n",
      "Although that way may not be obvious at first unless you're Dutch.\n",
      "Now is better than never.\n",
      "Although never is often better than *right* now.\n",
      "If the implementation is hard to explain, it's a bad idea.\n",
      "If the implementation is easy to explain, it may be a good idea.\n",
      "Namespaces are one honking great idea -- let's do more of those!\n"
     ]
    }
   ],
   "source": [
    "import this"
   ]
  },
  {
   "cell_type": "markdown",
   "metadata": {
    "slideshow": {
     "slide_type": "slide"
    }
   },
   "source": [
    "## Python en Data Science"
   ]
  },
  {
   "cell_type": "markdown",
   "metadata": {
    "slideshow": {
     "slide_type": "fragment"
    }
   },
   "source": [
    "![The Python scientific stack](figs/python-stack.jpg)"
   ]
  },
  {
   "cell_type": "markdown",
   "metadata": {
    "slideshow": {
     "slide_type": "slide"
    }
   },
   "source": [
    "# Entornos de programación \n",
    "\n",
    "#### IDEs\n",
    "\n",
    "El compilador o el intérprete no se usa de manera aislada. Suele incluirse en *Entornos Integrados de Desarrollo* (IDE, por sus siglas en inglés)."
   ]
  },
  {
   "cell_type": "markdown",
   "metadata": {
    "slideshow": {
     "slide_type": "fragment"
    }
   },
   "source": [
    "Una IDE normalmente cuenta con:\n",
    "\n",
    "-   Editor de código fuente\n",
    "\n",
    "-   Explorador de variables\n",
    "\n",
    "-   Línea de comandos del intérprete\n",
    "\n",
    "-   Historial de comandos\n",
    "\n",
    "-   Explorador de ficheros\n",
    "\n",
    "-   Depurador\n",
    "\n",
    "-   Otras herramientas"
   ]
  },
  {
   "cell_type": "markdown",
   "metadata": {
    "slideshow": {
     "slide_type": "slide"
    }
   },
   "source": [
    "## Por ejemplo, Spyder"
   ]
  },
  {
   "cell_type": "markdown",
   "metadata": {
    "slideshow": {
     "slide_type": "fragment"
    }
   },
   "source": [
    "![spyder](figs/spyder.png)"
   ]
  },
  {
   "cell_type": "markdown",
   "metadata": {
    "slideshow": {
     "slide_type": "slide"
    }
   },
   "source": [
    "## Los *notebooks*\n",
    "\n",
    "Las IDEs en programación científica están siendo ampliamente reemplazadas por _notebooks_\n",
    "\n",
    "-   Nosotros vamos a usar *notebooks*, que permiten ir\n",
    "    ejecutando los programas *celda* a *celda*\n",
    "\n",
    "-   Más detalles, enseguida en cuanto empecemos :)"
   ]
  },
  {
   "cell_type": "markdown",
   "metadata": {
    "slideshow": {
     "slide_type": "slide"
    }
   },
   "source": [
    "## Nuestro intérprete\n",
    "\n",
    "-   Python es un intérprete, que corre el código.\n",
    "\n",
    "-   En realidad, compila a *bytecode*, por lo que no es un\n",
    "    intérprete *puro*.\n",
    "\n",
    "    -   Detalles en\n",
    "        <https://en.wikipedia.org/wiki/Python_(programming_language)>"
   ]
  },
  {
   "cell_type": "markdown",
   "metadata": {
    "slideshow": {
     "slide_type": "slide"
    }
   },
   "source": [
    "## Ejemplo de programa \n",
    "\n",
    "#### Nuestro primer programa"
   ]
  },
  {
   "cell_type": "markdown",
   "metadata": {
    "slideshow": {
     "slide_type": "fragment"
    }
   },
   "source": [
    "Cálculo del área de un círculo\n",
    "\n",
    "```python\n",
    "# Calcula el area de un circulo\n",
    "\n",
    "# Entrada de datos\n",
    "rs = input('Introduce el radio del circulo: ')\n",
    "\n",
    "# Algoritmo\n",
    "r = float(rs)\n",
    "pi = 3.14159\n",
    "A = pi*r**2\n",
    "\n",
    "# Salida de datos\n",
    "print('El area del circulo con radio %f es %f' % (r,A))\n",
    "```"
   ]
  },
  {
   "cell_type": "markdown",
   "metadata": {
    "slideshow": {
     "slide_type": "slide"
    }
   },
   "source": [
    "## ¿Cómo funciona?\n",
    "\n",
    "Explicación del código\n",
    "\n",
    "-   Los colores se conocen como *resaltado de sintaxis*, y\n",
    "    se usan para distinguir más fácilmente los elementos del programa."
   ]
  },
  {
   "cell_type": "markdown",
   "metadata": {
    "slideshow": {
     "slide_type": "fragment"
    }
   },
   "source": [
    "-   Las líneas que comienzan por \\# son comentarios. El ordenador las\n",
    "    ignora, pero son importantes para entender qué hace el programa."
   ]
  },
  {
   "cell_type": "markdown",
   "metadata": {
    "slideshow": {
     "slide_type": "fragment"
    }
   },
   "source": [
    "-   Pide un número al usuario y almacena su valor en la variable\n",
    "    *rs*\n",
    "\n",
    "```python\n",
    "rs = input('Introduce el radio del circulo: ')\n",
    "```"
   ]
  },
  {
   "cell_type": "markdown",
   "metadata": {
    "slideshow": {
     "slide_type": "slide"
    }
   },
   "source": [
    "-   El resultado se devuelve como una cadena de texto, pero nosotros\n",
    "    necesitamos un número con decimales (*número en coma\n",
    "    flotante*)\n",
    "\n",
    "```python \n",
    "r = float(rs)\n",
    "```"
   ]
  },
  {
   "cell_type": "markdown",
   "metadata": {
    "slideshow": {
     "slide_type": "fragment"
    }
   },
   "source": [
    "-   Además, necesitamos el valor de $\\pi$, por lo que definimos una\n",
    "    variable nueva. La variable hace más legible el programa:\n",
    "\n",
    "```python\n",
    "pi = 3.14159\n",
    "```"
   ]
  },
  {
   "cell_type": "markdown",
   "metadata": {
    "slideshow": {
     "slide_type": "fragment"
    }
   },
   "source": [
    "-   Calcula el área como $\\pi r^2$\n",
    "\n",
    "``` python\n",
    "A = pi*r**2\n",
    "```"
   ]
  },
  {
   "cell_type": "markdown",
   "metadata": {
    "slideshow": {
     "slide_type": "slide"
    }
   },
   "source": [
    "-   Muestra un mensaje en pantalla con el resultado, usando dos números\n",
    "    en *coma flotante*\n",
    "\n",
    "```python \n",
    "print('El area del circulo con radio %f es %f' % (r,A))\n",
    "```"
   ]
  },
  {
   "cell_type": "markdown",
   "metadata": {
    "slideshow": {
     "slide_type": "slide"
    }
   },
   "source": [
    "## Estructura general de un programa\n",
    "\n",
    "Los programas que vamos a desarrollar son más complejos que este ejemplo. Pero la tarea de escribir el programa se puede facilitar si diseñamos el programa para que siga esta estructura:"
   ]
  },
  {
   "cell_type": "markdown",
   "metadata": {
    "slideshow": {
     "slide_type": "fragment"
    }
   },
   "source": [
    "**Entrada de datos**: Recibe toda la información necesaria para el programa al comienzo del programa. Ya no vuelve a recibir información en ninguna otra parte del programa."
   ]
  },
  {
   "cell_type": "markdown",
   "metadata": {
    "slideshow": {
     "slide_type": "fragment"
    }
   },
   "source": [
    "**Algoritmo**: Realiza los cálculos que transforman los datos de las entradas a las salidas, todo en la misma parte del programa, sin mezclar con entrada o con salida de datos."
   ]
  },
  {
   "cell_type": "markdown",
   "metadata": {
    "slideshow": {
     "slide_type": "fragment"
    }
   },
   "source": [
    "**Salida de datos**: Devuelve toda la información calculada en el algoritmo, sin realizar cálculos (ya se han realizado previamente) ni pedir información nueva."
   ]
  },
  {
   "cell_type": "markdown",
   "metadata": {
    "slideshow": {
     "slide_type": "slide"
    }
   },
   "source": [
    "## ¿Qué ocurre por debajo?\n",
    "\n",
    "¿Cómo funciona el ordenador?"
   ]
  },
  {
   "cell_type": "markdown",
   "metadata": {
    "slideshow": {
     "slide_type": "fragment"
    }
   },
   "source": [
    "-   ¿Dónde se guarda el programa que escribimos?\n",
    "\n",
    "-   ¿Y los valores de las variables que creamos?\n",
    "\n",
    "-   ¿Quién y cómo realiza los cálculos del ordenador?"
   ]
  },
  {
   "cell_type": "markdown",
   "metadata": {
    "slideshow": {
     "slide_type": "slide"
    }
   },
   "source": [
    "## Arquitectura del ordenador \n",
    "\n",
    "### Componentes principales del ordenador:"
   ]
  },
  {
   "cell_type": "markdown",
   "metadata": {
    "slideshow": {
     "slide_type": "fragment"
    }
   },
   "source": [
    "-   Procesador (CPU)\n",
    "\n",
    "-   Memoria RAM\n",
    "\n",
    "-   Disco duro"
   ]
  },
  {
   "cell_type": "markdown",
   "metadata": {
    "slideshow": {
     "slide_type": "slide"
    }
   },
   "source": [
    "## Esquema de la arquitectura de un ordenador\n",
    "\n",
    "![Arquitectura de Von Neumann](figs/arquitectura.png)"
   ]
  },
  {
   "cell_type": "markdown",
   "metadata": {
    "slideshow": {
     "slide_type": "slide"
    }
   },
   "source": [
    "## ¿Qué ocurre cuando programamos?\n",
    "\n",
    "#### Pasos cuando estamos programando:"
   ]
  },
  {
   "cell_type": "markdown",
   "metadata": {
    "slideshow": {
     "slide_type": "fragment"
    }
   },
   "source": [
    "- Escribimos el programa en el entorno, y guardamos el fichero en el\n",
    "    **disco duro**."
   ]
  },
  {
   "cell_type": "markdown",
   "metadata": {
    "slideshow": {
     "slide_type": "fragment"
    }
   },
   "source": [
    "- Al ejecutar, el programa se lee del disco duro, y se transfiere a la\n",
    "    **memoria RAM**."
   ]
  },
  {
   "cell_type": "markdown",
   "metadata": {
    "slideshow": {
     "slide_type": "fragment"
    }
   },
   "source": [
    "- Los comandos se transfieren uno a uno a la **CPU**, a\n",
    "    través de un **bus**."
   ]
  },
  {
   "cell_type": "markdown",
   "metadata": {
    "slideshow": {
     "slide_type": "fragment"
    }
   },
   "source": [
    "- La **CPU** pide los datos de las variables necesarias\n",
    "    para el cálculo a la **memoria RAM**, y los guarda en\n",
    "    los **registros**."
   ]
  },
  {
   "cell_type": "markdown",
   "metadata": {
    "slideshow": {
     "slide_type": "fragment"
    }
   },
   "source": [
    "- La **CPU** realiza la operación, y guarda en los \n",
    "    **registros** el resultado de la operación."
   ]
  },
  {
   "cell_type": "markdown",
   "metadata": {
    "slideshow": {
     "slide_type": "fragment"
    }
   },
   "source": [
    "- El resultado se transfiere a través del **bus** a la\n",
    "    **memoria RAM**, donde podrá ser reutilizado para las\n",
    "    operaciones que vengan después."
   ]
  },
  {
   "cell_type": "markdown",
   "metadata": {
    "slideshow": {
     "slide_type": "fragment"
    }
   },
   "source": [
    "- Al terminar la ejecución, el código del programa se elimina de la\n",
    "    **memoria RAM** (pero obviamente continúa en el disco\n",
    "    duro, y se puede ejecutar de nuevo)."
   ]
  },
  {
   "cell_type": "markdown",
   "metadata": {
    "slideshow": {
     "slide_type": "slide"
    }
   },
   "source": [
    "## Pregunta\n",
    "\n",
    "Para mejorar la experiencia de usuario en un ordenador...\n",
    "Estamos comprando un ordenador y tenemos el presupuesto algo limitado.\n",
    "Tenemos que elegir entre poner más memoria, más disco duro o un\n",
    "procesador más rápido."
   ]
  },
  {
   "cell_type": "markdown",
   "metadata": {
    "slideshow": {
     "slide_type": "fragment"
    }
   },
   "source": [
    "-   ¿En cuál de los tres invertimos para mejorar la experiencia de uso\n",
    "    del ordenado?"
   ]
  },
  {
   "cell_type": "markdown",
   "metadata": {
    "slideshow": {
     "slide_type": "fragment"
    }
   },
   "source": [
    "-   ¿Cuál es la influencia de cada uno de estos tres componentes en el\n",
    "    funcionamiento del ordenador?"
   ]
  },
  {
   "cell_type": "markdown",
   "metadata": {
    "slideshow": {
     "slide_type": "slide"
    }
   },
   "source": [
    "# Para llevar \n",
    "\n",
    "### Resumen del tema\n",
    "\n",
    "-   En este curso, el objetivo es que aprendamos a escribir nuestros\n",
    "    propios programas. En el **Máster en  *Data\n",
    "    Science*** los usaremos para manejar datos en un\n",
    "    ordenador, y usar el resultado de nuestros análisis para tomar\n",
    "    decisiones dirigidas por datos."
   ]
  },
  {
   "cell_type": "markdown",
   "metadata": {
    "slideshow": {
     "slide_type": "fragment"
    }
   },
   "source": [
    "-   Hay muchos lenguajes de programación, de alto nivel y bajo nivel.\n",
    "\n",
    "    -   Los de bajo nivel se ejecutan rápido, pero son difícil de\n",
    "        entender y se tarda más tiempo en programar.\n",
    "\n",
    "    -   Los de alto nivel se entienden de manera más sencilla y se tarda\n",
    "        menos en programar, pero se ejecutan más lentamente."
   ]
  },
  {
   "cell_type": "markdown",
   "metadata": {
    "slideshow": {
     "slide_type": "fragment"
    }
   },
   "source": [
    "-   Para programar usaremos *notebooks*, que permiten\n",
    "    experimentar con nuestros programas de manera cómoda, y ver los\n",
    "    resultados intermedios de manera inmediata."
   ]
  },
  {
   "cell_type": "markdown",
   "metadata": {
    "slideshow": {
     "slide_type": "slide"
    }
   },
   "source": [
    "## Resumen del tema\n",
    "\n",
    "-   Intentaremos siempre estructurar nuestros programas en\n",
    "\n",
    "    -   Entrada de datos\n",
    "\n",
    "    -   Algoritmo\n",
    "\n",
    "    -   Salida de datos"
   ]
  },
  {
   "cell_type": "markdown",
   "metadata": {
    "slideshow": {
     "slide_type": "fragment"
    }
   },
   "source": [
    "-   Las partes principales del ordenador son la memoria RAM, la CPU y el\n",
    "    disco duro.\n",
    "\n",
    "    -   El texto que escribimos como código fuente se guarda en el\n",
    "        disco duro.\n",
    "\n",
    "    -   El programa se carga en memoria, y se va transfiriendo a la CPU.\n",
    "        Los resultados se guardan en la memoria en forma de variables.\n",
    "\n",
    "    -   Al terminar, el programa se borra de la memoria RAM, pero\n",
    "        podemos ejecutarlo otra, cargándolo desde el disco duro.\n",
    "\n",
    "    -   Toda la comunicación se realiza siempre a través del bus."
   ]
  },
  {
   "cell_type": "markdown",
   "metadata": {
    "slideshow": {
     "slide_type": "fragment"
    }
   },
   "source": [
    "-   El conjunto de las partes que forman el ordenador y cómo se\n",
    "    organizan, se conoce como *arquitectura del ordenador*."
   ]
  },
  {
   "cell_type": "markdown",
   "metadata": {
    "slideshow": {
     "slide_type": "slide"
    }
   },
   "source": [
    "# Para saber más\n",
    "\n",
    "-   https://es.wikipedia.org/wiki/Programaci%C3%B3n\n",
    "\n",
    "-   https://es.wikipedia.org/wiki/Lenguaje_de_programaci%C3%B3n\n",
    "\n",
    "-   https://es.wikipedia.org/wiki/Arquitectura_de_von_Neumann"
   ]
  }
 ],
 "metadata": {
  "anaconda-cloud": {},
  "celltoolbar": "Slideshow",
  "kernelspec": {
   "display_name": "Python 3",
   "language": "python",
   "name": "python3"
  },
  "language_info": {
   "codemirror_mode": {
    "name": "ipython",
    "version": 3
   },
   "file_extension": ".py",
   "mimetype": "text/x-python",
   "name": "python",
   "nbconvert_exporter": "python",
   "pygments_lexer": "ipython3",
   "version": "3.6.6"
  },
  "livereveal": {
   "scroll": true,
   "start_slideshow_at": "selected"
  }
 },
 "nbformat": 4,
 "nbformat_minor": 2
}
