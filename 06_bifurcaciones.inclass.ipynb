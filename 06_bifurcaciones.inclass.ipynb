{
 "cells": [
  {
   "cell_type": "markdown",
   "metadata": {
    "slideshow": {
     "slide_type": "slide"
    }
   },
   "source": [
    "# Tomar decisiones en nuestros programas\n",
    "\n",
    "<img src=\"https://www.python.org/static/img/python-logo.png\" alt=\"yogen\" style=\"width: 200px; float: right;\"/>\n",
    "<br>\n",
    "<br>\n",
    "<br>\n",
    "<a href = \"http://yogen.io\"><img src=\"http://yogen.io/assets/logo.svg\" alt=\"yogen\" style=\"width: 200px; float: right;\"/></a>\n"
   ]
  },
  {
   "cell_type": "markdown",
   "metadata": {
    "slideshow": {
     "slide_type": "slide"
    }
   },
   "source": [
    "# Objetivo de este tema\n",
    "\n",
    "-   Conocer las variables de tipo lógico más en profundidad\n",
    "\n",
    "-   Usarlas para tomar decisiones dentro de nuestros programas"
   ]
  },
  {
   "cell_type": "markdown",
   "metadata": {
    "slideshow": {
     "slide_type": "slide"
    }
   },
   "source": [
    "# Operadores lógicos "
   ]
  },
  {
   "cell_type": "markdown",
   "metadata": {
    "slideshow": {
     "slide_type": "slide"
    }
   },
   "source": [
    "## Operadores relacionales\n",
    "\n",
    "Sirven para comparar variables, y devuelven un resultado de tipo *lógico*\n",
    "\n",
    "|       Operador      | Símbolo | Ejemplo|\n",
    "|  -------------------|---------|--------|\n",
    "|       Menor que     |   $<$   |  $3<2$ |\n",
    "|       Mayor que     |   $>$   |  $3>2$ |\n",
    "|   Menor o igual que |  $<=$   | $3<=2$ |\n",
    "|   Mayor o igual que |  $>=$   | $3>=2$ | \n",
    "|       Es igual      |  $==$   | $3==2$ |\n",
    "|     Es diferente    |  $!=$   | $3!=2$ |"
   ]
  },
  {
   "cell_type": "markdown",
   "metadata": {
    "slideshow": {
     "slide_type": "fragment"
    }
   },
   "source": [
    "#### Ejemplo"
   ]
  },
  {
   "cell_type": "code",
   "execution_count": 6,
   "metadata": {},
   "outputs": [
    {
     "name": "stdout",
     "output_type": "stream",
     "text": [
      "True\n",
      "False\n",
      "True\n",
      "True\n"
     ]
    }
   ],
   "source": [
    "print(3 > 2)\n",
    "print(3 < 2)\n",
    "print(2 == 2.0)\n",
    "print(5 != 2.0)"
   ]
  },
  {
   "cell_type": "code",
   "execution_count": 8,
   "metadata": {},
   "outputs": [
    {
     "ename": "TypeError",
     "evalue": "'>' not supported between instances of 'int' and 'str'",
     "output_type": "error",
     "traceback": [
      "\u001b[0;31m---------------------------------------------------------------------------\u001b[0m",
      "\u001b[0;31mTypeError\u001b[0m                                 Traceback (most recent call last)",
      "\u001b[0;32m<ipython-input-8-5db15c584ca1>\u001b[0m in \u001b[0;36m<module>\u001b[0;34m()\u001b[0m\n\u001b[0;32m----> 1\u001b[0;31m \u001b[0;36m3\u001b[0m \u001b[0;34m>\u001b[0m \u001b[0;34m'Daniel'\u001b[0m\u001b[0;34m\u001b[0m\u001b[0m\n\u001b[0m",
      "\u001b[0;31mTypeError\u001b[0m: '>' not supported between instances of 'int' and 'str'"
     ]
    }
   ],
   "source": [
    "3 > 'Daniel'"
   ]
  },
  {
   "cell_type": "code",
   "execution_count": 9,
   "metadata": {},
   "outputs": [
    {
     "data": {
      "text/plain": [
       "True"
      ]
     },
     "execution_count": 9,
     "metadata": {},
     "output_type": "execute_result"
    }
   ],
   "source": [
    "3 != 'Daniel'"
   ]
  },
  {
   "cell_type": "markdown",
   "metadata": {
    "slideshow": {
     "slide_type": "slide"
    }
   },
   "source": [
    "## Operadores lógicos no relacionales\n",
    "\n",
    "Combinan valores lógicos para dar lugar\n",
    "a otro valor lógico.\n",
    "\n",
    "\n",
    "|   Operador | Símbolo |   Equivalente    | Operación|\n",
    "|  ----------|---------|------------------|-----------|\n",
    "|      Y     |    &    | and |  Y lógico|\n",
    "|      O     |     &#124;    | or  |  O lógico|\n",
    "|      No    |    (no symbol) |  not |  Negación|\n"
   ]
  },
  {
   "cell_type": "markdown",
   "metadata": {
    "slideshow": {
     "slide_type": "slide"
    }
   },
   "source": [
    "## Operador Y lógico\n",
    "\n",
    "Tabla de la verdad\n",
    "\n",
    "|         a      |       b        |     a & b   |\n",
    "|----------------|----------------|-------------|\n",
    "|       Falso    |       Falso    |     Falso   |\n",
    "|       Falso    |     Verdadero  |     Falso   |\n",
    "|     Verdadero  |       Falso    |     Falso   |\n",
    "|     Verdadero  |     Verdadero  |   Verdadero |"
   ]
  },
  {
   "cell_type": "markdown",
   "metadata": {
    "slideshow": {
     "slide_type": "fragment"
    }
   },
   "source": [
    "#### Ejemplo"
   ]
  },
  {
   "cell_type": "code",
   "execution_count": 10,
   "metadata": {},
   "outputs": [
    {
     "data": {
      "text/plain": [
       "False"
      ]
     },
     "execution_count": 10,
     "metadata": {},
     "output_type": "execute_result"
    }
   ],
   "source": [
    "True and False"
   ]
  },
  {
   "cell_type": "code",
   "execution_count": 12,
   "metadata": {},
   "outputs": [
    {
     "data": {
      "text/plain": [
       "True"
      ]
     },
     "execution_count": 12,
     "metadata": {},
     "output_type": "execute_result"
    }
   ],
   "source": [
    "is_it_late = True\n",
    "am_i_tired = True\n",
    "\n",
    "yawn = is_it_late and am_i_tired\n",
    "yawn"
   ]
  },
  {
   "cell_type": "code",
   "execution_count": 15,
   "metadata": {},
   "outputs": [
    {
     "data": {
      "text/plain": [
       "True"
      ]
     },
     "execution_count": 15,
     "metadata": {},
     "output_type": "execute_result"
    }
   ],
   "source": [
    "weekday = True\n",
    "job = True\n",
    "\n",
    "wake_early = weekday and job\n",
    "wake_early"
   ]
  },
  {
   "cell_type": "code",
   "execution_count": 14,
   "metadata": {},
   "outputs": [
    {
     "data": {
      "text/plain": [
       "False"
      ]
     },
     "execution_count": 14,
     "metadata": {},
     "output_type": "execute_result"
    }
   ],
   "source": [
    "weekday = False\n",
    "job = True\n",
    "\n",
    "wake_early = weekday and job\n",
    "wake_early"
   ]
  },
  {
   "cell_type": "markdown",
   "metadata": {
    "slideshow": {
     "slide_type": "slide"
    }
   },
   "source": [
    "## Operador O lógico\n",
    "\n",
    "Tabla de la verdad\n",
    "\n",
    "|         a      |       b        |  a  &#124; b   |\n",
    "|----------------|----------------|-------------|\n",
    "|       Falso    |       Falso    |     Falso   |\n",
    "|       Falso    |     Verdadero  |   Verdadero |\n",
    "|     Verdadero  |       Falso    |   Verdadero |\n",
    "|     Verdadero  |     Verdadero  |   Verdadero |"
   ]
  },
  {
   "cell_type": "markdown",
   "metadata": {
    "slideshow": {
     "slide_type": "fragment"
    }
   },
   "source": [
    "#### Ejemplo"
   ]
  },
  {
   "cell_type": "code",
   "execution_count": 16,
   "metadata": {},
   "outputs": [
    {
     "data": {
      "text/plain": [
       "True"
      ]
     },
     "execution_count": 16,
     "metadata": {},
     "output_type": "execute_result"
    }
   ],
   "source": [
    "smell = True\n",
    "leave_the_house = False\n",
    "\n",
    "shower = smell or leave_the_house\n",
    "shower"
   ]
  },
  {
   "cell_type": "code",
   "execution_count": 17,
   "metadata": {},
   "outputs": [
    {
     "data": {
      "text/plain": [
       "False"
      ]
     },
     "execution_count": 17,
     "metadata": {},
     "output_type": "execute_result"
    }
   ],
   "source": [
    "smell = True\n",
    "leave_the_house = False\n",
    "\n",
    "shower = smell and leave_the_house\n",
    "shower"
   ]
  },
  {
   "cell_type": "markdown",
   "metadata": {
    "slideshow": {
     "slide_type": "slide"
    }
   },
   "source": [
    "## Negación lógica\n",
    "\n",
    "Tabla de la verdad\n",
    "\n",
    "|   a |  not a|\n",
    "|----------------|--------------------|\n",
    "|       Falso     |       Verdadero|\n",
    "|     Verdadero   |         Falso|"
   ]
  },
  {
   "cell_type": "markdown",
   "metadata": {
    "slideshow": {
     "slide_type": "fragment"
    }
   },
   "source": [
    "#### Ejemplo"
   ]
  },
  {
   "cell_type": "code",
   "execution_count": 19,
   "metadata": {},
   "outputs": [
    {
     "data": {
      "text/plain": [
       "False"
      ]
     },
     "execution_count": 19,
     "metadata": {},
     "output_type": "execute_result"
    }
   ],
   "source": [
    "weekend = True\n",
    "weekday = not weekend\n",
    "\n",
    "weekday"
   ]
  },
  {
   "cell_type": "markdown",
   "metadata": {},
   "source": [
    "Orden de evaluación"
   ]
  },
  {
   "cell_type": "code",
   "execution_count": 20,
   "metadata": {},
   "outputs": [
    {
     "data": {
      "text/plain": [
       "True"
      ]
     },
     "execution_count": 20,
     "metadata": {},
     "output_type": "execute_result"
    }
   ],
   "source": [
    "weekday and smell or not leave_the_house"
   ]
  },
  {
   "cell_type": "code",
   "execution_count": 23,
   "metadata": {},
   "outputs": [
    {
     "data": {
      "text/plain": [
       "True"
      ]
     },
     "execution_count": 23,
     "metadata": {},
     "output_type": "execute_result"
    }
   ],
   "source": [
    "False and True or (not False)"
   ]
  },
  {
   "cell_type": "markdown",
   "metadata": {
    "slideshow": {
     "slide_type": "slide"
    }
   },
   "source": [
    "## Evaluación perezosa\n",
    "\n",
    "En muchas ocasiones, los\n",
    "operadores `and` y `or` no necesitan usar todos\n",
    "los argumentos para obtener el resultado. Por ejemplo:\n",
    "\n",
    "-   `False and b`\n",
    "\n",
    "    -   ¿A qué evalúa esta expresión? ¿Depende del valor de b?\n",
    "\n",
    "-   `True or b`\n",
    "\n",
    "    -   ¿A qué evalúa esta expresión? ¿Depende del valor de b?"
   ]
  },
  {
   "cell_type": "markdown",
   "metadata": {
    "slideshow": {
     "slide_type": "slide"
    }
   },
   "source": [
    "## Operadores perezosos\n",
    "\n",
    "Ahorran operaciones y no tienen ninguna diferencia semántica con sus versiones no perezosas. Los operadores que usan el símbolo no son perezosos.\n",
    "\n",
    "-   Operador Y perezoso `and`\n",
    "\n",
    "-   Operador O perezoso `or`"
   ]
  },
  {
   "cell_type": "markdown",
   "metadata": {
    "slideshow": {
     "slide_type": "fragment"
    }
   },
   "source": [
    "#### Ejemplo"
   ]
  },
  {
   "cell_type": "code",
   "execution_count": 25,
   "metadata": {},
   "outputs": [
    {
     "data": {
      "text/plain": [
       "True"
      ]
     },
     "execution_count": 25,
     "metadata": {},
     "output_type": "execute_result"
    }
   ],
   "source": [
    "smell or print('hey')"
   ]
  },
  {
   "cell_type": "code",
   "execution_count": 26,
   "metadata": {},
   "outputs": [
    {
     "data": {
      "text/plain": [
       "True"
      ]
     },
     "execution_count": 26,
     "metadata": {},
     "output_type": "execute_result"
    }
   ],
   "source": [
    "smell or supercalifragilisticoespialidoso"
   ]
  },
  {
   "cell_type": "code",
   "execution_count": 27,
   "metadata": {},
   "outputs": [
    {
     "ename": "NameError",
     "evalue": "name 'supercalifragilisticoespialidoso' is not defined",
     "output_type": "error",
     "traceback": [
      "\u001b[0;31m---------------------------------------------------------------------------\u001b[0m",
      "\u001b[0;31mNameError\u001b[0m                                 Traceback (most recent call last)",
      "\u001b[0;32m<ipython-input-27-b7c5e785d162>\u001b[0m in \u001b[0;36m<module>\u001b[0;34m()\u001b[0m\n\u001b[0;32m----> 1\u001b[0;31m \u001b[0msmell\u001b[0m \u001b[0;32mand\u001b[0m \u001b[0msupercalifragilisticoespialidoso\u001b[0m\u001b[0;34m\u001b[0m\u001b[0m\n\u001b[0m",
      "\u001b[0;31mNameError\u001b[0m: name 'supercalifragilisticoespialidoso' is not defined"
     ]
    }
   ],
   "source": [
    "smell and supercalifragilisticoespialidoso"
   ]
  },
  {
   "cell_type": "markdown",
   "metadata": {
    "slideshow": {
     "slide_type": "slide"
    }
   },
   "source": [
    "# Instrucción if \n",
    "\n",
    "La instrucción if nos permite construir bifurcaciones de ejecución.\n",
    "\n",
    "Esto significa que es la herramienta básica que necesitamos para que nuestros programas se adapten a las circunstacias."
   ]
  },
  {
   "cell_type": "markdown",
   "metadata": {
    "slideshow": {
     "slide_type": "slide"
    }
   },
   "source": [
    "## ¿Cómo hacemos que el programa tome la decisión de si acierta o no?\n",
    "\n",
    "Nuestro programa decide \n",
    "\n",
    "La estructura general es\n",
    "\n",
    "```python\n",
    "if condicion:\n",
    "    # Codigo a ejecutar si la condicion es verdadera\n",
    "else:\n",
    "    # Codigo a ejecutar si la condicion es falsa (opcional)\n",
    "```"
   ]
  },
  {
   "cell_type": "code",
   "execution_count": 39,
   "metadata": {},
   "outputs": [
    {
     "name": "stdout",
     "output_type": "stream",
     "text": [
      "Take a shower\n",
      "Meet some friends\n",
      "Go to sleep\n"
     ]
    }
   ],
   "source": [
    "if smell or leave_the_house:\n",
    "    print('Take a shower')\n",
    "    print('Meet some friends')\n",
    "else:\n",
    "    print('Netflix day!')\n",
    "    print('take a nap')\n",
    "    print('have dinner')\n",
    "    \n",
    "print('Go to sleep')"
   ]
  },
  {
   "cell_type": "markdown",
   "metadata": {
    "slideshow": {
     "slide_type": "slide"
    }
   },
   "source": [
    "## Bloques de código\n",
    "\n",
    "Dentro de la instrucción if, tenemos que comenzar un bloque\n",
    "de código. Los bloques de código:\n",
    "\n",
    "-   El símbolo de dos puntos indica el comienzo de un bloque\n",
    "\n",
    "-   Tienen que incrementar el nivel de indentación\n",
    "\n",
    "-   El nivel de indentación es siempre el mismo en un bloque\n",
    "\n",
    "-   No hay end, ni llaves que delimiten, etc.\n",
    "\n",
    "-   Por convención, se usan 4 espacios"
   ]
  },
  {
   "cell_type": "markdown",
   "metadata": {
    "slideshow": {
     "slide_type": "slide"
    }
   },
   "source": [
    "## Bloques de código\n",
    "\n",
    "En Python, los bloques de código no se delimitan por  llaves ({}), como en muchos otros lenguajes de programación, sino que forman un bloque todas las instrucciones que están al mismo nivel de indentación.\n",
    "\n",
    "```python\n",
    "if condicion: \n",
    "    # Bloque 1\n",
    "    # Sigo en bloque 1\n",
    "else: \n",
    "    # Bloque 2 (opcional)\n",
    "```"
   ]
  },
  {
   "cell_type": "markdown",
   "metadata": {
    "slideshow": {
     "slide_type": "slide"
    }
   },
   "source": [
    "## Adivina un número \n",
    "\n",
    "Vamos a preguntar un número del 1 al 10\n",
    "al usuario, y compararlo con un número aleatorio\n",
    "\n",
    "-   Si el usuario acierta, mostramos un mensaje diciendo que ha ganado.\n",
    "\n",
    "-   Si no acierta, muestra un mensaje de ánimo."
   ]
  },
  {
   "cell_type": "markdown",
   "metadata": {
    "slideshow": {
     "slide_type": "slide"
    }
   },
   "source": [
    "## Código del ejemplo"
   ]
  },
  {
   "cell_type": "code",
   "execution_count": 63,
   "metadata": {},
   "outputs": [
    {
     "data": {
      "text/plain": [
       "True"
      ]
     },
     "execution_count": 63,
     "metadata": {},
     "output_type": "execute_result"
    }
   ],
   "source": [
    "import random\n",
    "\n",
    "random.random() > .5"
   ]
  },
  {
   "cell_type": "code",
   "execution_count": 89,
   "metadata": {},
   "outputs": [
    {
     "data": {
      "text/plain": [
       "10"
      ]
     },
     "execution_count": 89,
     "metadata": {},
     "output_type": "execute_result"
    }
   ],
   "source": [
    "random.randint(1, 10) "
   ]
  },
  {
   "cell_type": "code",
   "execution_count": 108,
   "metadata": {},
   "outputs": [
    {
     "name": "stdout",
     "output_type": "stream",
     "text": [
      "Please give me a number between 1 and 10 4\n",
      "Muahahahaa muere saco de agua\n"
     ]
    }
   ],
   "source": [
    "number_to_guess = random.randint(1, 10) \n",
    "user_number = int(input('Please give me a number between 1 and 10 '))\n",
    "\n",
    "if user_number == number_to_guess:\n",
    "    print('Uoooo ganaste a un frio cerebro robotico!')\n",
    "else:\n",
    "    print('Muahahahaa muere saco de agua')"
   ]
  },
  {
   "cell_type": "code",
   "execution_count": 107,
   "metadata": {},
   "outputs": [
    {
     "data": {
      "text/plain": [
       "True"
      ]
     },
     "execution_count": 107,
     "metadata": {},
     "output_type": "execute_result"
    }
   ],
   "source": [
    "1 == 1"
   ]
  },
  {
   "cell_type": "markdown",
   "metadata": {},
   "source": [
    "#### Ejercicio\n",
    "\n",
    "Escribe un programa que testee si un número está a 100 o menos unidades de distancia de 1000 o de 2000.\n",
    "\n",
    "_Entrada de muestra_:\n",
    "```python\n",
    "990\n",
    "```\n",
    "\n",
    "_Salida de muestra_: \n",
    "```python\n",
    "True\n",
    "```"
   ]
  },
  {
   "cell_type": "code",
   "execution_count": 124,
   "metadata": {},
   "outputs": [
    {
     "name": "stdout",
     "output_type": "stream",
     "text": [
      "Faaaar away\n",
      "Im done calculating\n"
     ]
    }
   ],
   "source": [
    "number_to_check = 5000000000000000000\n",
    "\n",
    "if (number_to_check >= 900 and number_to_check <= 1100) or (number_to_check >= 1900 and number_to_check <= 2100) :\n",
    "    print('close to one of 1000 and 2000')\n",
    "else: \n",
    "    print('Faaaar away')\n",
    "    \n",
    "    \n",
    "print('Im done calculating')"
   ]
  },
  {
   "cell_type": "markdown",
   "metadata": {},
   "source": [
    "ojo! es muy normal, pero incorrecto, escribir condiciones con varias partes así:"
   ]
  },
  {
   "cell_type": "code",
   "execution_count": 119,
   "metadata": {},
   "outputs": [
    {
     "ename": "SyntaxError",
     "evalue": "invalid syntax (<ipython-input-119-cf4a9e5cd772>, line 1)",
     "output_type": "error",
     "traceback": [
      "\u001b[0;36m  File \u001b[0;32m\"<ipython-input-119-cf4a9e5cd772>\"\u001b[0;36m, line \u001b[0;32m1\u001b[0m\n\u001b[0;31m    if number_to_check >= 900 and <= 1100:\u001b[0m\n\u001b[0m                                   ^\u001b[0m\n\u001b[0;31mSyntaxError\u001b[0m\u001b[0;31m:\u001b[0m invalid syntax\n"
     ]
    }
   ],
   "source": [
    "if number_to_check >= 900 and <= 1100:\n",
    "    print('close')"
   ]
  },
  {
   "cell_type": "markdown",
   "metadata": {
    "slideshow": {
     "slide_type": "slide"
    }
   },
   "source": [
    "## Instrucciones if anidadas\n",
    "\n",
    "Dentro del cuerpo de la instrucción if podemos poner cualquier cosa, incluida otra instrucción if"
   ]
  },
  {
   "cell_type": "markdown",
   "metadata": {
    "slideshow": {
     "slide_type": "fragment"
    }
   },
   "source": [
    "#### Adivina un número\n",
    "\n",
    "Vamos a preguntar un número del 1 al 10 al usuario, y compararlo con un número aleatorio\n",
    "\n",
    "-   Si el usuario acierta, mostramos un mensaje diciendo que ha ganado.\n",
    "\n",
    "-   Si no acierta, le decimos si el número secreto es mayor o menor que\n",
    "    el número que ha introducido."
   ]
  },
  {
   "cell_type": "markdown",
   "metadata": {
    "slideshow": {
     "slide_type": "slide"
    }
   },
   "source": [
    "## Ejemplo con if anidados"
   ]
  },
  {
   "cell_type": "code",
   "execution_count": 127,
   "metadata": {},
   "outputs": [
    {
     "name": "stdout",
     "output_type": "stream",
     "text": [
      "Please give me a number between 1 and 10 7\n",
      "Te pasaste avariciosa mangosta de dos patas\n",
      "Muahahahaa muere saco de agua\n"
     ]
    }
   ],
   "source": [
    "user_number = int(input('Please give me a number between 1 and 10 '))\n",
    "\n",
    "number_to_guess = random.randint(1, 10) \n",
    "\n",
    "if user_number == number_to_guess:\n",
    "    print('Uoooo ganaste a un frio cerebro robotico!')\n",
    "else:\n",
    "    if user_number > number_to_guess:\n",
    "        print('Te pasaste avariciosa mangosta de dos patas')\n",
    "    else:\n",
    "        print('Tu triste cerebro reptiliano no puede concebir numeros como estos')\n",
    "    \n",
    "    \n",
    "    print('Muahahahaa muere saco de agua')"
   ]
  },
  {
   "cell_type": "markdown",
   "metadata": {
    "slideshow": {
     "slide_type": "slide"
    }
   },
   "source": [
    "## Ejemplo con varios if anidados \n",
    "\n",
    "\n",
    "-   Escribir un programa que pida el año de nacimiento al usuario\n",
    "\n",
    "-   El programa mostrará un mensaje diciendo si el año de nacimiento del\n",
    "    usuario fue bisiesto"
   ]
  },
  {
   "cell_type": "markdown",
   "metadata": {
    "slideshow": {
     "slide_type": "slide"
    }
   },
   "source": [
    "## Pasos para definir nuestro programa"
   ]
  },
  {
   "cell_type": "markdown",
   "metadata": {
    "slideshow": {
     "slide_type": "fragment"
    }
   },
   "source": [
    "-  Definir las entradas al programa\n",
    "\n",
    "    -   El año de nacimiento"
   ]
  },
  {
   "cell_type": "markdown",
   "metadata": {
    "slideshow": {
     "slide_type": "fragment"
    }
   },
   "source": [
    "-  Definir las salidas del programa\n",
    "\n",
    "    -   Mensaje diciendo si el año es bisiesto"
   ]
  },
  {
   "cell_type": "markdown",
   "metadata": {
    "slideshow": {
     "slide_type": "fragment"
    }
   },
   "source": [
    "-  Algoritmo: método para transformar las entradas en las salidas\n",
    "\n",
    "    -   ¿Cómo podemos saber si un año es bisiesto?"
   ]
  },
  {
   "cell_type": "markdown",
   "metadata": {
    "slideshow": {
     "slide_type": "slide"
    }
   },
   "source": [
    "## ¿Cómo averiguar si un año es bisiesto?\n",
    "\n",
    "Definición de año bisiesto La regla es complicada. Un año\n",
    "es bisiesto si:\n",
    "\n",
    "-   Es divisible entre 4\n",
    "\n",
    "    -   Excepto si lo es también por 100\n",
    "\n",
    "        -   En este caso, solo es bisiesto si es divisible por 400\n",
    "\n",
    "Más detalles: <http://es.wikipedia.org/wiki/A%C3%B1o_bisiesto>"
   ]
  },
  {
   "cell_type": "markdown",
   "metadata": {
    "slideshow": {
     "slide_type": "slide"
    }
   },
   "source": [
    "## Divisibilidad\n",
    "\n",
    "¿Cómo calculo si un número es divisible entre otro? El\n",
    "operador % devuelve el resto de la división entera, y se\n",
    "puede usar para averiguar si un número divide al otro."
   ]
  },
  {
   "cell_type": "markdown",
   "metadata": {
    "slideshow": {
     "slide_type": "fragment"
    }
   },
   "source": [
    "#### En nuestro algoritmo"
   ]
  },
  {
   "cell_type": "code",
   "execution_count": 10,
   "metadata": {},
   "outputs": [
    {
     "data": {
      "text/plain": [
       "False"
      ]
     },
     "execution_count": 10,
     "metadata": {},
     "output_type": "execute_result"
    }
   ],
   "source": [
    "year = 1971\n",
    "\n",
    "year % 4 == 0"
   ]
  },
  {
   "cell_type": "markdown",
   "metadata": {
    "slideshow": {
     "slide_type": "slide"
    }
   },
   "source": [
    "### Primera aproximación"
   ]
  },
  {
   "cell_type": "code",
   "execution_count": 13,
   "metadata": {},
   "outputs": [
    {
     "name": "stdout",
     "output_type": "stream",
     "text": [
      "True\n"
     ]
    }
   ],
   "source": [
    "year = 1984\n",
    "\n",
    "if year % 4 == 0:\n",
    "    if year % 100 == 0:\n",
    "        if year % 400 == 0:\n",
    "            leap_year = True\n",
    "        else:\n",
    "            leap_year = False\n",
    "    else:\n",
    "        leap_year = True\n",
    "else:\n",
    "    leap_year = False\n",
    "    \n",
    "print(leap_year)\n"
   ]
  },
  {
   "cell_type": "markdown",
   "metadata": {
    "slideshow": {
     "slide_type": "slide"
    }
   },
   "source": [
    "## Comentarios sobre esta solución"
   ]
  },
  {
   "cell_type": "markdown",
   "metadata": {
    "slideshow": {
     "slide_type": "fragment"
    }
   },
   "source": [
    "### Ventajas:\n",
    "\n",
    "-   Funciona, resuelve el problema"
   ]
  },
  {
   "cell_type": "markdown",
   "metadata": {
    "slideshow": {
     "slide_type": "fragment"
    }
   },
   "source": [
    "### Inconvenientes:\n",
    "\n",
    "-   Demasiados anidamientos, difícil de entender, y por tanto\n",
    "    de modificar.\n",
    "\n",
    "-   Por tanto, es fácil cometer fallos al programarlo o modificarlo.\n",
    "\n",
    "-   Rompe la estructura entrada-algoritmo-salida\n",
    "\n",
    "    -   Esto es un síntoma de que la solución es mejorable"
   ]
  },
  {
   "cell_type": "markdown",
   "metadata": {
    "slideshow": {
     "slide_type": "slide"
    }
   },
   "source": [
    "## Pregunta\n",
    "\n",
    "-   ¿Cómo se puede mejorar?\n",
    "\n",
    "-   ¿Se puede transformar para que cumpla la estructura\n",
    "    entrada-algoritmo-salida?"
   ]
  },
  {
   "cell_type": "markdown",
   "metadata": {
    "slideshow": {
     "slide_type": "slide"
    }
   },
   "source": [
    "## Solución alternativa usando variables *bandera*"
   ]
  },
  {
   "cell_type": "code",
   "execution_count": 19,
   "metadata": {},
   "outputs": [
    {
     "name": "stdout",
     "output_type": "stream",
     "text": [
      "True\n"
     ]
    }
   ],
   "source": [
    "year = 2000\n",
    "\n",
    "divisible_by_4 = year % 4 == 0\n",
    "divisible_by_100 = year % 100 == 0\n",
    "divisible_by_400 = year % 400 == 0\n",
    "\n",
    "if divisible_by_4 and not divisible_by_100:\n",
    "    leap_year = True\n",
    "else:\n",
    "    if divisible_by_400:\n",
    "        leap_year = True\n",
    "    else: \n",
    "        leap_year = False\n",
    "\n",
    "print(leap_year)"
   ]
  },
  {
   "cell_type": "markdown",
   "metadata": {
    "slideshow": {
     "slide_type": "slide"
    }
   },
   "source": [
    "## Ejercicio\n",
    "\n",
    "Cambia el programa anterior para que inicialmente la variable bandera `leap_year` valga `True`, y se cambie a `False` según cumpla las condiciones necesarias.\n",
    "\n",
    "Será necesario cambiar las condiciones y las instrucciones \n",
    "if. La entrada y la salida no cambian."
   ]
  },
  {
   "cell_type": "markdown",
   "metadata": {
    "slideshow": {
     "slide_type": "slide"
    }
   },
   "source": [
    "### Solución\n",
    "\n",
    "con otro valor por defecto para `leap_year`"
   ]
  },
  {
   "cell_type": "code",
   "execution_count": 25,
   "metadata": {},
   "outputs": [
    {
     "data": {
      "text/plain": [
       "False"
      ]
     },
     "execution_count": 25,
     "metadata": {},
     "output_type": "execute_result"
    }
   ],
   "source": [
    "year = 1900\n",
    "leap_year = True\n",
    "\n",
    "divisible_by_4 = year % 4 == 0\n",
    "divisible_by_100 = year % 100 == 0\n",
    "divisible_by_400 = year % 400 == 0\n",
    "\n",
    "if not divisible_by_4:\n",
    "    leap_year = False\n",
    "else:\n",
    "    if divisible_by_100 and not divisible_by_400:\n",
    "        leap_year = False\n",
    "\n",
    "leap_year"
   ]
  },
  {
   "cell_type": "code",
   "execution_count": 26,
   "metadata": {},
   "outputs": [
    {
     "data": {
      "text/plain": [
       "False"
      ]
     },
     "execution_count": 26,
     "metadata": {},
     "output_type": "execute_result"
    }
   ],
   "source": [
    "year = 1900\n",
    "leap_year = True\n",
    "\n",
    "divisible_by_4 = year % 4 == 0\n",
    "divisible_by_100 = year % 100 == 0\n",
    "divisible_by_400 = year % 400 == 0\n",
    "    \n",
    "if not divisible_by_4:\n",
    "    leap_year = False\n",
    "    \n",
    "if divisible_by_100 and not divisible_by_400:\n",
    "    leap_year = False\n",
    "\n",
    "leap_year"
   ]
  },
  {
   "cell_type": "code",
   "execution_count": 28,
   "metadata": {},
   "outputs": [
    {
     "data": {
      "text/plain": [
       "False"
      ]
     },
     "execution_count": 28,
     "metadata": {},
     "output_type": "execute_result"
    }
   ],
   "source": [
    "year = 1900\n",
    "leap_year = True\n",
    "\n",
    "divisible_by_4 = year % 4 == 0\n",
    "divisible_by_100 = year % 100 == 0\n",
    "divisible_by_400 = year % 400 == 0\n",
    "\n",
    "if not divisible_by_4 or (divisible_by_100 and not divisible_by_400):\n",
    "    leap_year = False\n",
    "\n",
    "leap_year"
   ]
  },
  {
   "cell_type": "code",
   "execution_count": 35,
   "metadata": {},
   "outputs": [
    {
     "data": {
      "text/plain": [
       "True"
      ]
     },
     "execution_count": 35,
     "metadata": {},
     "output_type": "execute_result"
    }
   ],
   "source": [
    "year = 2004\n",
    "leap_year = False\n",
    "\n",
    "divisible_by_4 = year % 4 == 0\n",
    "divisible_by_100 = year % 100 == 0\n",
    "divisible_by_400 = year % 400 == 0\n",
    "\n",
    "if (divisible_by_4 and not divisible_by_100) or divisible_by_400:\n",
    "    leap_year = True\n",
    "\n",
    "leap_year"
   ]
  },
  {
   "cell_type": "markdown",
   "metadata": {
    "slideshow": {
     "slide_type": "slide"
    }
   },
   "source": [
    "# La cláusula `elif` \n",
    "\n",
    "Además de else tenemos la cláusula `elif`\n",
    "\n",
    "-   Permite especificar varias condiciones sin necesidad de anidar las\n",
    "    instrucciones if\n",
    "\n",
    "-   Solo se ejecuta una de las cláusulas `if`, `elif` o \n",
    "    `else` (la primera que tenga la condición verdadera)\n",
    "\n",
    "-   Puede haber varias cláusulas `elif`\n",
    "\n",
    "-   La cláusula `else` es opcional\n",
    "\n",
    "-   Mejora mucho la legibilidad del código con varias condiciones\n",
    "    complejas"
   ]
  },
  {
   "cell_type": "markdown",
   "metadata": {
    "slideshow": {
     "slide_type": "slide"
    }
   },
   "source": [
    "## Uso de `elif`"
   ]
  },
  {
   "cell_type": "markdown",
   "metadata": {
    "collapsed": true,
    "slideshow": {
     "slide_type": "fragment"
    }
   },
   "source": [
    "```python\n",
    "if expresion_booleana_1:\n",
    "    # Codigo\n",
    "elif expresion_booleana_2:\n",
    "    # Codigo\n",
    "elif expresion_booleana_3:\n",
    "    # Codigo\n",
    "    #...\n",
    "else:\n",
    "    # Codigo    \n",
    "    \n",
    "```"
   ]
  },
  {
   "cell_type": "code",
   "execution_count": null,
   "metadata": {},
   "outputs": [],
   "source": [
    "year = 1900\n",
    "leap_year = True\n",
    "\n",
    "divisible_by_4 = year % 4 == 0\n",
    "divisible_by_100 = year % 100 == 0\n",
    "divisible_by_400 = year % 400 == 0\n",
    "\n",
    "if not divisible_by_4:\n",
    "    leap_year = False\n",
    "elif divisible_by_100 and not divisible_by_400:\n",
    "    leap_year = False\n",
    "\n",
    "leap_year\n",
    "\n"
   ]
  },
  {
   "cell_type": "code",
   "execution_count": 38,
   "metadata": {},
   "outputs": [
    {
     "name": "stdout",
     "output_type": "stream",
     "text": [
      "woooooo super world record\n",
      "eh not bad\n"
     ]
    }
   ],
   "source": [
    "score = 1000\n",
    "\n",
    "if score > 500:\n",
    "    print('woooooo super world record')\n",
    "if score > 100:\n",
    "    print('eh not bad')\n",
    "else:\n",
    "    print('wow you really suck')"
   ]
  },
  {
   "cell_type": "code",
   "execution_count": 39,
   "metadata": {},
   "outputs": [
    {
     "name": "stdout",
     "output_type": "stream",
     "text": [
      "woooooo super world record\n"
     ]
    }
   ],
   "source": [
    "score = 1000\n",
    "\n",
    "if score > 500:\n",
    "    print('woooooo super world record')\n",
    "elif score > 100:\n",
    "    print('eh not bad')\n",
    "else:\n",
    "    print('wow you really suck')"
   ]
  },
  {
   "cell_type": "code",
   "execution_count": 40,
   "metadata": {},
   "outputs": [
    {
     "name": "stdout",
     "output_type": "stream",
     "text": [
      "eh not bad\n"
     ]
    }
   ],
   "source": [
    "score = 1000\n",
    "\n",
    "if score > 100:\n",
    "    print('eh not bad')\n",
    "elif score > 500:\n",
    "    print('woooooo super world record')\n",
    "else:\n",
    "    print('wow you really suck')"
   ]
  },
  {
   "cell_type": "markdown",
   "metadata": {
    "slideshow": {
     "slide_type": "slide"
    }
   },
   "source": [
    "### Otro ejemplo\n",
    "\n",
    "Tenemos tres variables a, b y c que representan los lados de un triángulo.\n",
    "\n",
    "Verdadero o falso: El código muestra YES si el triángulo es rectángulo, y NO si no\n",
    "        lo es."
   ]
  },
  {
   "cell_type": "code",
   "execution_count": 41,
   "metadata": {},
   "outputs": [
    {
     "name": "stdout",
     "output_type": "stream",
     "text": [
      "YES\n"
     ]
    }
   ],
   "source": [
    "a = 3 \n",
    "b = 4\n",
    "c = 5\n",
    "\n",
    "if a ** 2 + b ** 2 == c ** 2:\n",
    "    print('YES')\n",
    "else:\n",
    "    print('NO')"
   ]
  },
  {
   "cell_type": "markdown",
   "metadata": {
    "slideshow": {
     "slide_type": "slide"
    }
   },
   "source": [
    "## Si has pensado que es verdadero..."
   ]
  },
  {
   "cell_type": "markdown",
   "metadata": {
    "slideshow": {
     "slide_type": "fragment"
    }
   },
   "source": [
    "### Contra-ejemplo\n",
    "\n",
    "Escribe NO, pero el triángulo es rectángulo."
   ]
  },
  {
   "cell_type": "code",
   "execution_count": 42,
   "metadata": {},
   "outputs": [
    {
     "name": "stdout",
     "output_type": "stream",
     "text": [
      "NO\n"
     ]
    }
   ],
   "source": [
    "a = 5\n",
    "b = 4\n",
    "c = 3\n",
    "\n",
    "if a ** 2 + b ** 2 == c ** 2:\n",
    "    print('YES')\n",
    "else:\n",
    "    print('NO')"
   ]
  },
  {
   "cell_type": "markdown",
   "metadata": {
    "slideshow": {
     "slide_type": "slide"
    }
   },
   "source": [
    "## ¿Dónde está el problema?\n",
    "\n",
    "La condición no es correcta, ¿cómo podemos corregirla?"
   ]
  },
  {
   "cell_type": "markdown",
   "metadata": {
    "slideshow": {
     "slide_type": "fragment"
    }
   },
   "source": [
    "Necesitamos determinar cuál es la hipotenusa."
   ]
  },
  {
   "cell_type": "code",
   "execution_count": 43,
   "metadata": {},
   "outputs": [
    {
     "name": "stdout",
     "output_type": "stream",
     "text": [
      "YES\n"
     ]
    }
   ],
   "source": [
    "a = 5\n",
    "b = 4\n",
    "c = 3\n",
    "\n",
    "if a > b and a > c:\n",
    "    h = a\n",
    "    c1 = b\n",
    "    c2 = c\n",
    "elif b > c:\n",
    "    h = b\n",
    "    c1 = a\n",
    "    c2 = c\n",
    "else: \n",
    "    h = c\n",
    "    c1 = a\n",
    "    c2 = b\n",
    "    \n",
    "if c1 ** 2 + c2 ** 2 == h ** 2:\n",
    "    print('YES')\n",
    "else:\n",
    "    print('NO')"
   ]
  },
  {
   "cell_type": "markdown",
   "metadata": {},
   "source": [
    "Daos cuenta de que en esta solución hemos separado el problema en dos partes, o subproblemas: \n",
    "\n",
    "- Encontrar cuál de los tres lados es la (posible) hipotenusa.\n",
    "\n",
    "- Decidir si es rectángulo o no."
   ]
  },
  {
   "cell_type": "markdown",
   "metadata": {
    "slideshow": {
     "slide_type": "slide"
    }
   },
   "source": [
    "## Precauciones al usar if\n",
    "\n",
    "Ilustra siempre todos los casos posibles en el problema.\n",
    "\n",
    "Refina paso a paso el programa para comprobar que no olvidas ningún caso.\n",
    "\n",
    "Si hay muchas condiciones y son complejas:\n",
    "\n",
    "- Considera el uso de variables *bandera*. Puede ser\n",
    "  más difícil de escribir al principio, pero el código será más\n",
    "  sencillo, claro y se entenderá mejor.\n",
    "\n",
    "- Intenta usar elif para evitar muchos niveles\n",
    "  de anidamiento."
   ]
  },
  {
   "cell_type": "markdown",
   "metadata": {
    "slideshow": {
     "slide_type": "slide"
    }
   },
   "source": [
    "## Para llevar: resumen del tema\n",
    "\n",
    "El caso más típico de bifurcación es un simplemente un  if. Se usa cuando no hay que hacer nada si la expresión es falsa, que es el caso más habitual.\n",
    "\n",
    "```python\n",
    "if expresion_booleana:\n",
    "    # Codigo\n",
    "```"
   ]
  },
  {
   "cell_type": "markdown",
   "metadata": {
    "slideshow": {
     "slide_type": "slide"
    }
   },
   "source": [
    "## Resumen del tema\n",
    "\n",
    "-   Los operadores relacionales trabajan con variables no booleanas, y devuelven\n",
    "    valores lógicos.\n",
    "\n",
    "-   Los operadores lógicos trabajan con operadores lógicos, y devuelven\n",
    "    valores lógicos.\n",
    "\n",
    "    -   and or not\n",
    "\n",
    "-   Con la instrucción if tomamos una decisión y bifurcamos\n",
    "    un programa.\n",
    "\n",
    "-   Tiene una cláusula else opcional.\n",
    "\n",
    "-   Podemos anidar los if para formar condiciones\n",
    "    más complejas."
   ]
  },
  {
   "cell_type": "markdown",
   "metadata": {
    "slideshow": {
     "slide_type": "slide"
    }
   },
   "source": [
    "## Resumen del tema\n",
    "\n",
    "-   Si hay demasiado anidamiento, podemos intentar usar varios \n",
    "    elif para simplificar el código y hacerlo más plano.\n",
    "\n",
    "-   El uso de variables bandera también puede ayudar a escribir código\n",
    "    más sencillo de leer.\n",
    "\n",
    "-   Para diseñar programas, es mejor seguir una metodología de diseño\n",
    "    *top-down*, dividir el programa en trozos más pequeños,\n",
    "    e ir resolviendo cada trozo por separado.\n",
    "\n",
    "-   Luego vamos refinando paso a paso cada una de las partes, hasta que\n",
    "    tengamos terminado el programa.\n",
    "\n",
    "-   Si seguimos este método, y respetamos la estructura\n",
    "    entrada-algoritmo-salida, nuestro código será mucho más sencillo de\n",
    "    leer y contendrá menos fallos.\n",
    "\n",
    "    -   Aunque a veces es complicado encajar una solución en la\n",
    "        estructura entrada-algoritmo-salida."
   ]
  },
  {
   "cell_type": "markdown",
   "metadata": {
    "collapsed": true
   },
   "source": [
    "# Ejercicios para fijar"
   ]
  },
  {
   "cell_type": "markdown",
   "metadata": {},
   "source": [
    "#### Ejercicio\n",
    "\n",
    "Escribe un programa que muestre la diferencia entre un número n y 42. Si n es mayor de 42, muestra en cambio el doble de la diferencia absoluta.\n",
    "\n",
    "_Entrada de muestra_:\n",
    "```python\n",
    "80\n",
    "```\n",
    "\n",
    "_Salida de muestra_: \n",
    "```python\n",
    "76\n",
    "```"
   ]
  },
  {
   "cell_type": "code",
   "execution_count": 48,
   "metadata": {},
   "outputs": [
    {
     "name": "stdout",
     "output_type": "stream",
     "text": [
      "0\n"
     ]
    }
   ],
   "source": [
    "n = 42\n",
    "\n",
    "if n < 42:\n",
    "    print(42 - n)\n",
    "else: \n",
    "    print(abs(2 * (42 - n)))"
   ]
  },
  {
   "cell_type": "markdown",
   "metadata": {},
   "source": [
    "#### Ejercicio\n",
    "\n",
    "FizzBuzz: Toma un número del usuario. Si el número es divisible por 3, escribe por pantalla \"Fizz\". Si es divisible por 5, escribe \"Buzz\". A no ser que sea divisible por ambos, en cuyo caso escribe \"FizzBuzz\". En caso de que no sea divisible por ninguno, escribe el número.\n",
    "\n",
    "_Entrada de muestra_:\n",
    "```python\n",
    "5\n",
    "```\n",
    "\n",
    "_Salida de muestra_: \n",
    "```python\n",
    "Buzz\n",
    "```\n",
    "\n",
    "\n",
    "_Entrada de muestra_:\n",
    "```python\n",
    "75\n",
    "```\n",
    "\n",
    "_Salida de muestra_: \n",
    "```python\n",
    "FizzBuzz\n",
    "```\n",
    "\n",
    "\n",
    "_Entrada de muestra_:\n",
    "```python\n",
    "7\n",
    "```\n",
    "\n",
    "_Salida de muestra_: \n",
    "```python\n",
    "7\n",
    "```"
   ]
  },
  {
   "cell_type": "code",
   "execution_count": 53,
   "metadata": {},
   "outputs": [
    {
     "name": "stdout",
     "output_type": "stream",
     "text": [
      "FizzBuzz\n"
     ]
    }
   ],
   "source": [
    "n = 15\n",
    "\n",
    "if n % 15 == 0:\n",
    "    print('FizzBuzz')\n",
    "elif n % 3 == 0:\n",
    "    print('Fizz')\n",
    "elif n % 5 == 0:\n",
    "    print('Buzz')\n",
    "else:\n",
    "    print(n)"
   ]
  },
  {
   "cell_type": "markdown",
   "metadata": {},
   "source": [
    "#### Ejercicio\n",
    "\n",
    "Escribe un programa que muestre por pantalla `True` si los dos enteros dados son iguales, o si su suma o diferencia es 5.\n",
    "\n",
    "```python\n",
    "3\n",
    "2\n",
    "```\n",
    "\n",
    "_Salida de muestra_: \n",
    "```python\n",
    "True\n",
    "```"
   ]
  },
  {
   "cell_type": "code",
   "execution_count": null,
   "metadata": {
    "collapsed": true
   },
   "outputs": [],
   "source": []
  },
  {
   "cell_type": "markdown",
   "metadata": {},
   "source": [
    "#### Ejercicio\n",
    "\n",
    "Escribe un programa que compruebe si una string es un entero o no y describa el resultado por pantalla.\n",
    "\n",
    "| _Entrada de muestra_: | _Salida de muestra_ |\n",
    "|-----------------------|---------------------|\n",
    "|        100            | 100 es un entero    |\n",
    "|       Python          | Python no es un entero |\n",
    "|        2.3            | 2.3 no es un entero |\n"
   ]
  },
  {
   "cell_type": "code",
   "execution_count": null,
   "metadata": {
    "collapsed": true
   },
   "outputs": [],
   "source": []
  },
  {
   "cell_type": "markdown",
   "metadata": {},
   "source": [
    "#### Ejercicio\n",
    "\n",
    "Escribe un programa que sume dos números tomados del usuario si ambos son enteros. Los tomaremos como una lista separada por espacios. Si no son enteros, debería escribir por pantalla un mensaje al usuario.\n",
    "\n",
    "_Entrada de muestra_:\n",
    "```python\n",
    "2.3 1\n",
    "```\n",
    "\n",
    "_Salida de muestra_: \n",
    "```python\n",
    "Los números 2.3 y 1 no son enteros.\n",
    "```"
   ]
  },
  {
   "cell_type": "code",
   "execution_count": null,
   "metadata": {
    "collapsed": true
   },
   "outputs": [],
   "source": []
  },
  {
   "cell_type": "markdown",
   "metadata": {},
   "source": [
    "#### Ejercicio\n",
    "\n",
    "Escribe un programa que transforme de grados Fahrenheit a Celsius y viceversa.\n",
    "\n",
    "| _Entrada de muestra_: | _Salida de muestra_ |\n",
    "|-----------------------|---------------------|\n",
    "|       100 F           |       37.8 ºC       |\n",
    "|       100 C           |        212 ºF       |\n",
    "|         0 C           |         32 ºF       |\n"
   ]
  },
  {
   "cell_type": "code",
   "execution_count": null,
   "metadata": {
    "collapsed": true
   },
   "outputs": [],
   "source": []
  },
  {
   "cell_type": "markdown",
   "metadata": {},
   "source": [
    "#### Ejercicio\n",
    "\n",
    "Escribe un programa que tome del usuario los lados de un triángulo en forma de lista separada por espacios, y muestre por pantalla si el triángulo es válido o no.\n",
    "\n",
    "\n",
    "| _Entrada de muestra_: | _Salida de muestra_ |\n",
    "|-----------------------|---------------------|\n",
    "|       2 1 1           |   No válido         |\n",
    "|      2.1 1 2.1        |   Válido            |\n",
    "|       3 4 5           |   Válido            |\n",
    "\n"
   ]
  },
  {
   "cell_type": "code",
   "execution_count": null,
   "metadata": {
    "collapsed": true
   },
   "outputs": [],
   "source": []
  },
  {
   "cell_type": "markdown",
   "metadata": {},
   "source": [
    "#### Ejercicio\n",
    "\n",
    "Escribe un programa que tome del usuario los lados de un triángulo en forma de lista separada por espacios, y muestre por pantalla si el triángulo es equilátero, isósceles o escaleno.\n",
    "\n",
    "| _Entrada de muestra_: | _Salida de muestra_ |\n",
    "|-----------------------|---------------------|\n",
    "|       2 2 2           |   Equilátero        |\n",
    "|      2.1 1 2.1        |   Isósceles         |\n",
    "|       3 4 5           |   Escaleno          |\n"
   ]
  },
  {
   "cell_type": "code",
   "execution_count": null,
   "metadata": {
    "collapsed": true
   },
   "outputs": [],
   "source": []
  },
  {
   "cell_type": "markdown",
   "metadata": {},
   "source": [
    "#### Ejercicio\n",
    "\n",
    "Incorpora, al código del ejercicio anterior, la capacidad de detectar si el triángulo es rectángulo."
   ]
  },
  {
   "cell_type": "code",
   "execution_count": null,
   "metadata": {
    "collapsed": true
   },
   "outputs": [],
   "source": []
  },
  {
   "cell_type": "markdown",
   "metadata": {},
   "source": [
    "#### Ejercicio\n",
    "\n",
    "Escribe el programa `Banquero`. `Banquero` le pedirá al usuario su nombre, edad, ingresos anuales, importe y plazo para una hipoteca y decidirá si concedérsela o no. El criterio será que la suma de los ingresos hasta el vencimiento sea al menos 5 veces superior a la hipoteca más interés asumiendo un interés del 3%. En ningún caso la concederá si la edad del usuario al vencimiento sería superior a 70 años.\n",
    "\n",
    "_Entrada de muestra_:\n",
    "```python\n",
    "Martínez\n",
    "25\n",
    "25000\n",
    "150000\n",
    "30\n",
    "```\n",
    "\n",
    "_Salida de muestra_: \n",
    "```python\n",
    "Enhorabuena, señor/a Martínez, su hipoteca ha sido concedida.\n",
    "```"
   ]
  },
  {
   "cell_type": "code",
   "execution_count": null,
   "metadata": {},
   "outputs": [],
   "source": []
  }
 ],
 "metadata": {
  "anaconda-cloud": {},
  "celltoolbar": "Slideshow",
  "kernelspec": {
   "display_name": "Python 3",
   "language": "python",
   "name": "python3"
  },
  "language_info": {
   "codemirror_mode": {
    "name": "ipython",
    "version": 3
   },
   "file_extension": ".py",
   "mimetype": "text/x-python",
   "name": "python",
   "nbconvert_exporter": "python",
   "pygments_lexer": "ipython3",
   "version": "3.6.6"
  },
  "livereveal": {
   "scroll": true,
   "start_slideshow_at": "selected"
  }
 },
 "nbformat": 4,
 "nbformat_minor": 2
}
