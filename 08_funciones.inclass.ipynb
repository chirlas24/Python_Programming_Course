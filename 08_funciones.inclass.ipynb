{
 "cells": [
  {
   "cell_type": "markdown",
   "metadata": {
    "collapsed": true,
    "slideshow": {
     "slide_type": "slide"
    }
   },
   "source": [
    "# Funciones\n",
    "\n",
    "<img src=\"https://www.python.org/static/img/python-logo.png\" alt=\"yogen\" style=\"width: 200px; float: right;\"/>\n",
    "<br>\n",
    "<br>\n",
    "<br>\n",
    "<a href = \"http://yogen.io\"><img src=\"http://yogen.io/assets/logo.svg\" alt=\"yogen\" style=\"width: 200px; float: right;\"/></a>"
   ]
  },
  {
   "cell_type": "markdown",
   "metadata": {
    "slideshow": {
     "slide_type": "slide"
    }
   },
   "source": [
    "# Objetivos\n",
    "\n",
    "Crear nuestras propias funciones, para que funcionen igual que las de Python\n",
    "\n",
    "Conocer cómo funcionan las variables locales\n",
    "\n",
    "¿Qué ocurre con las variables que están dentro de una función?\n",
    "\n",
    "Entender que las variables locales no interfieren con las variables fuera del contexto de la función.\n",
    "\n",
    "Entender que el contexto general no está disponible dentro de una función.\n",
    "\n",
    "Aprovechar las funciones para simplificar el desarrollo de nuestros programas."
   ]
  },
  {
   "cell_type": "markdown",
   "metadata": {
    "slideshow": {
     "slide_type": "slide"
    }
   },
   "source": [
    "# Introducción a las funciones \n",
    "\n",
    "\n",
    "### Funciones en Python\n",
    "\n",
    "Hemos visto varias funciones en sesiones\n",
    "anteriores.\n",
    "\n",
    "Por ejemplo, `print` o `input` son funciones **internas** de Python"
   ]
  },
  {
   "cell_type": "markdown",
   "metadata": {
    "slideshow": {
     "slide_type": "slide"
    }
   },
   "source": [
    "## Partes de una función \n",
    "\n",
    "Veamos un ejemplo:"
   ]
  },
  {
   "cell_type": "code",
   "execution_count": 2,
   "metadata": {},
   "outputs": [
    {
     "data": {
      "text/plain": [
       "3.0"
      ]
     },
     "execution_count": 2,
     "metadata": {},
     "output_type": "execute_result"
    }
   ],
   "source": [
    "import math\n",
    "\n",
    "h = math.sqrt(9)\n",
    "h"
   ]
  },
  {
   "cell_type": "markdown",
   "metadata": {
    "slideshow": {
     "slide_type": "fragment"
    }
   },
   "source": [
    "Esta llamada a una función interna de Python consta de:\n",
    "\n",
    "Argumento de salida $\\rightarrow$ h\n",
    "\n",
    "Nombre de la función $\\rightarrow$ sqrt\n",
    "\n",
    "Argumento de entrada $\\rightarrow$ 9"
   ]
  },
  {
   "cell_type": "markdown",
   "metadata": {
    "slideshow": {
     "slide_type": "slide"
    }
   },
   "source": [
    "## Nuestras propias funciones\n",
    "\n",
    "### Funciones como cajas negras\n",
    "\n",
    "Las funciones internas son para nosotros cajas negras.\n",
    "\n",
    "- Solo conocemos el nombre, argumentos de entrada y de salida.\n",
    "\n",
    "- No sabemos cómo están hechas por dentro."
   ]
  },
  {
   "cell_type": "markdown",
   "metadata": {
    "slideshow": {
     "slide_type": "fragment"
    }
   },
   "source": [
    "Vamos a crear también funciones para usarlas como cajas negras.\n",
    "\n",
    "- Nosotros, u otros programadores."
   ]
  },
  {
   "cell_type": "markdown",
   "metadata": {
    "slideshow": {
     "slide_type": "slide"
    }
   },
   "source": [
    "## ¿Por qué querríamos crear funciones?\n",
    "\n",
    "- Oculta detalles innecesarios de programación y cálculo\n",
    "\n",
    "- Facilita el diseño *top-down*\n",
    "\n",
    "- Facilita entender un programa\n",
    "\n",
    "    - Más fácil de modificar por otras personas.\n",
    "\n",
    "    - O por nosotros mismos en el futuro."
   ]
  },
  {
   "cell_type": "markdown",
   "metadata": {
    "slideshow": {
     "slide_type": "slide"
    }
   },
   "source": [
    "## Nuestra primera función\n",
    "\n",
    "Recuperemos un programa anterior"
   ]
  },
  {
   "cell_type": "code",
   "execution_count": 3,
   "metadata": {
    "slideshow": {
     "slide_type": "fragment"
    }
   },
   "outputs": [
    {
     "data": {
      "text/plain": [
       "43.58898944085297"
      ]
     },
     "execution_count": 3,
     "metadata": {},
     "output_type": "execute_result"
    }
   ],
   "source": [
    "A = 1900\n",
    "W = 1\n",
    "L = A / W\n",
    "good_enough = False\n",
    "steps = 0\n",
    "\n",
    "while not good_enough:\n",
    "    L = (L + W) / 2\n",
    "    W = A / L\n",
    "    \n",
    "    error = abs(L - W) / L\n",
    "    good_enough = error < 1e-5\n",
    "    \n",
    "    steps += 1\n",
    "      \n",
    "L"
   ]
  },
  {
   "cell_type": "markdown",
   "metadata": {
    "slideshow": {
     "slide_type": "fragment"
    }
   },
   "source": [
    "Pregunta ¿Cómo lo transformamos en una función?"
   ]
  },
  {
   "cell_type": "markdown",
   "metadata": {
    "slideshow": {
     "slide_type": "slide"
    }
   },
   "source": [
    "## Cómo escribir nuestras funciones\n",
    "\n",
    "Las funciones *son* programas, pero un tipo especial de programas.\n",
    "\n",
    "Como todos los programas, tienen:\n",
    "\n",
    "1.  Entrada de datos\n",
    "\n",
    "2.  Algoritmo\n",
    "\n",
    "3.  Salida de datos"
   ]
  },
  {
   "cell_type": "markdown",
   "metadata": {
    "slideshow": {
     "slide_type": "slide"
    }
   },
   "source": [
    "## Cómo escribir nuestras funciones\n",
    "\n",
    "Dos diferencias fundamentales entre programas y\n",
    "funciones:\n",
    "\n",
    "- Entrada de datos\n",
    "\n",
    "- Salida de datos"
   ]
  },
  {
   "cell_type": "markdown",
   "metadata": {
    "slideshow": {
     "slide_type": "slide"
    }
   },
   "source": [
    "## Transformación a una función (1/2)"
   ]
  },
  {
   "cell_type": "code",
   "execution_count": null,
   "metadata": {},
   "outputs": [],
   "source": [
    "# Entrada\n",
    "A = 1900\n",
    "\n",
    "# Algorithm\n",
    "W = 1\n",
    "L = A / W\n",
    "good_enough = False\n",
    "steps = 0\n",
    "\n",
    "while not good_enough:\n",
    "    L = (L + W) / 2\n",
    "    W = A / L\n",
    "    \n",
    "    error = abs(L - W) / L\n",
    "    good_enough = error < 1e-5\n",
    "    \n",
    "    steps += 1\n",
    "    \n",
    "# Salida    \n",
    "L"
   ]
  },
  {
   "cell_type": "markdown",
   "metadata": {
    "slideshow": {
     "slide_type": "slide"
    }
   },
   "source": [
    "## Transformación a una función (2/2)"
   ]
  },
  {
   "cell_type": "code",
   "execution_count": 23,
   "metadata": {},
   "outputs": [
    {
     "data": {
      "text/plain": [
       "3.000000001396984"
      ]
     },
     "execution_count": 23,
     "metadata": {},
     "output_type": "execute_result"
    }
   ],
   "source": [
    "# Entrada\n",
    "def my_sqrt(A):\n",
    "\n",
    "    # Algorithm\n",
    "    W = 1\n",
    "    L = A / W\n",
    "    good_enough = False\n",
    "    steps = 0\n",
    "    \n",
    "    \n",
    "    while not good_enough:\n",
    "        L = (L + W) / 2\n",
    "        W = A / L\n",
    "\n",
    "        error = abs(L - W) / L\n",
    "        good_enough = error < 1e-5\n",
    "\n",
    "        steps += 1\n",
    "    \n",
    "\n",
    "    # Salida    \n",
    "    return L\n",
    "\n",
    "my_sqrt(9)"
   ]
  },
  {
   "cell_type": "markdown",
   "metadata": {},
   "source": [
    "### ¿Para qué queremos las funciones?\n",
    "\n",
    "Nos permiten ocultar, _encapsular_, la complejidad. \n",
    "\n",
    "También nos permiten evitar reescribir código.\n",
    "\n",
    "Si necesitamos calcular la altura de un tríangulo, por ejemplo, sólo queremos escribir el código para calcular la altura. No tenemos por qué incluir el código para calcular la raiz cuadrada tanto en este programa como en otro que, por ejemplo, calcule el radio de un círculo a partir de su área."
   ]
  },
  {
   "cell_type": "code",
   "execution_count": 24,
   "metadata": {},
   "outputs": [
    {
     "data": {
      "text/plain": [
       "4.582581970972578"
      ]
     },
     "execution_count": 24,
     "metadata": {},
     "output_type": "execute_result"
    }
   ],
   "source": [
    "a = 5\n",
    "b = 4\n",
    "h = my_sqrt(a ** 2 - (b/2) ** 2)\n",
    "\n",
    "h"
   ]
  },
  {
   "cell_type": "code",
   "execution_count": 24,
   "metadata": {},
   "outputs": [
    {
     "data": {
      "text/plain": [
       "4.582581970972578"
      ]
     },
     "execution_count": 24,
     "metadata": {},
     "output_type": "execute_result"
    }
   ],
   "source": [
    "a = 5\n",
    "b = 4\n",
    "A = a ** 2 - (b/2) ** 2\n",
    "\n",
    "W = 1\n",
    "L = A / W\n",
    "good_enough = False\n",
    "steps = 0\n",
    "\n",
    "while not good_enough:\n",
    "    L = (L + W) / 2\n",
    "    W = A / L\n",
    "\n",
    "    error = abs(L - W) / L\n",
    "    good_enough = error < 1e-5\n",
    "\n",
    "    steps += 1\n",
    "\n",
    "# Salida    \n",
    "h =  L"
   ]
  },
  {
   "cell_type": "code",
   "execution_count": 24,
   "metadata": {},
   "outputs": [
    {
     "data": {
      "text/plain": [
       "4.582581970972578"
      ]
     },
     "execution_count": 24,
     "metadata": {},
     "output_type": "execute_result"
    }
   ],
   "source": [
    "a = 5\n",
    "b = 4\n",
    "h = my_sqrt(a ** 2 - (b/2) ** 2)\n",
    "\n",
    "h"
   ]
  },
  {
   "cell_type": "code",
   "execution_count": 27,
   "metadata": {},
   "outputs": [
    {
     "data": {
      "text/plain": [
       "5.641896423601628"
      ]
     },
     "execution_count": 27,
     "metadata": {},
     "output_type": "execute_result"
    }
   ],
   "source": [
    "area = 100\n",
    "\n",
    "A = area / 3.141592\n",
    "W = 1\n",
    "L = A / W\n",
    "good_enough = False\n",
    "steps = 0\n",
    "\n",
    "while not good_enough:\n",
    "    L = (L + W) / 2\n",
    "    W = A / L\n",
    "\n",
    "    error = abs(L - W) / L\n",
    "    good_enough = error < 1e-5\n",
    "\n",
    "    steps += 1\n",
    "r = L\n",
    "r"
   ]
  },
  {
   "cell_type": "code",
   "execution_count": 25,
   "metadata": {},
   "outputs": [
    {
     "data": {
      "text/plain": [
       "5.641896423601628"
      ]
     },
     "execution_count": 25,
     "metadata": {},
     "output_type": "execute_result"
    }
   ],
   "source": [
    "area = 100\n",
    "r = my_sqrt(area / 3.141592)\n",
    "r"
   ]
  },
  {
   "cell_type": "markdown",
   "metadata": {
    "slideshow": {
     "slide_type": "slide"
    }
   },
   "source": [
    "## Partes de una función\n",
    "\n",
    "Las funciones tienen siempre:\n",
    "\n",
    "- Nombre: `my_sqrt` en el caso anterior\n",
    "\n",
    "Pueden tener, pero no es imprescindible:"
   ]
  },
  {
   "cell_type": "markdown",
   "metadata": {
    "slideshow": {
     "slide_type": "fragment"
    }
   },
   "source": [
    "- Argumentos de entrada: `A` en el caso anterior\n",
    "\n",
    "- Valor de retorno (salida): `L` en el caso anterior"
   ]
  },
  {
   "cell_type": "markdown",
   "metadata": {
    "slideshow": {
     "slide_type": "slide"
    }
   },
   "source": [
    "# Variables locales \n",
    "\n",
    "\n",
    "### Variables dentro de funciones\n",
    "\n",
    "Al usar una función, ninguna de las variables que están dentro de la función parecen existir en la memoria.\n",
    "\n",
    "Sin embargo, la función crea variables para obtener el resultado.\n",
    "\n",
    "¿Dónde están esas variables?"
   ]
  },
  {
   "cell_type": "code",
   "execution_count": 29,
   "metadata": {},
   "outputs": [
    {
     "name": "stdout",
     "output_type": "stream",
     "text": [
      "Hi!!!!\n",
      "Hi!!!!\n",
      "Hi!!!!\n",
      "Hi!!!!\n",
      "Hi!!!!\n",
      "Hi!!!!\n",
      "Hi!!!!\n",
      "Hi!!!!\n",
      "Hi!!!!\n",
      "Hi!!!!\n"
     ]
    }
   ],
   "source": [
    "def say_hi_a_lot(n):\n",
    "    \n",
    "    for i in range(n):\n",
    "        print('Hi!!!!')\n",
    "        \n",
    "say_hi_a_lot(10) "
   ]
  },
  {
   "cell_type": "code",
   "execution_count": 30,
   "metadata": {},
   "outputs": [
    {
     "ename": "NameError",
     "evalue": "name 'n' is not defined",
     "output_type": "error",
     "traceback": [
      "\u001b[0;31m---------------------------------------------------------------------------\u001b[0m",
      "\u001b[0;31mNameError\u001b[0m                                 Traceback (most recent call last)",
      "\u001b[0;32m<ipython-input-30-ab0680a89434>\u001b[0m in \u001b[0;36m<module>\u001b[0;34m()\u001b[0m\n\u001b[0;32m----> 1\u001b[0;31m \u001b[0mn\u001b[0m\u001b[0;34m\u001b[0m\u001b[0m\n\u001b[0m",
      "\u001b[0;31mNameError\u001b[0m: name 'n' is not defined"
     ]
    }
   ],
   "source": [
    "n"
   ]
  },
  {
   "cell_type": "markdown",
   "metadata": {
    "slideshow": {
     "slide_type": "slide"
    }
   },
   "source": [
    "## Ejemplo\n",
    "\n",
    "Vamos a ejecutar un programa paso a paso para ver cómo cambian las variables dentro y fuera de una función."
   ]
  },
  {
   "cell_type": "markdown",
   "metadata": {
    "slideshow": {
     "slide_type": "slide"
    }
   },
   "source": [
    "## Ejemplo\n",
    "\n",
    "`programa.py`:\n",
    "\n",
    "```python\n",
    "    a = 1\n",
    "    b = f(2)\n",
    "    c = 3\n",
    "```\n",
    "\n",
    "\n",
    "`f.py`:\n",
    "\n",
    "```python\n",
    "    def f(x):\n",
    "        z = 2*x\n",
    "        y = z + 1\n",
    "        return y\n",
    "```\n",
    "\n",
    "| Memoria principal | Variables locales |\n",
    "|-------------------|-------------------|\n",
    "|                   |                   |\n",
    "\n"
   ]
  },
  {
   "cell_type": "markdown",
   "metadata": {
    "slideshow": {
     "slide_type": "slide"
    }
   },
   "source": [
    "## Ejemplo\n",
    "\n",
    "`programa.py`:\n",
    "\n",
    "```python\n",
    "    a = 1\n",
    "->  b = f(2)\n",
    "    c = 3\n",
    "```\n",
    "\n",
    "\n",
    "`f.py`:\n",
    "\n",
    "```python\n",
    "    def f(x):\n",
    "        z = 2*x\n",
    "        y = z + 1\n",
    "        return y\n",
    "```\n",
    "\n",
    "| Memoria principal | Variables locales |\n",
    "|-------------------|-------------------|\n",
    "|     `a = 1`       |                   |\n",
    "\n"
   ]
  },
  {
   "cell_type": "markdown",
   "metadata": {
    "slideshow": {
     "slide_type": "slide"
    }
   },
   "source": [
    "## Ejemplo\n",
    "\n",
    "`programa.py`:\n",
    "\n",
    "```python\n",
    "    a = 1\n",
    "->  b = f(2)\n",
    "    c = 3\n",
    "```\n",
    "\n",
    "\n",
    "`f.py`:\n",
    "\n",
    "```python\n",
    "    def f(x):\n",
    "->      z = 2*x\n",
    "        y = z + 1\n",
    "        return y\n",
    "```\n",
    "\n",
    "| Memoria principal | Variables locales |\n",
    "|-------------------|-------------------|\n",
    "|     `a = 1`       |      `x = 2`      |\n",
    "\n",
    "El control ha pasado a la función. El programa principal se\n",
    "queda en espera hasta que la función termina."
   ]
  },
  {
   "cell_type": "markdown",
   "metadata": {
    "slideshow": {
     "slide_type": "slide"
    }
   },
   "source": [
    "## Ejemplo\n",
    "\n",
    "`programa.py`:\n",
    "\n",
    "```python\n",
    "    a = 1\n",
    "->  b = f(2)\n",
    "    c = 3\n",
    "```\n",
    "\n",
    "\n",
    "`f.py`:\n",
    "\n",
    "```python\n",
    "    def f(x):\n",
    "        z = 2*x\n",
    "->      y = z + 1\n",
    "        return y\n",
    "```\n",
    "\n",
    "| Memoria principal | Variables locales |\n",
    "|-------------------|-------------------|\n",
    "|     `a = 1`       |      `x = 2`      |\n",
    "|        -          |      `z = 4`      |\n",
    "\n",
    "El control ha pasado a la función. El programa principal se\n",
    "queda en espera hasta que la función termina."
   ]
  },
  {
   "cell_type": "markdown",
   "metadata": {
    "slideshow": {
     "slide_type": "slide"
    }
   },
   "source": [
    "## Ejemplo\n",
    "\n",
    "`programa.py`:\n",
    "\n",
    "```python\n",
    "    a = 1\n",
    "->  b = f(2)\n",
    "    c = 3\n",
    "```\n",
    "\n",
    "\n",
    "`f.py`:\n",
    "\n",
    "```python\n",
    "    def f(x):\n",
    "        z = 2*x\n",
    "        y = z + 1\n",
    "->      return y\n",
    "```\n",
    "\n",
    "| Memoria principal | Variables locales |\n",
    "|-------------------|-------------------|\n",
    "|     `a = 1`       |      `x = 2`      |\n",
    "|        -           |      `z = 4`      |\n",
    "|         -          |      `y = 5`      |\n",
    "\n",
    "El control ha pasado a la función. El programa principal se\n",
    "queda en espera hasta que la función termina."
   ]
  },
  {
   "cell_type": "markdown",
   "metadata": {
    "slideshow": {
     "slide_type": "slide"
    }
   },
   "source": [
    "## Ejemplo\n",
    "\n",
    "`programa.py`:\n",
    "\n",
    "```python\n",
    "    a = 1\n",
    "    b = f(2)\n",
    "->  c = 3\n",
    "```\n",
    "\n",
    "\n",
    "`f.py`:\n",
    "\n",
    "```python\n",
    "    def f(x):\n",
    "        z = 2*x\n",
    "        y = z + 1\n",
    "        return y\n",
    "```\n",
    "\n",
    "| Memoria principal | Variables locales |\n",
    "|-------------------|-------------------|\n",
    "|     `a = 1`       |                   |\n",
    "|     `b = 5`       |                   |\n",
    "\n",
    "Como la función ha terminado, se pasa el argumento de salida a la\n",
    "variable b y desaparecen todas las variables locales."
   ]
  },
  {
   "cell_type": "markdown",
   "metadata": {
    "slideshow": {
     "slide_type": "slide"
    }
   },
   "source": [
    "## Ejemplo\n",
    "\n",
    "`programa.py`:\n",
    "\n",
    "```python\n",
    "    a = 1\n",
    "    b = f(2)\n",
    "    c = 3\n",
    "->\n",
    "```\n",
    "\n",
    "\n",
    "`f.py`:\n",
    "\n",
    "```python\n",
    "    def f(x):\n",
    "        z = 2*x\n",
    "        y = z + 1\n",
    "        return y\n",
    "```\n",
    "\n",
    "| Memoria principal | Variables locales |\n",
    "|-------------------|-------------------|\n",
    "|     `a = 1`       |                   |\n",
    "|     `b = 5`       |                   |\n",
    "|     `c = 3`       |                   |"
   ]
  },
  {
   "cell_type": "markdown",
   "metadata": {
    "slideshow": {
     "slide_type": "slide"
    }
   },
   "source": [
    "## Qué pasa si las variables tienen nombres iguales?"
   ]
  },
  {
   "cell_type": "markdown",
   "metadata": {
    "slideshow": {
     "slide_type": "slide"
    }
   },
   "source": [
    "## Ejemplo\n",
    "\n",
    "`programa.py`:\n",
    "\n",
    "```python\n",
    "    z = 1\n",
    "    x = f(2)\n",
    "    y = 3\n",
    "```\n",
    "\n",
    "\n",
    "`f.py`:\n",
    "\n",
    "```python\n",
    "    def f(x):\n",
    "        z = 2*x\n",
    "        y = z + 1\n",
    "        return y\n",
    "```\n",
    "\n",
    "| Memoria principal | Variables locales |\n",
    "|-------------------|-------------------|\n",
    "|                   |                   |\n",
    "\n"
   ]
  },
  {
   "cell_type": "markdown",
   "metadata": {
    "slideshow": {
     "slide_type": "slide"
    }
   },
   "source": [
    "## Ejemplo\n",
    "\n",
    "`programa.py`:\n",
    "\n",
    "```python\n",
    "    z = 1\n",
    "->  x = f(2)\n",
    "    y = 3\n",
    "```\n",
    "\n",
    "\n",
    "`f.py`:\n",
    "\n",
    "```python\n",
    "    def f(x):\n",
    "        z = 2*x\n",
    "        y = z + 1\n",
    "        return y\n",
    "```\n",
    "\n",
    "| Memoria principal | Variables locales |\n",
    "|-------------------|-------------------|\n",
    "|     `z = 1`       |                   |\n",
    "\n"
   ]
  },
  {
   "cell_type": "markdown",
   "metadata": {
    "slideshow": {
     "slide_type": "slide"
    }
   },
   "source": [
    "## Ejemplo\n",
    "\n",
    "`programa.py`:\n",
    "\n",
    "```python\n",
    "    z = 1\n",
    "->  x = f(2)\n",
    "    y = 3\n",
    "```\n",
    "\n",
    "\n",
    "`f.py`:\n",
    "\n",
    "```python\n",
    "    def f(x):\n",
    "->      z = 2*x\n",
    "        y = z + 1\n",
    "        return y\n",
    "```\n",
    "\n",
    "| Memoria principal | Variables locales |\n",
    "|-------------------|-------------------|\n",
    "|     `z = 1`       |      `x = 2`      |\n",
    "\n",
    "El control ha pasado a la función. El programa principal se\n",
    "queda en espera hasta que la función termina."
   ]
  },
  {
   "cell_type": "markdown",
   "metadata": {
    "slideshow": {
     "slide_type": "slide"
    }
   },
   "source": [
    "## Ejemplo\n",
    "\n",
    "`programa.py`:\n",
    "\n",
    "```python\n",
    "    z = 1\n",
    "->  x = f(2)\n",
    "    y = 3\n",
    "```\n",
    "\n",
    "\n",
    "`f.py`:\n",
    "\n",
    "```python\n",
    "    def f(x):\n",
    "        z = 2*x\n",
    "->      y = z + 1\n",
    "        return y\n",
    "```\n",
    "\n",
    "| Memoria principal | Variables locales |\n",
    "|-------------------|-------------------|\n",
    "|     `z = 1`       |      `x = 2`      |\n",
    "|        -          |      `z = 4`      |\n",
    "\n",
    "Tenemos dos variables de nombre z, pero en diferentes contextos (_scopes_). Por eso no hay confusión posible."
   ]
  },
  {
   "cell_type": "markdown",
   "metadata": {
    "slideshow": {
     "slide_type": "slide"
    }
   },
   "source": [
    "## Ejemplo\n",
    "\n",
    "`programa.py`:\n",
    "\n",
    "```python\n",
    "    z = 1\n",
    "->  x = f(2)\n",
    "    y = 3\n",
    "```\n",
    "\n",
    "\n",
    "`f.py`:\n",
    "\n",
    "```python\n",
    "    def f(x):\n",
    "        z = 2*x\n",
    "        y = z + 1\n",
    "->      return y\n",
    "```\n",
    "\n",
    "| Memoria principal | Variables locales |\n",
    "|-------------------|-------------------|\n",
    "|     `z = 1`       |      `x = 2`      |\n",
    "|        -         |      `z = 4`      |\n",
    "|        -          |      `y = 5`      |\n",
    "\n",
    "El control ha pasado a la función. El programa principal se\n",
    "queda en espera hasta que la función termina."
   ]
  },
  {
   "cell_type": "markdown",
   "metadata": {
    "slideshow": {
     "slide_type": "slide"
    }
   },
   "source": [
    "## Ejemplo\n",
    "\n",
    "`programa.py`:\n",
    "\n",
    "```python\n",
    "    z = 1\n",
    "    x = f(2)\n",
    "->  y = 3\n",
    "```\n",
    "\n",
    "\n",
    "`f.py`:\n",
    "\n",
    "```python\n",
    "    def f(x):\n",
    "        z = 2*x\n",
    "        y = z + 1\n",
    "        return y\n",
    "```\n",
    "\n",
    "| Memoria principal | Variables locales |\n",
    "|-------------------|-------------------|\n",
    "|     `z = 1`       |                   |\n",
    "|     `x = 5`       |                   |\n",
    "\n",
    "Como la función ha terminado, se pasa el argumento de salida a la\n",
    "variable b y desaparecen todas las variables locales."
   ]
  },
  {
   "cell_type": "markdown",
   "metadata": {
    "slideshow": {
     "slide_type": "slide"
    }
   },
   "source": [
    "## Ejemplo\n",
    "\n",
    "`programa.py`:\n",
    "\n",
    "```python\n",
    "    z = 1\n",
    "    x = f(2)\n",
    "    y = 3\n",
    "->\n",
    "```\n",
    "\n",
    "\n",
    "`f.py`:\n",
    "\n",
    "```python\n",
    "    def f(x):\n",
    "        z = 2*x\n",
    "        y = z + 1\n",
    "        return y\n",
    "```\n",
    "\n",
    "| Memoria principal | Variables locales |\n",
    "|-------------------|-------------------|\n",
    "|     `z = 1`       |                   |\n",
    "|     `x = 5`       |                   |\n",
    "|     `y = 3`       |                   |"
   ]
  },
  {
   "cell_type": "markdown",
   "metadata": {
    "slideshow": {
     "slide_type": "slide"
    }
   },
   "source": [
    "## Argumentos en la función\n",
    "\n",
    "Función `my_sqrt`"
   ]
  },
  {
   "cell_type": "code",
   "execution_count": 32,
   "metadata": {},
   "outputs": [
    {
     "data": {
      "text/plain": [
       "3.000000001396984"
      ]
     },
     "execution_count": 32,
     "metadata": {},
     "output_type": "execute_result"
    }
   ],
   "source": [
    "# Entrada\n",
    "def my_sqrt(A):\n",
    "\n",
    "    # Algorithm\n",
    "    W = 1\n",
    "    L = A / W\n",
    "    good_enough = False\n",
    "    steps = 0\n",
    "    \n",
    "    \n",
    "    while not good_enough:\n",
    "        L = (L + W) / 2\n",
    "        W = A / L\n",
    "\n",
    "        error = abs(L - W) / L\n",
    "        good_enough = error < 1e-5\n",
    "\n",
    "        steps += 1\n",
    "    \n",
    "\n",
    "    # Salida    \n",
    "    return L\n",
    "\n",
    "my_sqrt(9)"
   ]
  },
  {
   "cell_type": "markdown",
   "metadata": {},
   "source": [
    "#### Ejercicio\n",
    "\n",
    "Escribe una función que tome una palabra y devuelva el número de vocales en ella. En este caso, no hay un método en los [string methods](https://docs.python.org/3/library/stdtypes.html#string-methods) que nos indique si una letra es vocal o no.\n",
    "\n",
    "\n",
    "Componentes del problema: \n",
    "\n",
    "* Identificar si una letra es vocal o no\n",
    "\n",
    "* Contar cuantos elementos de una coleccion cumplen una condicion\n",
    "\n",
    "* Empaquetar esto en una función"
   ]
  },
  {
   "cell_type": "code",
   "execution_count": 38,
   "metadata": {},
   "outputs": [
    {
     "data": {
      "text/plain": [
       "True"
      ]
     },
     "execution_count": 38,
     "metadata": {},
     "output_type": "execute_result"
    }
   ],
   "source": [
    "vowels = 'aeiou'\n",
    "\n",
    "'a' in vowels"
   ]
  },
  {
   "cell_type": "code",
   "execution_count": 40,
   "metadata": {},
   "outputs": [
    {
     "data": {
      "text/plain": [
       "15"
      ]
     },
     "execution_count": 40,
     "metadata": {},
     "output_type": "execute_result"
    }
   ],
   "source": [
    "word = 'supercalifragilisticoespialidoso'\n",
    "count = 0\n",
    "\n",
    "for letter in word:    \n",
    "    if letter in vowels:\n",
    "        count += 1\n",
    "        \n",
    "count"
   ]
  },
  {
   "cell_type": "code",
   "execution_count": 42,
   "metadata": {},
   "outputs": [
    {
     "data": {
      "text/plain": [
       "15"
      ]
     },
     "execution_count": 42,
     "metadata": {},
     "output_type": "execute_result"
    }
   ],
   "source": [
    "def count_vowels(word): #  word = 'supercalifragilisticoespialidoso'\n",
    "    count = 0\n",
    "\n",
    "    for letter in word:    \n",
    "        if letter in vowels:\n",
    "            count += 1\n",
    "\n",
    "    return count\n",
    "\n",
    "count_vowels('supercalifragilisticoespialidoso')"
   ]
  },
  {
   "cell_type": "code",
   "execution_count": 44,
   "metadata": {},
   "outputs": [
    {
     "data": {
      "text/plain": [
       "5"
      ]
     },
     "execution_count": 44,
     "metadata": {},
     "output_type": "execute_result"
    }
   ],
   "source": [
    "count_vowels('murcielago')"
   ]
  },
  {
   "cell_type": "markdown",
   "metadata": {
    "slideshow": {
     "slide_type": "slide"
    }
   },
   "source": [
    "## Mejorar la función\n",
    "\n",
    "\n",
    "XXXX\n",
    "\n",
    "Será necesario siempre indicar dos argumentos al usar nuestra función.\n",
    "\n",
    "- Si solo indicamos uno, se producirá un error."
   ]
  },
  {
   "cell_type": "markdown",
   "metadata": {
    "slideshow": {
     "slide_type": "slide"
    }
   },
   "source": [
    "### Dos argumentos de entrada\n",
    "\n",
    "Función `my_sqrt`:"
   ]
  },
  {
   "cell_type": "code",
   "execution_count": 47,
   "metadata": {},
   "outputs": [
    {
     "data": {
      "text/plain": [
       "3.000000001396984"
      ]
     },
     "execution_count": 47,
     "metadata": {},
     "output_type": "execute_result"
    }
   ],
   "source": [
    "# Entrada\n",
    "def my_sqrt(A):\n",
    "\n",
    "    # Algorithm\n",
    "    W = 1\n",
    "    L = A / W\n",
    "    good_enough = False\n",
    "    steps = 0\n",
    "    \n",
    "    \n",
    "    while not good_enough:\n",
    "        L = (L + W) / 2\n",
    "        W = A / L\n",
    "\n",
    "        error = abs(L - W) / L\n",
    "        good_enough = error < 1e-5 # This value is \"Hard-coded\"\n",
    "\n",
    "        steps += 1\n",
    "    \n",
    "\n",
    "    # Salida    \n",
    "    return L\n",
    "\n",
    "my_sqrt(9) "
   ]
  },
  {
   "cell_type": "code",
   "execution_count": 53,
   "metadata": {},
   "outputs": [],
   "source": [
    "# Entrada\n",
    "def my_sqrt(A, error_threshold):\n",
    "    # Algorithm\n",
    "    W = 1\n",
    "    L = A / W\n",
    "    good_enough = False\n",
    "    steps = 0\n",
    "    \n",
    "    while not good_enough:\n",
    "        L = (L + W) / 2\n",
    "        W = A / L\n",
    "        error = abs(L - W) / L\n",
    "        good_enough = error < error_threshold\n",
    "        steps += 1\n",
    "\n",
    "    # Salida    \n",
    "    return L"
   ]
  },
  {
   "cell_type": "code",
   "execution_count": 54,
   "metadata": {},
   "outputs": [
    {
     "data": {
      "text/plain": [
       "(44721359549.9958, 44721359551.87535)"
      ]
     },
     "execution_count": 54,
     "metadata": {},
     "output_type": "execute_result"
    }
   ],
   "source": [
    "import math \n",
    "\n",
    "math.sqrt(1999999999999999999999), my_sqrt(1999999999999999999999, 1e-6)"
   ]
  },
  {
   "cell_type": "markdown",
   "metadata": {
    "slideshow": {
     "slide_type": "slide"
    }
   },
   "source": [
    "## Argumentos opcionales\n",
    "\n",
    "Podemos hacer una función más cómoda de usar\n",
    "\n",
    "El número de pasos es un detalle interno (_de implementación_) que el usuario debería poder ignorar, aunque le demos la posibilidad de controlarlo si quiere.\n",
    "\n",
    "¿Cómo transformamos un argumento de entrada en opcional?"
   ]
  },
  {
   "cell_type": "markdown",
   "metadata": {
    "slideshow": {
     "slide_type": "fragment"
    }
   },
   "source": [
    "**Valores por defecto** Si asignamos un valor por defecto a un argumento, ese argumento será siempre opcional. A estos argumentos se les llama _keyword arguments_."
   ]
  },
  {
   "cell_type": "markdown",
   "metadata": {
    "slideshow": {
     "slide_type": "slide"
    }
   },
   "source": [
    "## El argumento `error_threshold`, opcional"
   ]
  },
  {
   "cell_type": "code",
   "execution_count": 58,
   "metadata": {},
   "outputs": [
    {
     "name": "stdout",
     "output_type": "stream",
     "text": [
      "9.949923682546618\n",
      "9.98124920731545\n",
      "9.949874371188393\n"
     ]
    }
   ],
   "source": [
    "# Entrada\n",
    "def my_sqrt(A, error_threshold=1e-5):\n",
    "    # Algorithm\n",
    "    W = 1\n",
    "    L = A / W\n",
    "    good_enough = False\n",
    "    steps = 0\n",
    "    \n",
    "    while not good_enough:\n",
    "        L = (L + W) / 2\n",
    "        W = A / L\n",
    "        error = abs(L - W) / L\n",
    "        good_enough = error < error_threshold\n",
    "        steps += 1\n",
    "\n",
    "    # Salida    \n",
    "    return L\n",
    "\n",
    "print(my_sqrt(99))\n",
    "print(my_sqrt(99, 1e-2))\n",
    "print(my_sqrt(99, 1e-10))"
   ]
  },
  {
   "cell_type": "markdown",
   "metadata": {
    "slideshow": {
     "slide_type": "slide"
    }
   },
   "source": [
    "## Varios argumentos opcionales\n",
    "\n",
    "¿Qué ocurre cuando tenemos varios argumentos opcionales?\n",
    "\n",
    "```python\n",
    "       def f(x, y=0, z=-1):\n",
    "        ....\n",
    "```\n",
    "\n",
    "¿Tenemos que indicar forzosamente todos los\n",
    "argumentos opcionales?"
   ]
  },
  {
   "cell_type": "markdown",
   "metadata": {
    "slideshow": {
     "slide_type": "fragment"
    }
   },
   "source": [
    "**No, también podemos pasar argumentos por nombre, no solo por\n",
    "posición**\n",
    "\n",
    "       f(3, z=1)  # No indicamos y, por lo que tendremos y=0\n",
    "       f(3, y=6)  # No indicamos z, por lo que tendremos z=-1\n",
    "       f(3, 5)    # Cuanto vale z en este caso?\n",
    "       f(3, 5, -10)    # Especificamos los tres\n",
    "       f(3, z=5, -10)    # Esto dará un error\n",
    "     "
   ]
  },
  {
   "cell_type": "code",
   "execution_count": 63,
   "metadata": {},
   "outputs": [
    {
     "name": "stdout",
     "output_type": "stream",
     "text": [
      "9.949923682546618\n",
      "9.98124920731545\n",
      "XX|DEBUG INFO|XX: state at step 0: W=1.980, A=99.000, L=50.000\n",
      "XX|DEBUG INFO|XX: state at step 1: W=3.809, A=99.000, L=25.990\n",
      "XX|DEBUG INFO|XX: state at step 2: W=6.644, A=99.000, L=14.900\n",
      "XX|DEBUG INFO|XX: state at step 3: W=9.190, A=99.000, L=10.772\n",
      "XX|DEBUG INFO|XX: state at step 4: W=9.919, A=99.000, L=9.981\n",
      "XX|DEBUG INFO|XX: state at step 5: W=9.950, A=99.000, L=9.950\n",
      "XX|DEBUG INFO|XX: state at step 6: W=9.950, A=99.000, L=9.950\n",
      "9.949874371188393\n"
     ]
    }
   ],
   "source": [
    "# Entrada\n",
    "def my_sqrt(A, error_threshold=1e-5, debug=False):\n",
    "    # Algorithm\n",
    "    W = 1\n",
    "    L = A / W\n",
    "    good_enough = False\n",
    "    steps = 0\n",
    "    \n",
    "    while not good_enough:\n",
    "        L = (L + W) / 2\n",
    "        W = A / L\n",
    "        if debug:\n",
    "            print('XX|DEBUG INFO|XX: state at step %d: W=%.3f, A=%.3f, L=%.3f' % (steps, W, A, L))\n",
    "            \n",
    "        error = abs(L - W) / L\n",
    "        good_enough = error < error_threshold\n",
    "        steps += 1\n",
    "\n",
    "    # Salida    \n",
    "    return L\n",
    "\n",
    "print(my_sqrt(99))\n",
    "print(my_sqrt(99, 1e-2))\n",
    "print(my_sqrt(99, 1e-10, True))"
   ]
  },
  {
   "cell_type": "markdown",
   "metadata": {},
   "source": [
    "#### Ejercicio\n",
    "\n",
    "Escribe una función que tome un número entero y devuelva su divisor más grande.\n",
    "\n",
    "Componentes:\n",
    "\n",
    "* Recorrer todos los posibles divisores\n",
    "\n",
    "* Comprobar si un número es divisor de otro\n",
    "\n",
    "* Encontrar el más grande.\n",
    "\n",
    "Pseudocódigo:\n",
    "\n",
    "* Recorremos todos los candidatos del menor al mayor. Para cada uno:\n",
    "\n",
    "    * Comprobamos si es de hecho un divisor. Si lo es:\n",
    "    \n",
    "        * Lo guardamos\n",
    "        \n",
    "* Devolvemos el valor guardado"
   ]
  },
  {
   "cell_type": "code",
   "execution_count": 101,
   "metadata": {},
   "outputs": [
    {
     "data": {
      "text/plain": [
       "28"
      ]
     },
     "execution_count": 101,
     "metadata": {},
     "output_type": "execute_result"
    }
   ],
   "source": [
    "def max_div(number):\n",
    "    for candidate in range(1, number):\n",
    "        if number % candidate == 0:\n",
    "            result = candidate\n",
    "\n",
    "    return result\n",
    "\n",
    "max_div(56)"
   ]
  },
  {
   "cell_type": "markdown",
   "metadata": {
    "slideshow": {
     "slide_type": "slide"
    }
   },
   "source": [
    "## Valores de retorno\n",
    "\n",
    "¿Podemos hacer que la función devuelva más de un\n",
    "argumento?"
   ]
  },
  {
   "cell_type": "markdown",
   "metadata": {
    "slideshow": {
     "slide_type": "fragment"
    }
   },
   "source": [
    "Al igual que con los argumentos\n",
    "de entrada, podemos tener tantos argumentos de salida como queramos."
   ]
  },
  {
   "cell_type": "markdown",
   "metadata": {
    "slideshow": {
     "slide_type": "slide"
    }
   },
   "source": [
    "## Comparar la salida con el valor correcto"
   ]
  },
  {
   "cell_type": "code",
   "execution_count": 102,
   "metadata": {},
   "outputs": [
    {
     "data": {
      "text/plain": [
       "(9.949923682546618, 9.911906824482363e-06)"
      ]
     },
     "execution_count": 102,
     "metadata": {},
     "output_type": "execute_result"
    }
   ],
   "source": [
    "# Entrada\n",
    "def my_sqrt(A, error_threshold=1e-5, debug=False):\n",
    "    # Algorithm\n",
    "    W = 1\n",
    "    L = A / W\n",
    "    good_enough = False\n",
    "    steps = 0\n",
    "    \n",
    "    while not good_enough:\n",
    "        L = (L + W) / 2\n",
    "        W = A / L\n",
    "        if debug:\n",
    "            print('XX|DEBUG INFO|XX: state at step %d: W=%.3f, A=%.3f, L=%.3f' % (steps, W, A, L))\n",
    "            \n",
    "        error = abs(L - W) / L\n",
    "        good_enough = error < error_threshold\n",
    "        steps += 1\n",
    "\n",
    "    # Salida    \n",
    "    return L, error\n",
    "\n",
    "my_sqrt(99)"
   ]
  },
  {
   "cell_type": "code",
   "execution_count": 103,
   "metadata": {},
   "outputs": [
    {
     "data": {
      "text/plain": [
       "tuple"
      ]
     },
     "execution_count": 103,
     "metadata": {},
     "output_type": "execute_result"
    }
   ],
   "source": [
    "type(my_sqrt(99))"
   ]
  },
  {
   "cell_type": "markdown",
   "metadata": {
    "slideshow": {
     "slide_type": "slide"
    }
   },
   "source": [
    "## Varios valores de retorno\n",
    "\n",
    "En realidad, estamos devolviendo una tupla\n",
    "\n",
    "La función siempre nos devolverá los dos valores\n",
    "\n",
    "Podemos _desempaquetar_ (_unpack_) esos valores directamente"
   ]
  },
  {
   "cell_type": "code",
   "execution_count": 108,
   "metadata": {},
   "outputs": [],
   "source": [
    "result = my_sqrt(99)\n",
    "\n",
    "square_root = result[0]\n",
    "error_estimate = result[1]"
   ]
  },
  {
   "cell_type": "code",
   "execution_count": 110,
   "metadata": {},
   "outputs": [],
   "source": [
    "square_root, error_estimate = my_sqrt(76)  "
   ]
  },
  {
   "cell_type": "code",
   "execution_count": 113,
   "metadata": {},
   "outputs": [
    {
     "data": {
      "text/plain": [
       "22"
      ]
     },
     "execution_count": 113,
     "metadata": {},
     "output_type": "execute_result"
    }
   ],
   "source": [
    "x, y = (17, 22) \n",
    "y"
   ]
  },
  {
   "cell_type": "code",
   "execution_count": 115,
   "metadata": {},
   "outputs": [
    {
     "ename": "ValueError",
     "evalue": "too many values to unpack (expected 2)",
     "output_type": "error",
     "traceback": [
      "\u001b[0;31m---------------------------------------------------------------------------\u001b[0m",
      "\u001b[0;31mValueError\u001b[0m                                Traceback (most recent call last)",
      "\u001b[0;32m<ipython-input-115-36becdaca61a>\u001b[0m in \u001b[0;36m<module>\u001b[0;34m()\u001b[0m\n\u001b[0;32m----> 1\u001b[0;31m \u001b[0mx\u001b[0m\u001b[0;34m,\u001b[0m \u001b[0my\u001b[0m \u001b[0;34m=\u001b[0m \u001b[0;34m(\u001b[0m\u001b[0;36m17\u001b[0m\u001b[0;34m,\u001b[0m \u001b[0;36m22\u001b[0m\u001b[0;34m,\u001b[0m \u001b[0;36m49\u001b[0m\u001b[0;34m)\u001b[0m\u001b[0;34m\u001b[0m\u001b[0m\n\u001b[0m",
      "\u001b[0;31mValueError\u001b[0m: too many values to unpack (expected 2)"
     ]
    }
   ],
   "source": [
    "x, y = (17, 22, 49)  "
   ]
  },
  {
   "cell_type": "code",
   "execution_count": 117,
   "metadata": {},
   "outputs": [
    {
     "ename": "ValueError",
     "evalue": "not enough values to unpack (expected 2, got 1)",
     "output_type": "error",
     "traceback": [
      "\u001b[0;31m---------------------------------------------------------------------------\u001b[0m",
      "\u001b[0;31mValueError\u001b[0m                                Traceback (most recent call last)",
      "\u001b[0;32m<ipython-input-117-bc472fd4ece8>\u001b[0m in \u001b[0;36m<module>\u001b[0;34m()\u001b[0m\n\u001b[0;32m----> 1\u001b[0;31m \u001b[0mx\u001b[0m\u001b[0;34m,\u001b[0m \u001b[0my\u001b[0m \u001b[0;34m=\u001b[0m \u001b[0;34m[\u001b[0m\u001b[0;36m17\u001b[0m\u001b[0;34m]\u001b[0m\u001b[0;34m\u001b[0m\u001b[0m\n\u001b[0m",
      "\u001b[0;31mValueError\u001b[0m: not enough values to unpack (expected 2, got 1)"
     ]
    }
   ],
   "source": [
    "x, y = [17] "
   ]
  },
  {
   "cell_type": "markdown",
   "metadata": {
    "slideshow": {
     "slide_type": "slide"
    }
   },
   "source": [
    "# Funciones anónimas (funciones $\\lambda$) \n",
    "\n",
    "Podemos crear funciones en la línea de comandos, o en el código, y\n",
    "    asignar la función a una variable, o pasarla como un argumento\n",
    "\n",
    "El nombre de la variable actúa de *alias* de la función\n",
    "\n",
    "Pueden tener varios argumentos de entrada y de salida"
   ]
  },
  {
   "cell_type": "code",
   "execution_count": 4,
   "metadata": {},
   "outputs": [
    {
     "data": {
      "text/plain": [
       "builtin_function_or_method"
      ]
     },
     "execution_count": 4,
     "metadata": {},
     "output_type": "execute_result"
    }
   ],
   "source": [
    "import math\n",
    "\n",
    "type(math.log1p)"
   ]
  },
  {
   "cell_type": "code",
   "execution_count": 7,
   "metadata": {},
   "outputs": [
    {
     "data": {
      "text/plain": [
       "'a string'"
      ]
     },
     "execution_count": 7,
     "metadata": {},
     "output_type": "execute_result"
    }
   ],
   "source": [
    "a = 224\n",
    "224\n",
    "6.3\n",
    "'a string'"
   ]
  },
  {
   "cell_type": "code",
   "execution_count": 10,
   "metadata": {},
   "outputs": [
    {
     "data": {
      "text/plain": [
       "<function __main__.<lambda>(n)>"
      ]
     },
     "execution_count": 10,
     "metadata": {},
     "output_type": "execute_result"
    }
   ],
   "source": [
    "lambda n: n * 2"
   ]
  },
  {
   "cell_type": "code",
   "execution_count": 9,
   "metadata": {},
   "outputs": [
    {
     "data": {
      "text/plain": [
       "function"
      ]
     },
     "execution_count": 9,
     "metadata": {},
     "output_type": "execute_result"
    }
   ],
   "source": [
    "type(lambda n: n * 2)"
   ]
  },
  {
   "cell_type": "code",
   "execution_count": 11,
   "metadata": {},
   "outputs": [],
   "source": [
    "def double(n):\n",
    "    return n * 2"
   ]
  },
  {
   "cell_type": "markdown",
   "metadata": {},
   "source": [
    "La única diferencia entre estas dos definiciones de la función es que en la segunda le estamos dando un nombre."
   ]
  },
  {
   "cell_type": "markdown",
   "metadata": {
    "slideshow": {
     "slide_type": "slide"
    }
   },
   "source": [
    "## Uso de funciones anónimas\n",
    "\n",
    "No son muy habituales al programar en Python.\n",
    "\n",
    "Pero cuando uséis Spark, veréis que las funciones anónimas ahorran escribir mucho código\n",
    "\n",
    "Spark se basa en programación *funcional*, tiene muchas funciones que esperan otra función como argumento: _funciones de orden superior_"
   ]
  },
  {
   "cell_type": "markdown",
   "metadata": {
    "slideshow": {
     "slide_type": "slide"
    }
   },
   "source": [
    "# Pasar una función como argumento de otra función \n",
    "\n",
    "## Funciones como argumento de funciones\n",
    "\n",
    "Situación muy habitual en Spark, en programación funcional y en métodos numéricos\n",
    "\n",
    "Por ejemplo, una función (informática) que implementa un método de optimización de funciones (matemáticas)\n",
    "\n",
    "```python\n",
    "f_optimized = optimize_my_function(f)\n",
    "```"
   ]
  },
  {
   "cell_type": "markdown",
   "metadata": {
    "slideshow": {
     "slide_type": "slide"
    }
   },
   "source": [
    "## Veamos un ejemplo más sencillo\n",
    "\n",
    "- Vamos a hacer una función (informática) que calcula el cuadrado\n",
    "  de otra función (matemática)\n",
    "\n",
    "La función `square_f`:"
   ]
  },
  {
   "cell_type": "code",
   "execution_count": 12,
   "metadata": {},
   "outputs": [],
   "source": [
    "def square_f(f, n):\n",
    "    \n",
    "    return f(n) ** 2"
   ]
  },
  {
   "cell_type": "markdown",
   "metadata": {
    "slideshow": {
     "slide_type": "slide"
    }
   },
   "source": [
    "## Cómo pasar la función"
   ]
  },
  {
   "cell_type": "markdown",
   "metadata": {},
   "source": [
    "Pasamos `sin` como argumento de `square_f`:"
   ]
  },
  {
   "cell_type": "code",
   "execution_count": 18,
   "metadata": {},
   "outputs": [
    {
     "data": {
      "text/plain": [
       "0.4999999999999999"
      ]
     },
     "execution_count": 18,
     "metadata": {},
     "output_type": "execute_result"
    }
   ],
   "source": [
    "square_f(math.sin, math.pi / 4)"
   ]
  },
  {
   "cell_type": "code",
   "execution_count": 19,
   "metadata": {},
   "outputs": [
    {
     "data": {
      "text/plain": [
       "0.08145211167063658"
      ]
     },
     "execution_count": 19,
     "metadata": {},
     "output_type": "execute_result"
    }
   ],
   "source": [
    "square_f(lambda x: x - .5, math.pi / 4)"
   ]
  },
  {
   "cell_type": "markdown",
   "metadata": {
    "slideshow": {
     "slide_type": "slide"
    }
   },
   "source": [
    "## Funciones de orden superior"
   ]
  },
  {
   "cell_type": "markdown",
   "metadata": {},
   "source": [
    "Funciones que consumen otras funciones. \n",
    "\n",
    "El principal ejemplo es `map`.\n",
    "\n",
    "![map](https://cosminpupaza.files.wordpress.com/2015/10/map.png?w=505)"
   ]
  },
  {
   "cell_type": "code",
   "execution_count": 21,
   "metadata": {},
   "outputs": [
    {
     "data": {
      "text/plain": [
       "[0, 1, 4, 9, 16, 25, 36, 49, 64, 81]"
      ]
     },
     "execution_count": 21,
     "metadata": {},
     "output_type": "execute_result"
    }
   ],
   "source": [
    "list(map(lambda n: n ** 2, range(10)))"
   ]
  },
  {
   "cell_type": "code",
   "execution_count": 22,
   "metadata": {},
   "outputs": [
    {
     "data": {
      "text/plain": [
       "['panamas', 'tops', 'cowboys']"
      ]
     },
     "execution_count": 22,
     "metadata": {},
     "output_type": "execute_result"
    }
   ],
   "source": [
    "hats = ['panama', 'top', 'cowboy']\n",
    "\n",
    "list(map(lambda word: word + 's', hats))"
   ]
  },
  {
   "cell_type": "code",
   "execution_count": 23,
   "metadata": {},
   "outputs": [
    {
     "data": {
      "text/plain": [
       "['panamas', 'tops', 'cowboys']"
      ]
     },
     "execution_count": 23,
     "metadata": {},
     "output_type": "execute_result"
    }
   ],
   "source": [
    "result = []\n",
    "\n",
    "for element in hats:\n",
    "    result += [element + 's']\n",
    "    \n",
    "result"
   ]
  },
  {
   "cell_type": "code",
   "execution_count": 24,
   "metadata": {},
   "outputs": [
    {
     "data": {
      "text/plain": [
       "[6, 3, 6]"
      ]
     },
     "execution_count": 24,
     "metadata": {},
     "output_type": "execute_result"
    }
   ],
   "source": [
    "result = []\n",
    "\n",
    "for element in hats:\n",
    "    result += [len(element)]\n",
    "    \n",
    "result"
   ]
  },
  {
   "cell_type": "code",
   "execution_count": 25,
   "metadata": {},
   "outputs": [
    {
     "data": {
      "text/plain": [
       "['p', 't', 'c']"
      ]
     },
     "execution_count": 25,
     "metadata": {},
     "output_type": "execute_result"
    }
   ],
   "source": [
    "result = []\n",
    "\n",
    "for element in hats:\n",
    "    result += [element[0]]\n",
    "    \n",
    "result"
   ]
  },
  {
   "cell_type": "code",
   "execution_count": 27,
   "metadata": {},
   "outputs": [],
   "source": [
    "def process_list(f, input_list):\n",
    "    result = []\n",
    "\n",
    "    for element in input_list:\n",
    "        result += [f(element)]\n",
    "\n",
    "    return result"
   ]
  },
  {
   "cell_type": "markdown",
   "metadata": {},
   "source": [
    "Otro de los tres grandes pilares es filter, que toma una función que evalúa cada elemento, uno a uno, a un booleano. Según ese booleano, nos quedaremos o no con el elemento correspondiente:\n",
    "\n",
    "![Filter](https://cosminpupaza.files.wordpress.com/2015/11/filter.png?w=405)"
   ]
  },
  {
   "cell_type": "code",
   "execution_count": 29,
   "metadata": {},
   "outputs": [
    {
     "data": {
      "text/plain": [
       "['panama', 'top', 'cowboy']"
      ]
     },
     "execution_count": 29,
     "metadata": {},
     "output_type": "execute_result"
    }
   ],
   "source": [
    "hats"
   ]
  },
  {
   "cell_type": "code",
   "execution_count": 30,
   "metadata": {},
   "outputs": [
    {
     "data": {
      "text/plain": [
       "['panama', 'cowboy']"
      ]
     },
     "execution_count": 30,
     "metadata": {},
     "output_type": "execute_result"
    }
   ],
   "source": [
    "result = []\n",
    "\n",
    "for element in hats:\n",
    "    if len(element) > 3:\n",
    "        result += [element]\n",
    "    \n",
    "result"
   ]
  },
  {
   "cell_type": "code",
   "execution_count": 31,
   "metadata": {},
   "outputs": [
    {
     "data": {
      "text/plain": [
       "['panama', 'cowboy']"
      ]
     },
     "execution_count": 31,
     "metadata": {},
     "output_type": "execute_result"
    }
   ],
   "source": [
    "list(filter(lambda word: len(word) > 3, hats)) "
   ]
  },
  {
   "cell_type": "markdown",
   "metadata": {},
   "source": [
    "Por último, tenemos `reduce`, que toma elementos dos a dos y los combina con la función f.\n",
    "\n",
    "\n",
    "![Reduce](https://cosminpupaza.files.wordpress.com/2015/11/reduce.png?w=500)"
   ]
  },
  {
   "cell_type": "code",
   "execution_count": 35,
   "metadata": {},
   "outputs": [
    {
     "data": {
      "text/plain": [
       "15"
      ]
     },
     "execution_count": 35,
     "metadata": {},
     "output_type": "execute_result"
    }
   ],
   "source": [
    "from functools import reduce\n",
    "\n",
    "reduce(lambda x, y: x + y, range(6)) "
   ]
  },
  {
   "cell_type": "code",
   "execution_count": 37,
   "metadata": {},
   "outputs": [
    {
     "data": {
      "text/plain": [
       "15"
      ]
     },
     "execution_count": 37,
     "metadata": {},
     "output_type": "execute_result"
    }
   ],
   "source": [
    "import functools\n",
    "\n",
    "functools.reduce(lambda x, y: x + y, range(6)) "
   ]
  },
  {
   "cell_type": "code",
   "execution_count": 39,
   "metadata": {},
   "outputs": [
    {
     "data": {
      "text/plain": [
       "3.141592653589793"
      ]
     },
     "execution_count": 39,
     "metadata": {},
     "output_type": "execute_result"
    }
   ],
   "source": [
    "from math import pi\n",
    "\n",
    "pi"
   ]
  },
  {
   "cell_type": "markdown",
   "metadata": {},
   "source": [
    "La sintaxis de las funciones de orden superior es bastante burda en Python, más que en otros lenguajes. \n",
    "\n",
    "Sin embargo, disponemos de una construcción muy elegante para componer maps: las list comprehensions. Se escriben de la siguiente manera:"
   ]
  },
  {
   "cell_type": "code",
   "execution_count": 40,
   "metadata": {},
   "outputs": [
    {
     "data": {
      "text/plain": [
       "285"
      ]
     },
     "execution_count": 40,
     "metadata": {},
     "output_type": "execute_result"
    }
   ],
   "source": [
    "functools.reduce(lambda x, y: x + y, map(lambda n: n ** 2, range(10))) "
   ]
  },
  {
   "cell_type": "code",
   "execution_count": 41,
   "metadata": {},
   "outputs": [
    {
     "data": {
      "text/plain": [
       "[0, 1, 4, 9, 16, 25, 36, 49, 64, 81]"
      ]
     },
     "execution_count": 41,
     "metadata": {},
     "output_type": "execute_result"
    }
   ],
   "source": [
    "[ n ** 2 for n in range(10) ] "
   ]
  },
  {
   "cell_type": "code",
   "execution_count": 42,
   "metadata": {},
   "outputs": [
    {
     "data": {
      "text/plain": [
       "[0, 4, 16, 36, 64]"
      ]
     },
     "execution_count": 42,
     "metadata": {},
     "output_type": "execute_result"
    }
   ],
   "source": [
    "[ n ** 2 for n in range(10) if n % 2 == 0 ]  "
   ]
  },
  {
   "cell_type": "markdown",
   "metadata": {
    "slideshow": {
     "slide_type": "slide"
    }
   },
   "source": [
    "# Terminar funciones de manera abrupta \n",
    "\n",
    "En ocasiones es útil terminar una función antes de llegar al final del código.\n",
    "\n",
    "Para terminar una función antes de tiempo podemos usar return en cualquier lugar de la función.\n",
    "  \n",
    "- Una función puede tener tantos return como queramos\n",
    "\n",
    "- Pero conviene no abusar: recuerda el patrón\n",
    "  entrada-algoritmo-salida\n",
    "\n",
    "Una función nunca ejecutará más de un return. En cuanto llegue a uno, devuelve un valor y su ejecución termina."
   ]
  },
  {
   "cell_type": "markdown",
   "metadata": {
    "slideshow": {
     "slide_type": "fragment"
    }
   },
   "source": [
    "```python\n",
    "def my_sqrt(A):    \n",
    "    if A < 0:\n",
    "        return -1\n",
    "    ...\n",
    "    # Resto del codigo de la funcion\n",
    "```"
   ]
  },
  {
   "cell_type": "code",
   "execution_count": 75,
   "metadata": {},
   "outputs": [
    {
     "data": {
      "text/plain": [
       "'Ohhhhhhh'"
      ]
     },
     "execution_count": 75,
     "metadata": {},
     "output_type": "execute_result"
    }
   ],
   "source": [
    "import random\n",
    "\n",
    "def guess(num):\n",
    "    secret = random.randint(0, 2)\n",
    "    \n",
    "    if num == secret:\n",
    "        return 'Bieeeeen'\n",
    "    else:\n",
    "        return 'Ohhhhhhh'\n",
    "    \n",
    "guess(1)"
   ]
  },
  {
   "cell_type": "markdown",
   "metadata": {
    "slideshow": {
     "slide_type": "slide"
    }
   },
   "source": [
    "# Cómo documentar funciones \n",
    "\n",
    "### Ayuda acerca de las funciones\n",
    "\n",
    "El comando help nos muestra la ayuda de\n",
    "las funciones internas."
   ]
  },
  {
   "cell_type": "code",
   "execution_count": 76,
   "metadata": {
    "slideshow": {
     "slide_type": "fragment"
    }
   },
   "outputs": [
    {
     "name": "stdout",
     "output_type": "stream",
     "text": [
      "Help on built-in function reduce in module _functools:\n",
      "\n",
      "reduce(...)\n",
      "    reduce(function, sequence[, initial]) -> value\n",
      "    \n",
      "    Apply a function of two arguments cumulatively to the items of a sequence,\n",
      "    from left to right, so as to reduce the sequence to a single value.\n",
      "    For example, reduce(lambda x, y: x+y, [1, 2, 3, 4, 5]) calculates\n",
      "    ((((1+2)+3)+4)+5).  If initial is present, it is placed before the items\n",
      "    of the sequence in the calculation, and serves as a default when the\n",
      "    sequence is empty.\n",
      "\n"
     ]
    }
   ],
   "source": [
    "help(reduce)"
   ]
  },
  {
   "cell_type": "markdown",
   "metadata": {
    "slideshow": {
     "slide_type": "fragment"
    }
   },
   "source": [
    "Podemos aprovechar el comando help para mostrar información a nuestros usuarios.\n",
    "\n",
    "Para escribir la ayuda, usamos [*docstrings*](https://www.python.org/dev/peps/pep-0257/)"
   ]
  },
  {
   "cell_type": "markdown",
   "metadata": {
    "slideshow": {
     "slide_type": "slide"
    }
   },
   "source": [
    "## Ejemplo de documentación"
   ]
  },
  {
   "cell_type": "code",
   "execution_count": 87,
   "metadata": {},
   "outputs": [
    {
     "name": "stdout",
     "output_type": "stream",
     "text": [
      "Help on function lazy_function in module __main__:\n",
      "\n",
      "lazy_function(useless_argument, another_useless_argument='nonsense')\n",
      "    Do nothing much\n",
      "\n"
     ]
    }
   ],
   "source": [
    "def lazy_function(useless_argument, another_useless_argument='nonsense'):\n",
    "    'Do nothing much'\n",
    "    2\n",
    "\n",
    "    \n",
    "help(lazy_function)"
   ]
  },
  {
   "cell_type": "markdown",
   "metadata": {
    "slideshow": {
     "slide_type": "slide"
    }
   },
   "source": [
    "## Consejos: cómo documentar funciones\n",
    "\n",
    "La primera línea explica qué hace la función.\n",
    "\n",
    "Después de una línea en blanco, ponemos en una lista cada uno de\n",
    "    los argumentos.\n",
    "\n",
    "Si alguno es opcional, hay que informar al usuario.\n",
    "\n",
    "Es también buena idea explicar qué ocurre si no especificamos un\n",
    "    argumento opcional de entrada."
   ]
  },
  {
   "cell_type": "markdown",
   "metadata": {
    "slideshow": {
     "slide_type": "slide"
    }
   },
   "source": [
    "# Funciones recursivas \n",
    "\n",
    "Una **función recursiva** es una función que se llama a sí misma\n",
    "\n",
    "Se pueden usar para implementar definiciones recursivas de algoritmos.\n",
    "\n",
    "Por ejemplo, la función factorial se define de manera recursiva: $x! = x\\cdot(x-1)!$"
   ]
  },
  {
   "cell_type": "markdown",
   "metadata": {
    "slideshow": {
     "slide_type": "slide"
    }
   },
   "source": [
    "## Pasos en una implementación recursiva\n",
    "\n",
    "Encontrar una definición que use la misma función dentro de la definición\n",
    "\n",
    "Comprobar que en cada nuevo paso, se reduce la cantidad de operaciones que hay que realizar\n",
    "\n",
    "- Por ejemplo, en el factorial, en cada paso usamos $x-1$ en vez de $x$\n",
    "\n",
    "Es necesario definir un **caso base** totalmente definido, y que no requiera de la función en su definición\n",
    "\n",
    "- En el caso del factorial, el caso base es $0! = 1$"
   ]
  },
  {
   "cell_type": "markdown",
   "metadata": {},
   "source": [
    "## Ejemplo: implementación del factorial"
   ]
  },
  {
   "cell_type": "markdown",
   "metadata": {
    "slideshow": {
     "slide_type": "fragment"
    }
   },
   "source": [
    "### Implementación con bucle"
   ]
  },
  {
   "cell_type": "code",
   "execution_count": 90,
   "metadata": {},
   "outputs": [
    {
     "data": {
      "text/plain": [
       "3628800"
      ]
     },
     "execution_count": 90,
     "metadata": {},
     "output_type": "execute_result"
    }
   ],
   "source": [
    "n = 10\n",
    "result = 1\n",
    "for i in range(n):\n",
    "    result *= (i + 1) # Synonym of result = result * (n + 1)\n",
    "    \n",
    "result"
   ]
  },
  {
   "cell_type": "markdown",
   "metadata": {
    "slideshow": {
     "slide_type": "slide"
    }
   },
   "source": [
    "### Implementación recursiva"
   ]
  },
  {
   "cell_type": "code",
   "execution_count": 92,
   "metadata": {},
   "outputs": [
    {
     "data": {
      "text/plain": [
       "3628800"
      ]
     },
     "execution_count": 92,
     "metadata": {},
     "output_type": "execute_result"
    }
   ],
   "source": [
    "def factorial(n):\n",
    "    \n",
    "    if n == 0:\n",
    "        return 1\n",
    "    else:\n",
    "        return n * factorial(n - 1) \n",
    "    \n",
    "factorial(10) "
   ]
  },
  {
   "cell_type": "code",
   "execution_count": 93,
   "metadata": {},
   "outputs": [
    {
     "ename": "RecursionError",
     "evalue": "maximum recursion depth exceeded",
     "output_type": "error",
     "traceback": [
      "\u001b[0;31m---------------------------------------------------------------------------\u001b[0m",
      "\u001b[0;31mRecursionError\u001b[0m                            Traceback (most recent call last)",
      "\u001b[0;32m<ipython-input-93-0c3acadac45d>\u001b[0m in \u001b[0;36m<module>\u001b[0;34m()\u001b[0m\n\u001b[1;32m      2\u001b[0m     \u001b[0;32mreturn\u001b[0m \u001b[0mn\u001b[0m \u001b[0;34m*\u001b[0m \u001b[0mfactorial\u001b[0m\u001b[0;34m(\u001b[0m\u001b[0mn\u001b[0m \u001b[0;34m-\u001b[0m \u001b[0;36m1\u001b[0m\u001b[0;34m)\u001b[0m\u001b[0;34m\u001b[0m\u001b[0m\n\u001b[1;32m      3\u001b[0m \u001b[0;34m\u001b[0m\u001b[0m\n\u001b[0;32m----> 4\u001b[0;31m \u001b[0mfactorial\u001b[0m\u001b[0;34m(\u001b[0m\u001b[0;36m10\u001b[0m\u001b[0;34m)\u001b[0m\u001b[0;34m\u001b[0m\u001b[0m\n\u001b[0m",
      "\u001b[0;32m<ipython-input-93-0c3acadac45d>\u001b[0m in \u001b[0;36mfactorial\u001b[0;34m(n)\u001b[0m\n\u001b[1;32m      1\u001b[0m \u001b[0;32mdef\u001b[0m \u001b[0mfactorial\u001b[0m\u001b[0;34m(\u001b[0m\u001b[0mn\u001b[0m\u001b[0;34m)\u001b[0m\u001b[0;34m:\u001b[0m\u001b[0;34m\u001b[0m\u001b[0m\n\u001b[0;32m----> 2\u001b[0;31m     \u001b[0;32mreturn\u001b[0m \u001b[0mn\u001b[0m \u001b[0;34m*\u001b[0m \u001b[0mfactorial\u001b[0m\u001b[0;34m(\u001b[0m\u001b[0mn\u001b[0m \u001b[0;34m-\u001b[0m \u001b[0;36m1\u001b[0m\u001b[0;34m)\u001b[0m\u001b[0;34m\u001b[0m\u001b[0m\n\u001b[0m\u001b[1;32m      3\u001b[0m \u001b[0;34m\u001b[0m\u001b[0m\n\u001b[1;32m      4\u001b[0m \u001b[0mfactorial\u001b[0m\u001b[0;34m(\u001b[0m\u001b[0;36m10\u001b[0m\u001b[0;34m)\u001b[0m\u001b[0;34m\u001b[0m\u001b[0m\n",
      "... last 1 frames repeated, from the frame below ...\n",
      "\u001b[0;32m<ipython-input-93-0c3acadac45d>\u001b[0m in \u001b[0;36mfactorial\u001b[0;34m(n)\u001b[0m\n\u001b[1;32m      1\u001b[0m \u001b[0;32mdef\u001b[0m \u001b[0mfactorial\u001b[0m\u001b[0;34m(\u001b[0m\u001b[0mn\u001b[0m\u001b[0;34m)\u001b[0m\u001b[0;34m:\u001b[0m\u001b[0;34m\u001b[0m\u001b[0m\n\u001b[0;32m----> 2\u001b[0;31m     \u001b[0;32mreturn\u001b[0m \u001b[0mn\u001b[0m \u001b[0;34m*\u001b[0m \u001b[0mfactorial\u001b[0m\u001b[0;34m(\u001b[0m\u001b[0mn\u001b[0m \u001b[0;34m-\u001b[0m \u001b[0;36m1\u001b[0m\u001b[0;34m)\u001b[0m\u001b[0;34m\u001b[0m\u001b[0m\n\u001b[0m\u001b[1;32m      3\u001b[0m \u001b[0;34m\u001b[0m\u001b[0m\n\u001b[1;32m      4\u001b[0m \u001b[0mfactorial\u001b[0m\u001b[0;34m(\u001b[0m\u001b[0;36m10\u001b[0m\u001b[0;34m)\u001b[0m\u001b[0;34m\u001b[0m\u001b[0m\n",
      "\u001b[0;31mRecursionError\u001b[0m: maximum recursion depth exceeded"
     ]
    }
   ],
   "source": [
    "def factorial(n):\n",
    "    return n * factorial(n - 1) \n",
    "    \n",
    "factorial(10) "
   ]
  },
  {
   "cell_type": "markdown",
   "metadata": {
    "slideshow": {
     "slide_type": "slide"
    }
   },
   "source": [
    "## Ejemplo: secuencia de Fibonacci\n",
    "\n",
    "Vamos a hacer una implementación recursiva"
   ]
  },
  {
   "cell_type": "code",
   "execution_count": 94,
   "metadata": {},
   "outputs": [
    {
     "ename": "RecursionError",
     "evalue": "maximum recursion depth exceeded",
     "output_type": "error",
     "traceback": [
      "\u001b[0;31m---------------------------------------------------------------------------\u001b[0m",
      "\u001b[0;31mRecursionError\u001b[0m                            Traceback (most recent call last)",
      "\u001b[0;32m<ipython-input-94-b14cd416668b>\u001b[0m in \u001b[0;36m<module>\u001b[0;34m()\u001b[0m\n\u001b[1;32m      2\u001b[0m     \u001b[0;32mreturn\u001b[0m \u001b[0mfib\u001b[0m\u001b[0;34m(\u001b[0m\u001b[0mn\u001b[0m \u001b[0;34m-\u001b[0m \u001b[0;36m1\u001b[0m\u001b[0;34m)\u001b[0m \u001b[0;34m+\u001b[0m \u001b[0mfib\u001b[0m\u001b[0;34m(\u001b[0m\u001b[0mn\u001b[0m \u001b[0;34m-\u001b[0m \u001b[0;36m2\u001b[0m\u001b[0;34m)\u001b[0m\u001b[0;34m\u001b[0m\u001b[0m\n\u001b[1;32m      3\u001b[0m \u001b[0;34m\u001b[0m\u001b[0m\n\u001b[0;32m----> 4\u001b[0;31m \u001b[0mfib\u001b[0m\u001b[0;34m(\u001b[0m\u001b[0;36m5\u001b[0m\u001b[0;34m)\u001b[0m\u001b[0;34m\u001b[0m\u001b[0m\n\u001b[0m",
      "\u001b[0;32m<ipython-input-94-b14cd416668b>\u001b[0m in \u001b[0;36mfib\u001b[0;34m(n)\u001b[0m\n\u001b[1;32m      1\u001b[0m \u001b[0;32mdef\u001b[0m \u001b[0mfib\u001b[0m\u001b[0;34m(\u001b[0m\u001b[0mn\u001b[0m\u001b[0;34m)\u001b[0m\u001b[0;34m:\u001b[0m\u001b[0;34m\u001b[0m\u001b[0m\n\u001b[0;32m----> 2\u001b[0;31m     \u001b[0;32mreturn\u001b[0m \u001b[0mfib\u001b[0m\u001b[0;34m(\u001b[0m\u001b[0mn\u001b[0m \u001b[0;34m-\u001b[0m \u001b[0;36m1\u001b[0m\u001b[0;34m)\u001b[0m \u001b[0;34m+\u001b[0m \u001b[0mfib\u001b[0m\u001b[0;34m(\u001b[0m\u001b[0mn\u001b[0m \u001b[0;34m-\u001b[0m \u001b[0;36m2\u001b[0m\u001b[0;34m)\u001b[0m\u001b[0;34m\u001b[0m\u001b[0m\n\u001b[0m\u001b[1;32m      3\u001b[0m \u001b[0;34m\u001b[0m\u001b[0m\n\u001b[1;32m      4\u001b[0m \u001b[0mfib\u001b[0m\u001b[0;34m(\u001b[0m\u001b[0;36m5\u001b[0m\u001b[0;34m)\u001b[0m\u001b[0;34m\u001b[0m\u001b[0m\n",
      "... last 1 frames repeated, from the frame below ...\n",
      "\u001b[0;32m<ipython-input-94-b14cd416668b>\u001b[0m in \u001b[0;36mfib\u001b[0;34m(n)\u001b[0m\n\u001b[1;32m      1\u001b[0m \u001b[0;32mdef\u001b[0m \u001b[0mfib\u001b[0m\u001b[0;34m(\u001b[0m\u001b[0mn\u001b[0m\u001b[0;34m)\u001b[0m\u001b[0;34m:\u001b[0m\u001b[0;34m\u001b[0m\u001b[0m\n\u001b[0;32m----> 2\u001b[0;31m     \u001b[0;32mreturn\u001b[0m \u001b[0mfib\u001b[0m\u001b[0;34m(\u001b[0m\u001b[0mn\u001b[0m \u001b[0;34m-\u001b[0m \u001b[0;36m1\u001b[0m\u001b[0;34m)\u001b[0m \u001b[0;34m+\u001b[0m \u001b[0mfib\u001b[0m\u001b[0;34m(\u001b[0m\u001b[0mn\u001b[0m \u001b[0;34m-\u001b[0m \u001b[0;36m2\u001b[0m\u001b[0;34m)\u001b[0m\u001b[0;34m\u001b[0m\u001b[0m\n\u001b[0m\u001b[1;32m      3\u001b[0m \u001b[0;34m\u001b[0m\u001b[0m\n\u001b[1;32m      4\u001b[0m \u001b[0mfib\u001b[0m\u001b[0;34m(\u001b[0m\u001b[0;36m5\u001b[0m\u001b[0;34m)\u001b[0m\u001b[0;34m\u001b[0m\u001b[0m\n",
      "\u001b[0;31mRecursionError\u001b[0m: maximum recursion depth exceeded"
     ]
    }
   ],
   "source": [
    "def fib(n):\n",
    "    return fib(n - 1) + fib(n - 2)\n",
    "\n",
    "fib(5)"
   ]
  },
  {
   "cell_type": "markdown",
   "metadata": {},
   "source": [
    "Este primer intento tiene un problema: nunca deja de hacer recursion porque le falta un *caso base*"
   ]
  },
  {
   "cell_type": "code",
   "execution_count": 95,
   "metadata": {},
   "outputs": [
    {
     "data": {
      "text/plain": [
       "8"
      ]
     },
     "execution_count": 95,
     "metadata": {},
     "output_type": "execute_result"
    }
   ],
   "source": [
    "def fib(n):\n",
    "    if n == 0 or n == 1:\n",
    "        return 1\n",
    "    else:\n",
    "        return fib(n - 1) + fib(n - 2)\n",
    "\n",
    "fib(5)"
   ]
  },
  {
   "cell_type": "markdown",
   "metadata": {},
   "source": [
    "#### Ejercicio\n",
    "\n",
    "Escribe una funcion que calcule el numero de elementos que componen un triangulo como el que forman los bolos de bolera, de n filas.\n",
    "\n",
    "\n",
    "_Entrada de muestra_: \n",
    "```python\n",
    "3\n",
    "```\n",
    "_Salida de muestra_: \n",
    "```python\n",
    "6\n",
    "```\n",
    "\n",
    "_Entrada de muestra_: \n",
    "```python\n",
    "5\n",
    "```\n",
    "_Salida de muestra_: \n",
    "```python\n",
    "15\n",
    "```\n"
   ]
  },
  {
   "cell_type": "code",
   "execution_count": 97,
   "metadata": {},
   "outputs": [
    {
     "data": {
      "text/plain": [
       "15"
      ]
     },
     "execution_count": 97,
     "metadata": {},
     "output_type": "execute_result"
    }
   ],
   "source": [
    "def bowling_pins(rows):\n",
    "    if rows == 0:\n",
    "        return 0\n",
    "    else:\n",
    "        return bowling_pins(rows - 1) + rows\n",
    "    \n",
    "bowling_pins(5)"
   ]
  },
  {
   "cell_type": "code",
   "execution_count": 99,
   "metadata": {},
   "outputs": [
    {
     "data": {
      "text/plain": [
       "11325"
      ]
     },
     "execution_count": 99,
     "metadata": {},
     "output_type": "execute_result"
    }
   ],
   "source": [
    "bowling_pins(150)"
   ]
  },
  {
   "cell_type": "markdown",
   "metadata": {
    "slideshow": {
     "slide_type": "slide"
    }
   },
   "source": [
    "## Funciones recursivas en la práctica\n",
    "\n",
    "En ordenadores modernos, las implementaciones recursivas suelen ser más lentas y requieren más memoria.\n",
    "\n",
    "En ocasiones, un algoritmo puede ser más fácil de escribir de manera recursiva (por ejemplo, para dibujar fractales)"
   ]
  },
  {
   "cell_type": "markdown",
   "metadata": {
    "slideshow": {
     "slide_type": "slide"
    }
   },
   "source": [
    "# Para llevar: resumen del tema\n",
    "\n",
    "Podemos crear funciones igual que las funciones internas.\n",
    "\n",
    "Las funciones tienen:\n",
    "\n",
    "-    Argumentos de entrada.\n",
    "\n",
    "-    Nombre.\n",
    "\n",
    "-    Argumentos de salida.\n",
    "\n",
    "Si creamos funciones, nuestros programas serán reutilizables, más\n",
    "    sencillos de diseñar y escribir, y más sencillos de modificar.\n",
    "\n",
    "Hay que tener en cuenta ciertas precauciones para crear\n",
    "    correctamente nuestras funciones."
   ]
  },
  {
   "cell_type": "markdown",
   "metadata": {
    "slideshow": {
     "slide_type": "slide"
    }
   },
   "source": [
    "## Para llevar: resumen del tema\n",
    "\n",
    "Las variables creadas dentro de funciones se denominan variables locales.\n",
    "\n",
    "Solo son accesibles desde dentro de la función.\n",
    "\n",
    "- No interfieren con las variables del espacio de trabajo.\n",
    "\n",
    "Cuando la función termina su ejecución, las variables locales se eliminan de la memoria."
   ]
  },
  {
   "cell_type": "markdown",
   "metadata": {
    "slideshow": {
     "slide_type": "slide"
    }
   },
   "source": [
    "## Para llevar: resumen del tema\n",
    "\n",
    "### Alcance (_scope_) de las variables locales:\n",
    "\n",
    "Las variables globales están disponibles dentro de la función, **pero no al revés**.\n",
    "\n",
    "Por tanto, las variables dentro de la función no interfieren con las del espacio de trabajo."
   ]
  },
  {
   "cell_type": "markdown",
   "metadata": {
    "slideshow": {
     "slide_type": "slide"
    }
   },
   "source": [
    "## Para llevar: resumen del tema\n",
    "\n",
    "### Funciones anónimas\n",
    "\n",
    "Se crean usando `lambda`\n",
    "\n",
    "Solo una línea de código\n",
    "\n",
    "Sirven para crear funciones sencillas de una manera rápida"
   ]
  },
  {
   "cell_type": "markdown",
   "metadata": {
    "slideshow": {
     "slide_type": "slide"
    }
   },
   "source": [
    "## Para llevar: resumen del tema\n",
    "\n",
    "### Pasar funciones como argumento de otras funciones\n",
    "\n",
    "Lo podemos hacer usando funciones anónimas\n",
    "\n",
    "O simplemente pasando el nombre de la función\n",
    "\n",
    "- Sin poner los paréntesis\n",
    "\n",
    "- Con paréntesis, llamamos (*ejecutamos*) la\n",
    "  función\n",
    "\n",
    "- Sin paréntesis, simplemente referenciamos la función"
   ]
  },
  {
   "cell_type": "markdown",
   "metadata": {
    "slideshow": {
     "slide_type": "slide"
    }
   },
   "source": [
    "## Para llevar: resumen del tema\n",
    "\n",
    "Funciones recursivas\n",
    "\n",
    "Una función recursiva se llama a sí misma\n",
    "\n",
    "- Muchos métodos pueden implementarse de manera recursiva\n",
    "\n",
    "En ordenadores modernos, las implementaciones recursivas suelen ser más lentas y requieren más memoria\n",
    "\n",
    "Pero es más sencillo resolver algunos problemas de manera recursiva"
   ]
  },
  {
   "cell_type": "markdown",
   "metadata": {},
   "source": [
    "#### Ejercicio\n",
    "\n",
    "Escribe una función que tome un número y devuelva un booleano indicando si el número es primo o no."
   ]
  },
  {
   "cell_type": "code",
   "execution_count": 104,
   "metadata": {},
   "outputs": [
    {
     "data": {
      "text/plain": [
       "True"
      ]
     },
     "execution_count": 104,
     "metadata": {},
     "output_type": "execute_result"
    }
   ],
   "source": [
    "def is_prime(n):\n",
    "    \n",
    "    for potential_divisor in range(2, n):\n",
    "        if n % potential_divisor == 0:\n",
    "            return False\n",
    "    \n",
    "    return True\n",
    "\n",
    "is_prime(443)"
   ]
  },
  {
   "cell_type": "markdown",
   "metadata": {},
   "source": [
    "#### Ejercicio\n",
    "\n",
    "Extrae todos los primos entre el 190 y el 250 utilizando la función anterior."
   ]
  },
  {
   "cell_type": "code",
   "execution_count": 110,
   "metadata": {},
   "outputs": [
    {
     "data": {
      "text/plain": [
       "[191, 193, 197, 199, 211, 223, 227, 229, 233, 239, 241]"
      ]
     },
     "execution_count": 110,
     "metadata": {},
     "output_type": "execute_result"
    }
   ],
   "source": [
    "result = []\n",
    "for n in range(190, 251):\n",
    "    if is_prime(n):\n",
    "        result += [n]\n",
    "result"
   ]
  },
  {
   "cell_type": "code",
   "execution_count": 107,
   "metadata": {},
   "outputs": [
    {
     "data": {
      "text/plain": [
       "[191, 193, 197, 199, 211, 223, 227, 229, 233, 239, 241]"
      ]
     },
     "execution_count": 107,
     "metadata": {},
     "output_type": "execute_result"
    }
   ],
   "source": [
    "list(filter(is_prime, range(190, 251)))"
   ]
  },
  {
   "cell_type": "code",
   "execution_count": 108,
   "metadata": {},
   "outputs": [
    {
     "data": {
      "text/plain": [
       "[191, 193, 197, 199, 211, 223, 227, 229, 233, 239, 241]"
      ]
     },
     "execution_count": 108,
     "metadata": {},
     "output_type": "execute_result"
    }
   ],
   "source": [
    "[ n for n in range(190, 251) if is_prime(n) ]"
   ]
  },
  {
   "cell_type": "markdown",
   "metadata": {},
   "source": [
    "#### Ejercicio\n",
    "\n",
    "Escribe una función que tome un número y devuelva sus factores primos."
   ]
  },
  {
   "cell_type": "code",
   "execution_count": 121,
   "metadata": {},
   "outputs": [
    {
     "data": {
      "text/plain": [
       "[2, 2, 2, 3, 3, 5, 5, 5]"
      ]
     },
     "execution_count": 121,
     "metadata": {},
     "output_type": "execute_result"
    }
   ],
   "source": [
    "def prime_factors(n):\n",
    "    for possible_factor in range(2, n):\n",
    "        if n % possible_factor == 0:\n",
    "            return [possible_factor] + prime_factors(n // possible_factor)\n",
    "    \n",
    "    return [n]\n",
    "\n",
    "prime_factors(9000) "
   ]
  },
  {
   "cell_type": "code",
   "execution_count": 122,
   "metadata": {},
   "outputs": [
    {
     "data": {
      "text/plain": [
       "9000"
      ]
     },
     "execution_count": 122,
     "metadata": {},
     "output_type": "execute_result"
    }
   ],
   "source": [
    "reduce(lambda x, y: x * y, prime_factors(9000)) "
   ]
  },
  {
   "cell_type": "markdown",
   "metadata": {},
   "source": [
    "#### Ejercicio\n",
    "\n",
    "Escribid un programa que tome una lista de numeros no necesariamente ordenada, y calcule el cuadrado de la diferencia del mayor y el menor.\n",
    "\n",
    "Recordad, siempre top-down: dividimos el problema en partes y atacamos cada parte"
   ]
  },
  {
   "cell_type": "code",
   "execution_count": null,
   "metadata": {
    "collapsed": true
   },
   "outputs": [],
   "source": []
  },
  {
   "cell_type": "markdown",
   "metadata": {},
   "source": [
    "#### Ejercicio\n",
    "\n",
    "Escribe una función que tome como entradas una función f y una secuencia xs y devuelva una secuencia compuesta por el resultado de aplicar la función f a cada elemento de xs"
   ]
  },
  {
   "cell_type": "code",
   "execution_count": null,
   "metadata": {
    "collapsed": true
   },
   "outputs": [],
   "source": []
  },
  {
   "cell_type": "markdown",
   "metadata": {
    "collapsed": true
   },
   "source": [
    "Enhorabuena! Acabas de escribir `map()`"
   ]
  }
 ],
 "metadata": {
  "anaconda-cloud": {},
  "celltoolbar": "Slideshow",
  "kernelspec": {
   "display_name": "Python 3",
   "language": "python",
   "name": "python3"
  },
  "language_info": {
   "codemirror_mode": {
    "name": "ipython",
    "version": 3
   },
   "file_extension": ".py",
   "mimetype": "text/x-python",
   "name": "python",
   "nbconvert_exporter": "python",
   "pygments_lexer": "ipython3",
   "version": "3.6.6"
  },
  "livereveal": {
   "scroll": true,
   "start_slideshow_at": "selected"
  }
 },
 "nbformat": 4,
 "nbformat_minor": 2
}
