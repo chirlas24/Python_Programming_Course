{
 "cells": [
  {
   "cell_type": "markdown",
   "metadata": {
    "slideshow": {
     "slide_type": "slide"
    }
   },
   "source": [
    "# Preparar nuestro entorno de trabajo\n",
    "\n",
    "<img src=\"https://www.python.org/static/img/python-logo.png\" alt=\"yogen\" style=\"width: 200px; float: right;\"/>\n",
    "<br>\n",
    "<br>\n",
    "<br>\n",
    "<a href = \"http://yogen.io\"><img src=\"http://yogen.io/assets/logo.svg\" alt=\"yogen\" style=\"width: 200px; float: right;\"/></a>"
   ]
  },
  {
   "cell_type": "markdown",
   "metadata": {
    "slideshow": {
     "slide_type": "slide"
    }
   },
   "source": [
    "# Objetivo\n",
    "\n",
    "Instalar Anaconda en nuestras máquinas\n",
    "\n",
    "Comprender qué son Anaconda, IPython, Jupyter y los notebooks.\n",
    "\n",
    "Aprender a utilizar el notebook con efectividad.\n",
    "\n",
    "Conocer el concepto de _Literate Programming_"
   ]
  },
  {
   "cell_type": "markdown",
   "metadata": {
    "slideshow": {
     "slide_type": "slide"
    }
   },
   "source": [
    "# Anaconda\n",
    "\n",
    "Anaconda es una **distribución** de Python.\n",
    "\n",
    "Especialmente enfocada a Data science, instala por defecto muchos paquetes que nos serán muy útiles."
   ]
  },
  {
   "cell_type": "markdown",
   "metadata": {
    "slideshow": {
     "slide_type": "fragment"
    }
   },
   "source": [
    "Tiene 3 aspectos que nos facilitan la vida:\n",
    "\n",
    "- Distribución con ~150 paquetes ampliamente utilizados\n",
    "\n",
    "- El gestor de paquetes `conda`\n",
    "\n",
    "- Gestión integrada de dependencias y entornos (_environments_)"
   ]
  },
  {
   "cell_type": "markdown",
   "metadata": {
    "slideshow": {
     "slide_type": "slide"
    }
   },
   "source": [
    "# Anaconda\n",
    "\n",
    "Vamos a instalar Anaconda en nuestras máquinas.\n",
    "\n",
    "Dirigíos a https://www.anaconda.com/download/ y descargad la versión apropiada para vuestro sistema operativo.\n",
    "\n",
    "Descargad la versión de **Python 3**\n",
    "\n",
    "[![Anaconda](figs/anaconda-screenshot.png)](https://www.anaconda.com/download/)"
   ]
  },
  {
   "cell_type": "markdown",
   "metadata": {
    "slideshow": {
     "slide_type": "fragment"
    }
   },
   "source": [
    "Mientras descarga, vamos a comentar qué es y por qué nos interesa"
   ]
  },
  {
   "cell_type": "markdown",
   "metadata": {
    "slideshow": {
     "slide_type": "slide"
    }
   },
   "source": [
    "# Conda\n",
    "\n",
    "`conda` es el **gestor de paquetes y entornos** de Anaconda. Es por tanto sólo un componente de la distribución.\n",
    "\n",
    "Nos permite instalar fácilmente paquetes que tienen, por ejemplo, dependencias escritas en otros lenguajes.\n",
    "\n",
    "\n"
   ]
  },
  {
   "cell_type": "markdown",
   "metadata": {
    "slideshow": {
     "slide_type": "fragment"
    }
   },
   "source": [
    "### Por ejemplo, `numpy`\n",
    "\n",
    "`numpy` es un paquete de computación numérica que usaremos mucho en el máster.\n",
    "\n",
    "Aquí tenéis un [ejemplo](https://stackoverflow.com/questions/20567418/error-installing-numpy) de los problemas que suelen surgir al intentar instalarlo por nuestra cuenta.\n"
   ]
  },
  {
   "cell_type": "markdown",
   "metadata": {
    "slideshow": {
     "slide_type": "slide"
    }
   },
   "source": [
    "## Ventajas de `conda`\n",
    "\n",
    "Podemos utilizarlo en modo usuario.\n",
    "\n",
    "Simplifica la gestión de dependencias externas a Python\n",
    "\n",
    "Nos permite crear entornos de trabajo aislados para distintos proyectos\n",
    "\n",
    "http://technicaldiscovery.blogspot.com/2013/12/why-i-promote-conda.html"
   ]
  },
  {
   "cell_type": "markdown",
   "metadata": {
    "slideshow": {
     "slide_type": "slide"
    }
   },
   "source": [
    "## Uso de conda\n",
    "\n",
    "En este curso, casi exclusivamente vamos a usar:\n",
    "\n",
    "\n",
    "```bash\n",
    "conda install package\n",
    "```\n",
    "\n",
    "Instala la version más reciente del paquete solicitado. Esto nos valdrá el 95% de las veces.\n",
    "\n",
    "```bash\n",
    "conda search package\n",
    "```\n",
    "\n",
    "Nos permite buscar un paquete. Útil si no lo encontramos por defecto.\n",
    "\n",
    "```bash\n",
    "conda env export > environment.yml\n",
    "```\n",
    "\n",
    "Exporta al archivo environment.yml la descripción del entorno actual\n"
   ]
  },
  {
   "cell_type": "markdown",
   "metadata": {},
   "source": [
    "## Environments\n",
    "\n",
    "Los environments nos permiten mantener aisladas las dependencias de distintos proyectos que conviven en una máquina.\n",
    "\n",
    "Nos permiten también describir a los usuarios de nuestro proyecto qué necesitan para correr nuestro código\n",
    "\n",
    "En este curso sólo vamos a usar un environment, `default`"
   ]
  },
  {
   "cell_type": "markdown",
   "metadata": {
    "slideshow": {
     "slide_type": "slide"
    }
   },
   "source": [
    "# Instalar Anaconda\n",
    "\n",
    "La descarga debería haber terminado. Ahora, seguid las instrucciones en [la página de Anaconda](https://conda.io/docs/user-guide/install/index.html) para vuestro sistema operativo: [Linux](https://docs.continuum.io/anaconda/install/linux.html), [macOS](https://docs.continuum.io/anaconda/install/mac-os) o [Windows](https://docs.continuum.io/anaconda/install/windows.html)."
   ]
  },
  {
   "cell_type": "markdown",
   "metadata": {
    "slideshow": {
     "slide_type": "slide"
    }
   },
   "source": [
    "# Qué es una IDE?\n",
    "\n",
    "_**I**ntegrated **D**evelopment **E**nvironment._\n",
    "\n",
    "Una IDE normalmente cuenta con:\n",
    "\n",
    "-   Editor de código fuente\n",
    "\n",
    "-   Explorador de variables\n",
    "\n",
    "-   Línea de comandos del intérprete\n",
    "\n",
    "-   Historial de comandos\n",
    "\n",
    "-   Explorador de ficheros\n",
    "\n",
    "-   Depurador\n",
    "\n",
    "-   Otras herramientas"
   ]
  },
  {
   "cell_type": "markdown",
   "metadata": {
    "slideshow": {
     "slide_type": "slide"
    }
   },
   "source": [
    "## Spyder\n",
    "\n",
    "Una IDE pensada especialmente para el desarrollo de Data Science.\n",
    "\n",
    "En este curso no la vamos a utilizar, pero vosotros deberíais probarla y decidir si la preferís."
   ]
  },
  {
   "cell_type": "markdown",
   "metadata": {
    "slideshow": {
     "slide_type": "slide"
    }
   },
   "source": [
    "# Ipython\n",
    "\n",
    "_Interactive_ Python\n",
    "\n",
    "Es un _intérprete_ alternativo al estándar\n",
    "\n",
    "Creado por Fernándo Pérez, entonces doctorando en Física\n",
    "\n",
    "Diseñado para facilitar un estilo de exploración"
   ]
  },
  {
   "cell_type": "markdown",
   "metadata": {
    "slideshow": {
     "slide_type": "slide"
    }
   },
   "source": [
    "# _Literate Programming_\n",
    "\n",
    "> Literate programming is a programming paradigm introduced by Donald Knuth in which a program is given as an explanation of the program logic in a natural language, such as English, interspersed with snippets of macros and traditional source code, from which a compilable source code can be generated.\n",
    "\n",
    ">   De https://en.wikipedia.org/wiki/Literate_programming"
   ]
  },
  {
   "cell_type": "markdown",
   "metadata": {},
   "source": [
    "> Literate programming: Instead of imagining that our main task is to instruct a computer what to do, let us concentrate rather on explaining to human beings what we want a computer to do.\n",
    "\n",
    ">   Donald Knuth (1984)"
   ]
  },
  {
   "cell_type": "markdown",
   "metadata": {
    "slideshow": {
     "slide_type": "slide"
    }
   },
   "source": [
    "## _Literate Programming_ en Data Science\n",
    "\n",
    "El objectivo del programador en Data Science es tanto generar modelos como generar explicaciones.\n",
    "\n",
    "Los modelos pueden ser programas para ser ejecutados en un ordenador, pero las explicaciones tienen como público otros humanos.\n",
    "\n",
    "Incluso en el caso de que sólo estemos generando modelos para consumo vía API, por ejemplo, tener juntos código y resultados nos permite comunicar con efectividad y precisión los detalles de nuestro análisis.\n",
    "\n",
    "Por ello el paradigma del literate programming se adapta especialmente bien a la Data Science.\n",
    "\n",
    "Todavía más si estamos en un entorno didáctico!"
   ]
  },
  {
   "cell_type": "markdown",
   "metadata": {
    "slideshow": {
     "slide_type": "slide"
    }
   },
   "source": [
    "# El notebook\n",
    "\n",
    "La herramienta que nos va a permitir desarrollar de acuerdo con este paradigma es el _notebook_\n",
    "\n",
    "https://github.com/jupyter/jupyter/wiki/A-gallery-of-interesting-Jupyter-Notebooks\n",
    "\n",
    "El notebook es un formato de archivo y toda una arquitectura asociada que nos permite mostrar, en un mismo documento:\n",
    "\n",
    "- Texto formateado con [Markdown](https://en.wikipedia.org/wiki/Markdown)\n",
    "\n",
    "\n",
    "- Fórmulas matemáticas formateadas con [$\\LaTeX$](https://www.latex-project.org/)\n",
    "\n",
    "- Código, originalmente sólo en Python pero actualmente en muchos lenguajes\n",
    "\n",
    "- Los resultados de evaluar ese código\n",
    "\n",
    "- Figuras"
   ]
  },
  {
   "cell_type": "markdown",
   "metadata": {
    "slideshow": {
     "slide_type": "slide"
    }
   },
   "source": [
    "# El notebook"
   ]
  },
  {
   "cell_type": "markdown",
   "metadata": {
    "slideshow": {
     "slide_type": "fragment"
    }
   },
   "source": [
    "![Jupyter Architecure](figs/notebook_components.png)"
   ]
  },
  {
   "cell_type": "code",
   "execution_count": 2,
   "metadata": {},
   "outputs": [
    {
     "data": {
      "text/plain": [
       "4"
      ]
     },
     "execution_count": 2,
     "metadata": {},
     "output_type": "execute_result"
    }
   ],
   "source": [
    "x = 2\n",
    "2 * x"
   ]
  },
  {
   "cell_type": "markdown",
   "metadata": {
    "slideshow": {
     "slide_type": "slide"
    }
   },
   "source": [
    "## Cómo ejecutamos un notebook\n",
    "\n",
    "Tecleamos en nuestra terminal (Linux o macOS) o en el Anaconda Prompt (Windows):\n",
    "\n",
    "```bash\n",
    "jupyter notebook\n",
    "```\n",
    "\n",
    "Esto lanza el servidor de notebooks. Para comunicarnos con él sólo necesitamos introducir la url que nos indica en un navegador web. \n",
    "\n",
    "Veremos un listado de archivos y directorios contenidos **en el directorio desde donde lanzamos el servidor**\n",
    "\n",
    "A partir de ahí, podemos crear nuevos notebooks o abrir alguno ya existente que nos hayamos descargado"
   ]
  },
  {
   "cell_type": "markdown",
   "metadata": {
    "slideshow": {
     "slide_type": "slide"
    }
   },
   "source": [
    "# El notebook\n",
    "\n",
    "El notebook se ordena en celdas.\n",
    "\n",
    "Cada celda es una unidad de ejecución independiente. Las hay de dos tipos principales: de Markdown y de código.\n",
    "\n",
    "Lo más importante que hay que recordar es el notebook es **modal**. Tiene dos modos:\n",
    "\n",
    "- En _Edit mode_, modificamos el contenido de las celdas: cortamos y pegamos texto o código, ejecutamos celdas...\n",
    "\n",
    "- En _Command mode_, cambiamos el tipo de celda, cortamos y pegamos celdas, añadimos celdas...\n",
    "\n",
    "Al usarlo es importante recordar en qué modo estamos y que en _command mode_ al pulsar la tecla `h` obtenemos una lista de atajos de teclado"
   ]
  },
  {
   "cell_type": "code",
   "execution_count": 37,
   "metadata": {
    "slideshow": {
     "slide_type": "fragment"
    }
   },
   "outputs": [
    {
     "data": {
      "text/plain": [
       "78"
      ]
     },
     "execution_count": 37,
     "metadata": {},
     "output_type": "execute_result"
    }
   ],
   "source": [
    "78"
   ]
  },
  {
   "cell_type": "code",
   "execution_count": 43,
   "metadata": {},
   "outputs": [],
   "source": [
    "x = 8"
   ]
  },
  {
   "cell_type": "code",
   "execution_count": 42,
   "metadata": {},
   "outputs": [
    {
     "data": {
      "text/plain": [
       "3"
      ]
     },
     "execution_count": 42,
     "metadata": {},
     "output_type": "execute_result"
    }
   ],
   "source": [
    "x"
   ]
  },
  {
   "cell_type": "markdown",
   "metadata": {
    "slideshow": {
     "slide_type": "slide"
    }
   },
   "source": [
    "# El notebook\n",
    "\n",
    "Es importante también, cuando estamos elaborando o interpretando un notebook, fijarse en el _orden de ejecución_ de las celdas. \n",
    "\n",
    "Aparece a la izquierda de las celdas de código como `In [n]` y `Out [n]`. Este último sólo aparecerá si la evaluación de la última celda devuelve un valor distinto de `None`."
   ]
  },
  {
   "cell_type": "markdown",
   "metadata": {
    "slideshow": {
     "slide_type": "slide"
    }
   },
   "source": [
    "## Markdown\n",
    "\n",
    "Es un lenguaje de markup, como HTML\n",
    "\n",
    "Fácil de leer para humanos en su forma cruda"
   ]
  },
  {
   "cell_type": "markdown",
   "metadata": {
    "slideshow": {
     "slide_type": "slide"
    }
   },
   "source": [
    "## Plotear con matplotlib\n",
    "\n",
    "El notebook nos permite incorporar fácilmente gráficos en línea, junto al código que los genera. \n",
    "\n",
    "Matplotlib es la librería más común de gráficos en Python, pero no es ni mucho menos la única."
   ]
  },
  {
   "cell_type": "code",
   "execution_count": null,
   "metadata": {
    "scrolled": true,
    "slideshow": {
     "slide_type": "fragment"
    }
   },
   "outputs": [],
   "source": []
  },
  {
   "cell_type": "markdown",
   "metadata": {
    "slideshow": {
     "slide_type": "slide"
    }
   },
   "source": [
    "## LaTeX en el notebook\n",
    "\n",
    "$\\LaTeX$ es un lenguaje de markup especialmente diseñado para el maquetado de ecuaciones matemáticas, muy usado en la academia\n",
    "\n",
    "No lo vamos a aprender en este curso en detalle\n",
    "\n",
    "Nos permite escribir ecuaciones como ésta:\n",
    "\n",
    "$$\\mu = \\frac{\\sum\\limits_{i=1}^{n}{x_i}}{n}$$"
   ]
  },
  {
   "cell_type": "markdown",
   "metadata": {
    "slideshow": {
     "slide_type": "slide"
    }
   },
   "source": [
    "## Para saber más\n",
    "\n",
    "https://docs.continuum.io/anaconda/\n",
    "\n",
    "https://stackoverflow.com/questions/42096280/how-is-anaconda-related-to-python\n",
    "\n",
    "https://conda.io/docs/user-guide/tasks/manage-environments.html\n",
    "\n",
    "http://www.literateprogramming.com/knuthweb.pdf (PDF)\n",
    "\n",
    "https://en.wikipedia.org/wiki/Literate_programming\n",
    "\n",
    "http://www.literateprogramming.com/\n",
    "\n",
    "https://github.com/jupyter/jupyter/wiki/A-gallery-of-interesting-Jupyter-Notebooks\n",
    "\n",
    "https://www.youtube.com/watch?v=g8xQRI3E8r8\n",
    "\n",
    "https://www.nature.com/articles/d41586-018-07196-1\n"
   ]
  }
 ],
 "metadata": {
  "anaconda-cloud": {},
  "celltoolbar": "Slideshow",
  "kernelspec": {
   "display_name": "Python 3",
   "language": "python",
   "name": "python3"
  },
  "language_info": {
   "codemirror_mode": {
    "name": "ipython",
    "version": 3
   },
   "file_extension": ".py",
   "mimetype": "text/x-python",
   "name": "python",
   "nbconvert_exporter": "python",
   "pygments_lexer": "ipython3",
   "version": "3.6.5"
  },
  "livereveal": {
   "scroll": true,
   "start_slideshow_at": "selected"
  }
 },
 "nbformat": 4,
 "nbformat_minor": 2
}
