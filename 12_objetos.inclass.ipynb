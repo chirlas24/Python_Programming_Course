{
 "cells": [
  {
   "cell_type": "markdown",
   "metadata": {
    "slideshow": {
     "slide_type": "slide"
    }
   },
   "source": [
    "# Programación orientada a objectos\n",
    "\n",
    "<img src=\"https://www.python.org/static/img/python-logo.png\" alt=\"yogen\" style=\"width: 200px; float: right;\"/>\n",
    "<br>\n",
    "<br>\n",
    "<br>\n",
    "<a href = \"http://yogen.io\"><img src=\"http://yogen.io/assets/logo.svg\" alt=\"yogen\" style=\"width: 200px; float: right;\"/></a>"
   ]
  },
  {
   "cell_type": "markdown",
   "metadata": {
    "slideshow": {
     "slide_type": "slide"
    }
   },
   "source": [
    "# Objetivos\n",
    "\n",
    "- Entender de dónde salen los métodos que hemos venido usando, por ejemplo en `str`.\n",
    "\n",
    "- Ser capaces de definir objetos de software para simplificar nuestros diseños.\n",
    "\n",
    "- Ser capaces de definir y modificar métodos especiales en nuestros objetos."
   ]
  },
  {
   "cell_type": "markdown",
   "metadata": {},
   "source": [
    "# Que es la programacion orientada a objectos?\n",
    "\n",
    "Es el paradigma de programacion dominante. \n",
    "\n",
    "Utiliza el *objeto de software* como elemento basico de construccion de los programas.\n",
    "\n",
    "Vamos a empezar con un ejemplo: escribimos una clase `Mascota`"
   ]
  },
  {
   "cell_type": "markdown",
   "metadata": {},
   "source": [
    "# *Clase* e *instancias*\n",
    "\n",
    "Una clase es la *receta* en la que definimos como construir *instancias*."
   ]
  },
  {
   "cell_type": "markdown",
   "metadata": {},
   "source": [
    "Sintaxis:\n",
    "```python\n",
    "class Name(object):\n",
    "    # Cuerpo de la clase\n",
    "    # ....\n",
    "```    "
   ]
  },
  {
   "cell_type": "code",
   "execution_count": 2,
   "metadata": {},
   "outputs": [],
   "source": [
    "class Pet(object):\n",
    "    ''\n",
    "    \n",
    "my_new_cat = Pet() "
   ]
  },
  {
   "cell_type": "markdown",
   "metadata": {},
   "source": [
    "Como deciamos antes, podemos pensar en la clase `Pet` como la receta para hacer mascotas. \n",
    "\n",
    "Podemos pensar en ella tambien como un *tipo* creado por nosotros."
   ]
  },
  {
   "cell_type": "code",
   "execution_count": 3,
   "metadata": {},
   "outputs": [
    {
     "data": {
      "text/plain": [
       "__main__.Pet"
      ]
     },
     "execution_count": 3,
     "metadata": {},
     "output_type": "execute_result"
    }
   ],
   "source": [
    "type(my_new_cat)"
   ]
  },
  {
   "cell_type": "markdown",
   "metadata": {},
   "source": [
    "En la linea superior, `__main__` representa el modulo en que esta definida la clase. No os preocupeis mucho por ello. Vamos a ver el ejemplo de un modulo escrito por otros:"
   ]
  },
  {
   "cell_type": "code",
   "execution_count": 7,
   "metadata": {},
   "outputs": [
    {
     "data": {
      "text/plain": [
       "datetime.datetime"
      ]
     },
     "execution_count": 7,
     "metadata": {},
     "output_type": "execute_result"
    }
   ],
   "source": [
    "from datetime import datetime\n",
    "\n",
    "dia_de_muertos = datetime(2018, 11, 1)\n",
    "type(dia_de_muertos)"
   ]
  },
  {
   "cell_type": "markdown",
   "metadata": {},
   "source": [
    "# Métodos y atributos\n",
    "\n",
    "Los atributos son *variables* ligadas a una instancia. Los métodos son *funciones* ligadas a una instancia. Cuando escribimos una clase, definimos nuestros propios metodos y atributos.\n",
    "\n",
    "Podemos tomar una instancia de cualquier clase y ver sus metodos con `dir()`, por ejemplo con una string. Los metodos que empiezan con `__` son los llamados [metodos magicos](http://www.rafekettler.com/magicmethods.html). No os preocupeis por ellos, hoy solo vamos a usar `__init__` y `__repr__`"
   ]
  },
  {
   "cell_type": "code",
   "execution_count": 8,
   "metadata": {},
   "outputs": [
    {
     "data": {
      "text/plain": [
       "['__add__',\n",
       " '__class__',\n",
       " '__contains__',\n",
       " '__delattr__',\n",
       " '__dir__',\n",
       " '__doc__',\n",
       " '__eq__',\n",
       " '__format__',\n",
       " '__ge__',\n",
       " '__getattribute__',\n",
       " '__getitem__',\n",
       " '__getnewargs__',\n",
       " '__gt__',\n",
       " '__hash__',\n",
       " '__init__',\n",
       " '__init_subclass__',\n",
       " '__iter__',\n",
       " '__le__',\n",
       " '__len__',\n",
       " '__lt__',\n",
       " '__mod__',\n",
       " '__mul__',\n",
       " '__ne__',\n",
       " '__new__',\n",
       " '__reduce__',\n",
       " '__reduce_ex__',\n",
       " '__repr__',\n",
       " '__rmod__',\n",
       " '__rmul__',\n",
       " '__setattr__',\n",
       " '__sizeof__',\n",
       " '__str__',\n",
       " '__subclasshook__',\n",
       " 'capitalize',\n",
       " 'casefold',\n",
       " 'center',\n",
       " 'count',\n",
       " 'encode',\n",
       " 'endswith',\n",
       " 'expandtabs',\n",
       " 'find',\n",
       " 'format',\n",
       " 'format_map',\n",
       " 'index',\n",
       " 'isalnum',\n",
       " 'isalpha',\n",
       " 'isdecimal',\n",
       " 'isdigit',\n",
       " 'isidentifier',\n",
       " 'islower',\n",
       " 'isnumeric',\n",
       " 'isprintable',\n",
       " 'isspace',\n",
       " 'istitle',\n",
       " 'isupper',\n",
       " 'join',\n",
       " 'ljust',\n",
       " 'lower',\n",
       " 'lstrip',\n",
       " 'maketrans',\n",
       " 'partition',\n",
       " 'replace',\n",
       " 'rfind',\n",
       " 'rindex',\n",
       " 'rjust',\n",
       " 'rpartition',\n",
       " 'rsplit',\n",
       " 'rstrip',\n",
       " 'split',\n",
       " 'splitlines',\n",
       " 'startswith',\n",
       " 'strip',\n",
       " 'swapcase',\n",
       " 'title',\n",
       " 'translate',\n",
       " 'upper',\n",
       " 'zfill']"
      ]
     },
     "execution_count": 8,
     "metadata": {},
     "output_type": "execute_result"
    }
   ],
   "source": [
    "dir('a string like any other')"
   ]
  },
  {
   "cell_type": "markdown",
   "metadata": {},
   "source": [
    "## El parametro `self`\n",
    "\n",
    "Es obligatorio en todos los metodos de instancia y se refiere a la propia instancia.\n",
    "\n",
    "Es lo que hace que podamos escribir \n",
    "\n",
    "```python\n",
    "\"a string\".upper()\n",
    "```\n",
    "Además de \n",
    "\n",
    "```python\n",
    "str.upper(\"a string\")\n",
    "```"
   ]
  },
  {
   "cell_type": "code",
   "execution_count": 13,
   "metadata": {},
   "outputs": [
    {
     "data": {
      "text/plain": [
       "'A STRING'"
      ]
     },
     "execution_count": 13,
     "metadata": {},
     "output_type": "execute_result"
    }
   ],
   "source": [
    "'a string'.upper() "
   ]
  },
  {
   "cell_type": "code",
   "execution_count": 10,
   "metadata": {},
   "outputs": [
    {
     "data": {
      "text/plain": [
       "<method 'upper' of 'str' objects>"
      ]
     },
     "execution_count": 10,
     "metadata": {},
     "output_type": "execute_result"
    }
   ],
   "source": [
    "str.upper"
   ]
  },
  {
   "cell_type": "code",
   "execution_count": 12,
   "metadata": {},
   "outputs": [
    {
     "data": {
      "text/plain": [
       "True"
      ]
     },
     "execution_count": 12,
     "metadata": {},
     "output_type": "execute_result"
    }
   ],
   "source": [
    "type(\"a string\") == str"
   ]
  },
  {
   "cell_type": "code",
   "execution_count": 14,
   "metadata": {},
   "outputs": [
    {
     "data": {
      "text/plain": [
       "'A STRING'"
      ]
     },
     "execution_count": 14,
     "metadata": {},
     "output_type": "execute_result"
    }
   ],
   "source": [
    "str.upper('a string')"
   ]
  },
  {
   "cell_type": "code",
   "execution_count": 2,
   "metadata": {},
   "outputs": [
    {
     "name": "stdout",
     "output_type": "stream",
     "text": [
      "Woof woof\n",
      "Woof woof\n"
     ]
    }
   ],
   "source": [
    "class Pet(object):\n",
    "    def bark(self):\n",
    "        print('Woof woof')\n",
    "    \n",
    "my_new_dog = Pet() \n",
    "my_new_dog.bark()\n",
    "my_new_dog.bark()"
   ]
  },
  {
   "cell_type": "code",
   "execution_count": 3,
   "metadata": {},
   "outputs": [
    {
     "name": "stdout",
     "output_type": "stream",
     "text": [
      "Woof woof\n"
     ]
    }
   ],
   "source": [
    "a_bigger_dog = Pet()\n",
    "a_bigger_dog.bark()"
   ]
  },
  {
   "cell_type": "markdown",
   "metadata": {},
   "source": [
    "## El metodo `__init__`\n",
    "\n",
    "Es al que python llama cuando creamos una instancia: el *constructor*. Es donde tenemos que poner la logica que cree los atributos, que crearemos como cualquier variable:"
   ]
  },
  {
   "cell_type": "code",
   "execution_count": 20,
   "metadata": {},
   "outputs": [
    {
     "name": "stdout",
     "output_type": "stream",
     "text": [
      "A little doggie has been born!\n",
      "Woof woof\n",
      "Woof woof\n"
     ]
    }
   ],
   "source": [
    "class Pet(object):\n",
    "    def __init__(self):\n",
    "        print('A little doggie has been born!')\n",
    "    \n",
    "    def bark(self):\n",
    "        print('Woof woof')\n",
    "    \n",
    "my_new_dog = Pet() \n",
    "my_new_dog.bark()\n",
    "my_new_dog.bark()"
   ]
  },
  {
   "cell_type": "code",
   "execution_count": 21,
   "metadata": {},
   "outputs": [
    {
     "name": "stdout",
     "output_type": "stream",
     "text": [
      "A little doggie has been born!\n"
     ]
    }
   ],
   "source": [
    "lassie = Pet() "
   ]
  },
  {
   "cell_type": "code",
   "execution_count": 22,
   "metadata": {},
   "outputs": [],
   "source": [
    "lassie.name = 'Lassie'"
   ]
  },
  {
   "cell_type": "markdown",
   "metadata": {},
   "source": [
    "Que pasa si queremos abstraer sobre todo los posibles nombres de mascota? Es decir, qué pasa si quiero hacer mascotas con nombres individuales?"
   ]
  },
  {
   "cell_type": "markdown",
   "metadata": {},
   "source": [
    "...que tenemos que usar argumentos que le pasamos a `__init__`"
   ]
  },
  {
   "cell_type": "code",
   "execution_count": 13,
   "metadata": {},
   "outputs": [
    {
     "name": "stdout",
     "output_type": "stream",
     "text": [
      "A little doggie has been born!\n",
      "Hi Toby! welcome!\n",
      "Woof woof! Im Toby!\n"
     ]
    }
   ],
   "source": [
    "class Pet(object):\n",
    "    def __init__(self, name):\n",
    "        print('A little doggie has been born!')\n",
    "        self.name = name\n",
    "    \n",
    "    def bark(self):\n",
    "        print('Woof woof! Im %s!' % self.name)\n",
    "    \n",
    "my_new_dog = Pet('Toby') \n",
    "print('Hi Toby! welcome!')\n",
    "my_new_dog.bark()"
   ]
  },
  {
   "cell_type": "code",
   "execution_count": 32,
   "metadata": {},
   "outputs": [
    {
     "name": "stdout",
     "output_type": "stream",
     "text": [
      "A little doggie has been born!\n",
      "Woof woof! Im Pipo!\n"
     ]
    }
   ],
   "source": [
    "pipo = Pet('Pipo')\n",
    "pipo.bark()"
   ]
  },
  {
   "cell_type": "markdown",
   "metadata": {},
   "source": [
    "#### Ejercicio\n",
    "\n",
    "Escribe una clase que represente una cuenta corriente. Para empezar vamos a hacerla simple: solo tendra los atributos `holder` y `balance`."
   ]
  },
  {
   "cell_type": "code",
   "execution_count": 35,
   "metadata": {},
   "outputs": [
    {
     "ename": "AttributeError",
     "evalue": "'Account' object has no attribute 'holder'",
     "output_type": "error",
     "traceback": [
      "\u001b[0;31m---------------------------------------------------------------------------\u001b[0m",
      "\u001b[0;31mAttributeError\u001b[0m                            Traceback (most recent call last)",
      "\u001b[0;32m<ipython-input-35-a924c4dc98d3>\u001b[0m in \u001b[0;36m<module>\u001b[0;34m()\u001b[0m\n\u001b[1;32m      4\u001b[0m \u001b[0;34m\u001b[0m\u001b[0m\n\u001b[1;32m      5\u001b[0m \u001b[0mdanis_account\u001b[0m \u001b[0;34m=\u001b[0m \u001b[0mAccount\u001b[0m\u001b[0;34m(\u001b[0m\u001b[0;34m'Dani'\u001b[0m\u001b[0;34m,\u001b[0m \u001b[0;36m0\u001b[0m\u001b[0;34m)\u001b[0m\u001b[0;34m\u001b[0m\u001b[0m\n\u001b[0;32m----> 6\u001b[0;31m \u001b[0mdanis_account\u001b[0m\u001b[0;34m.\u001b[0m\u001b[0mholder\u001b[0m\u001b[0;34m\u001b[0m\u001b[0m\n\u001b[0m",
      "\u001b[0;31mAttributeError\u001b[0m: 'Account' object has no attribute 'holder'"
     ]
    }
   ],
   "source": [
    "class Account(object):\n",
    "    def __init__(self, holder, balance):\n",
    "        ''\n",
    "    \n",
    "danis_account = Account('Dani', 0)\n",
    "danis_account.holder"
   ]
  },
  {
   "cell_type": "code",
   "execution_count": 36,
   "metadata": {},
   "outputs": [
    {
     "data": {
      "text/plain": [
       "'Dani'"
      ]
     },
     "execution_count": 36,
     "metadata": {},
     "output_type": "execute_result"
    }
   ],
   "source": [
    "class Account(object):\n",
    "    def __init__(self, holder, balance):\n",
    "        self.holder = holder\n",
    "        self.balance = balance\n",
    "    \n",
    "danis_account = Account('Dani', 0)\n",
    "danis_account.holder"
   ]
  },
  {
   "cell_type": "code",
   "execution_count": 37,
   "metadata": {},
   "outputs": [
    {
     "data": {
      "text/plain": [
       "0"
      ]
     },
     "execution_count": 37,
     "metadata": {},
     "output_type": "execute_result"
    }
   ],
   "source": [
    "danis_account.balance"
   ]
  },
  {
   "cell_type": "markdown",
   "metadata": {},
   "source": [
    "\n",
    "En ningún momento nos hemos preocupado de garantizar que `holder` o `balance` tengan valores válidos:"
   ]
  },
  {
   "cell_type": "code",
   "execution_count": 40,
   "metadata": {},
   "outputs": [
    {
     "data": {
      "text/plain": [
       "'Mateos'"
      ]
     },
     "execution_count": 40,
     "metadata": {},
     "output_type": "execute_result"
    }
   ],
   "source": [
    "wrong_account = Account('Dani', 'Mateos')\n",
    "wrong_account.balance"
   ]
  },
  {
   "cell_type": "markdown",
   "metadata": {},
   "source": [
    "Un atributo es una variable como otra cualquiera.\n",
    "\n",
    "Python no va a imponerle un tipo. Si queremos forzar que tenga un tipo concreto, tendremos que utilizar excepciones:"
   ]
  },
  {
   "cell_type": "code",
   "execution_count": 42,
   "metadata": {},
   "outputs": [
    {
     "ename": "TypeError",
     "evalue": "Balance must be an int",
     "output_type": "error",
     "traceback": [
      "\u001b[0;31m---------------------------------------------------------------------------\u001b[0m",
      "\u001b[0;31mTypeError\u001b[0m                                 Traceback (most recent call last)",
      "\u001b[0;32m<ipython-input-42-08ec00d1a41a>\u001b[0m in \u001b[0;36m<module>\u001b[0;34m()\u001b[0m\n\u001b[1;32m      7\u001b[0m \u001b[0;34m\u001b[0m\u001b[0m\n\u001b[1;32m      8\u001b[0m \u001b[0;34m\u001b[0m\u001b[0m\n\u001b[0;32m----> 9\u001b[0;31m \u001b[0mdanis_account\u001b[0m \u001b[0;34m=\u001b[0m \u001b[0mAccount\u001b[0m\u001b[0;34m(\u001b[0m\u001b[0;34m'Dani'\u001b[0m\u001b[0;34m,\u001b[0m \u001b[0;34m'Mateos'\u001b[0m\u001b[0;34m)\u001b[0m\u001b[0;34m\u001b[0m\u001b[0m\n\u001b[0m\u001b[1;32m     10\u001b[0m \u001b[0mdanis_account\u001b[0m\u001b[0;34m.\u001b[0m\u001b[0mholder\u001b[0m\u001b[0;34m\u001b[0m\u001b[0m\n",
      "\u001b[0;32m<ipython-input-42-08ec00d1a41a>\u001b[0m in \u001b[0;36m__init__\u001b[0;34m(self, holder, balance)\u001b[0m\n\u001b[1;32m      2\u001b[0m     \u001b[0;32mdef\u001b[0m \u001b[0m__init__\u001b[0m\u001b[0;34m(\u001b[0m\u001b[0mself\u001b[0m\u001b[0;34m,\u001b[0m \u001b[0mholder\u001b[0m\u001b[0;34m,\u001b[0m \u001b[0mbalance\u001b[0m\u001b[0;34m)\u001b[0m\u001b[0;34m:\u001b[0m\u001b[0;34m\u001b[0m\u001b[0m\n\u001b[1;32m      3\u001b[0m         \u001b[0;32mif\u001b[0m \u001b[0mtype\u001b[0m\u001b[0;34m(\u001b[0m\u001b[0mbalance\u001b[0m\u001b[0;34m)\u001b[0m \u001b[0;34m!=\u001b[0m \u001b[0mint\u001b[0m\u001b[0;34m:\u001b[0m\u001b[0;34m\u001b[0m\u001b[0m\n\u001b[0;32m----> 4\u001b[0;31m             \u001b[0;32mraise\u001b[0m \u001b[0mTypeError\u001b[0m\u001b[0;34m(\u001b[0m\u001b[0;34m'Balance must be an int'\u001b[0m\u001b[0;34m)\u001b[0m\u001b[0;34m\u001b[0m\u001b[0m\n\u001b[0m\u001b[1;32m      5\u001b[0m         \u001b[0mself\u001b[0m\u001b[0;34m.\u001b[0m\u001b[0mholder\u001b[0m \u001b[0;34m=\u001b[0m \u001b[0mholder\u001b[0m\u001b[0;34m\u001b[0m\u001b[0m\n\u001b[1;32m      6\u001b[0m         \u001b[0mself\u001b[0m\u001b[0;34m.\u001b[0m\u001b[0mbalance\u001b[0m \u001b[0;34m=\u001b[0m \u001b[0mbalance\u001b[0m\u001b[0;34m\u001b[0m\u001b[0m\n",
      "\u001b[0;31mTypeError\u001b[0m: Balance must be an int"
     ]
    }
   ],
   "source": [
    "class Account(object):\n",
    "    def __init__(self, holder, balance):\n",
    "        if type(balance) != int:\n",
    "            raise TypeError('Balance must be an int')\n",
    "        self.holder = holder\n",
    "        self.balance = balance\n",
    "    \n",
    "    \n",
    "danis_account = Account('Dani', 'Mateos')\n",
    "danis_account.holder"
   ]
  },
  {
   "cell_type": "markdown",
   "metadata": {},
   "source": [
    "## Métodos\n",
    "\n",
    "Como hemos dicho, son funciones ligadas a la instancia: nos permiten personalizar el comportamiento de cada instancia de la clase:"
   ]
  },
  {
   "cell_type": "code",
   "execution_count": 45,
   "metadata": {},
   "outputs": [
    {
     "name": "stdout",
     "output_type": "stream",
     "text": [
      "A little animal has been born!\n",
      "A little animal has been born!\n",
      "Woof woof! Im Toby the dog!\n",
      "Woof woof! Im Tweety the canary!\n"
     ]
    }
   ],
   "source": [
    "class Pet(object):\n",
    "    def __init__(self, name, species):\n",
    "        print('A little animal has been born!')\n",
    "        self.name = name\n",
    "        self.species = species\n",
    "    \n",
    "    def greet(self):\n",
    "        print('Woof woof! Im %s the %s!' % (self.name, self.species))\n",
    "    \n",
    "    \n",
    "my_new_dog = Pet('Toby', 'dog') \n",
    "birdie = Pet('Tweety', 'canary')\n",
    "my_new_dog.greet()\n",
    "birdie.greet()"
   ]
  },
  {
   "cell_type": "markdown",
   "metadata": {},
   "source": [
    "### `__repr__`\n",
    "\n",
    "Es el otro método mágico que usaremos hoy. Nos permite especificar como queremos que se represente una instancia de nuestra clase cuando tenga que presentarse como string:"
   ]
  },
  {
   "cell_type": "code",
   "execution_count": 47,
   "metadata": {},
   "outputs": [
    {
     "name": "stdout",
     "output_type": "stream",
     "text": [
      "A little animal has been born!\n",
      "<__main__.Pet object at 0x7f09b05b27f0>\n"
     ]
    }
   ],
   "source": [
    "class Pet(object):\n",
    "    def __init__(self, name, species):\n",
    "        print('A little animal has been born!')\n",
    "        self.name = name\n",
    "        self.species = species\n",
    "    \n",
    "    def greet(self):\n",
    "        print('Woof woof! Im %s the %s!' % (self.name, self.species))\n",
    "        \n",
    "my_new_dog = Pet('Toby', 'dog') \n",
    "print(my_new_dog)"
   ]
  },
  {
   "cell_type": "code",
   "execution_count": 48,
   "metadata": {},
   "outputs": [
    {
     "name": "stdout",
     "output_type": "stream",
     "text": [
      "A little animal has been born!\n",
      "Toby the dog\n"
     ]
    }
   ],
   "source": [
    "class Pet(object):\n",
    "    def __init__(self, name, species):\n",
    "        print('A little animal has been born!')\n",
    "        self.name = name\n",
    "        self.species = species\n",
    "    \n",
    "    def __repr__(self):\n",
    "        return '%s the %s' % (self.name, self.species)\n",
    "        \n",
    "    def greet(self):\n",
    "        print('Woof woof! Im %s the %s!' % (self.name, self.species))\n",
    "        \n",
    "my_new_dog = Pet('Toby', 'dog') \n",
    "print(my_new_dog)"
   ]
  },
  {
   "cell_type": "code",
   "execution_count": 50,
   "metadata": {},
   "outputs": [
    {
     "data": {
      "text/plain": [
       "'Toby the dog'"
      ]
     },
     "execution_count": 50,
     "metadata": {},
     "output_type": "execute_result"
    }
   ],
   "source": [
    "label = str(my_new_dog)\n",
    "label"
   ]
  },
  {
   "cell_type": "code",
   "execution_count": 51,
   "metadata": {},
   "outputs": [
    {
     "name": "stdout",
     "output_type": "stream",
     "text": [
      "Woof woof! Im Toby the dog!\n"
     ]
    }
   ],
   "source": [
    "label = my_new_dog.greet()"
   ]
  },
  {
   "cell_type": "markdown",
   "metadata": {},
   "source": [
    "Account no tiene un `__repr__` todavia:"
   ]
  },
  {
   "cell_type": "code",
   "execution_count": 52,
   "metadata": {
    "scrolled": true
   },
   "outputs": [
    {
     "data": {
      "text/plain": [
       "<__main__.Account at 0x7f09b059a7b8>"
      ]
     },
     "execution_count": 52,
     "metadata": {},
     "output_type": "execute_result"
    }
   ],
   "source": [
    "danis_account"
   ]
  },
  {
   "cell_type": "markdown",
   "metadata": {},
   "source": [
    "#### Ejercicio\n",
    "\n",
    "Continuamos con la clase `Account`: vamos a añadirle un `__repr__` que sea comodo para inspeccionar el estado de las cuentas. "
   ]
  },
  {
   "cell_type": "code",
   "execution_count": 56,
   "metadata": {},
   "outputs": [
    {
     "data": {
      "text/plain": [
       "Dani's account with balance 100€"
      ]
     },
     "execution_count": 56,
     "metadata": {},
     "output_type": "execute_result"
    }
   ],
   "source": [
    "class Account(object):\n",
    "    def __init__(self, holder, balance):\n",
    "        if type(balance) != int:\n",
    "            raise TypeError('Balance must be an int')\n",
    "        self.holder = holder\n",
    "        self.balance = balance\n",
    "    \n",
    "    def __repr__(self):\n",
    "        return '%s\\'s account with balance %d€' % (self.holder, self.balance)\n",
    "    \n",
    "danis_account = Account('Dani', 100)\n",
    "danis_account"
   ]
  },
  {
   "cell_type": "markdown",
   "metadata": {},
   "source": [
    "#### Ejercicio\n",
    "\n",
    "Continuamos con la clase `Account`: vamos a extenderla con los metodos `deposit()` y `withdraw()`. La retirada tendra que negarse a entregar dinero si el balance quedaria negativo tras la retirada. Deberá, también, devolver ese dinero. Qué técnica de las que hemos estudiado esta semana puede ser apropiada aqui?"
   ]
  },
  {
   "cell_type": "code",
   "execution_count": 14,
   "metadata": {},
   "outputs": [
    {
     "name": "stdout",
     "output_type": "stream",
     "text": [
      "Dani's account with balance 100€\n",
      "Dani's account with balance 50€\n"
     ]
    }
   ],
   "source": [
    "class Account(object):\n",
    "    def __init__(self, holder, balance):\n",
    "        if type(balance) != int:\n",
    "            raise TypeError('Balance must be an int')\n",
    "        self.holder = holder\n",
    "        self.balance = balance\n",
    "    \n",
    "    def __repr__(self):\n",
    "        return '%s\\'s account with balance %d€' % (self.holder, self.balance)\n",
    "    \n",
    "    def deposit(self, amount):\n",
    "        self.balance += amount\n",
    "        \n",
    "    def withdraw(self, amount):\n",
    "        if amount > self.balance:\n",
    "            raise ValueError('Donde vas piltrafilla si solo tienes %d€??' % self.balance) \n",
    "        self.balance -= amount\n",
    "        \n",
    "        return amount\n",
    "        \n",
    "    \n",
    "danis_account = Account('Dani', 100)\n",
    "print(danis_account)\n",
    "danis_account.withdraw(50)\n",
    "print(danis_account)"
   ]
  },
  {
   "cell_type": "markdown",
   "metadata": {},
   "source": [
    "En general, cuando queremos modificar los valores contenidos en los atributos de una clase, no deberíamos modificarlos desde fuera de la clase sino a través de métodos contenidos contenidos en la propia clase."
   ]
  },
  {
   "cell_type": "code",
   "execution_count": 16,
   "metadata": {},
   "outputs": [],
   "source": [
    "danis_account.balance -= 1e24"
   ]
  },
  {
   "cell_type": "markdown",
   "metadata": {},
   "source": [
    "#### Ejercicio\n",
    "\n",
    "Vamos a escribir la clase `Person`. Le vamos a dar los atributos `name`, `family_name`, y `date_of_birth`."
   ]
  },
  {
   "cell_type": "code",
   "execution_count": 72,
   "metadata": {},
   "outputs": [
    {
     "data": {
      "text/plain": [
       "Dani Mateos, born 1984-05-23"
      ]
     },
     "execution_count": 72,
     "metadata": {},
     "output_type": "execute_result"
    }
   ],
   "source": [
    "class Person(object):\n",
    "    def __init__(self, name, family_name, date_of_birth):\n",
    "        self.name = name\n",
    "        self.family_name = family_name\n",
    "        self.date_of_birth = date_of_birth\n",
    "    \n",
    "    def __repr__(self):\n",
    "        return '%s %s, born %s' % (self.name, self.family_name, self.date_of_birth)\n",
    "        \n",
    "dani = Person('Dani', 'Mateos', '1984-05-23')\n",
    "dani"
   ]
  },
  {
   "cell_type": "markdown",
   "metadata": {},
   "source": [
    "Ahora, para la fecha de nacimiento, vamos a utilizar el modulo [`datetime`](https://docs.python.org/2/library/datetime.html) para construir verdaderos objetos fecha a partir de una string que nos proporcionará el usuario de la clase."
   ]
  },
  {
   "cell_type": "code",
   "execution_count": 81,
   "metadata": {},
   "outputs": [
    {
     "ename": "ValueError",
     "evalue": "day is out of range for month",
     "output_type": "error",
     "traceback": [
      "\u001b[0;31m---------------------------------------------------------------------------\u001b[0m",
      "\u001b[0;31mValueError\u001b[0m                                Traceback (most recent call last)",
      "\u001b[0;32m<ipython-input-81-0c4b92e1e2a2>\u001b[0m in \u001b[0;36m<module>\u001b[0;34m()\u001b[0m\n\u001b[0;32m----> 1\u001b[0;31m \u001b[0mdob\u001b[0m \u001b[0;34m=\u001b[0m \u001b[0mdatetime\u001b[0m\u001b[0;34m(\u001b[0m\u001b[0;36m1984\u001b[0m\u001b[0;34m,\u001b[0m \u001b[0;36m5\u001b[0m\u001b[0;34m,\u001b[0m \u001b[0;36m35\u001b[0m\u001b[0;34m,\u001b[0m \u001b[0;36m2\u001b[0m\u001b[0;34m,\u001b[0m \u001b[0;36m30\u001b[0m\u001b[0;34m)\u001b[0m\u001b[0;34m\u001b[0m\u001b[0m\n\u001b[0m\u001b[1;32m      2\u001b[0m \u001b[0mdob\u001b[0m\u001b[0;34m.\u001b[0m\u001b[0mweekday\u001b[0m\u001b[0;34m(\u001b[0m\u001b[0;34m)\u001b[0m\u001b[0;34m\u001b[0m\u001b[0m\n",
      "\u001b[0;31mValueError\u001b[0m: day is out of range for month"
     ]
    }
   ],
   "source": [
    "dob = datetime(1984, 5, 35, 2, 30)"
   ]
  },
  {
   "cell_type": "code",
   "execution_count": 82,
   "metadata": {},
   "outputs": [
    {
     "data": {
      "text/plain": [
       "2"
      ]
     },
     "execution_count": 82,
     "metadata": {},
     "output_type": "execute_result"
    }
   ],
   "source": [
    "dob = datetime(1984, 5, 23, 2, 30)\n",
    "dob.weekday()"
   ]
  },
  {
   "cell_type": "markdown",
   "metadata": {},
   "source": [
    "Prototipamos la función `string_to_datetime`:"
   ]
  },
  {
   "cell_type": "code",
   "execution_count": 92,
   "metadata": {},
   "outputs": [],
   "source": [
    "def string_to_datetime(string):\n",
    "    year, month, day = string.split('-')\n",
    "    \n",
    "    return datetime(int(year), int(month), int(day))\n",
    "    \n",
    "dob = string_to_datetime('1984-05-23')"
   ]
  },
  {
   "cell_type": "markdown",
   "metadata": {},
   "source": [
    "Podemos hacer que distintas maneras de crear los objetos funcionen."
   ]
  },
  {
   "cell_type": "markdown",
   "metadata": {},
   "source": [
    "## Métodos y atributos de clase\n",
    "\n",
    "Son atributos que estan ligados a una clase: existe una unica copia para todas las instancias de esa clase.\n",
    "\n",
    "Mucho cuidado! ¿Qué pasa si varias instancias modifican el atributo a la vez?"
   ]
  },
  {
   "cell_type": "code",
   "execution_count": 18,
   "metadata": {},
   "outputs": [
    {
     "data": {
      "text/plain": [
       "Dani Mateos, born 1984-05-23 00:00:00"
      ]
     },
     "execution_count": 18,
     "metadata": {},
     "output_type": "execute_result"
    }
   ],
   "source": [
    "from datetime import datetime\n",
    "\n",
    "class Person(object):\n",
    "    @staticmethod\n",
    "    def string_to_datetime(string):\n",
    "        year, month, day = string.split('-')\n",
    "\n",
    "        return datetime(int(year), int(month), int(day))\n",
    "    \n",
    "    \n",
    "    def __init__(self, name, family_name, date_of_birth):\n",
    "        self.name = name\n",
    "        self.family_name = family_name\n",
    "        self.date_of_birth = Person.string_to_datetime(date_of_birth)\n",
    "    \n",
    "    \n",
    "    def __repr__(self):\n",
    "        return '%s %s, born %s' % (self.name, self.family_name, self.date_of_birth)\n",
    "    \n",
    "\n",
    "        \n",
    "dani = Person('Dani', 'Mateos', '1984-05-23')\n",
    "dani"
   ]
  },
  {
   "cell_type": "code",
   "execution_count": 20,
   "metadata": {},
   "outputs": [
    {
     "data": {
      "text/plain": [
       "2"
      ]
     },
     "execution_count": 20,
     "metadata": {},
     "output_type": "execute_result"
    }
   ],
   "source": [
    "dani.date_of_birth.weekday()"
   ]
  },
  {
   "cell_type": "code",
   "execution_count": 97,
   "metadata": {},
   "outputs": [
    {
     "data": {
      "text/plain": [
       "datetime.datetime(2018, 10, 29, 0, 0)"
      ]
     },
     "execution_count": 97,
     "metadata": {},
     "output_type": "execute_result"
    }
   ],
   "source": [
    "Person.string_to_datetime('2018-10-29')"
   ]
  },
  {
   "cell_type": "markdown",
   "metadata": {},
   "source": [
    "Los atributos de clase se suelen manejor como si fueran constantes, no modificándolos nunca. Para reflejar esto, se suelen llamar con nombres de variable en mayusculas."
   ]
  },
  {
   "cell_type": "code",
   "execution_count": 105,
   "metadata": {},
   "outputs": [
    {
     "data": {
      "text/plain": [
       "Dani Mateos, born 1984-05-23 00:00:00"
      ]
     },
     "execution_count": 105,
     "metadata": {},
     "output_type": "execute_result"
    }
   ],
   "source": [
    "class Person(object):\n",
    "    ALLOWED_TITLES = ['Mr', 'Ms', 'Dr', 'Sir', 'Lord', 'Lady']\n",
    "    \n",
    "    @staticmethod\n",
    "    def string_to_datetime(string):\n",
    "        year, month, day = string.split('-')\n",
    "\n",
    "        return datetime(int(year), int(month), int(day))\n",
    "    \n",
    "    \n",
    "    def __init__(self, name, family_name, date_of_birth):\n",
    "        self.name = name\n",
    "        self.family_name = family_name\n",
    "        self.date_of_birth = Person.string_to_datetime(date_of_birth)\n",
    "    \n",
    "    \n",
    "    def __repr__(self):\n",
    "        return '%s %s, born %s' % (self.name, self.family_name, self.date_of_birth)\n",
    "    \n",
    "\n",
    "        \n",
    "dani = Person('Dani', 'Mateos', '1984-05-23')\n",
    "dani"
   ]
  },
  {
   "cell_type": "code",
   "execution_count": 107,
   "metadata": {},
   "outputs": [],
   "source": [
    "Person.ALLOWED_TITLES.append('Chiripitiflautico')"
   ]
  },
  {
   "cell_type": "code",
   "execution_count": 108,
   "metadata": {},
   "outputs": [
    {
     "data": {
      "text/plain": [
       "['Mr', 'Ms', 'Dr', 'Sir', 'Lord', 'Lady', 'Chiripitiflautico']"
      ]
     },
     "execution_count": 108,
     "metadata": {},
     "output_type": "execute_result"
    }
   ],
   "source": [
    "Person.ALLOWED_TITLES"
   ]
  },
  {
   "cell_type": "markdown",
   "metadata": {},
   "source": [
    "#### Ejercicio\n",
    "\n",
    "Vamos a escribir la clase `Person`. Le vamos a dar los atributos `title`, `name`, `family_name`, y `date_of_birth`. El titulo solo va a ser posible escogerlo de entre un numero limitado de opciones. Para la fecha de nacimiento, vamos a utilizar el modulo [`datetime`](https://docs.python.org/2/library/datetime.html) para construir verdaderos objetos fecha y vamos a escribir un metodo estatico que parsee la fecha que le pasamos como string.\n",
    "\n",
    "Los metodos \"estaticos\" son metodos de la clase que no estan ligados a una instancia. Por tanto, no reciben el parametro `self` y se llaman como `Clase.metodo()` en vez de `instancia.metodo()`."
   ]
  },
  {
   "cell_type": "code",
   "execution_count": 113,
   "metadata": {},
   "outputs": [
    {
     "data": {
      "text/plain": [
       "Ms Dani Mateos, born 1984-05-23 00:00:00"
      ]
     },
     "execution_count": 113,
     "metadata": {},
     "output_type": "execute_result"
    }
   ],
   "source": [
    "class Person(object):\n",
    "    ALLOWED_TITLES = ['Mr', 'Ms', 'Dr', 'Sir', 'Lord', 'Lady']\n",
    "    \n",
    "    @staticmethod\n",
    "    def string_to_datetime(string):\n",
    "        year, month, day = string.split('-')\n",
    "\n",
    "        return datetime(int(year), int(month), int(day))\n",
    "    \n",
    "    \n",
    "    def __init__(self, title, name, family_name, date_of_birth):\n",
    "        if title not in Person.ALLOWED_TITLES:\n",
    "            raise ValueError('No te puedes llamar como te de la gana panoli; %s no es un titulo de verdad' % title)\n",
    "        self.title = title\n",
    "        self.name = name\n",
    "        self.family_name = family_name\n",
    "        self.date_of_birth = Person.string_to_datetime(date_of_birth)\n",
    "    \n",
    "    \n",
    "    def __repr__(self):\n",
    "        return '%s %s %s, born %s' % (self.title, self.name, self.family_name, self.date_of_birth)\n",
    "    \n",
    "\n",
    "        \n",
    "dani = Person('Ms', 'Dani', 'Mateos', '1984-05-23')\n",
    "dani"
   ]
  },
  {
   "cell_type": "code",
   "execution_count": 111,
   "metadata": {},
   "outputs": [
    {
     "ename": "ValueError",
     "evalue": "No te puedes llamar como te de la gana panoli; Chiripitiflautico no es un titulo de verdad",
     "output_type": "error",
     "traceback": [
      "\u001b[0;31m---------------------------------------------------------------------------\u001b[0m",
      "\u001b[0;31mValueError\u001b[0m                                Traceback (most recent call last)",
      "\u001b[0;32m<ipython-input-111-23f231b215cd>\u001b[0m in \u001b[0;36m<module>\u001b[0;34m()\u001b[0m\n\u001b[0;32m----> 1\u001b[0;31m \u001b[0mdani\u001b[0m \u001b[0;34m=\u001b[0m \u001b[0mPerson\u001b[0m\u001b[0;34m(\u001b[0m\u001b[0;34m'Chiripitiflautico'\u001b[0m\u001b[0;34m,\u001b[0m \u001b[0;34m'Dani'\u001b[0m\u001b[0;34m,\u001b[0m \u001b[0;34m'Mateos'\u001b[0m\u001b[0;34m,\u001b[0m \u001b[0;34m'1984-05-23'\u001b[0m\u001b[0;34m)\u001b[0m\u001b[0;34m\u001b[0m\u001b[0m\n\u001b[0m",
      "\u001b[0;32m<ipython-input-110-071d5a1b9573>\u001b[0m in \u001b[0;36m__init__\u001b[0;34m(self, title, name, family_name, date_of_birth)\u001b[0m\n\u001b[1;32m     11\u001b[0m     \u001b[0;32mdef\u001b[0m \u001b[0m__init__\u001b[0m\u001b[0;34m(\u001b[0m\u001b[0mself\u001b[0m\u001b[0;34m,\u001b[0m \u001b[0mtitle\u001b[0m\u001b[0;34m,\u001b[0m \u001b[0mname\u001b[0m\u001b[0;34m,\u001b[0m \u001b[0mfamily_name\u001b[0m\u001b[0;34m,\u001b[0m \u001b[0mdate_of_birth\u001b[0m\u001b[0;34m)\u001b[0m\u001b[0;34m:\u001b[0m\u001b[0;34m\u001b[0m\u001b[0m\n\u001b[1;32m     12\u001b[0m         \u001b[0;32mif\u001b[0m \u001b[0mtitle\u001b[0m \u001b[0;32mnot\u001b[0m \u001b[0;32min\u001b[0m \u001b[0mPerson\u001b[0m\u001b[0;34m.\u001b[0m\u001b[0mALLOWED_TITLES\u001b[0m\u001b[0;34m:\u001b[0m\u001b[0;34m\u001b[0m\u001b[0m\n\u001b[0;32m---> 13\u001b[0;31m             \u001b[0;32mraise\u001b[0m \u001b[0mValueError\u001b[0m\u001b[0;34m(\u001b[0m\u001b[0;34m'No te puedes llamar como te de la gana panoli; %s no es un titulo de verdad'\u001b[0m \u001b[0;34m%\u001b[0m \u001b[0mtitle\u001b[0m\u001b[0;34m)\u001b[0m\u001b[0;34m\u001b[0m\u001b[0m\n\u001b[0m\u001b[1;32m     14\u001b[0m         \u001b[0mself\u001b[0m\u001b[0;34m.\u001b[0m\u001b[0mtitle\u001b[0m \u001b[0;34m=\u001b[0m \u001b[0mtitle\u001b[0m\u001b[0;34m\u001b[0m\u001b[0m\n\u001b[1;32m     15\u001b[0m         \u001b[0mself\u001b[0m\u001b[0;34m.\u001b[0m\u001b[0mname\u001b[0m \u001b[0;34m=\u001b[0m \u001b[0mname\u001b[0m\u001b[0;34m\u001b[0m\u001b[0m\n",
      "\u001b[0;31mValueError\u001b[0m: No te puedes llamar como te de la gana panoli; Chiripitiflautico no es un titulo de verdad"
     ]
    }
   ],
   "source": [
    "dani = Person('Chiripitiflautico', 'Dani', 'Mateos', '1984-05-23')"
   ]
  },
  {
   "cell_type": "markdown",
   "metadata": {},
   "source": [
    "#### Ejercicio\n",
    "\n",
    "Vamos a modificar las clases para que interoperen entre si.\n",
    "\n",
    "Modificaremos `Account` para que el titular sea una `Person`. Vamos a utilizar esta `Person` para varias cosas: cuando el titular haga una retirada o un deposito, le daremos las gracias con su nombre. Al hacer retiradas, vamos a comprobar que sea mayor de edad. Si no lo es, debera aportar una autorizacion de su tutor legal.\n",
    "\n",
    "Modificaremos `Person` para que tenga una `wallet` en la que guardar el efectivo. Nuestra persona ganará su sueldo en efectivo, y hará sus compras en efectivo. De vez en cuando, querrá ingresar o sacar dinero de su cuenta en el banco.\n",
    "\n",
    "\n",
    "El objetivo aqui es hacer dos clases que funcionen juntas e interoperen de una manera intuitiva: para eso, les pasamos referencias de la una a la otra para que puedan llamar a sus metodos respectivos.\n",
    "\n",
    "En resumen: Aqui quiero que implementeis los metodos `create_account`, `earn`, `spend`, `withdraw_cash` y `save` en Persona. `earn` y `spend` modifican la cartera de la persona, porque vivimos en 1960 y no tenemos tarjeta de crédito, mientras que `withdraw_cash` y `save` modifican tanto su cartera como el balance de su cuenta. \n",
    "\n",
    "Pensad tambien en el metodo `withdraw` de cuenta: no le falta algo tal como lo tenemos? Cuando hacemos `withdraw` dinero de nuestra cuenta en el mundo real, no nos *devuelve* algo el cajero? ;P"
   ]
  },
  {
   "cell_type": "markdown",
   "metadata": {},
   "source": [
    "1) Chequear que el holder sea una persona y saludarle al hacer deposit o withdraw"
   ]
  },
  {
   "cell_type": "code",
   "execution_count": 125,
   "metadata": {},
   "outputs": [
    {
     "ename": "TypeError",
     "evalue": "Holder must be a Person!",
     "output_type": "error",
     "traceback": [
      "\u001b[0;31m---------------------------------------------------------------------------\u001b[0m",
      "\u001b[0;31mTypeError\u001b[0m                                 Traceback (most recent call last)",
      "\u001b[0;32m<ipython-input-125-2bac7ef8182e>\u001b[0m in \u001b[0;36m<module>\u001b[0;34m()\u001b[0m\n\u001b[1;32m     49\u001b[0m         \u001b[0;32mreturn\u001b[0m \u001b[0mamount\u001b[0m\u001b[0;34m\u001b[0m\u001b[0m\n\u001b[1;32m     50\u001b[0m \u001b[0;34m\u001b[0m\u001b[0m\n\u001b[0;32m---> 51\u001b[0;31m \u001b[0mAccount\u001b[0m\u001b[0;34m(\u001b[0m\u001b[0;34m'Dani'\u001b[0m\u001b[0;34m,\u001b[0m \u001b[0;36m2000\u001b[0m\u001b[0;34m)\u001b[0m\u001b[0;34m\u001b[0m\u001b[0m\n\u001b[0m",
      "\u001b[0;32m<ipython-input-125-2bac7ef8182e>\u001b[0m in \u001b[0;36m__init__\u001b[0;34m(self, holder, balance)\u001b[0m\n\u001b[1;32m     29\u001b[0m             \u001b[0;32mraise\u001b[0m \u001b[0mTypeError\u001b[0m\u001b[0;34m(\u001b[0m\u001b[0;34m'Balance must be an int'\u001b[0m\u001b[0;34m)\u001b[0m\u001b[0;34m\u001b[0m\u001b[0m\n\u001b[1;32m     30\u001b[0m         \u001b[0;32mif\u001b[0m \u001b[0mtype\u001b[0m\u001b[0;34m(\u001b[0m\u001b[0mholder\u001b[0m\u001b[0;34m)\u001b[0m \u001b[0;34m!=\u001b[0m \u001b[0mPerson\u001b[0m\u001b[0;34m:\u001b[0m\u001b[0;34m\u001b[0m\u001b[0m\n\u001b[0;32m---> 31\u001b[0;31m             \u001b[0;32mraise\u001b[0m \u001b[0mTypeError\u001b[0m\u001b[0;34m(\u001b[0m\u001b[0;34m'Holder must be a Person!'\u001b[0m\u001b[0;34m)\u001b[0m\u001b[0;34m\u001b[0m\u001b[0m\n\u001b[0m\u001b[1;32m     32\u001b[0m \u001b[0;34m\u001b[0m\u001b[0m\n\u001b[1;32m     33\u001b[0m         \u001b[0mself\u001b[0m\u001b[0;34m.\u001b[0m\u001b[0mholder\u001b[0m \u001b[0;34m=\u001b[0m \u001b[0mholder\u001b[0m\u001b[0;34m\u001b[0m\u001b[0m\n",
      "\u001b[0;31mTypeError\u001b[0m: Holder must be a Person!"
     ]
    }
   ],
   "source": [
    "from datetime import datetime\n",
    "\n",
    "class Person(object):\n",
    "    ALLOWED_TITLES = ['Mr', 'Ms', 'Dr', 'Sir', 'Lord', 'Lady']\n",
    "    \n",
    "    @staticmethod\n",
    "    def string_to_datetime(string):\n",
    "        year, month, day = string.split('-')\n",
    "\n",
    "        return datetime(int(year), int(month), int(day))\n",
    "    \n",
    "    \n",
    "    def __init__(self, title, name, family_name, date_of_birth):\n",
    "        if title not in Person.ALLOWED_TITLES:\n",
    "            raise ValueError('No te puedes llamar como te de la gana panoli; %s no es un titulo de verdad' % title)\n",
    "        self.title = title\n",
    "        self.name = name\n",
    "        self.family_name = family_name\n",
    "        self.date_of_birth = Person.string_to_datetime(date_of_birth)\n",
    "    \n",
    "    \n",
    "    def __repr__(self):\n",
    "        return '%s %s %s, born %s' % (self.title, self.name, self.family_name, self.date_of_birth)\n",
    "    \n",
    "\n",
    "class Account(object):\n",
    "    def __init__(self, holder, balance):\n",
    "        if type(balance) != int:\n",
    "            raise TypeError('Balance must be an int')\n",
    "        if type(holder) != Person:\n",
    "            raise TypeError('Holder must be a Person!')\n",
    "            \n",
    "        self.holder = holder\n",
    "        self.balance = balance\n",
    "    \n",
    "    def __repr__(self):\n",
    "        return '%s\\'s account with balance %d€' % (self.holder, self.balance)\n",
    "    \n",
    "    def deposit(self, amount):\n",
    "        print('Buenos dias tenga usted %s %s' % (self.holder.title, self.holder.name))\n",
    "        self.balance += amount\n",
    "        \n",
    "    def withdraw(self, amount):\n",
    "        if amount > self.balance:\n",
    "            raise ValueError('Donde vas piltrafilla si solo tienes %d€??' % self.balance) \n",
    "        print('Su dinero, %s %s' % (self.holder.title, self.holder.name))\n",
    "        self.balance -= amount\n",
    "        \n",
    "        return amount\n",
    "        \n",
    "Account('Dani', 2000)"
   ]
  },
  {
   "cell_type": "code",
   "execution_count": 126,
   "metadata": {},
   "outputs": [
    {
     "data": {
      "text/plain": [
       "2"
      ]
     },
     "execution_count": 126,
     "metadata": {},
     "output_type": "execute_result"
    }
   ],
   "source": [
    "dani = Person('Ms', 'Daniel', 'Mateos', '1984-05-23')\n",
    "danis_account = Account(dani, 2000)\n",
    "danis_account.holder.date_of_birth.weekday()"
   ]
  },
  {
   "cell_type": "code",
   "execution_count": 127,
   "metadata": {},
   "outputs": [
    {
     "name": "stdout",
     "output_type": "stream",
     "text": [
      "Buenos dias tenga usted Ms Daniel\n"
     ]
    }
   ],
   "source": [
    "danis_account.deposit(1000)"
   ]
  },
  {
   "cell_type": "markdown",
   "metadata": {},
   "source": [
    "2) Al hacer retiradas, vamos a comprobar que sea mayor de edad. Necesitaremos una manera de acceder a la edad de nuestra `Person` y de comprobar que cumple los requisitos."
   ]
  },
  {
   "cell_type": "markdown",
   "metadata": {},
   "source": [
    "La edad es una característica que va cambiando. Por ello, la meteremos en un método y la calcularemos cuando nos la pidan a partir de la fecha de nacimiento. \n",
    "\n",
    "Comprobaremos la edad en el método `withdraw`, pero la calcularemos en `Person`."
   ]
  },
  {
   "cell_type": "code",
   "execution_count": 148,
   "metadata": {},
   "outputs": [
    {
     "ename": "ValueError",
     "evalue": "Anda vete con mama mocoso!! Fuera de aqui",
     "output_type": "error",
     "traceback": [
      "\u001b[0;31m---------------------------------------------------------------------------\u001b[0m",
      "\u001b[0;31mValueError\u001b[0m                                Traceback (most recent call last)",
      "\u001b[0;32m<ipython-input-148-05ce92d3c027>\u001b[0m in \u001b[0;36m<module>\u001b[0;34m()\u001b[0m\n\u001b[1;32m     57\u001b[0m \u001b[0mdanis_account\u001b[0m\u001b[0;34m.\u001b[0m\u001b[0mholder\u001b[0m\u001b[0;34m.\u001b[0m\u001b[0mdate_of_birth\u001b[0m\u001b[0;34m.\u001b[0m\u001b[0myear\u001b[0m\u001b[0;34m\u001b[0m\u001b[0m\n\u001b[1;32m     58\u001b[0m \u001b[0mdani\u001b[0m\u001b[0;34m.\u001b[0m\u001b[0mage\u001b[0m\u001b[0;34m(\u001b[0m\u001b[0;34m)\u001b[0m\u001b[0;34m\u001b[0m\u001b[0m\n\u001b[0;32m---> 59\u001b[0;31m \u001b[0mdanis_account\u001b[0m\u001b[0;34m.\u001b[0m\u001b[0mwithdraw\u001b[0m\u001b[0;34m(\u001b[0m\u001b[0;36m100\u001b[0m\u001b[0;34m)\u001b[0m\u001b[0;34m\u001b[0m\u001b[0m\n\u001b[0m",
      "\u001b[0;32m<ipython-input-148-05ce92d3c027>\u001b[0m in \u001b[0;36mwithdraw\u001b[0;34m(self, amount)\u001b[0m\n\u001b[1;32m     47\u001b[0m             \u001b[0;32mraise\u001b[0m \u001b[0mValueError\u001b[0m\u001b[0;34m(\u001b[0m\u001b[0;34m'Donde vas piltrafilla si solo tienes %d€??'\u001b[0m \u001b[0;34m%\u001b[0m \u001b[0mself\u001b[0m\u001b[0;34m.\u001b[0m\u001b[0mbalance\u001b[0m\u001b[0;34m)\u001b[0m\u001b[0;34m\u001b[0m\u001b[0m\n\u001b[1;32m     48\u001b[0m         \u001b[0;32mif\u001b[0m \u001b[0mself\u001b[0m\u001b[0;34m.\u001b[0m\u001b[0mholder\u001b[0m\u001b[0;34m.\u001b[0m\u001b[0mage\u001b[0m\u001b[0;34m(\u001b[0m\u001b[0;34m)\u001b[0m \u001b[0;34m<\u001b[0m \u001b[0;36m18\u001b[0m\u001b[0;34m:\u001b[0m\u001b[0;34m\u001b[0m\u001b[0m\n\u001b[0;32m---> 49\u001b[0;31m             \u001b[0;32mraise\u001b[0m \u001b[0mValueError\u001b[0m\u001b[0;34m(\u001b[0m\u001b[0;34m'Anda vete con mama mocoso!! Fuera de aqui'\u001b[0m\u001b[0;34m)\u001b[0m\u001b[0;34m\u001b[0m\u001b[0m\n\u001b[0m\u001b[1;32m     50\u001b[0m         \u001b[0mprint\u001b[0m\u001b[0;34m(\u001b[0m\u001b[0;34m'Su dinero, %s %s'\u001b[0m \u001b[0;34m%\u001b[0m \u001b[0;34m(\u001b[0m\u001b[0mself\u001b[0m\u001b[0;34m.\u001b[0m\u001b[0mholder\u001b[0m\u001b[0;34m.\u001b[0m\u001b[0mtitle\u001b[0m\u001b[0;34m,\u001b[0m \u001b[0mself\u001b[0m\u001b[0;34m.\u001b[0m\u001b[0mholder\u001b[0m\u001b[0;34m.\u001b[0m\u001b[0mname\u001b[0m\u001b[0;34m)\u001b[0m\u001b[0;34m)\u001b[0m\u001b[0;34m\u001b[0m\u001b[0m\n\u001b[1;32m     51\u001b[0m         \u001b[0mself\u001b[0m\u001b[0;34m.\u001b[0m\u001b[0mbalance\u001b[0m \u001b[0;34m-=\u001b[0m \u001b[0mamount\u001b[0m\u001b[0;34m\u001b[0m\u001b[0m\n",
      "\u001b[0;31mValueError\u001b[0m: Anda vete con mama mocoso!! Fuera de aqui"
     ]
    }
   ],
   "source": [
    "from datetime import datetime, date\n",
    "\n",
    "class Person(object):\n",
    "    ALLOWED_TITLES = ['Mr', 'Ms', 'Dr', 'Sir', 'Lord', 'Lady']\n",
    "    \n",
    "    @staticmethod\n",
    "    def string_to_datetime(string):\n",
    "        year, month, day = string.split('-')\n",
    "\n",
    "        return datetime(int(year), int(month), int(day))\n",
    "    \n",
    "    \n",
    "    def __init__(self, title, name, family_name, date_of_birth):\n",
    "        if title not in Person.ALLOWED_TITLES:\n",
    "            raise ValueError('No te puedes llamar como te de la gana panoli; %s no es un titulo de verdad' % title)\n",
    "        self.title = title\n",
    "        self.name = name\n",
    "        self.family_name = family_name\n",
    "        self.date_of_birth = Person.string_to_datetime(date_of_birth)\n",
    "    \n",
    "    \n",
    "    def __repr__(self):\n",
    "        return '%s %s %s, born %s' % (self.title, self.name, self.family_name, self.date_of_birth)\n",
    "    \n",
    "    def age(self):\n",
    "        return date.today().year - self.date_of_birth.year\n",
    "\n",
    "class Account(object):\n",
    "    def __init__(self, holder, balance):\n",
    "        if type(balance) != int:\n",
    "            raise TypeError('Balance must be an int')\n",
    "        if type(holder) != Person:\n",
    "            raise TypeError('Holder must be a Person!')\n",
    "            \n",
    "        self.holder = holder\n",
    "        self.balance = balance\n",
    "    \n",
    "    def __repr__(self):\n",
    "        return '%s\\'s account with balance %d€' % (self.holder, self.balance)\n",
    "    \n",
    "    def deposit(self, amount):\n",
    "        print('Buenos dias tenga usted %s %s' % (self.holder.title, self.holder.name))\n",
    "        self.balance += amount\n",
    "        \n",
    "    def withdraw(self, amount):\n",
    "        if amount > self.balance:\n",
    "            raise ValueError('Donde vas piltrafilla si solo tienes %d€??' % self.balance) \n",
    "        if self.holder.age() < 18:\n",
    "            raise ValueError('Anda vete con mama mocoso!! Fuera de aqui')\n",
    "        print('Su dinero, %s %s' % (self.holder.title, self.holder.name))\n",
    "        self.balance -= amount\n",
    "        \n",
    "        return amount\n",
    "\n",
    "dani = Person('Ms', 'Daniel', 'Mateos', '2005-05-23')\n",
    "danis_account = Account(dani, 2000)\n",
    "danis_account.holder.date_of_birth.year\n",
    "dani.age()\n",
    "danis_account.withdraw(100)"
   ]
  },
  {
   "cell_type": "markdown",
   "metadata": {
    "collapsed": true
   },
   "source": [
    "3) Modificaremos Person para que tenga una wallet en la que guardar el efectivo. Nuestra persona ganará su sueldo en efectivo, y hará sus compras en efectivo. "
   ]
  },
  {
   "cell_type": "code",
   "execution_count": 155,
   "metadata": {},
   "outputs": [
    {
     "name": "stdout",
     "output_type": "stream",
     "text": [
      "0\n",
      "50\n",
      "20\n"
     ]
    }
   ],
   "source": [
    "from datetime import datetime, date\n",
    "\n",
    "class Person(object):\n",
    "    ALLOWED_TITLES = ['Mr', 'Ms', 'Dr', 'Sir', 'Lord', 'Lady']\n",
    "    \n",
    "    @staticmethod\n",
    "    def string_to_datetime(string):\n",
    "        year, month, day = string.split('-')\n",
    "\n",
    "        return datetime(int(year), int(month), int(day))\n",
    "    \n",
    "    \n",
    "    def __init__(self, title, name, family_name, date_of_birth, wallet=0):\n",
    "        if title not in Person.ALLOWED_TITLES:\n",
    "            raise ValueError('No te puedes llamar como te de la gana panoli; %s no es un titulo de verdad' % title)\n",
    "        self.title = title\n",
    "        self.name = name\n",
    "        self.family_name = family_name\n",
    "        self.date_of_birth = Person.string_to_datetime(date_of_birth)\n",
    "        self.wallet = wallet\n",
    "    \n",
    "    \n",
    "    def __repr__(self):\n",
    "        return '%s %s %s, born %s' % (self.title, self.name, self.family_name, self.date_of_birth)\n",
    "    \n",
    "    def age(self):\n",
    "        return date.today().year - self.date_of_birth.year\n",
    "    \n",
    "    def spend(self, amount):\n",
    "        if amount > self.wallet:\n",
    "            raise ValueError('Donde vas alma de cantaro, que estas pelao')\n",
    "        self.wallet -= amount\n",
    "    \n",
    "    def earn(self, amount):\n",
    "        self.wallet += amount\n",
    "\n",
    "class Account(object):\n",
    "    def __init__(self, holder, balance):\n",
    "        if type(balance) != int:\n",
    "            raise TypeError('Balance must be an int')\n",
    "        if type(holder) != Person:\n",
    "            raise TypeError('Holder must be a Person!')\n",
    "            \n",
    "        self.holder = holder\n",
    "        self.balance = balance\n",
    "    \n",
    "    def __repr__(self):\n",
    "        return '%s\\'s account with balance %d€' % (self.holder, self.balance)\n",
    "    \n",
    "    def deposit(self, amount):\n",
    "        print('Buenos dias tenga usted %s %s' % (self.holder.title, self.holder.name))\n",
    "        self.balance += amount\n",
    "        \n",
    "    def withdraw(self, amount):\n",
    "        if amount > self.balance:\n",
    "            raise ValueError('Donde vas piltrafilla si solo tienes %d€??' % self.balance) \n",
    "        if self.holder.age() < 18:\n",
    "            raise ValueError('Anda vete con mama mocoso!! Fuera de aqui')\n",
    "        print('Su dinero, %s %s' % (self.holder.title, self.holder.name))\n",
    "        self.balance -= amount\n",
    "        \n",
    "        return amount\n",
    "\n",
    "dani = Person('Ms', 'Daniel', 'Mateos', '2005-05-23')\n",
    "print(dani.wallet)\n",
    "dani.earn(50)\n",
    "print(dani.wallet)\n",
    "dani.spend(30)\n",
    "print(dani.wallet)"
   ]
  },
  {
   "cell_type": "markdown",
   "metadata": {},
   "source": [
    "4) De vez en cuando, querrá ingresar o sacar dinero de su cuenta en el banco.\n",
    "\n",
    "Para acceder a su cuenta, Person debe tener una referencia a ella. Ya que account necesita una referencia a su `holder`, tenemos referencias cruzadas. No podemos crearlas, por tanto, en el `__init__` de ambas clases: una tiene que ser creada antes que la otra. ¿Cuál? \n",
    "\n",
    "Pensad: ¿Qué tiene más sentido, una persona sin cuenta en el banco o una cuenta sin titular?"
   ]
  },
  {
   "cell_type": "code",
   "execution_count": 21,
   "metadata": {},
   "outputs": [
    {
     "name": "stdout",
     "output_type": "stream",
     "text": [
      "0\n",
      "50\n",
      "20\n"
     ]
    }
   ],
   "source": [
    "from datetime import datetime, date\n",
    "\n",
    "class Person(object):\n",
    "    ALLOWED_TITLES = ['Mr', 'Ms', 'Dr', 'Sir', 'Lord', 'Lady']\n",
    "    \n",
    "    @staticmethod\n",
    "    def string_to_datetime(string):\n",
    "        year, month, day = string.split('-')\n",
    "\n",
    "        return datetime(int(year), int(month), int(day))\n",
    "    \n",
    "    \n",
    "    def __init__(self, title, name, family_name, date_of_birth, wallet=0):\n",
    "        if title not in Person.ALLOWED_TITLES:\n",
    "            raise ValueError('No te puedes llamar como te de la gana panoli; %s no es un titulo de verdad' % title)\n",
    "        self.title = title\n",
    "        self.name = name\n",
    "        self.family_name = family_name\n",
    "        self.date_of_birth = Person.string_to_datetime(date_of_birth)\n",
    "        self.wallet = wallet\n",
    "        self.account = None\n",
    "    \n",
    "    def __repr__(self):\n",
    "        return '%s %s %s, born %s' % (self.title, self.name, self.family_name, self.date_of_birth)\n",
    "    \n",
    "    def age(self):\n",
    "        return date.today().year - self.date_of_birth.year\n",
    "    \n",
    "    def spend(self, amount):\n",
    "        if amount > self.wallet:\n",
    "            raise ValueError('Donde vas alma de cantaro, que estas pelao')\n",
    "        self.wallet -= amount\n",
    "    \n",
    "    def earn(self, amount):\n",
    "        self.wallet += amount\n",
    "        \n",
    "    def get_account(self, starting_balance):\n",
    "        try:\n",
    "            self.spend(starting_balance)\n",
    "            self.account = Account(self, starting_balance)\n",
    "        except:\n",
    "            print('No tienes %d euros en el bolsillo, pringao' % starting_balance)\n",
    "        \n",
    "\n",
    "        \n",
    "class Account(object):\n",
    "    def __init__(self, holder, balance):\n",
    "        if type(balance) != int:\n",
    "            raise TypeError('Balance must be an int')\n",
    "        if type(holder) != Person:\n",
    "            raise TypeError('Holder must be a Person!')\n",
    "            \n",
    "        self.holder = holder\n",
    "        self.balance = balance\n",
    "    \n",
    "    def __repr__(self):\n",
    "        return '%s\\'s account with balance %d€' % (self.holder, self.balance)\n",
    "    \n",
    "    def deposit(self, amount):\n",
    "        print('Buenos dias tenga usted %s %s' % (self.holder.title, self.holder.name))\n",
    "        self.balance += amount\n",
    "        \n",
    "    def withdraw(self, amount):\n",
    "        if amount > self.balance:\n",
    "            raise ValueError('Donde vas piltrafilla si solo tienes %d€??' % self.balance) \n",
    "        if self.holder.age() < 18:\n",
    "            raise ValueError('Anda vete con mama mocoso!! Fuera de aqui')\n",
    "        print('Su dinero, %s %s' % (self.holder.title, self.holder.name))\n",
    "        self.balance -= amount\n",
    "        \n",
    "        return amount\n",
    "\n",
    "dani = Person('Ms', 'Daniel', 'Mateos', '2005-05-23')\n",
    "print(dani.wallet)\n",
    "dani.earn(50)\n",
    "print(dani.wallet)\n",
    "dani.spend(30)\n",
    "print(dani.wallet)"
   ]
  },
  {
   "cell_type": "code",
   "execution_count": 26,
   "metadata": {},
   "outputs": [
    {
     "data": {
      "text/plain": [
       "Ms Daniel Mateos, born 2005-05-23 00:00:00"
      ]
     },
     "execution_count": 26,
     "metadata": {},
     "output_type": "execute_result"
    }
   ],
   "source": [
    "dani.get_account(0)\n",
    "dani.account.holder.account.holder"
   ]
  },
  {
   "cell_type": "markdown",
   "metadata": {},
   "source": [
    "4) De vez en cuando, querrá ingresar o sacar dinero de su cuenta en el banco.\n",
    "\n",
    "Por fin estamos listos para implementar los métodos que transfieren dinero de la cuenta a la cartera y viceversa:"
   ]
  },
  {
   "cell_type": "code",
   "execution_count": 177,
   "metadata": {},
   "outputs": [
    {
     "name": "stdout",
     "output_type": "stream",
     "text": [
      "0\n",
      "50\n",
      "20\n"
     ]
    }
   ],
   "source": [
    "from datetime import datetime, date\n",
    "\n",
    "class Person(object):\n",
    "    ALLOWED_TITLES = ['Mr', 'Ms', 'Dr', 'Sir', 'Lord', 'Lady']\n",
    "    \n",
    "    @staticmethod\n",
    "    def string_to_datetime(string):\n",
    "        year, month, day = string.split('-')\n",
    "\n",
    "        return datetime(int(year), int(month), int(day))\n",
    "    \n",
    "    \n",
    "    def __init__(self, title, name, family_name, date_of_birth, wallet=0):\n",
    "        if title not in Person.ALLOWED_TITLES:\n",
    "            raise ValueError('No te puedes llamar como te de la gana panoli; %s no es un titulo de verdad' % title)\n",
    "        self.title = title\n",
    "        self.name = name\n",
    "        self.family_name = family_name\n",
    "        self.date_of_birth = Person.string_to_datetime(date_of_birth)\n",
    "        self.wallet = wallet\n",
    "        self.account = None\n",
    "    \n",
    "    def __repr__(self):\n",
    "        return '%s %s %s, born %s' % (self.title, self.name, self.family_name, self.date_of_birth)\n",
    "    \n",
    "    def age(self):\n",
    "        return date.today().year - self.date_of_birth.year\n",
    "    \n",
    "    def spend(self, amount):\n",
    "        if amount > self.wallet:\n",
    "            raise ValueError('Donde vas alma de cantaro, que estas pelao')\n",
    "        self.wallet -= amount\n",
    "    \n",
    "    def earn(self, amount):\n",
    "        self.wallet += amount\n",
    "        \n",
    "    def get_account(self, starting_balance):\n",
    "        try:\n",
    "            self.spend(starting_balance)\n",
    "            self.account = Account(self, starting_balance)\n",
    "        except:\n",
    "            print('No tienes %d euros en el bolsillo, pringao' % starting_balance)\n",
    "        \n",
    "    def save(self, amount):\n",
    "        try:\n",
    "            self.spend(amount)\n",
    "            self.account.deposit(amount)\n",
    "        except:\n",
    "            print('No tienes %d euros en el bolsillo, pringao' % amount)\n",
    "\n",
    "            \n",
    "    def withdraw_from_account(self, amount):\n",
    "        try:\n",
    "            self.wallet += self.account.withdraw(amount)\n",
    "        except:\n",
    "            print('Ohhhhh te fundiste los furdeles de la cuentaaaa...')\n",
    "        \n",
    "class Account(object):\n",
    "    def __init__(self, holder, balance):\n",
    "        if type(balance) != int:\n",
    "            raise TypeError('Balance must be an int')\n",
    "        if type(holder) != Person:\n",
    "            raise TypeError('Holder must be a Person!')\n",
    "            \n",
    "        self.holder = holder\n",
    "        self.balance = balance\n",
    "    \n",
    "    def __repr__(self):\n",
    "        return '%s\\'s account with balance %d€' % (self.holder, self.balance)\n",
    "    \n",
    "    def deposit(self, amount):\n",
    "        print('Buenos dias tenga usted %s %s' % (self.holder.title, self.holder.name))\n",
    "        self.balance += amount\n",
    "        \n",
    "    def withdraw(self, amount):\n",
    "        if amount > self.balance:\n",
    "            raise ValueError('Donde vas piltrafilla si solo tienes %d€??' % self.balance) \n",
    "        if self.holder.age() < 18:\n",
    "            raise ValueError('Anda vete con mama mocoso!! Fuera de aqui')\n",
    "        print('Su dinero, %s %s' % (self.holder.title, self.holder.name))\n",
    "        self.balance -= amount\n",
    "        \n",
    "        return amount\n",
    "\n",
    "dani = Person('Ms', 'Daniel', 'Mateos', '1984-05-23')\n",
    "print(dani.wallet)\n",
    "dani.earn(50)\n",
    "print(dani.wallet)\n",
    "dani.spend(30)\n",
    "print(dani.wallet)"
   ]
  },
  {
   "cell_type": "markdown",
   "metadata": {},
   "source": [
    "Y podemos jugar con el diseño que hemos creado:"
   ]
  },
  {
   "cell_type": "code",
   "execution_count": 178,
   "metadata": {},
   "outputs": [
    {
     "data": {
      "text/plain": [
       "20"
      ]
     },
     "execution_count": 178,
     "metadata": {},
     "output_type": "execute_result"
    }
   ],
   "source": [
    "dani.wallet"
   ]
  },
  {
   "cell_type": "code",
   "execution_count": 179,
   "metadata": {},
   "outputs": [],
   "source": [
    "dani.earn(50)\n",
    "dani.earn(50)\n",
    "dani.earn(50)\n",
    "dani.earn(50)\n",
    "dani.earn(50)\n",
    "dani.earn(50)"
   ]
  },
  {
   "cell_type": "code",
   "execution_count": 180,
   "metadata": {},
   "outputs": [
    {
     "name": "stdout",
     "output_type": "stream",
     "text": [
      "320\n"
     ]
    }
   ],
   "source": [
    "print(dani.wallet)\n",
    "dani.get_account(300)"
   ]
  },
  {
   "cell_type": "code",
   "execution_count": 182,
   "metadata": {},
   "outputs": [
    {
     "data": {
      "text/plain": [
       "Ms Daniel Mateos, born 1984-05-23 00:00:00's account with balance 300€"
      ]
     },
     "execution_count": 182,
     "metadata": {},
     "output_type": "execute_result"
    }
   ],
   "source": [
    "dani.account"
   ]
  },
  {
   "cell_type": "code",
   "execution_count": 183,
   "metadata": {},
   "outputs": [],
   "source": [
    "dani.earn(50)\n",
    "dani.earn(50)"
   ]
  },
  {
   "cell_type": "code",
   "execution_count": 184,
   "metadata": {},
   "outputs": [],
   "source": [
    "dani.spend(60)"
   ]
  },
  {
   "cell_type": "code",
   "execution_count": 185,
   "metadata": {},
   "outputs": [],
   "source": [
    "dani.spend(60)"
   ]
  },
  {
   "cell_type": "code",
   "execution_count": 186,
   "metadata": {},
   "outputs": [
    {
     "ename": "ValueError",
     "evalue": "Donde vas alma de cantaro, que estas pelao",
     "output_type": "error",
     "traceback": [
      "\u001b[0;31m---------------------------------------------------------------------------\u001b[0m",
      "\u001b[0;31mValueError\u001b[0m                                Traceback (most recent call last)",
      "\u001b[0;32m<ipython-input-186-e17303307c1a>\u001b[0m in \u001b[0;36m<module>\u001b[0;34m()\u001b[0m\n\u001b[0;32m----> 1\u001b[0;31m \u001b[0mdani\u001b[0m\u001b[0;34m.\u001b[0m\u001b[0mspend\u001b[0m\u001b[0;34m(\u001b[0m\u001b[0;36m60\u001b[0m\u001b[0;34m)\u001b[0m\u001b[0;34m\u001b[0m\u001b[0m\n\u001b[0m",
      "\u001b[0;32m<ipython-input-177-73b72eb5bb2a>\u001b[0m in \u001b[0;36mspend\u001b[0;34m(self, amount)\u001b[0m\n\u001b[1;32m     29\u001b[0m     \u001b[0;32mdef\u001b[0m \u001b[0mspend\u001b[0m\u001b[0;34m(\u001b[0m\u001b[0mself\u001b[0m\u001b[0;34m,\u001b[0m \u001b[0mamount\u001b[0m\u001b[0;34m)\u001b[0m\u001b[0;34m:\u001b[0m\u001b[0;34m\u001b[0m\u001b[0m\n\u001b[1;32m     30\u001b[0m         \u001b[0;32mif\u001b[0m \u001b[0mamount\u001b[0m \u001b[0;34m>\u001b[0m \u001b[0mself\u001b[0m\u001b[0;34m.\u001b[0m\u001b[0mwallet\u001b[0m\u001b[0;34m:\u001b[0m\u001b[0;34m\u001b[0m\u001b[0m\n\u001b[0;32m---> 31\u001b[0;31m             \u001b[0;32mraise\u001b[0m \u001b[0mValueError\u001b[0m\u001b[0;34m(\u001b[0m\u001b[0;34m'Donde vas alma de cantaro, que estas pelao'\u001b[0m\u001b[0;34m)\u001b[0m\u001b[0;34m\u001b[0m\u001b[0m\n\u001b[0m\u001b[1;32m     32\u001b[0m         \u001b[0mself\u001b[0m\u001b[0;34m.\u001b[0m\u001b[0mwallet\u001b[0m \u001b[0;34m-=\u001b[0m \u001b[0mamount\u001b[0m\u001b[0;34m\u001b[0m\u001b[0m\n\u001b[1;32m     33\u001b[0m \u001b[0;34m\u001b[0m\u001b[0m\n",
      "\u001b[0;31mValueError\u001b[0m: Donde vas alma de cantaro, que estas pelao"
     ]
    }
   ],
   "source": [
    "dani.spend(60)"
   ]
  },
  {
   "cell_type": "code",
   "execution_count": 187,
   "metadata": {},
   "outputs": [
    {
     "name": "stdout",
     "output_type": "stream",
     "text": [
      "Su dinero, Ms Daniel\n"
     ]
    }
   ],
   "source": [
    "dani.withdraw_from_account(200)"
   ]
  },
  {
   "cell_type": "code",
   "execution_count": 188,
   "metadata": {},
   "outputs": [
    {
     "data": {
      "text/plain": [
       "200"
      ]
     },
     "execution_count": 188,
     "metadata": {},
     "output_type": "execute_result"
    }
   ],
   "source": [
    "dani.wallet"
   ]
  },
  {
   "cell_type": "code",
   "execution_count": 189,
   "metadata": {},
   "outputs": [],
   "source": [
    "dani.spend(200)"
   ]
  },
  {
   "cell_type": "code",
   "execution_count": 190,
   "metadata": {},
   "outputs": [
    {
     "name": "stdout",
     "output_type": "stream",
     "text": [
      "Ohhhhh te fundiste los furdeles de la cuentaaaa...\n"
     ]
    }
   ],
   "source": [
    "dani.withdraw_from_account(200)"
   ]
  },
  {
   "cell_type": "markdown",
   "metadata": {},
   "source": [
    "# Para llevar: resumen del tema\n",
    "\n",
    "- La programación orientada a objetos se basa en clases y objetos (instancias).\n",
    "\n",
    "- Las clases nos permiten construir instancias, son como recetas.\n",
    "\n",
    "- La idea de la POO es tener agrupados datos y comportamientos.\n",
    "\n",
    "- Una instancia tiene tipo (clase), métodos y atributos. "
   ]
  }
 ],
 "metadata": {
  "kernelspec": {
   "display_name": "Python 3",
   "language": "python",
   "name": "python3"
  },
  "language_info": {
   "codemirror_mode": {
    "name": "ipython",
    "version": 3
   },
   "file_extension": ".py",
   "mimetype": "text/x-python",
   "name": "python",
   "nbconvert_exporter": "python",
   "pygments_lexer": "ipython3",
   "version": "3.6.6"
  }
 },
 "nbformat": 4,
 "nbformat_minor": 1
}
