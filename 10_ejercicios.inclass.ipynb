{
 "cells": [
  {
   "cell_type": "markdown",
   "metadata": {},
   "source": [
    "# Ejercicios de iteracion, strings, funciones, bifurcaciones, colecciones"
   ]
  },
  {
   "cell_type": "markdown",
   "metadata": {},
   "source": [
    "#### Ejercicio\n",
    "\n",
    "Escribe una funcion que itere sobre una string que le pasemos y devuelva otra formada solo por las letras pares."
   ]
  },
  {
   "cell_type": "code",
   "execution_count": 1,
   "metadata": {},
   "outputs": [
    {
     "data": {
      "text/plain": [
       "'somerandomwords'"
      ]
     },
     "execution_count": 1,
     "metadata": {},
     "output_type": "execute_result"
    }
   ],
   "source": [
    "''.join(['some', 'random', 'words'])"
   ]
  },
  {
   "cell_type": "code",
   "execution_count": 2,
   "metadata": {},
   "outputs": [
    {
     "data": {
      "text/plain": [
       "'some random words'"
      ]
     },
     "execution_count": 2,
     "metadata": {},
     "output_type": "execute_result"
    }
   ],
   "source": [
    "' '.join(['some', 'random', 'words'])"
   ]
  },
  {
   "cell_type": "code",
   "execution_count": 4,
   "metadata": {},
   "outputs": [
    {
     "data": {
      "text/plain": [
       "'ooo'"
      ]
     },
     "execution_count": 4,
     "metadata": {},
     "output_type": "execute_result"
    }
   ],
   "source": [
    "def even_letters(string):\n",
    "    result = ''\n",
    "    for i, letter in enumerate(string):\n",
    "        if i % 2 == 1:\n",
    "            result += letter\n",
    "    return result\n",
    "\n",
    "even_letters('tocoto')"
   ]
  },
  {
   "cell_type": "markdown",
   "metadata": {},
   "source": [
    "#### Bonus:\n",
    "\n",
    "Escribela de otra manera: con un bucle `for` o con una list comprehension"
   ]
  },
  {
   "cell_type": "code",
   "execution_count": null,
   "metadata": {},
   "outputs": [],
   "source": []
  },
  {
   "cell_type": "markdown",
   "metadata": {},
   "source": [
    "#### Ejercicio\n",
    "\n",
    "Escribe una funcion que devuelve todos los números cuyos digitos sean todos pares entre dos números que reciba como argumentos, estos números inclusive.\n",
    "\n",
    "\n",
    "Entrada de muestra\n",
    "\n",
    "```python\n",
    "10, 24\n",
    "```\n",
    "Salida de muestra\n",
    "```python\n",
    "20, 22, 24\n",
    "```\n",
    "\n",
    "Entrada de muestra\n",
    "\n",
    "```python\n",
    "150, 209\n",
    "```\n",
    "Salida de muestra\n",
    "```python\n",
    "200, 202, 204, 206, 208\n",
    "```"
   ]
  },
  {
   "cell_type": "code",
   "execution_count": 3,
   "metadata": {},
   "outputs": [
    {
     "name": "stdout",
     "output_type": "stream",
     "text": [
      "2\n",
      "0\n",
      "2\n"
     ]
    }
   ],
   "source": [
    "for digit in str(202):\n",
    "    print(digit) "
   ]
  },
  {
   "cell_type": "code",
   "execution_count": null,
   "metadata": {},
   "outputs": [],
   "source": []
  },
  {
   "cell_type": "markdown",
   "metadata": {},
   "source": [
    "#### Ejercicio: \n",
    "\n",
    "Escribe una funcion `is_palindrome` que compruebe si una string que le pasamos es un palíndromo"
   ]
  },
  {
   "cell_type": "code",
   "execution_count": 9,
   "metadata": {},
   "outputs": [
    {
     "data": {
      "text/plain": [
       "'arcr'"
      ]
     },
     "execution_count": 9,
     "metadata": {},
     "output_type": "execute_result"
    }
   ],
   "source": [
    "'arrocero'[::2]"
   ]
  },
  {
   "cell_type": "markdown",
   "metadata": {},
   "source": [
    "#### Bonus\n",
    "\n",
    "las strings se pueden *slicear* con un tercer indice, que representa el paso. Sabiendo esto y que dejar indices vacios al *slicear* representa coger hasta el extremo, escribe una version de `is_palindrome` en una linea."
   ]
  },
  {
   "cell_type": "code",
   "execution_count": null,
   "metadata": {},
   "outputs": [],
   "source": []
  },
  {
   "cell_type": "markdown",
   "metadata": {},
   "source": [
    "#### Ejercicio\n",
    "\n",
    "Escribe un programa que ordene lexicograficamente una string. Es decir, que haga lo mismo que `sorted(string)`. No uses `sorted(string)`!!"
   ]
  },
  {
   "cell_type": "code",
   "execution_count": 10,
   "metadata": {},
   "outputs": [
    {
     "data": {
      "text/plain": [
       "True"
      ]
     },
     "execution_count": 10,
     "metadata": {},
     "output_type": "execute_result"
    }
   ],
   "source": [
    "'A' < 'a'"
   ]
  },
  {
   "cell_type": "markdown",
   "metadata": {},
   "source": [
    "```python\n",
    "string = 'jniuasasd'\n",
    "result = ''\n",
    "\n",
    "hasta terminar:\n",
    "    first = first_letter(string)\n",
    "    result += first\n",
    "    remove first from string\n",
    "    \n",
    "return result\n",
    "```"
   ]
  },
  {
   "cell_type": "code",
   "execution_count": 28,
   "metadata": {},
   "outputs": [
    {
     "name": "stdout",
     "output_type": "stream",
     "text": [
      "c\n",
      " \n",
      "A\n",
      "a\n"
     ]
    }
   ],
   "source": [
    "def first_letter(string):\n",
    "    first = string[0]\n",
    "    \n",
    "    for letter in string:\n",
    "        if letter < first:\n",
    "            first = letter\n",
    "    \n",
    "    return first\n",
    "    \n",
    "print(first_letter('sdcs'))\n",
    "print(first_letter('asd c s'))\n",
    "print(first_letter('asdcAs'))\n",
    "print(first_letter('sdcas'))"
   ]
  },
  {
   "cell_type": "markdown",
   "metadata": {},
   "source": [
    "```python\n",
    "string = 'jniuasasd'\n",
    "result = ''\n",
    "\n",
    "hasta terminar:\n",
    "    first = first_letter(string)\n",
    "    result += first\n",
    "    remove first from string\n",
    "    \n",
    "return result\n",
    "```"
   ]
  },
  {
   "cell_type": "code",
   "execution_count": 64,
   "metadata": {},
   "outputs": [
    {
     "name": "stdout",
     "output_type": "stream",
     "text": [
      "['a', 'a', 'a', 'a', 'a', 'a', 'a', 'c', 'd', 'd', 'd', 'd', 'd', 'd', 's', 's', 's', 's', 's', 's', 's', 's', 's']\n",
      "[' ', ' ', 'a', 'c', 'd', 's', 's']\n",
      "['A', 'a', 'c', 'd', 's', 's']\n",
      "['a', 'c', 'd', 's', 's']\n",
      "['a', 'a', 'a', 'a', 'a', 'a', 'a', 'c', 'd', 'd', 'd', 'd', 'd', 'd', 's', 's', 's', 's', 's', 's', 's', 's', 's']\n",
      "[' ', ' ', 'a', 'c', 'd', 's', 's']\n",
      "['A', 'a', 'c', 'd', 's', 's']\n",
      "['a', 'c', 'd', 's', 's']\n"
     ]
    }
   ],
   "source": [
    "def my_sort(string):\n",
    "    result = ''\n",
    "    \n",
    "    while len(string) > 0:\n",
    "        first = first_letter(string)\n",
    "        result += first\n",
    "        string = string.replace(first, '', 1)\n",
    "    \n",
    "    return list(result)\n",
    "\n",
    "\n",
    "print(my_sort('sasdsasadsaasdsdadsadcs'))\n",
    "print(my_sort('asd c s'))\n",
    "print(my_sort('asdcAs'))\n",
    "print(my_sort('sdcas'))\n",
    "\n",
    "print(sorted('sasdsasadsaasdsdadsadcs'))\n",
    "print(sorted('asd c s'))\n",
    "print(sorted('asdcAs'))\n",
    "print(sorted('sdcas'))"
   ]
  },
  {
   "cell_type": "code",
   "execution_count": 51,
   "metadata": {},
   "outputs": [],
   "source": [
    "string.replace()"
   ]
  },
  {
   "cell_type": "code",
   "execution_count": null,
   "metadata": {},
   "outputs": [],
   "source": []
  },
  {
   "cell_type": "code",
   "execution_count": null,
   "metadata": {},
   "outputs": [],
   "source": []
  },
  {
   "cell_type": "code",
   "execution_count": null,
   "metadata": {},
   "outputs": [],
   "source": []
  },
  {
   "cell_type": "code",
   "execution_count": null,
   "metadata": {},
   "outputs": [],
   "source": []
  },
  {
   "cell_type": "code",
   "execution_count": 5,
   "metadata": {},
   "outputs": [
    {
     "data": {
      "text/plain": [
       "['Albacete', 'Burgos', 'Soria']"
      ]
     },
     "execution_count": 5,
     "metadata": {},
     "output_type": "execute_result"
    }
   ],
   "source": [
    "test_list = ['Soria', 'Albacete', 'Burgos']\n",
    "sorted(test_list)"
   ]
  },
  {
   "cell_type": "code",
   "execution_count": 6,
   "metadata": {},
   "outputs": [
    {
     "data": {
      "text/plain": [
       "True"
      ]
     },
     "execution_count": 6,
     "metadata": {},
     "output_type": "execute_result"
    }
   ],
   "source": [
    "'Albacete' < 'Burgos'"
   ]
  },
  {
   "cell_type": "code",
   "execution_count": 17,
   "metadata": {},
   "outputs": [
    {
     "data": {
      "text/plain": [
       "26.56505117707799"
      ]
     },
     "execution_count": 17,
     "metadata": {},
     "output_type": "execute_result"
    }
   ],
   "source": [
    "math.atan(.5) * (180 / math.pi)"
   ]
  },
  {
   "cell_type": "code",
   "execution_count": 7,
   "metadata": {},
   "outputs": [
    {
     "data": {
      "text/plain": [
       "False"
      ]
     },
     "execution_count": 7,
     "metadata": {},
     "output_type": "execute_result"
    }
   ],
   "source": [
    "'Albacete' < 'Alava'"
   ]
  },
  {
   "cell_type": "markdown",
   "metadata": {},
   "source": [
    "#### Ejercicio\n",
    "\n",
    "escribe un programa que ordene lexicograficamente una lista de strings. Cuanto se parece al anterior?"
   ]
  },
  {
   "cell_type": "code",
   "execution_count": 78,
   "metadata": {},
   "outputs": [
    {
     "data": {
      "text/plain": [
       "-55.81227966080668"
      ]
     },
     "execution_count": 78,
     "metadata": {},
     "output_type": "execute_result"
    }
   ],
   "source": [
    "import math\n",
    "\n",
    "f_x = - 100\n",
    "\n",
    "angle = math.atan(-.2) * (180 / 2 * math.pi)\n",
    "angle"
   ]
  },
  {
   "cell_type": "markdown",
   "metadata": {},
   "source": [
    "#### Ejercicio\n",
    "\n",
    "El teorema de los infinitos monos:\n",
    "\n",
    "Cuanto tiempo tardaria un mono con maquina de escribir en generar el Quijote? o mejor, simplemente la frase \"en un lugar de la mancha\"\n",
    "\n",
    "Como los monos son caros y huelen, vamos a probar cuantas strings aleatorias de la longitud apropiada hace falta generar hasta encontrar la buena! Ademas, vamos a puntuar cada intento con cuanto se parece a la correcta, y vamos a mostrar la mejor puntuacion obtenida hasta ahora y la string en concreto, cada mil intentos. Por ultimo, retornaremos el numero de intentos que hemos necesitado."
   ]
  },
  {
   "cell_type": "code",
   "execution_count": 1,
   "metadata": {},
   "outputs": [
    {
     "data": {
      "text/plain": [
       "'abcdefghijklmnopqrstuvwxyzABCDEFGHIJKLMNOPQRSTUVWXYZ'"
      ]
     },
     "execution_count": 1,
     "metadata": {},
     "output_type": "execute_result"
    }
   ],
   "source": [
    "from string import ascii_letters\n",
    "\n",
    "ascii_letters"
   ]
  },
  {
   "cell_type": "code",
   "execution_count": null,
   "metadata": {},
   "outputs": [],
   "source": []
  },
  {
   "cell_type": "markdown",
   "metadata": {},
   "source": [
    "Pistas:\n",
    "\n",
    "* el modulo `random` tiene funciones que nos pueden interesar\n",
    "* Recordad el *top down approach*! dividid en subproblemas simples, que representen fracciones logicas del problema original y que podamos reutilizar."
   ]
  },
  {
   "cell_type": "code",
   "execution_count": null,
   "metadata": {
    "collapsed": true
   },
   "outputs": [],
   "source": []
  },
  {
   "cell_type": "markdown",
   "metadata": {},
   "source": [
    "#### Bonus:\n",
    "\n",
    "Modifica el programa de forma que conserve las letras correctas y solo intente cambiar una letra que no coincida con el objetivo: esto es lo que se llama un *hill climbing algorithm*"
   ]
  },
  {
   "cell_type": "code",
   "execution_count": null,
   "metadata": {
    "collapsed": true
   },
   "outputs": [],
   "source": []
  },
  {
   "cell_type": "markdown",
   "metadata": {},
   "source": [
    "#### Bonus II\n",
    "\n",
    "Haz un programa que compare los dos anteriores: queremos saber que aproximacion necesita menos intentos *de media*, de modo que necesitaremos correr cada uno de los anteriores un numero n de veces y calcular la media y la desviacion estandar de ambos."
   ]
  },
  {
   "cell_type": "code",
   "execution_count": null,
   "metadata": {
    "collapsed": true
   },
   "outputs": [],
   "source": []
  },
  {
   "cell_type": "markdown",
   "metadata": {},
   "source": [
    "#### Ejercicio\n",
    "\n",
    "Escribe una funcion que tome como entrada tres variables y devuelva la mayor de las tres. No uses la funcion `max()`!"
   ]
  },
  {
   "cell_type": "code",
   "execution_count": null,
   "metadata": {},
   "outputs": [],
   "source": []
  },
  {
   "cell_type": "markdown",
   "metadata": {},
   "source": [
    "#### Ejercicio\n",
    "\n",
    "Escribe una funcion que tome un string y devuelva `True` si la string es \"yes\", \"YES\", \"Yes\", \"Y\", o \"y\". En caso contrario, debe devolver `False`"
   ]
  },
  {
   "cell_type": "code",
   "execution_count": null,
   "metadata": {},
   "outputs": [],
   "source": []
  },
  {
   "cell_type": "markdown",
   "metadata": {},
   "source": [
    "#### Ejercicio\n",
    "\n",
    "Escribe una funcion que acepte una string y devuelva el numero de letras mayusculas y minusculas"
   ]
  },
  {
   "cell_type": "code",
   "execution_count": null,
   "metadata": {
    "collapsed": true
   },
   "outputs": [],
   "source": []
  },
  {
   "cell_type": "markdown",
   "metadata": {},
   "source": [
    "#### Ejercicio\n",
    "\n",
    "Escribe una funcion que genere y retorne un diccionario cuyas claves sean numeros entre 1 y 20 y los valores sean el cuadrado de las claves."
   ]
  },
  {
   "cell_type": "code",
   "execution_count": null,
   "metadata": {},
   "outputs": [],
   "source": []
  },
  {
   "cell_type": "markdown",
   "metadata": {},
   "source": [
    "#### Ejercicio\n",
    "\n",
    "Implementa el operador in para listas. Es decir, escribe una funcion que tome una lista y un valor escalar como argumentos y devuelva un booleano: True si el elemento estaba en la lista y False si no estaba. No uses in, si no el ejercicio no tiene sentido!"
   ]
  },
  {
   "cell_type": "code",
   "execution_count": null,
   "metadata": {},
   "outputs": [],
   "source": []
  },
  {
   "cell_type": "markdown",
   "metadata": {},
   "source": [
    "#### Ejercicio\n",
    "\n",
    "Escribe una funcion que tome una lista de numeros y devuelva una nueva lista que contenga solo el primer y ultimo elementos de la lista de entrada."
   ]
  },
  {
   "cell_type": "code",
   "execution_count": null,
   "metadata": {
    "collapsed": true
   },
   "outputs": [],
   "source": []
  },
  {
   "cell_type": "markdown",
   "metadata": {},
   "source": [
    "#### Ejercicio\n",
    "\n",
    "Escribe un problema que resuelva un viejo acertijo: si cuento 35 cabezas y 94 piernas entre los conejos y pollos de mi granja, cuantos conejos tengo? Hazlo iterando sobre las posibles soluciones, no resuelvas el sistema de ecuaciones!"
   ]
  },
  {
   "cell_type": "code",
   "execution_count": null,
   "metadata": {
    "collapsed": true
   },
   "outputs": [],
   "source": []
  },
  {
   "cell_type": "markdown",
   "metadata": {},
   "source": [
    "#### Ejercicio\n",
    "\n",
    "Implementa el metodo .count(x) de list. Puedes encontrar su definicion en https://docs.python.org/3/tutorial/datastructures.html. No uses el propio metodo, sino el ejercicio no tiene sentido!\n"
   ]
  },
  {
   "cell_type": "code",
   "execution_count": null,
   "metadata": {},
   "outputs": [],
   "source": []
  },
  {
   "cell_type": "markdown",
   "metadata": {},
   "source": [
    "#### Ejercicio\n",
    "\n",
    "\n",
    "Implementa el metodo .reverse() de list. Puedes encontrar su definicion en https://docs.python.org/3/tutorial/datastructures.html. No uses el propio metodo, si no el ejercicio no tiene sentido!"
   ]
  },
  {
   "cell_type": "code",
   "execution_count": null,
   "metadata": {
    "collapsed": true
   },
   "outputs": [],
   "source": []
  },
  {
   "cell_type": "markdown",
   "metadata": {},
   "source": [
    "#### Ejercicio\n",
    "\n",
    "Implementa el metodo `.index(x)` de `list`. Puedes encontrar su definicion en https://docs.python.org/2/tutorial/datastructures.html. No uses el propio metodo, si no el ejercicio no tiene sentido!"
   ]
  },
  {
   "cell_type": "code",
   "execution_count": null,
   "metadata": {
    "collapsed": true
   },
   "outputs": [],
   "source": []
  },
  {
   "cell_type": "markdown",
   "metadata": {},
   "source": [
    "#### Ejercicio\n",
    "\n",
    "Implementa el metodo .insert(i, x) de list. Puedes encontrar su definicion en https://docs.python.org/2/tutorial/datastructures.html. No uses el propio metodo, si no el ejercicio no tiene sentido!"
   ]
  },
  {
   "cell_type": "code",
   "execution_count": null,
   "metadata": {
    "collapsed": true
   },
   "outputs": [],
   "source": []
  },
  {
   "cell_type": "markdown",
   "metadata": {},
   "source": [
    "#### Ejercicio\n",
    "\n",
    "El teorema de Euclides afirma que el maximo comun divisor de m y n es n si n es divisor de m. Si no lo es, el maximo comun divisor de m y n es el maximo comun divisor de n y el resto de m dividido por n. Implementa el teorema de Euclides con una funcion recursiva."
   ]
  },
  {
   "cell_type": "code",
   "execution_count": null,
   "metadata": {},
   "outputs": [],
   "source": []
  }
 ],
 "metadata": {
  "kernelspec": {
   "display_name": "Python 3",
   "language": "python",
   "name": "python3"
  },
  "language_info": {
   "codemirror_mode": {
    "name": "ipython",
    "version": 3
   },
   "file_extension": ".py",
   "mimetype": "text/x-python",
   "name": "python",
   "nbconvert_exporter": "python",
   "pygments_lexer": "ipython3",
   "version": "3.6.6"
  }
 },
 "nbformat": 4,
 "nbformat_minor": 1
}
