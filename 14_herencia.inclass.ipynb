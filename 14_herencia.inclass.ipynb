{
 "cells": [
  {
   "cell_type": "markdown",
   "metadata": {
    "slideshow": {
     "slide_type": "slide"
    }
   },
   "source": [
    "# Herencia en POO\n",
    "\n",
    "<img src=\"https://www.python.org/static/img/python-logo.png\" alt=\"yogen\" style=\"width: 200px; float: right;\"/>\n",
    "<br>\n",
    "<br>\n",
    "<br>\n",
    "<a href = \"http://yogen.io\"><img src=\"http://yogen.io/assets/logo.svg\" alt=\"yogen\" style=\"width: 200px; float: right;\"/></a>"
   ]
  },
  {
   "cell_type": "markdown",
   "metadata": {
    "slideshow": {
     "slide_type": "slide"
    }
   },
   "source": [
    "# Objetivos\n",
    "\n",
    "- Comprender cómo la herencia nos ayuda a reducir la repetición en nuestros programas."
   ]
  },
  {
   "cell_type": "markdown",
   "metadata": {},
   "source": [
    "## Sin herencia\n",
    "\n",
    "Tenemos código en distintas clases que hace las mismas operaciones."
   ]
  },
  {
   "cell_type": "code",
   "execution_count": 3,
   "metadata": {},
   "outputs": [],
   "source": [
    "class Customer(object):\n",
    "    def __init__(self, name, family_name, date_of_birth, account):\n",
    "        self.name = name\n",
    "        self.family_name = family_name\n",
    "        self.date_of_birth = date_of_birth\n",
    "        self.account  = account\n",
    "    \n",
    "    \n",
    "class Employee(object):\n",
    "    def __init__(self, name, family_name, date_of_birth, department, line_manager):\n",
    "        self.name = name\n",
    "        self.family_name = family_name\n",
    "        self.date_of_birth = date_of_birth\n",
    "        self.department  = department\n",
    "        self.line_manager = line_manager\n",
    "        \n",
    "dani = Customer('Dani', 'Mateos', '1984-05-23', None)    \n",
    "fausto = Employee('Fausto', 'Fernandez', '1976-09-02', 'Sales', 'Tato')\n",
    "        "
   ]
  },
  {
   "cell_type": "code",
   "execution_count": 14,
   "metadata": {},
   "outputs": [],
   "source": [
    "from datetime import date\n",
    "\n",
    "class Customer(object):\n",
    "    @staticmethod\n",
    "    def string_to_datetime(string):\n",
    "        year, month, day = string.split('-')\n",
    "        return date(int(year), int(month), int(day))\n",
    "\n",
    "    def __init__(self, name, family_name, date_of_birth, account):\n",
    "        self.name = name\n",
    "        self.family_name = family_name\n",
    "        self.date_of_birth = Customer.string_to_datetime(date_of_birth)\n",
    "        self.account  = account\n",
    "    \n",
    "    \n",
    "class Employee(object):\n",
    "    @staticmethod\n",
    "    def string_to_datetime(string):\n",
    "        year, month, day = string.split('-')\n",
    "        return date(int(year), int(month), int(day))\n",
    "\n",
    "    def __init__(self, name, family_name, date_of_birth, department, line_manager):\n",
    "        self.name = name\n",
    "        self.family_name = family_name\n",
    "        self.date_of_birth = date_of_birth\n",
    "        self.date_of_birth = Employee.string_to_datetime(date_of_birth)\n",
    "        self.department = department\n",
    "        self.line_manager = line_manager\n",
    "        \n",
    "dani = Customer('Dani', 'Mateos', '1984-05-23', None)    \n",
    "fausto = Employee('Fausto', 'Fernandez', '1976-09-02', 'Sales', 'Tato')"
   ]
  },
  {
   "cell_type": "markdown",
   "metadata": {},
   "source": [
    "## Con herencia\n",
    "\n",
    "Podemos abstraer el comportamiento común a ambas clases a una clase llamada `Person`. Esto nos permitirá poner en `Customer` y en `Employee` sólo el comportamiento específico de esas clases. "
   ]
  },
  {
   "cell_type": "code",
   "execution_count": 23,
   "metadata": {},
   "outputs": [
    {
     "name": "stdout",
     "output_type": "stream",
     "text": [
      "Entro en el __init__ de Customer\n",
      "Entro en el __init__ de Person\n",
      "Salgo del __init__ de Person\n",
      "Salgo del __init__ de Customer\n",
      "Entro en el __init__ de Person\n",
      "Salgo del __init__ de Person\n"
     ]
    }
   ],
   "source": [
    "from datetime import date\n",
    "\n",
    "class Person(object):\n",
    "    @staticmethod\n",
    "    def string_to_datetime(string):\n",
    "        year, month, day = string.split('-')\n",
    "        return date(int(year), int(month), int(day))    \n",
    "    \n",
    "    def __init__(self, name, family_name, date_of_birth):\n",
    "        print('Entro en el __init__ de Person')\n",
    "        self.name = name\n",
    "        self.family_name = family_name\n",
    "        self.date_of_birth = Person.string_to_datetime(date_of_birth)\n",
    "        print('Salgo del __init__ de Person')\n",
    "        \n",
    "class Customer(Person):\n",
    "    def __init__(self, name, family_name, date_of_birth, account):\n",
    "        print('Entro en el __init__ de Customer')\n",
    "        super().__init__(name, family_name, date_of_birth)\n",
    "        self.account  = account\n",
    "        print('Salgo del __init__ de Customer')\n",
    "    \n",
    "    \n",
    "class Employee(Person):\n",
    "    def __init__(self, name, family_name, date_of_birth, department, line_manager):\n",
    "        super().__init__(name, family_name, date_of_birth)\n",
    "        self.department = department\n",
    "        self.line_manager = line_manager\n",
    "        \n",
    "dani = Customer('Dani', 'Mateos', '1984-05-23', None)    \n",
    "fausto = Employee('Fausto', 'Fernandez', '1976-09-02', 'Sales', 'Tato')"
   ]
  },
  {
   "cell_type": "code",
   "execution_count": 20,
   "metadata": {},
   "outputs": [
    {
     "data": {
      "text/plain": [
       "__main__.Employee"
      ]
     },
     "execution_count": 20,
     "metadata": {},
     "output_type": "execute_result"
    }
   ],
   "source": [
    "type(fausto)"
   ]
  },
  {
   "cell_type": "markdown",
   "metadata": {},
   "source": [
    "Las clases derivadas heredan también métodos. \n",
    "\n",
    "Éstos métodos se pueden sobreescribir:\n",
    "\n",
    "Podemos hacer la jerarquía de herencia todo lo profunda que queramos:"
   ]
  },
  {
   "cell_type": "code",
   "execution_count": 34,
   "metadata": {},
   "outputs": [
    {
     "name": "stdout",
     "output_type": "stream",
     "text": [
      "Hi there!I'm Dani Mateos\n",
      "Hi there!I'm Fausto Fernandez\n",
      "I am but a worm at your service, Tato\n"
     ]
    }
   ],
   "source": [
    "from datetime import date\n",
    "\n",
    "class Person(object):\n",
    "    @staticmethod\n",
    "    def string_to_datetime(string):\n",
    "        year, month, day = string.split('-')\n",
    "        return date(int(year), int(month), int(day))    \n",
    "    \n",
    "    def __init__(self, name, family_name, date_of_birth):\n",
    "        self.name = name\n",
    "        self.family_name = family_name\n",
    "        self.date_of_birth = Person.string_to_datetime(date_of_birth)\n",
    "        \n",
    "    def say_hi(self):\n",
    "        print('Hi there!I\\'m %s %s' % (self.name, self.family_name))\n",
    "        \n",
    "class Customer(Person):\n",
    "    def __init__(self, name, family_name, date_of_birth, account):\n",
    "        super().__init__(name, family_name, date_of_birth)\n",
    "        self.account  = account\n",
    "    \n",
    "    \n",
    "class Employee(Person):\n",
    "    def __init__(self, name, family_name, date_of_birth, department, line_manager):\n",
    "        super().__init__(name, family_name, date_of_birth)\n",
    "        self.department = department\n",
    "        self.line_manager = line_manager\n",
    "        \n",
    "    def say_hi(self, other):\n",
    "        if other == self.line_manager:\n",
    "            print('I am but a worm at your service, %s' % self.line_manager)\n",
    "        else:\n",
    "            super().say_hi()\n",
    "        \n",
    "dani = Customer('Dani', 'Mateos', '1984-05-23', None)    \n",
    "fausto = Employee('Fausto', 'Fernandez', '1976-09-02', 'Sales', 'Tato')\n",
    "dani.say_hi()\n",
    "fausto.say_hi('Dani')\n",
    "fausto.say_hi('Tato')"
   ]
  },
  {
   "cell_type": "code",
   "execution_count": 38,
   "metadata": {},
   "outputs": [
    {
     "name": "stdout",
     "output_type": "stream",
     "text": [
      "Hi there!I'm Dani Mateos\n",
      "Hi there!I'm Fausto Fernandez\n",
      "I am but a worm at your service, Tato\n",
      "I apologize for my miserable existence, please accept coffeee and photocopies as offering\n"
     ]
    }
   ],
   "source": [
    "from datetime import date\n",
    "\n",
    "class Person(object):\n",
    "    @staticmethod\n",
    "    def string_to_datetime(string):\n",
    "        year, month, day = string.split('-')\n",
    "        return date(int(year), int(month), int(day))    \n",
    "    \n",
    "    def __init__(self, name, family_name, date_of_birth):\n",
    "        self.name = name\n",
    "        self.family_name = family_name\n",
    "        self.date_of_birth = Person.string_to_datetime(date_of_birth)\n",
    "        \n",
    "    def say_hi(self):\n",
    "        print('Hi there!I\\'m %s %s' % (self.name, self.family_name))\n",
    "        \n",
    "class Customer(Person):\n",
    "    def __init__(self, name, family_name, date_of_birth, account):\n",
    "        super().__init__(name, family_name, date_of_birth)\n",
    "        self.account  = account\n",
    "    \n",
    "    \n",
    "class Employee(Person):\n",
    "    def __init__(self, name, family_name, date_of_birth, department, line_manager):\n",
    "        super().__init__(name, family_name, date_of_birth)\n",
    "        self.department = department\n",
    "        self.line_manager = line_manager\n",
    "        \n",
    "    def say_hi(self, other):\n",
    "        if other == self.line_manager:\n",
    "            print('I am but a worm at your service, %s' % self.line_manager)\n",
    "        else:\n",
    "            super().say_hi()\n",
    "        \n",
    "class Intern(Employee):\n",
    "    def __init__(self, name, family_name, date_of_birth, department, line_manager):\n",
    "        super().__init__(name, family_name, date_of_birth, department, line_manager)\n",
    "    \n",
    "    def say_hi(self):\n",
    "        print('I apologize for my miserable existence, please accept coffeee and photocopies as offering')\n",
    "        \n",
    "dani = Customer('Dani', 'Mateos', '1984-05-23', None)    \n",
    "fausto = Employee('Fausto', 'Fernandez', '1976-09-02', 'Sales', 'Tato')\n",
    "dani.say_hi()\n",
    "fausto.say_hi('Dani')\n",
    "fausto.say_hi('Tato')\n",
    "jose = Intern('Jose', 'Fernandez', '1976-09-02', 'Sales', fausto)\n",
    "jose.say_hi()"
   ]
  },
  {
   "cell_type": "code",
   "execution_count": 40,
   "metadata": {},
   "outputs": [
    {
     "data": {
      "text/plain": [
       "2"
      ]
     },
     "execution_count": 40,
     "metadata": {},
     "output_type": "execute_result"
    }
   ],
   "source": [
    "jose.line_manager.date_of_birth.day"
   ]
  },
  {
   "cell_type": "markdown",
   "metadata": {},
   "source": [
    "Una clase derivada representa frente a su clase base una relación del tipo \"es-un\": un `Intern` es un `Employee`. \n",
    "\n",
    "A su vez, un `Employee` es una `Person`, por lo que un `Intern` es también una `Person`."
   ]
  },
  {
   "cell_type": "code",
   "execution_count": 42,
   "metadata": {},
   "outputs": [
    {
     "data": {
      "text/plain": [
       "__main__.Intern"
      ]
     },
     "execution_count": 42,
     "metadata": {},
     "output_type": "execute_result"
    }
   ],
   "source": [
    "type(jose)"
   ]
  },
  {
   "cell_type": "code",
   "execution_count": 43,
   "metadata": {},
   "outputs": [
    {
     "data": {
      "text/plain": [
       "False"
      ]
     },
     "execution_count": 43,
     "metadata": {},
     "output_type": "execute_result"
    }
   ],
   "source": [
    "type(dani) == type(jose)"
   ]
  },
  {
   "cell_type": "code",
   "execution_count": 44,
   "metadata": {},
   "outputs": [
    {
     "data": {
      "text/plain": [
       "True"
      ]
     },
     "execution_count": 44,
     "metadata": {},
     "output_type": "execute_result"
    }
   ],
   "source": [
    "isinstance(dani, Person)"
   ]
  },
  {
   "cell_type": "code",
   "execution_count": 45,
   "metadata": {},
   "outputs": [
    {
     "data": {
      "text/plain": [
       "True"
      ]
     },
     "execution_count": 45,
     "metadata": {},
     "output_type": "execute_result"
    }
   ],
   "source": [
    "isinstance(jose, Person)"
   ]
  },
  {
   "cell_type": "code",
   "execution_count": 46,
   "metadata": {},
   "outputs": [
    {
     "data": {
      "text/plain": [
       "True"
      ]
     },
     "execution_count": 46,
     "metadata": {},
     "output_type": "execute_result"
    }
   ],
   "source": [
    "issubclass(Intern, Person)"
   ]
  },
  {
   "cell_type": "markdown",
   "metadata": {},
   "source": [
    "#### Ejercicio\n",
    "\n",
    "Busca el codigo duplicado en la implementacion de la playa que escribimos en el otro módulo y asbtráelo a una clase de la que hereden las clases apropiadas."
   ]
  },
  {
   "cell_type": "code",
   "execution_count": null,
   "metadata": {
    "collapsed": true
   },
   "outputs": [],
   "source": []
  },
  {
   "cell_type": "markdown",
   "metadata": {},
   "source": [
    "#### Ejercicio\n",
    "\n",
    "Escribe una jerarquía de herencia que represente las relaciones entre los conceptos `PhysicalObject`, `Car`, `Motorcycle`, `Bicycle`, y los intermedios que consideres necesarios."
   ]
  },
  {
   "cell_type": "code",
   "execution_count": 62,
   "metadata": {},
   "outputs": [
    {
     "name": "stdout",
     "output_type": "stream",
     "text": [
      "0 50\n",
      "450 44\n"
     ]
    }
   ],
   "source": [
    "class PhysicalObject(object):\n",
    "    def __init__(self, position):\n",
    "        self.position = position\n",
    "        \n",
    "class Vehicle(PhysicalObject):\n",
    "    def __init__(self, capacity, speed):\n",
    "        super().__init__(0)\n",
    "        self.capacity = capacity\n",
    "        self.speed = speed\n",
    "        \n",
    "    def move(self, time):\n",
    "        self.position += self.speed * time\n",
    "        \n",
    "class MotorVehicle(Vehicle):\n",
    "    def __init__(self, capacity, speed, fuel, fuel_consumption):\n",
    "        super().__init__(capacity, speed)\n",
    "        self.fuel = fuel\n",
    "        self.fuel_consumption = fuel_consumption\n",
    "\n",
    "    def move(self, time):\n",
    "        super().move(time)\n",
    "        self.fuel -= self.fuel_consumption * time\n",
    "        \n",
    "my_dads_car = MotorVehicle(4, 150, 50, 2)\n",
    "print(my_dads_car.position, my_dads_car.fuel)\n",
    "my_dads_car.move(3)\n",
    "print(my_dads_car.position, my_dads_car.fuel)"
   ]
  },
  {
   "cell_type": "code",
   "execution_count": 70,
   "metadata": {},
   "outputs": [
    {
     "name": "stdout",
     "output_type": "stream",
     "text": [
      "0 50\n",
      "450 44\n"
     ]
    },
    {
     "data": {
      "text/plain": [
       "90"
      ]
     },
     "execution_count": 70,
     "metadata": {},
     "output_type": "execute_result"
    }
   ],
   "source": [
    "class PhysicalObject(object):\n",
    "    def __init__(self, position):\n",
    "        self.position = position\n",
    "        \n",
    "class Vehicle(PhysicalObject):\n",
    "    def __init__(self, capacity, speed):\n",
    "        super().__init__(0)\n",
    "        self.capacity = capacity\n",
    "        self.speed = speed\n",
    "        \n",
    "    def move(self, time):\n",
    "        self.position += self.speed * time\n",
    "        \n",
    "class MotorVehicle(Vehicle):\n",
    "    def __init__(self, capacity, speed, fuel, fuel_consumption):\n",
    "        super().__init__(capacity, speed)\n",
    "        self.fuel = fuel\n",
    "        self.fuel_consumption = fuel_consumption\n",
    "\n",
    "    def move(self, time):\n",
    "        super().move(time)\n",
    "        self.fuel -= self.fuel_consumption * time\n",
    "        \n",
    "class Bicycle(Vehicle):\n",
    "    def __init__(self):\n",
    "        super().__init__(1, 30)\n",
    "    \n",
    "class MTB(Bicycle):\n",
    "    def move(self, time):\n",
    "        super().move(time)\n",
    "\n",
    "my_dads_car = MotorVehicle(4, 150, 50, 2)\n",
    "print(my_dads_car.position, my_dads_car.fuel)\n",
    "my_dads_car.move(3)\n",
    "print(my_dads_car.position, my_dads_car.fuel)\n",
    "my_bike = MTB()\n",
    "my_bike.move(3)\n",
    "my_bike.position"
   ]
  },
  {
   "cell_type": "code",
   "execution_count": 49,
   "metadata": {},
   "outputs": [
    {
     "data": {
      "text/plain": [
       "True"
      ]
     },
     "execution_count": 49,
     "metadata": {},
     "output_type": "execute_result"
    }
   ],
   "source": [
    "issubclass(Person, object)"
   ]
  },
  {
   "cell_type": "markdown",
   "metadata": {},
   "source": [
    "Vamos a complicar un poco la jerarquía introduciendo `MotorVehicle`:"
   ]
  },
  {
   "cell_type": "markdown",
   "metadata": {},
   "source": [
    "Hemos abstraído las características comunes a `Vehicle` y las específicas de `Bicycle` y de `MotorVehicle`. Ahora, si queremos modificar el método `move`, lo podremos hacer en el sitio apropiado y sólo una vez."
   ]
  },
  {
   "cell_type": "code",
   "execution_count": null,
   "metadata": {},
   "outputs": [],
   "source": []
  },
  {
   "cell_type": "markdown",
   "metadata": {},
   "source": [
    "Escribe una clase `Character` que contenga los atributos `life`, `position` y `speed`, y los métodos `take_damage`, que reduzca la vida según una cantidad recibida y lance una excepción si la vida pasa a ser menor o igual que cero, y `move` que reciba una dirección y se mueva en esa dirección la cantidad indicada por la velocidad.\n",
    "\n",
    "Escribir una clase `Soldier` que herede de `Character`, y agregue el atributo `damage` y el método `attack`, que reciba otro personaje, al que le debe hacer el daño indicado por el atributo `damage`.\n"
   ]
  },
  {
   "cell_type": "code",
   "execution_count": 86,
   "metadata": {},
   "outputs": [
    {
     "ename": "ValueError",
     "evalue": "Mueeeero maldito panadero",
     "output_type": "error",
     "traceback": [
      "\u001b[0;31m---------------------------------------------------------------------------\u001b[0m",
      "\u001b[0;31mValueError\u001b[0m                                Traceback (most recent call last)",
      "\u001b[0;32m<ipython-input-86-279c21c0c24f>\u001b[0m in \u001b[0;36m<module>\u001b[0;34m()\u001b[0m\n\u001b[1;32m     30\u001b[0m \u001b[0mpeasant\u001b[0m\u001b[0;34m.\u001b[0m\u001b[0mposition\u001b[0m\u001b[0;34m\u001b[0m\u001b[0m\n\u001b[1;32m     31\u001b[0m \u001b[0mbully\u001b[0m \u001b[0;34m=\u001b[0m \u001b[0mSoldier\u001b[0m\u001b[0;34m(\u001b[0m\u001b[0;36m10\u001b[0m\u001b[0;34m,\u001b[0m \u001b[0;36m8\u001b[0m\u001b[0;34m,\u001b[0m \u001b[0;36m3\u001b[0m\u001b[0;34m,\u001b[0m \u001b[0;36m25\u001b[0m\u001b[0;34m)\u001b[0m\u001b[0;34m\u001b[0m\u001b[0m\n\u001b[0;32m---> 32\u001b[0;31m \u001b[0mbully\u001b[0m\u001b[0;34m.\u001b[0m\u001b[0mattack\u001b[0m\u001b[0;34m(\u001b[0m\u001b[0mpeasant\u001b[0m\u001b[0;34m)\u001b[0m\u001b[0;34m\u001b[0m\u001b[0m\n\u001b[0m",
      "\u001b[0;32m<ipython-input-86-279c21c0c24f>\u001b[0m in \u001b[0;36mattack\u001b[0;34m(self, other)\u001b[0m\n\u001b[1;32m     23\u001b[0m \u001b[0;34m\u001b[0m\u001b[0m\n\u001b[1;32m     24\u001b[0m     \u001b[0;32mdef\u001b[0m \u001b[0mattack\u001b[0m\u001b[0;34m(\u001b[0m\u001b[0mself\u001b[0m\u001b[0;34m,\u001b[0m \u001b[0mother\u001b[0m\u001b[0;34m)\u001b[0m\u001b[0;34m:\u001b[0m\u001b[0;34m\u001b[0m\u001b[0m\n\u001b[0;32m---> 25\u001b[0;31m         \u001b[0mother\u001b[0m\u001b[0;34m.\u001b[0m\u001b[0mtake_damage\u001b[0m\u001b[0;34m(\u001b[0m\u001b[0mself\u001b[0m\u001b[0;34m.\u001b[0m\u001b[0mdamage\u001b[0m\u001b[0;34m)\u001b[0m\u001b[0;34m\u001b[0m\u001b[0m\n\u001b[0m\u001b[1;32m     26\u001b[0m \u001b[0;34m\u001b[0m\u001b[0m\n\u001b[1;32m     27\u001b[0m \u001b[0;34m\u001b[0m\u001b[0m\n",
      "\u001b[0;32m<ipython-input-86-279c21c0c24f>\u001b[0m in \u001b[0;36mtake_damage\u001b[0;34m(self, damage)\u001b[0m\n\u001b[1;32m      9\u001b[0m \u001b[0;34m\u001b[0m\u001b[0m\n\u001b[1;32m     10\u001b[0m         \u001b[0;32mif\u001b[0m \u001b[0mself\u001b[0m\u001b[0;34m.\u001b[0m\u001b[0mlife\u001b[0m \u001b[0;34m<\u001b[0m \u001b[0;36m0\u001b[0m\u001b[0;34m:\u001b[0m\u001b[0;34m\u001b[0m\u001b[0m\n\u001b[0;32m---> 11\u001b[0;31m             \u001b[0;32mraise\u001b[0m \u001b[0mValueError\u001b[0m\u001b[0;34m(\u001b[0m\u001b[0;34m'Mueeeero maldito panadero'\u001b[0m\u001b[0;34m)\u001b[0m\u001b[0;34m\u001b[0m\u001b[0m\n\u001b[0m\u001b[1;32m     12\u001b[0m \u001b[0;34m\u001b[0m\u001b[0m\n\u001b[1;32m     13\u001b[0m     \u001b[0;32mdef\u001b[0m \u001b[0mmove\u001b[0m\u001b[0;34m(\u001b[0m\u001b[0mself\u001b[0m\u001b[0;34m,\u001b[0m \u001b[0mdirection\u001b[0m\u001b[0;34m)\u001b[0m\u001b[0;34m:\u001b[0m\u001b[0;34m\u001b[0m\u001b[0m\n",
      "\u001b[0;31mValueError\u001b[0m: Mueeeero maldito panadero"
     ]
    }
   ],
   "source": [
    "class Character():\n",
    "    def __init__(self, life, position, speed):\n",
    "        self.life = life\n",
    "        self.position = position\n",
    "        self.speed = speed\n",
    "    \n",
    "    def take_damage(self, damage):\n",
    "        self.life -= damage\n",
    "        \n",
    "        if self.life < 0:\n",
    "            raise ValueError('Mueeeero maldito panadero')\n",
    "            \n",
    "    def move(self, direction):\n",
    "        if direction == 'left':\n",
    "            self.position -= self.speed\n",
    "        elif direction == 'right':\n",
    "            self.position += self.speed\n",
    "\n",
    "class Soldier(Character):\n",
    "    def __init__(self, life, position, speed, damage):\n",
    "        super().__init__(life, position, speed)\n",
    "        self.damage = damage\n",
    "        \n",
    "    def attack(self, other):\n",
    "        other.take_damage(self.damage)\n",
    "    \n",
    "            \n",
    "peasant = Character(10, 8, 3)\n",
    "peasant.move('left')\n",
    "peasant.position\n",
    "bully = Soldier(10, 8, 3, 25)\n",
    "bully.attack(peasant)"
   ]
  }
 ],
 "metadata": {
  "celltoolbar": "Slideshow",
  "kernelspec": {
   "display_name": "Python 3",
   "language": "python",
   "name": "python3"
  },
  "language_info": {
   "codemirror_mode": {
    "name": "ipython",
    "version": 3
   },
   "file_extension": ".py",
   "mimetype": "text/x-python",
   "name": "python",
   "nbconvert_exporter": "python",
   "pygments_lexer": "ipython3",
   "version": "3.6.6"
  },
  "livereveal": {
   "scroll": true,
   "start_slideshow_at": "selected"
  }
 },
 "nbformat": 4,
 "nbformat_minor": 2
}
