{
 "cells": [
  {
   "cell_type": "markdown",
   "metadata": {
    "slideshow": {
     "slide_type": "slide"
    }
   },
   "source": [
    "# Bucles\n",
    "\n",
    "<img src=\"https://www.python.org/static/img/python-logo.png\" alt=\"yogen\" style=\"width: 200px; float: right;\"/>\n",
    "<br>\n",
    "<br>\n",
    "<br>\n",
    "<a href = \"http://yogen.io\"><img src=\"http://yogen.io/assets/logo.svg\" alt=\"yogen\" style=\"width: 200px; float: right;\"/></a>"
   ]
  },
  {
   "cell_type": "markdown",
   "metadata": {
    "slideshow": {
     "slide_type": "slide"
    }
   },
   "source": [
    "# Objetivos \n",
    "\n",
    "-   Conocer el concepto de bucle\n",
    "\n",
    "-   Repetir comandos sin tener que escribirlos muchas veces usando\n",
    "    diferentes tipos de bucles\n",
    "\n",
    "-   Conocer cómo gestionar e interrumpir bucles desde nuestros programas"
   ]
  },
  {
   "cell_type": "markdown",
   "metadata": {
    "slideshow": {
     "slide_type": "slide"
    }
   },
   "source": [
    "# Bucles for \n",
    "\n",
    "### Ejemplo\n",
    "\n",
    "### Método de Newton para calcular una raíz cuadrada \n",
    "\n",
    "Si tenemos un cuadrado de área $A$, sabemos que el lado L del cuadrado\n",
    "\n",
    "$$L=\\sqrt{A}$$"
   ]
  },
  {
   "cell_type": "markdown",
   "metadata": {
    "slideshow": {
     "slide_type": "slide"
    }
   },
   "source": [
    "# Bucles for \n",
    "\n",
    "### Ejemplo\n",
    "\n",
    "### Método de Newton para calcular una raíz cuadrada \n",
    "\n",
    "Podemos usar esta propiedad para ir aproximando el valor de la raíz\n",
    "cuadrada, usando rectángulos de área $A$\n",
    "\n",
    "![image](figs/cuadrado.png)"
   ]
  },
  {
   "cell_type": "markdown",
   "metadata": {
    "slideshow": {
     "slide_type": "slide"
    }
   },
   "source": [
    "# Bucles for \n",
    "\n",
    "### Ejemplo\n",
    "\n",
    "### Método de Newton para calcular una raíz cuadrada \n",
    "\n",
    "Al repetir el proceso varias veces tendremos que \n",
    "\n",
    "$$L_n \\simeq W_n \\simeq \\sqrt{A}$$\n",
    "\n",
    "![image](figs/ultimopaso.png)"
   ]
  },
  {
   "cell_type": "markdown",
   "metadata": {
    "slideshow": {
     "slide_type": "slide"
    }
   },
   "source": [
    "## Programa para aproximar la raíz\n",
    "\n",
    "Podemos escribir todos los pasos explícitamente:"
   ]
  },
  {
   "cell_type": "code",
   "execution_count": 14,
   "metadata": {
    "slideshow": {
     "slide_type": "fragment"
    }
   },
   "outputs": [
    {
     "data": {
      "text/plain": [
       "4.002257524798522"
      ]
     },
     "execution_count": 14,
     "metadata": {},
     "output_type": "execute_result"
    }
   ],
   "source": [
    "A = 16\n",
    "\n",
    "L = A\n",
    "W = L / A\n",
    "\n",
    "L2 = (L + W) / 2\n",
    "W2 = A / L2\n",
    "\n",
    "L3 = (L2 + W2) / 2\n",
    "W3 = A / L3\n",
    "\n",
    "L4 = (L3 + W3) / 2\n",
    "W4 = A / L4\n",
    "\n",
    "L5 = (L4 + W4) / 2\n",
    "W5 = A / L5\n",
    "\n",
    "L5"
   ]
  },
  {
   "cell_type": "markdown",
   "metadata": {
    "slideshow": {
     "slide_type": "fragment"
    }
   },
   "source": [
    "¿Se puede mejorar este programa?"
   ]
  },
  {
   "cell_type": "markdown",
   "metadata": {
    "slideshow": {
     "slide_type": "slide"
    }
   },
   "source": [
    "## Programa para aproximar la raíz\n",
    "\n",
    "No tenemos por qué guardar todos los valores intermedios en sus variables respectivas, ¿no?"
   ]
  },
  {
   "cell_type": "code",
   "execution_count": 15,
   "metadata": {
    "slideshow": {
     "slide_type": "fragment"
    }
   },
   "outputs": [
    {
     "data": {
      "text/plain": [
       "4.000000636692939"
      ]
     },
     "execution_count": 15,
     "metadata": {},
     "output_type": "execute_result"
    }
   ],
   "source": [
    "A = 16\n",
    "\n",
    "L = A\n",
    "W = L / A\n",
    "\n",
    "L = (L + W) / 2\n",
    "W = A / L\n",
    "\n",
    "L = (L + W) / 2\n",
    "W = A / L\n",
    "\n",
    "L = (L + W) / 2\n",
    "W = A / L\n",
    "\n",
    "L = (L + W) / 2\n",
    "W = A / L\n",
    "\n",
    "L = (L + W) / 2\n",
    "W = A / L\n",
    "\n",
    "L"
   ]
  },
  {
   "cell_type": "markdown",
   "metadata": {
    "slideshow": {
     "slide_type": "fragment"
    }
   },
   "source": [
    "¿Se puede mejorar este programa?"
   ]
  },
  {
   "cell_type": "markdown",
   "metadata": {
    "slideshow": {
     "slide_type": "slide"
    }
   },
   "source": [
    "## Estructura general del bucle for\n",
    "\n",
    "\n",
    "\n",
    "```python\n",
    "          N = _____       # Numero de repeticiones del bucle\n",
    "\n",
    "          for k in range(N):  # k es el contador\n",
    "             # Codigo          # Cuerpo del bucle\n",
    "             # Codigo          # Estas instrucciones se repetiran\n",
    "```             "
   ]
  },
  {
   "cell_type": "code",
   "execution_count": 17,
   "metadata": {},
   "outputs": [
    {
     "name": "stdout",
     "output_type": "stream",
     "text": [
      "holi\n",
      "holi\n",
      "holi\n",
      "holi\n",
      "holi\n",
      "holi\n",
      "holi\n",
      "holi\n"
     ]
    }
   ],
   "source": [
    "N = 8\n",
    "\n",
    "for k in range(N):\n",
    "    print('holi')"
   ]
  },
  {
   "cell_type": "markdown",
   "metadata": {
    "slideshow": {
     "slide_type": "slide"
    }
   },
   "source": [
    "## Bucles\n",
    "\n",
    "Hagamos que la máquina repita las mismas instrucciones las veces que haga falta, sin tener que repetirlas nosotros."
   ]
  },
  {
   "cell_type": "code",
   "execution_count": 23,
   "metadata": {
    "slideshow": {
     "slide_type": "fragment"
    }
   },
   "outputs": [
    {
     "data": {
      "text/plain": [
       "4.000000636692939"
      ]
     },
     "execution_count": 23,
     "metadata": {},
     "output_type": "execute_result"
    }
   ],
   "source": [
    "A = 16\n",
    "L = A\n",
    "W = L / A\n",
    "\n",
    "for i in range(5):\n",
    "    L = (L + W) / 2\n",
    "    W = A / L\n",
    "\n",
    "L"
   ]
  },
  {
   "cell_type": "markdown",
   "metadata": {
    "slideshow": {
     "slide_type": "slide"
    }
   },
   "source": [
    "## Bucles con variables\n",
    "\n",
    "Mejora: número arbitrario de pasos"
   ]
  },
  {
   "cell_type": "code",
   "execution_count": 27,
   "metadata": {
    "slideshow": {
     "slide_type": "fragment"
    }
   },
   "outputs": [
    {
     "data": {
      "text/plain": [
       "4.002257524798522"
      ]
     },
     "execution_count": 27,
     "metadata": {},
     "output_type": "execute_result"
    }
   ],
   "source": [
    "A = 16\n",
    "N = 4\n",
    "L = A\n",
    "W = L / A\n",
    "\n",
    "for i in range(N):\n",
    "    L = (L + W) / 2\n",
    "    W = A / L\n",
    "\n",
    "L"
   ]
  },
  {
   "cell_type": "markdown",
   "metadata": {
    "slideshow": {
     "slide_type": "fragment"
    }
   },
   "source": [
    "### Pregunta\n",
    "\n",
    "¿Qué resultado da este programa?"
   ]
  },
  {
   "cell_type": "code",
   "execution_count": 28,
   "metadata": {
    "slideshow": {
     "slide_type": "fragment"
    }
   },
   "outputs": [
    {
     "name": "stdout",
     "output_type": "stream",
     "text": [
      "1\n",
      "2\n",
      "3\n",
      "4\n",
      "5\n",
      "6\n",
      "7\n",
      "8\n",
      "9\n",
      "10\n"
     ]
    }
   ],
   "source": [
    "for i in range(10):\n",
    "    print(i + 1)"
   ]
  },
  {
   "cell_type": "markdown",
   "metadata": {
    "slideshow": {
     "slide_type": "slide"
    }
   },
   "source": [
    "### Pregunta\n",
    "\n",
    "¿Qué resultado da este programa?"
   ]
  },
  {
   "cell_type": "code",
   "execution_count": 29,
   "metadata": {},
   "outputs": [
    {
     "data": {
      "text/plain": [
       "55"
      ]
     },
     "execution_count": 29,
     "metadata": {},
     "output_type": "execute_result"
    }
   ],
   "source": [
    "total = 0\n",
    "\n",
    "for i in range(10):\n",
    "    total = total + i + 1\n",
    "\n",
    "total"
   ]
  },
  {
   "cell_type": "markdown",
   "metadata": {
    "slideshow": {
     "slide_type": "fragment"
    }
   },
   "source": [
    "Podríamos haber utilizado la función `sum` de Python:"
   ]
  },
  {
   "cell_type": "code",
   "execution_count": 30,
   "metadata": {
    "slideshow": {
     "slide_type": "fragment"
    }
   },
   "outputs": [
    {
     "data": {
      "text/plain": [
       "55"
      ]
     },
     "execution_count": 30,
     "metadata": {},
     "output_type": "execute_result"
    }
   ],
   "source": [
    "sum(range(1, 11))"
   ]
  },
  {
   "cell_type": "markdown",
   "metadata": {
    "slideshow": {
     "slide_type": "slide"
    }
   },
   "source": [
    "### Pregunta\n",
    "\n",
    "¿Cuántas líneas escribirá este programa? ¿Y qué escribe?"
   ]
  },
  {
   "cell_type": "code",
   "execution_count": 33,
   "metadata": {
    "slideshow": {
     "slide_type": "fragment"
    }
   },
   "outputs": [
    {
     "name": "stdout",
     "output_type": "stream",
     "text": [
      "5\n",
      "6\n",
      "7\n",
      "8\n",
      "9\n",
      "10\n",
      "11\n"
     ]
    }
   ],
   "source": [
    "for i in range(5, 12):\n",
    "    print(i)"
   ]
  },
  {
   "cell_type": "markdown",
   "metadata": {},
   "source": [
    "#### Ejercicio\n",
    "\n",
    "Escribe un programa que muestre los números divisibles por 7 y terminados en 9 entre el 100 y el 250\n",
    "\n",
    "_Salida de muestra_: \n",
    "```python\n",
    "119\n",
    "189\n",
    "```"
   ]
  },
  {
   "cell_type": "code",
   "execution_count": 38,
   "metadata": {},
   "outputs": [
    {
     "data": {
      "text/plain": [
       "'8'"
      ]
     },
     "execution_count": 38,
     "metadata": {},
     "output_type": "execute_result"
    }
   ],
   "source": [
    "'178'[-1]"
   ]
  },
  {
   "cell_type": "code",
   "execution_count": 35,
   "metadata": {},
   "outputs": [
    {
     "ename": "TypeError",
     "evalue": "'int' object is not subscriptable",
     "output_type": "error",
     "traceback": [
      "\u001b[0;31m---------------------------------------------------------------------------\u001b[0m",
      "\u001b[0;31mTypeError\u001b[0m                                 Traceback (most recent call last)",
      "\u001b[0;32m<ipython-input-35-4b13f2145247>\u001b[0m in \u001b[0;36m<module>\u001b[0;34m()\u001b[0m\n\u001b[0;32m----> 1\u001b[0;31m \u001b[0;36m178\u001b[0m\u001b[0;34m[\u001b[0m\u001b[0;34m-\u001b[0m\u001b[0;36m1\u001b[0m\u001b[0;34m]\u001b[0m\u001b[0;34m\u001b[0m\u001b[0m\n\u001b[0m",
      "\u001b[0;31mTypeError\u001b[0m: 'int' object is not subscriptable"
     ]
    }
   ],
   "source": [
    "178[-1] "
   ]
  },
  {
   "cell_type": "code",
   "execution_count": 36,
   "metadata": {},
   "outputs": [
    {
     "ename": "TypeError",
     "evalue": "object of type 'int' has no len()",
     "output_type": "error",
     "traceback": [
      "\u001b[0;31m---------------------------------------------------------------------------\u001b[0m",
      "\u001b[0;31mTypeError\u001b[0m                                 Traceback (most recent call last)",
      "\u001b[0;32m<ipython-input-36-afe399b6091b>\u001b[0m in \u001b[0;36m<module>\u001b[0;34m()\u001b[0m\n\u001b[0;32m----> 1\u001b[0;31m \u001b[0mlen\u001b[0m\u001b[0;34m(\u001b[0m\u001b[0;36m178\u001b[0m\u001b[0;34m)\u001b[0m\u001b[0;34m\u001b[0m\u001b[0m\n\u001b[0m",
      "\u001b[0;31mTypeError\u001b[0m: object of type 'int' has no len()"
     ]
    }
   ],
   "source": [
    "len(178) "
   ]
  },
  {
   "cell_type": "markdown",
   "metadata": {},
   "source": [
    "#### Debugging y descomponer los problemas en partes\n",
    "\n",
    "**NO** escribáis un programa entero y sólo entonces lo ejecutéis. Id escribiéndolo poco a poco, ejecutadlo pronto y frecuentemente, y comprobad que cada parte funciona como esperáis que funcione"
   ]
  },
  {
   "cell_type": "code",
   "execution_count": 37,
   "metadata": {},
   "outputs": [
    {
     "data": {
      "text/plain": [
       "3"
      ]
     },
     "execution_count": 37,
     "metadata": {},
     "output_type": "execute_result"
    }
   ],
   "source": [
    "len('178')"
   ]
  },
  {
   "cell_type": "code",
   "execution_count": 42,
   "metadata": {},
   "outputs": [
    {
     "name": "stdout",
     "output_type": "stream",
     "text": [
      "105\n",
      "112\n",
      "119\n",
      "126\n",
      "133\n",
      "140\n",
      "147\n",
      "154\n",
      "161\n",
      "168\n",
      "175\n",
      "182\n",
      "189\n",
      "196\n",
      "203\n",
      "210\n",
      "217\n",
      "224\n",
      "231\n",
      "238\n",
      "245\n"
     ]
    }
   ],
   "source": [
    "for n in range(100, 250):\n",
    "    if n % 7 == 0 :\n",
    "        print(n)"
   ]
  },
  {
   "cell_type": "markdown",
   "metadata": {},
   "source": [
    "Podemos hacerlo de dos maneras:\n",
    "\n",
    "- Textualmente: extraer la última cifra de la secuencia de caracteres que constituye el número. Para ello, tenemos que convertirlo primero en esa secuencia de caracteres, una string:"
   ]
  },
  {
   "cell_type": "code",
   "execution_count": 43,
   "metadata": {},
   "outputs": [
    {
     "name": "stdout",
     "output_type": "stream",
     "text": [
      "119\n",
      "189\n"
     ]
    }
   ],
   "source": [
    "for n in range(100, 250):\n",
    "    if n % 7 == 0 and str(n)[-1] == '9':\n",
    "        print(n)"
   ]
  },
  {
   "cell_type": "markdown",
   "metadata": {},
   "source": [
    "- Aritméticamente: dándonos cuenta de que la última cifra de un número es el resto de dividir ese número entre diez."
   ]
  },
  {
   "cell_type": "code",
   "execution_count": 44,
   "metadata": {},
   "outputs": [
    {
     "name": "stdout",
     "output_type": "stream",
     "text": [
      "119\n",
      "189\n"
     ]
    }
   ],
   "source": [
    "for n in range(100, 250):\n",
    "    if n % 7 == 0 and n % 10 == 9:\n",
    "        print(n)"
   ]
  },
  {
   "cell_type": "markdown",
   "metadata": {},
   "source": [
    "#### Ejercicio\n",
    "\n",
    "Dada una lista\n",
    "```python\n",
    "my_list = [1, 3, 7, 12, 32, 43, 21, 78]\n",
    "```\n",
    "\n",
    "Escribe un programa que cuente el número de pares e impares en ella"
   ]
  },
  {
   "cell_type": "code",
   "execution_count": 49,
   "metadata": {},
   "outputs": [
    {
     "name": "stdout",
     "output_type": "stream",
     "text": [
      "3 5\n"
     ]
    }
   ],
   "source": [
    "my_list = [1, 3, 7, 12, 32, 43, 21, 78]\n",
    "even = 0 \n",
    "odd = 0\n",
    "\n",
    "for i in range(len(my_list)):  \n",
    "    if my_list[i] % 2 == 0:\n",
    "        even += 1 # Synonym of even = even + 1\n",
    "    else:\n",
    "        odd += 1 # Synonym of odd = odd + 1\n",
    "        \n",
    "print(even, odd)"
   ]
  },
  {
   "cell_type": "markdown",
   "metadata": {},
   "source": [
    "## Bucles for en Python\n",
    "\n",
    "Python, al contrario que muchos otros lenguajes, nos permite iterar sobre cualquier tipo de secuencia.\n",
    "\n",
    "¿Qué tipo de secuencias conocemos bien ya?"
   ]
  },
  {
   "cell_type": "code",
   "execution_count": 50,
   "metadata": {},
   "outputs": [
    {
     "name": "stdout",
     "output_type": "stream",
     "text": [
      "3 5\n"
     ]
    }
   ],
   "source": [
    "my_list = [1, 3, 7, 12, 32, 43, 21, 78]\n",
    "even = 0 \n",
    "odd = 0\n",
    "\n",
    "for number in my_list:  \n",
    "    if number % 2 == 0:\n",
    "        even += 1 # Synonym of even = even + 1\n",
    "    else:\n",
    "        odd += 1 # Synonym of odd = odd + 1\n",
    "        \n",
    "print(even, odd)"
   ]
  },
  {
   "cell_type": "markdown",
   "metadata": {},
   "source": [
    "Por ejemplo, las strings."
   ]
  },
  {
   "cell_type": "code",
   "execution_count": 53,
   "metadata": {},
   "outputs": [
    {
     "name": "stdout",
     "output_type": "stream",
     "text": [
      "Give me a D!\n",
      "D\n",
      "Give me a a!\n",
      "a\n",
      "Give me a n!\n",
      "n\n",
      "Give me a i!\n",
      "i\n",
      "Give me a e!\n",
      "e\n",
      "Give me a l!\n",
      "l\n"
     ]
    }
   ],
   "source": [
    "for letter in 'Daniel':\n",
    "    print('Give me a %s!' % letter)\n",
    "    print(letter)"
   ]
  },
  {
   "cell_type": "markdown",
   "metadata": {},
   "source": [
    "#### Ejercicio\n",
    "\n",
    "Dada la string\n",
    "\n",
    "```python\n",
    "a_string = \"El 1ero de Mayo del 98, mis 4 hermanos y yo salimos a la calle juntos.\"\n",
    "```\n",
    "\n",
    "Escribe un programa que construya otra compuesta exclusivamente de los dígitos incluidos en ella.\n",
    "\n",
    "Podemos chequear si una letra es un dígito o no de al menos dos maneras:\n",
    "\n",
    "* Con el operador `in` \n",
    "\n",
    "* Con uno de los [métodos de las strings](https://docs.python.org/3/library/stdtypes.html#string-methods)"
   ]
  },
  {
   "cell_type": "code",
   "execution_count": 57,
   "metadata": {},
   "outputs": [
    {
     "data": {
      "text/plain": [
       "'1984'"
      ]
     },
     "execution_count": 57,
     "metadata": {},
     "output_type": "execute_result"
    }
   ],
   "source": [
    "a_string = \"El 1ero de Mayo del 98, mis 4 hermanos y yo salimos a la calle juntos.\"\n",
    "result_string = ''\n",
    "\n",
    "for character in a_string:\n",
    "    \n",
    "    if character.isdigit():\n",
    "        result_string += character\n",
    "        \n",
    "result_string"
   ]
  },
  {
   "cell_type": "markdown",
   "metadata": {
    "slideshow": {
     "slide_type": "slide"
    }
   },
   "source": [
    "# Bucles while \n",
    "\n",
    "Los bucles `for` nos permiten repetir un comando un número\n",
    "determinado de veces.\n",
    "\n",
    "¿Qué ocurre si no sabemos de antemano cuántas\n",
    "veces se va a repetir el bucle?"
   ]
  },
  {
   "cell_type": "markdown",
   "metadata": {
    "slideshow": {
     "slide_type": "slide"
    }
   },
   "source": [
    "## Estructura general de un bucle while\n",
    "\n",
    "```python\n",
    "# Inicializamos variables\n",
    "while condicion_para_continuar:\n",
    "    # Codigo\n",
    "    # Actualizamos las variables que intervienen en la condicion\n",
    "```\n",
    "\n",
    "En la condición del bucle while intervienen variables que deben cambiar dentro del cuerpo del bucle."
   ]
  },
  {
   "cell_type": "code",
   "execution_count": 2,
   "metadata": {},
   "outputs": [
    {
     "name": "stdout",
     "output_type": "stream",
     "text": [
      "work work work\n",
      "work work work\n",
      "work work work\n",
      "work work work\n",
      "work work work\n",
      "work work work\n",
      "work work work\n",
      "work work work\n",
      "work work work\n",
      "work work work\n",
      "Uhuuuu python class!\n"
     ]
    }
   ],
   "source": [
    "hour = 8\n",
    "\n",
    "while hour < 18:\n",
    "    print('work work work')\n",
    "    hour += 1\n",
    "    \n",
    "print('Uhuuuu python class!')"
   ]
  },
  {
   "cell_type": "markdown",
   "metadata": {
    "slideshow": {
     "slide_type": "fragment"
    }
   },
   "source": [
    "### Ejemplo\n",
    "\n",
    "Sumar todos los números menores que 5"
   ]
  },
  {
   "cell_type": "code",
   "execution_count": 5,
   "metadata": {},
   "outputs": [
    {
     "name": "stdout",
     "output_type": "stream",
     "text": [
      " 1  0\n",
      " 2  1\n",
      " 3  3\n",
      " 4  6\n",
      " 5 10\n"
     ]
    }
   ],
   "source": [
    "total = 0\n",
    "n = 0\n",
    "\n",
    "while n < 5:\n",
    "    total += n\n",
    "    n += 1\n",
    "    print('%2d %2d' % (n, total))\n"
   ]
  },
  {
   "cell_type": "markdown",
   "metadata": {
    "slideshow": {
     "slide_type": "slide"
    }
   },
   "source": [
    "## El bucle while paso a paso\n",
    "\n",
    "Sumar todos los números menores que 5\n",
    "\n",
    "```python\n",
    "->    s = 0\n",
    "      k = 0\n",
    "\n",
    "      while k < 5:\n",
    "          k = k + 1\n",
    "          s = s + k\n",
    "          print('%2d %2d' % (k,s))\n",
    "```\n",
    "\n",
    "\n",
    "Memoria:\n",
    "\n",
    "|   |   |\n",
    "|---|---|\n",
    "|   |   |\n",
    "\n",
    "Salida estándar:\n",
    "\n",
    "|   |   |\n",
    "|---|---|\n",
    "|   |   |\n"
   ]
  },
  {
   "cell_type": "markdown",
   "metadata": {
    "slideshow": {
     "slide_type": "slide"
    }
   },
   "source": [
    "## El bucle while paso a paso\n",
    "\n",
    "Sumar todos los números menores que 5\n",
    "\n",
    "```python\n",
    "      s = 0\n",
    "      k = 0\n",
    "\n",
    "->    while k < 5:\n",
    "          k = k + 1\n",
    "          s = s + k\n",
    "          print('%2d %2d' % (k,s))\n",
    "```\n",
    "\n",
    "Memoria:\n",
    "\n",
    "| k | s |\n",
    "|---|---|\n",
    "| 0 | 0 |\n",
    "\n",
    "Salida estándar:\n",
    "\n",
    "|   |   |\n",
    "|---|---|\n",
    "|   |   |\n",
    "\n",
    "Se inicializan k y s"
   ]
  },
  {
   "cell_type": "markdown",
   "metadata": {
    "slideshow": {
     "slide_type": "slide"
    }
   },
   "source": [
    "## El bucle while paso a paso\n",
    "\n",
    "Sumar todos los números menores que 5\n",
    "\n",
    "```python\n",
    "      s = 0\n",
    "      k = 0\n",
    "\n",
    "->    while k < 5:\n",
    "          k = k + 1\n",
    "          s = s + k\n",
    "          print('%2d %2d' % (k,s))\n",
    "```\n",
    "\n",
    "Memoria:\n",
    "\n",
    "| k | s |\n",
    "|---|---|\n",
    "| 0 | 0 |\n",
    "\n",
    "Salida estándar:\n",
    "\n",
    "|   |   |\n",
    "|---|---|\n",
    "|   |   |\n",
    "\n",
    "¿Es k menor que 5?. Sí, ejecuta el cuerpo del bucle."
   ]
  },
  {
   "cell_type": "markdown",
   "metadata": {
    "slideshow": {
     "slide_type": "slide"
    }
   },
   "source": [
    "## El bucle while paso a paso\n",
    "\n",
    "Sumar todos los números menores que 5\n",
    "\n",
    "```python\n",
    "      s = 0\n",
    "      k = 0\n",
    "\n",
    "      while k < 5:\n",
    "          k = k + 1\n",
    "          s = s + k\n",
    "          print('%2d %2d' % (k,s))\n",
    "->\n",
    "```\n",
    "\n",
    "Memoria:\n",
    "\n",
    "| k | s |\n",
    "|---|---|\n",
    "| 1 | 1 |\n",
    "\n",
    "Salida estándar:\n",
    "\n",
    "| 1 | 1 |\n",
    "|---|---|\n",
    "|   |   |\n",
    "\n",
    "Se actualizan k y s, y se muestra mensaje en pantalla."
   ]
  },
  {
   "cell_type": "markdown",
   "metadata": {
    "slideshow": {
     "slide_type": "slide"
    }
   },
   "source": [
    "## El bucle while paso a paso\n",
    "\n",
    "Sumar todos los números menores que 5\n",
    "\n",
    "```python\n",
    "      s = 0\n",
    "      k = 0\n",
    "\n",
    "->    while k < 5:\n",
    "          k = k + 1\n",
    "          s = s + k\n",
    "          print('%2d %2d' % (k,s))\n",
    "  \n",
    "```\n",
    "\n",
    "Memoria:\n",
    "\n",
    "| k | s |\n",
    "|---|---|\n",
    "| 1 | 1 |\n",
    "\n",
    "Salida estándar:\n",
    "\n",
    "| 1 | 1 |\n",
    "|---|---|\n",
    "|   |   |\n",
    "\n",
    "¿Es k menor que 5?. Sí, ejecuta el cuerpo del bucle."
   ]
  },
  {
   "cell_type": "markdown",
   "metadata": {
    "slideshow": {
     "slide_type": "slide"
    }
   },
   "source": [
    "## El bucle while paso a paso\n",
    "\n",
    "Sumar todos los números menores que 5\n",
    "\n",
    "```python\n",
    "      s = 0\n",
    "      k = 0\n",
    "\n",
    "      while k < 5:\n",
    "          k = k + 1\n",
    "          s = s + k\n",
    "          print('%2d %2d' % (k,s))\n",
    "->  \n",
    "```\n",
    "\n",
    "Memoria:\n",
    "\n",
    "| k | s |\n",
    "|---|---|\n",
    "| 2 | 3 |\n",
    "\n",
    "Salida estándar:\n",
    "\n",
    "| 1 | 1 |\n",
    "|---|---|\n",
    "| 2 | 3 |\n",
    "\n",
    "Se actualizan k y s, y se muestra mensaje en pantalla."
   ]
  },
  {
   "cell_type": "markdown",
   "metadata": {
    "slideshow": {
     "slide_type": "slide"
    }
   },
   "source": [
    "## El bucle while paso a paso\n",
    "\n",
    "Sumar todos los números menores que 5\n",
    "\n",
    "```python\n",
    "      s = 0\n",
    "      k = 0\n",
    "\n",
    "->      while k < 5:\n",
    "          k = k + 1\n",
    "          s = s + k\n",
    "          print('%2d %2d' % (k,s))\n",
    "  \n",
    "```\n",
    "\n",
    "Memoria:\n",
    "\n",
    "| k | s |\n",
    "|---|---|\n",
    "| 2 | 3 |\n",
    "\n",
    "Salida estándar:\n",
    "\n",
    "| 1 | 1 |\n",
    "|---|---|\n",
    "| 2 | 3 |\n",
    "\n",
    "¿Es k menor que 5?. Sí, ejecuta el cuerpo del bucle."
   ]
  },
  {
   "cell_type": "markdown",
   "metadata": {
    "slideshow": {
     "slide_type": "slide"
    }
   },
   "source": [
    "## El bucle while paso a paso\n",
    "\n",
    "Sumar todos los números menores que 5\n",
    "\n",
    "```python\n",
    "      s = 0\n",
    "      k = 0\n",
    "\n",
    "->      while k < 5:\n",
    "          k = k + 1\n",
    "          s = s + k\n",
    "          print('%2d %2d' % (k,s))\n",
    "  \n",
    "```\n",
    "\n",
    "Memoria:\n",
    "\n",
    "| k | s |\n",
    "|---|---|\n",
    "| 3 | 6 |\n",
    "\n",
    "Salida estándar:\n",
    "\n",
    "| 1 | 1 |\n",
    "|---|---|\n",
    "| 2 | 3 |\n",
    "| 3 | 6 |\n",
    "\n",
    "Se actualizan k y s, y se muestra mensaje en pantalla."
   ]
  },
  {
   "cell_type": "markdown",
   "metadata": {
    "slideshow": {
     "slide_type": "slide"
    }
   },
   "source": [
    "## El bucle while paso a paso\n",
    "\n",
    "Sumar todos los números menores que 5\n",
    "\n",
    "```python\n",
    "      s = 0\n",
    "      k = 0\n",
    "\n",
    "->      while k < 5:\n",
    "          k = k + 1\n",
    "          s = s + k\n",
    "          print('%2d %2d' % (k,s))\n",
    "  \n",
    "```\n",
    "\n",
    "Memoria:\n",
    "\n",
    "| k | s |\n",
    "|---|---|\n",
    "| 5 | 15|\n",
    "\n",
    "Salida estándar:\n",
    "\n",
    "| 1 | 1 |\n",
    "|---|---|\n",
    "| 2 | 3 |\n",
    "| 3 | 6 |\n",
    "| 4 | 10|\n",
    "| 5 | 15|\n",
    "\n",
    "El programa continúa hasta que k alcanza 5. En esta iteración\n",
    "iteración, la condición se vuelve falsa y el bucle no se ejecuta más."
   ]
  },
  {
   "cell_type": "markdown",
   "metadata": {
    "slideshow": {
     "slide_type": "fragment"
    }
   },
   "source": [
    "Si no cambian dentro del cuerpo y la condición es verdadera, el bucle se ejecutará una y otra vez: habremos caído en un **bucle infinito**."
   ]
  },
  {
   "cell_type": "markdown",
   "metadata": {
    "slideshow": {
     "slide_type": "fragment"
    }
   },
   "source": [
    "Equivalencia: Cualquier bucle for se puede\n",
    "escribir como un bucle  while, pero al contrario es imposible en muchas ocasiones"
   ]
  },
  {
   "cell_type": "markdown",
   "metadata": {
    "slideshow": {
     "slide_type": "fragment"
    }
   },
   "source": [
    "**¿Por qué?**"
   ]
  },
  {
   "cell_type": "markdown",
   "metadata": {
    "slideshow": {
     "slide_type": "slide"
    }
   },
   "source": [
    "### Ejemplo: lanzamiento de monedas\n",
    "\n",
    "¿Cuántas veces tengo que lanzar una\n",
    "moneda para sacar tres caras?"
   ]
  },
  {
   "cell_type": "code",
   "execution_count": 3,
   "metadata": {
    "scrolled": false
   },
   "outputs": [
    {
     "name": "stdout",
     "output_type": "stream",
     "text": [
      "Let's toss a coin\n",
      "Let's toss a coin\n",
      "Let's toss a coin\n",
      "Let's toss a coin\n",
      "Let's toss a coin\n",
      "Let's toss a coin\n",
      "3 6\n"
     ]
    }
   ],
   "source": [
    "import random\n",
    "\n",
    "heads = 0\n",
    "tosses = 0\n",
    "\n",
    "while heads < 3:\n",
    "    print('Let\\'s toss a coin')\n",
    "    heads += random.randint(0, 1)\n",
    "    tosses += 1\n",
    "    \n",
    "print(heads, tosses)    "
   ]
  },
  {
   "cell_type": "markdown",
   "metadata": {
    "slideshow": {
     "slide_type": "slide"
    }
   },
   "source": [
    "### Ejercicio\n",
    "\n",
    "Volvemos al método de Newton para calcular una raíz cuadrada: ahora podemos escribir un programa mucho mejor. \n",
    "\n",
    "**¿Cómo?**"
   ]
  },
  {
   "cell_type": "markdown",
   "metadata": {
    "slideshow": {
     "slide_type": "fragment"
    }
   },
   "source": [
    "La entrada es un número entre $1$ y $10^6$\n",
    "\n",
    "Usaremos el método visto anteriormente, el cálculo se hará con un error relativo de $10^{-5}$, con tantas repeticiones como sean necesarias\n",
    "\n",
    "-   Empezamos con $L=x$, $W=1$\n",
    "\n",
    "-   Actualizamos con $L=\\frac{L + W}{2}$, $W = \\frac{x}{L}$\n",
    "\n",
    "El error relativo lo calculamos usando la diferencia entre L y W\n",
    "\n",
    "$$\\frac{|L - W|}{L}$$"
   ]
  },
  {
   "cell_type": "markdown",
   "metadata": {
    "slideshow": {
     "slide_type": "slide"
    }
   },
   "source": [
    "**Solución:** bucle while para calcular raíz\n",
    "cuadrada"
   ]
  },
  {
   "cell_type": "code",
   "execution_count": 23,
   "metadata": {},
   "outputs": [
    {
     "data": {
      "text/plain": [
       "9.292228832096612e-08"
      ]
     },
     "execution_count": 23,
     "metadata": {},
     "output_type": "execute_result"
    }
   ],
   "source": [
    "A = 4\n",
    "W = 1\n",
    "L = A / W\n",
    "\n",
    "\n",
    "for step in range(4):\n",
    "    L = (L + W) / 2\n",
    "    W = A / L\n",
    "    \n",
    "(L - W) / L"
   ]
  },
  {
   "cell_type": "code",
   "execution_count": 30,
   "metadata": {},
   "outputs": [
    {
     "data": {
      "text/plain": [
       "(43.58898944085297, 9)"
      ]
     },
     "execution_count": 30,
     "metadata": {},
     "output_type": "execute_result"
    }
   ],
   "source": [
    "A = 1900\n",
    "W = 1\n",
    "L = A / W\n",
    "good_enough = False\n",
    "steps = 0\n",
    "\n",
    "while not good_enough:\n",
    "    L = (L + W) / 2\n",
    "    W = A / L\n",
    "    \n",
    "    error = abs(L - W) / L\n",
    "    good_enough = error < 1e-5\n",
    "    \n",
    "    steps += 1\n",
    "    \n",
    "    \n",
    "L, steps"
   ]
  },
  {
   "cell_type": "markdown",
   "metadata": {
    "slideshow": {
     "slide_type": "fragment"
    }
   },
   "source": [
    "# Métodos numéricos iterativos \n",
    "\n",
    "En un método numérico iterativo que calcula la solución con un error relativo dado será imprescindible usar un bucle while, porque no sabemos cuántas iteraciones hacen falta. "
   ]
  },
  {
   "cell_type": "markdown",
   "metadata": {
    "slideshow": {
     "slide_type": "slide"
    }
   },
   "source": [
    "# Cómo interrumpir bucles \n",
    "\n",
    "Un bucle repite comandos. Pero ¿podemos controlar\n",
    "cuándo se repite y cuándo no?\n",
    "\n",
    "Dos comandos nuevos\n",
    "\n",
    "-   `break`: Termina el bucle en ese momento.\n",
    "\n",
    "-   `continue`: Se salta la iteración actual"
   ]
  },
  {
   "cell_type": "markdown",
   "metadata": {
    "slideshow": {
     "slide_type": "slide"
    }
   },
   "source": [
    "## El comando break\n",
    "\n",
    "En ocasiones puede ser útil terminar un bucle aunque no hayamos agotado todas las repeticiones:\n",
    "\n",
    "-   Búsqueda de un elemento con una característica particular dentro de\n",
    "    un conjunto de elementos."
   ]
  },
  {
   "cell_type": "markdown",
   "metadata": {
    "slideshow": {
     "slide_type": "fragment"
    }
   },
   "source": [
    "### Ejemplo"
   ]
  },
  {
   "cell_type": "code",
   "execution_count": 31,
   "metadata": {},
   "outputs": [
    {
     "name": "stdout",
     "output_type": "stream",
     "text": [
      "21\n"
     ]
    }
   ],
   "source": [
    "for number in range(25):\n",
    "    if number - 17 == 4:\n",
    "        print(number)\n",
    "        break\n",
    "    "
   ]
  },
  {
   "cell_type": "code",
   "execution_count": 34,
   "metadata": {},
   "outputs": [
    {
     "name": "stdout",
     "output_type": "stream",
     "text": [
      "21\n"
     ]
    }
   ],
   "source": [
    "number = 0\n",
    "while number - 17 != 4:\n",
    "    number += 1\n",
    "    \n",
    "print(number)"
   ]
  },
  {
   "cell_type": "markdown",
   "metadata": {},
   "source": [
    "Logically, a break always needs to be inside an if, or it will be executed in the first turn of the loop."
   ]
  },
  {
   "cell_type": "code",
   "execution_count": 33,
   "metadata": {},
   "outputs": [
    {
     "name": "stdout",
     "output_type": "stream",
     "text": [
      "0\n"
     ]
    }
   ],
   "source": [
    "for number in range(25):\n",
    "    print(number)\n",
    "    break\n",
    "    "
   ]
  },
  {
   "cell_type": "code",
   "execution_count": 62,
   "metadata": {},
   "outputs": [
    {
     "data": {
      "text/plain": [
       "[<matplotlib.lines.Line2D at 0x7fe5b560a518>]"
      ]
     },
     "execution_count": 62,
     "metadata": {},
     "output_type": "execute_result"
    },
    {
     "data": {
      "image/png": "[encoded data removed]",
      "text/plain": [
       "<Figure size 432x288 with 1 Axes>"
      ]
     },
     "metadata": {},
     "output_type": "display_data"
    }
   ],
   "source": [
    "import numpy as np\n",
    "import matplotlib.pyplot as plt\n",
    "%matplotlib inline\n",
    "\n",
    "def approximate_root(A, threshold = 1e-5):\n",
    "    W = 1\n",
    "    L = A / W\n",
    "    steps = 0\n",
    "\n",
    "    while abs(L - W) / L > threshold:\n",
    "        L = (L + W) / 2\n",
    "        W = A / L\n",
    "\n",
    "        steps += 1\n",
    "\n",
    "\n",
    "    return L, steps\n",
    "\n",
    "X = range(1, 10000)\n",
    "Y = [ approximate_root(x)[1] for x in X ]\n",
    "Y2 = [ approximate_root(x, 1e-6)[1] for x in X ]\n",
    "Y3 = [ approximate_root(x, 1e-7)[1] for x in X ]\n",
    "Y4 = [ approximate_root(x, 1e-8)[1] for x in X ]\n",
    "\n",
    "plt.plot(X, Y)\n",
    "plt.plot(X, Y2)\n",
    "plt.plot(X, Y3)\n",
    "plt.plot(X, Y4)"
   ]
  },
  {
   "cell_type": "markdown",
   "metadata": {
    "slideshow": {
     "slide_type": "slide"
    }
   },
   "source": [
    "### Ejercicio\n",
    "\n",
    "Busca el primer número par en el conjunto de números [3, 89, 13, 14, 22, 91]."
   ]
  },
  {
   "cell_type": "code",
   "execution_count": 50,
   "metadata": {},
   "outputs": [
    {
     "name": "stdout",
     "output_type": "stream",
     "text": [
      "14\n"
     ]
    }
   ],
   "source": [
    "my_list = [3, 89, 13, 14, 22, 91]\n",
    "\n",
    "for number in my_list:\n",
    "    if number % 2 == 0:\n",
    "        print(number)\n",
    "        break"
   ]
  },
  {
   "cell_type": "code",
   "execution_count": 51,
   "metadata": {},
   "outputs": [
    {
     "name": "stdout",
     "output_type": "stream",
     "text": [
      "3\n",
      "14\n"
     ]
    }
   ],
   "source": [
    "my_list = [3, 89, 13, 14, 22, 91]\n",
    "\n",
    "for index in range(len(my_list)):\n",
    "    number = my_list[index] \n",
    "    if number % 2 == 0:\n",
    "        print(index)\n",
    "        print(number)\n",
    "        break"
   ]
  },
  {
   "cell_type": "markdown",
   "metadata": {
    "slideshow": {
     "slide_type": "slide"
    }
   },
   "source": [
    "## El comando continue\n",
    "\n",
    "El comando continue se salta la iteración actual. Puede ser útil para ignorar elementos determinados dentro de un bucle.\n",
    "\n",
    "Ejemplo"
   ]
  },
  {
   "cell_type": "code",
   "execution_count": 55,
   "metadata": {},
   "outputs": [
    {
     "name": "stdout",
     "output_type": "stream",
     "text": [
      "r\n",
      "a\n",
      "s\n",
      "e\n",
      " \n",
      "n\n",
      "a\n",
      " \n",
      "e\n",
      "z\n"
     ]
    }
   ],
   "source": [
    "sentence = 'Erase Una Vez'\n",
    "\n",
    "for letter in sentence:\n",
    "    \n",
    "    if letter.isupper():\n",
    "        continue\n",
    "        \n",
    "    print(letter)\n",
    "    \n",
    "print(sentence)"
   ]
  },
  {
   "cell_type": "markdown",
   "metadata": {
    "slideshow": {
     "slide_type": "fragment"
    }
   },
   "source": [
    "### Ejercicio\n",
    "\n",
    "Imprime todos los números en `range(0, 20)` excepto los múltiplos de 3"
   ]
  },
  {
   "cell_type": "code",
   "execution_count": 65,
   "metadata": {},
   "outputs": [
    {
     "name": "stdout",
     "output_type": "stream",
     "text": [
      "1\n",
      "2\n",
      "4\n",
      "5\n",
      "7\n",
      "8\n",
      "10\n",
      "11\n",
      "13\n",
      "14\n",
      "16\n",
      "17\n",
      "19\n"
     ]
    }
   ],
   "source": [
    "for number in range(20):\n",
    "    if number % 3 == 0:\n",
    "        continue\n",
    "    print(number)"
   ]
  },
  {
   "cell_type": "code",
   "execution_count": 66,
   "metadata": {},
   "outputs": [
    {
     "name": "stdout",
     "output_type": "stream",
     "text": [
      "1\n",
      "2\n",
      "4\n",
      "5\n",
      "7\n",
      "8\n",
      "10\n",
      "11\n",
      "13\n",
      "14\n",
      "16\n",
      "17\n",
      "19\n"
     ]
    }
   ],
   "source": [
    "for number in range(20):\n",
    "    if number % 3 != 0:\n",
    "        print(number)"
   ]
  },
  {
   "cell_type": "markdown",
   "metadata": {
    "slideshow": {
     "slide_type": "slide"
    }
   },
   "source": [
    "## También con bucles while\n",
    "\n",
    "Los comandos break y continue se pueden usar en bucles `while` o `for`\n",
    "\n",
    "Pero cuidado con meter continues dentro de whiles! Es fácil que saltemos sobre la actualización de la variable de conrol del bucle y nos metamos en un bucle infinito, como aquí:"
   ]
  },
  {
   "cell_type": "code",
   "execution_count": 59,
   "metadata": {},
   "outputs": [
    {
     "name": "stdout",
     "output_type": "stream",
     "text": [
      "e\n",
      "r\n",
      "a\n",
      "s\n",
      "e\n",
      " \n",
      "U\n"
     ]
    },
    {
     "ename": "KeyboardInterrupt",
     "evalue": "",
     "output_type": "error",
     "traceback": [
      "\u001b[0;31m---------------------------------------------------------------------------\u001b[0m",
      "\u001b[0;31mKeyboardInterrupt\u001b[0m                         Traceback (most recent call last)",
      "\u001b[0;32m<ipython-input-59-3733393e0448>\u001b[0m in \u001b[0;36m<module>\u001b[0;34m()\u001b[0m\n\u001b[1;32m      6\u001b[0m \u001b[0;34m\u001b[0m\u001b[0m\n\u001b[1;32m      7\u001b[0m \u001b[0;34m\u001b[0m\u001b[0m\n\u001b[0;32m----> 8\u001b[0;31m     \u001b[0;32mif\u001b[0m \u001b[0mletter\u001b[0m\u001b[0;34m.\u001b[0m\u001b[0misupper\u001b[0m\u001b[0;34m(\u001b[0m\u001b[0;34m)\u001b[0m\u001b[0;34m:\u001b[0m\u001b[0;34m\u001b[0m\u001b[0m\n\u001b[0m\u001b[1;32m      9\u001b[0m         \u001b[0;32mcontinue\u001b[0m\u001b[0;34m\u001b[0m\u001b[0m\n\u001b[1;32m     10\u001b[0m \u001b[0;34m\u001b[0m\u001b[0m\n",
      "\u001b[0;31mKeyboardInterrupt\u001b[0m: "
     ]
    }
   ],
   "source": [
    "sentence = 'erase Una Vez'\n",
    "pos = 0\n",
    "letter = sentence[pos]\n",
    "\n",
    "while letter != 'z':\n",
    "    if letter.isupper():\n",
    "        continue\n",
    "    letter = sentence[pos]        \n",
    "    pos += 1\n",
    "    print(letter)\n",
    "    \n",
    "print(sentence)"
   ]
  },
  {
   "cell_type": "markdown",
   "metadata": {
    "slideshow": {
     "slide_type": "fragment"
    }
   },
   "source": [
    "#### Ejercicio\n",
    "\n",
    "Lanzamos una moneda. Si se acumulan tres cruces, perdemos. Si se acumulan tres caras, ganamos tantos euros como tiradas se hayan realizado. Muestra por pantalla un mensaje que diga si hemos perdido o, si hemos ganado, cuánto hemos ganado.\n",
    "\n",
    "#### Bonus\n",
    "\n",
    "Modifica el programa anterior para que se gane sólo cuando salgan 3 caras consecutivas, y se pierda sólo cuando salgan tres cruces consecutivas. La ganancia sigue siendo el número de tiradas, pero lógicamente en esta versión no tiene un valor máximo."
   ]
  },
  {
   "cell_type": "code",
   "execution_count": 109,
   "metadata": {},
   "outputs": [
    {
     "name": "stdout",
     "output_type": "stream",
     "text": [
      "3 0 3\n",
      "Has ganado  3.000000e+00reles!!\n"
     ]
    }
   ],
   "source": [
    "heads = 0\n",
    "tails = 0\n",
    "tosses = 0\n",
    "\n",
    "while heads < 3 and tails < 3:\n",
    "    heads += random.randint(0, 1)\n",
    "    tosses += 1\n",
    "    tails = tosses - heads\n",
    "\n",
    "print(heads, tails, tosses)\n",
    "    \n",
    "if heads == 3:\n",
    "    print('Has ganado %d lereles!!' % tosses)\n",
    "else:\n",
    "    print('Buuuuh panoli')"
   ]
  },
  {
   "cell_type": "markdown",
   "metadata": {
    "slideshow": {
     "slide_type": "slide"
    }
   },
   "source": [
    "# Para llevar "
   ]
  },
  {
   "cell_type": "markdown",
   "metadata": {
    "slideshow": {
     "slide_type": "fragment"
    }
   },
   "source": [
    "## Resumen\n",
    "\n",
    "\n",
    "**Bucle for:** Sabemos cuántas veces exactas se repite el bucle.\n",
    "  \n",
    "**Bucle while:** Sabemos la condición que tiene que cumplirse para continuar la ejecución del bucle.\n",
    "\n",
    "**`break`:** Termina la ejecución de un bucle.\n",
    "\n",
    "**`continue`:** Salta a la siguiente iteración, ignorando el resto de la iteración actual."
   ]
  },
  {
   "cell_type": "markdown",
   "metadata": {
    "slideshow": {
     "slide_type": "slide"
    }
   },
   "source": [
    "## Resumen\n",
    "\n",
    "¿Para qué sirve un bucle? Si hay que ejecutar un comando, o varios comandos, varias veces, hay que evitar repetir los comandos. Es\n",
    "mejor usar un bucle que haga que los repita la máquina.\n",
    "\n",
    "**Recordad!** con los bucles while las variables involucradas en la condición del bucle deben cambiar dentro del bucle."
   ]
  },
  {
   "cell_type": "markdown",
   "metadata": {},
   "source": [
    "#### Ejercicio\n",
    "\n",
    "Escribe un programa que escriba todos los números del 0 al 8 excepto el 3 y el 6.\n"
   ]
  },
  {
   "cell_type": "markdown",
   "metadata": {},
   "source": [
    "Recordad que cualquier patrón con `continue` se puede conseguir con un `if` bien diseñado, y normalmente quedará más legible."
   ]
  },
  {
   "cell_type": "code",
   "execution_count": null,
   "metadata": {},
   "outputs": [],
   "source": []
  },
  {
   "cell_type": "markdown",
   "metadata": {},
   "source": [
    "#### Ejercicio\n",
    "\n",
    "FizzBuzz otra vez. Escribe un programa que, para cada número entre el 1 y el 20, escriba algo por pantalla. Si el número es divisible por 3, escribe por pantalla \"Fizz\". Si es divisible por 5, escribe \"Buzz\". A no ser que sea divisible por ambos, en cuyo caso escribe \"FizzBuzz\". En caso de que no sea divisible por ninguno, escribe el número.\n"
   ]
  },
  {
   "cell_type": "code",
   "execution_count": null,
   "metadata": {
    "collapsed": true
   },
   "outputs": [],
   "source": []
  },
  {
   "cell_type": "markdown",
   "metadata": {},
   "source": [
    "#### Ejercicio\n",
    "\n",
    "Escribe un programa que testee la validez de un nuevo password aplicando el siguiente criterio de complejidad:\n",
    "\n",
    "- Al menos una letra minúscula\n",
    "\n",
    "- Al menos una letra mayúscula\n",
    "\n",
    "- Al menos un dígito\n",
    "\n",
    "- Al menos un símbolo.\n",
    "\n",
    "- Longitud mínima 8 caracteres.\n",
    "\n",
    "Pista: recuerda mirar la [documentación oficial](https://docs.python.org/3/library/stdtypes.html#text-sequence-type-str)"
   ]
  },
  {
   "cell_type": "code",
   "execution_count": 145,
   "metadata": {},
   "outputs": [
    {
     "name": "stdout",
     "output_type": "stream",
     "text": [
      "4 3 2 2 11\n",
      "Valid password\n"
     ]
    }
   ],
   "source": [
    "password = 'asdf86SDF ;'\n",
    "\n",
    "lower = 0\n",
    "upper = 0\n",
    "digit = 0\n",
    "symbol = 0\n",
    "\n",
    "for letter in password:\n",
    "    if letter.islower():\n",
    "        lower += 1\n",
    "    if letter.isupper():\n",
    "        upper += 1\n",
    "    if letter.isdigit():\n",
    "        digit += 1\n",
    "    if not letter.islower() and not letter.isupper() and not letter.isdigit():\n",
    "    # alternative: if not (letter.islower() or letter.isupper() or letter.isdigit()):\n",
    "        symbol += 1\n",
    "    \n",
    "print(lower, upper, digit, symbol, len(password))\n",
    "\n",
    "if lower > 0 and upper > 0 and digit > 0 and symbol > 0 and len(password) > 8:\n",
    "    print('Valid password')\n",
    "else:\n",
    "    print('Not valid gañán!')"
   ]
  },
  {
   "cell_type": "code",
   "execution_count": 152,
   "metadata": {},
   "outputs": [
    {
     "name": "stdout",
     "output_type": "stream",
     "text": [
      "True True True True 13\n",
      "Valid password\n"
     ]
    }
   ],
   "source": [
    "password = 'asdf86SDF ;aA'\n",
    "\n",
    "lower = False\n",
    "upper = False\n",
    "digit = False\n",
    "symbol = False\n",
    "\n",
    "for letter in password:\n",
    "    lower = lower or letter.islower()\n",
    "    upper = upper or letter.isupper()\n",
    "    digit = digit or letter.isdigit()\n",
    "    symbol = symbol or not letter.islower() and not letter.isupper() and not letter.isdigit()\n",
    "    \n",
    "print(lower, upper, digit, symbol, len(password))\n",
    "\n",
    "if lower and upper and digit and symbol and len(password) > 8:\n",
    "    print('Valid password')\n",
    "else:\n",
    "    print('Not valid gañán!')"
   ]
  },
  {
   "cell_type": "markdown",
   "metadata": {},
   "source": [
    "Hemos evaluado una condición booleana para fijar una variable booleana para cada uno de los tipos de carácter. Podríamos haberlo hecho en una sola línea. \n",
    "\n",
    "Necesitaremos usar `or` para no sobreescribir los valores anteriores. Si no combináramos `lower = lower or letter.islower()` sino que hiciéramos `lower = letter.islower()`, estaríamos sobreescribiendo el valor de `lower` en cada vuelta del bucle, con lo que al terminar el bucle nos quedaríamos con los valores de `lower`, `upper`, `digit` y `symbol` correspondientes exclusivamente _al último carácter_."
   ]
  },
  {
   "cell_type": "code",
   "execution_count": null,
   "metadata": {},
   "outputs": [],
   "source": []
  },
  {
   "cell_type": "markdown",
   "metadata": {},
   "source": [
    "#### Ejercicio\n",
    "\n",
    "Escribe un programa que encuentre, de los números entre 180 y 250, aquellos compuestos enteramente de dígitos pares\n"
   ]
  },
  {
   "cell_type": "code",
   "execution_count": null,
   "metadata": {
    "collapsed": true
   },
   "outputs": [],
   "source": []
  },
  {
   "cell_type": "markdown",
   "metadata": {},
   "source": [
    "#### Ejercicio\n",
    "\n",
    "Escribe un programa que tome una lista de enteros separados por comas introducida por el usuario y calcule la suma de todos ellos y su media. Hazlo sin usar `sum()` ni `len()`.\n",
    "\n",
    "\n",
    "_Entrada de muestra_: \n",
    "```python\n",
    "1,3,5,4,3,8,22\n",
    "```\n",
    "_Salida de muestra_: \n",
    "```python\n",
    "La suma es 46 y la media 6.57\n",
    "```\n",
    "\n",
    "Pista: consulta los [métodos de str](https://docs.python.org/3/library/stdtypes.html#string-methods)"
   ]
  },
  {
   "cell_type": "code",
   "execution_count": null,
   "metadata": {},
   "outputs": [],
   "source": []
  },
  {
   "cell_type": "markdown",
   "metadata": {},
   "source": [
    "#### Ejercicio\n",
    "\n",
    "Extiende el programa anterior para que también calcule la desviación estándar.\n"
   ]
  },
  {
   "cell_type": "code",
   "execution_count": null,
   "metadata": {
    "collapsed": true
   },
   "outputs": [],
   "source": []
  },
  {
   "cell_type": "markdown",
   "metadata": {},
   "source": [
    "#### Ejercicio\n",
    "\n",
    "Escribe un programa que le pida un número al usuario. Si el usuario introduce entrada no numérica, el programa sigue pidiendo hasta que el usuario introduce entrada correcta."
   ]
  },
  {
   "cell_type": "code",
   "execution_count": null,
   "metadata": {
    "collapsed": true
   },
   "outputs": [],
   "source": []
  },
  {
   "cell_type": "markdown",
   "metadata": {},
   "source": [
    "#### Ejercicio\n",
    "\n",
    "Escribe un programa que itere sobre una string que le pasemos y devuelva otra formada solo por las letras pares\n",
    "\n",
    "#### Bonus:\n",
    "\n",
    "Escribela en dos versiones: usando un bucle for y otra con while, produciendo resultados identicos"
   ]
  },
  {
   "cell_type": "code",
   "execution_count": null,
   "metadata": {
    "collapsed": true
   },
   "outputs": [],
   "source": []
  }
 ],
 "metadata": {
  "anaconda-cloud": {},
  "celltoolbar": "Slideshow",
  "kernelspec": {
   "display_name": "Python 3",
   "language": "python",
   "name": "python3"
  },
  "language_info": {
   "codemirror_mode": {
    "name": "ipython",
    "version": 3
   },
   "file_extension": ".py",
   "mimetype": "text/x-python",
   "name": "python",
   "nbconvert_exporter": "python",
   "pygments_lexer": "ipython3",
   "version": "3.6.6"
  },
  "livereveal": {
   "scroll": true,
   "start_slideshow_at": "selected"
  }
 },
 "nbformat": 4,
 "nbformat_minor": 2
}
