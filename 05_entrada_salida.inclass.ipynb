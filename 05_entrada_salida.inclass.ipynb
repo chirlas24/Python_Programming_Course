{
 "cells": [
  {
   "cell_type": "markdown",
   "metadata": {
    "slideshow": {
     "slide_type": "slide"
    }
   },
   "source": [
    "# Entrada / salida básica con Python\n",
    "\n",
    "<img src=\"https://www.python.org/static/img/python-logo.png\" alt=\"yogen\" style=\"width: 200px; float: right;\"/>\n",
    "<br>\n",
    "<br>\n",
    "<br>\n",
    "<a href = \"http://yogen.io\"><img src=\"http://yogen.io/assets/logo.svg\" alt=\"yogen\" style=\"width: 200px; float: right;\"/></a>"
   ]
  },
  {
   "cell_type": "markdown",
   "metadata": {
    "slideshow": {
     "slide_type": "slide"
    }
   },
   "source": [
    "# Objetivos\n",
    "\n",
    "-   Aprender a mostrar mensajes al usuario\n",
    "\n",
    "-   Aprender a pedir información al usuario\n",
    "\n",
    "-   Leer y escribir ficheros de datos\n",
    "\n",
    "-   Una mini-intro a ficheros de datos y *data science*\n",
    "\n",
    "-   Repaso de estrategias para escribir programas"
   ]
  },
  {
   "cell_type": "markdown",
   "metadata": {
    "slideshow": {
     "slide_type": "slide"
    }
   },
   "source": [
    "# Mostrar mensajes en la pantalla "
   ]
  },
  {
   "cell_type": "markdown",
   "metadata": {
    "slideshow": {
     "slide_type": "fragment"
    }
   },
   "source": [
    "## Comunicación con el usuario"
   ]
  },
  {
   "cell_type": "markdown",
   "metadata": {
    "slideshow": {
     "slide_type": "fragment"
    }
   },
   "source": [
    "-   Mostrar mensajes de texto al usuario\n",
    "\n",
    "-   Pedir números y texto al usuario"
   ]
  },
  {
   "cell_type": "markdown",
   "metadata": {
    "slideshow": {
     "slide_type": "slide"
    }
   },
   "source": [
    "## Mostrar mensajes al usuario\n",
    "\n",
    "-   `print` "
   ]
  },
  {
   "cell_type": "markdown",
   "metadata": {
    "slideshow": {
     "slide_type": "fragment"
    }
   },
   "source": [
    "El comando print permite mostrar mensajes de texto, con valores de variables, y aplicando un formato a la salida\n",
    "\n",
    "-   Por ejemplo, número de decimales a mostrar"
   ]
  },
  {
   "cell_type": "markdown",
   "metadata": {
    "slideshow": {
     "slide_type": "slide"
    }
   },
   "source": [
    "## Ejemplos"
   ]
  },
  {
   "cell_type": "code",
   "execution_count": 7,
   "metadata": {
    "slideshow": {
     "slide_type": "fragment"
    }
   },
   "outputs": [
    {
     "name": "stdout",
     "output_type": "stream",
     "text": [
      "Hola mundo\n",
      "42\n",
      "42.123872\n"
     ]
    }
   ],
   "source": [
    "print('Hola mundo')\n",
    "print(42)\n",
    "print(42.123872)"
   ]
  },
  {
   "cell_type": "code",
   "execution_count": 8,
   "metadata": {},
   "outputs": [
    {
     "data": {
      "text/plain": [
       "12"
      ]
     },
     "execution_count": 8,
     "metadata": {},
     "output_type": "execute_result"
    }
   ],
   "source": [
    "a = 12\n",
    "a"
   ]
  },
  {
   "cell_type": "markdown",
   "metadata": {
    "slideshow": {
     "slide_type": "fragment"
    }
   },
   "source": [
    "¿Por qué usar el comando print para mostrar el contenido de variables, si ya se muestran en el *notebook*?\n",
    "\n",
    "Porque el que se muestren en el *notebook* es específico de IPython. Si queremos que se muestren corra donde corra nuestro programa deberemos usar `print`"
   ]
  },
  {
   "cell_type": "markdown",
   "metadata": {
    "slideshow": {
     "slide_type": "slide"
    }
   },
   "source": [
    "## Mostrar mensajes con formato\n",
    "\n",
    "Construir cadenas un poco complejas a base de concatenación se vuelve fatigoso muy rápido. Para esto está el formateo de strings.\n",
    "\n",
    "Podemos insertar múltiples valores desde variables o desde literales.\n",
    "\n",
    "Con print podemos combinar números y texto en el mismo mensaje, pero requiere *indicadores de formato*.\n",
    "\n",
    "Este [minilenguaje de formateo](http://www.cprogramming.com/tutorial/printf-format-strings.html) es común a muchos lenguajes de programación.\n"
   ]
  },
  {
   "cell_type": "code",
   "execution_count": 12,
   "metadata": {
    "slideshow": {
     "slide_type": "fragment"
    }
   },
   "outputs": [
    {
     "data": {
      "text/plain": [
       "0.30000000000000004"
      ]
     },
     "execution_count": 12,
     "metadata": {},
     "output_type": "execute_result"
    }
   ],
   "source": [
    "number_to_show = .1 + .2\n",
    "number_to_show"
   ]
  },
  {
   "cell_type": "code",
   "execution_count": 13,
   "metadata": {},
   "outputs": [
    {
     "data": {
      "text/plain": [
       "'0.30000000000000004'"
      ]
     },
     "execution_count": 13,
     "metadata": {},
     "output_type": "execute_result"
    }
   ],
   "source": [
    "str(number_to_show)"
   ]
  },
  {
   "cell_type": "code",
   "execution_count": 16,
   "metadata": {},
   "outputs": [
    {
     "data": {
      "text/plain": [
       "'The number to show is 0.30'"
      ]
     },
     "execution_count": 16,
     "metadata": {},
     "output_type": "execute_result"
    }
   ],
   "source": [
    "result = 'The number to show is ' + str(number_to_show)[:4]\n",
    "result"
   ]
  },
  {
   "cell_type": "code",
   "execution_count": 18,
   "metadata": {},
   "outputs": [
    {
     "data": {
      "text/plain": [
       "'The number to show is 0.30'"
      ]
     },
     "execution_count": 18,
     "metadata": {},
     "output_type": "execute_result"
    }
   ],
   "source": [
    "'The number to show is %.2f' % number_to_show"
   ]
  },
  {
   "cell_type": "markdown",
   "metadata": {
    "slideshow": {
     "slide_type": "slide"
    }
   },
   "source": [
    "## Indicadores de formato\n",
    "\n",
    "| Formato |      Descripción       |\n",
    "| --------|------------------------|\n",
    "| %d      | Números sin decimales  |\n",
    "| %f      | Números con decimales  |\n",
    "| %s      | Texto                  |"
   ]
  },
  {
   "cell_type": "markdown",
   "metadata": {
    "slideshow": {
     "slide_type": "slide"
    }
   },
   "source": [
    "## Ejemplos\n",
    "\n",
    "Diferencias entre %d y %f"
   ]
  },
  {
   "cell_type": "code",
   "execution_count": 47,
   "metadata": {
    "slideshow": {
     "slide_type": "fragment"
    }
   },
   "outputs": [
    {
     "name": "stdout",
     "output_type": "stream",
     "text": [
      "An int as int: 42\n",
      "An int as float: 42.000000\n",
      "A float as float: 5.900000\n",
      "A float as int: 5\n"
     ]
    }
   ],
   "source": [
    "integer = 42\n",
    "floating_point = 5.9\n",
    "\n",
    "print('An int as int: %d' % integer)\n",
    "print('An int as float: %f' % integer)\n",
    "print('A float as float: %f' % floating_point)\n",
    "print('A float as int: %d' % floating_point)"
   ]
  },
  {
   "cell_type": "code",
   "execution_count": 26,
   "metadata": {},
   "outputs": [
    {
     "data": {
      "text/plain": [
       "5"
      ]
     },
     "execution_count": 26,
     "metadata": {},
     "output_type": "execute_result"
    }
   ],
   "source": [
    "int(5.9)"
   ]
  },
  {
   "cell_type": "markdown",
   "metadata": {
    "slideshow": {
     "slide_type": "slide"
    }
   },
   "source": [
    "## Uso con texto\n",
    "\n",
    "Podemos introducir varias variables en la string, dándolas como una tupla."
   ]
  },
  {
   "cell_type": "code",
   "execution_count": 35,
   "metadata": {
    "slideshow": {
     "slide_type": "fragment"
    }
   },
   "outputs": [
    {
     "name": "stdout",
     "output_type": "stream",
     "text": [
      "Me llamo Daniel, de la familia Mateos de toda la vida\n"
     ]
    }
   ],
   "source": [
    "name = 'Daniel'\n",
    "surname = 'Mateos'\n",
    "\n",
    "greeting = 'Me llamo %s, de la familia %s de toda la vida' % (name, surname)\n",
    "print(greeting)"
   ]
  },
  {
   "cell_type": "code",
   "execution_count": 37,
   "metadata": {},
   "outputs": [
    {
     "name": "stdout",
     "output_type": "stream",
     "text": [
      "Me llamo Daniel, de la familia Mateos San Martin de toda la vida\n"
     ]
    }
   ],
   "source": [
    "name = 'Daniel'\n",
    "surname = 'Mateos'\n",
    "surname2 = 'San Martin'\n",
    "greeting = 'Me llamo %s, de la familia %s %s de toda la vida' % (name, surname, surname2)\n",
    "print(greeting)"
   ]
  },
  {
   "cell_type": "markdown",
   "metadata": {},
   "source": [
    "Si intento meter una string en un %d, me da error: "
   ]
  },
  {
   "cell_type": "code",
   "execution_count": 38,
   "metadata": {},
   "outputs": [
    {
     "ename": "TypeError",
     "evalue": "%d format: a number is required, not str",
     "output_type": "error",
     "traceback": [
      "\u001b[0;31m---------------------------------------------------------------------------\u001b[0m",
      "\u001b[0;31mTypeError\u001b[0m                                 Traceback (most recent call last)",
      "\u001b[0;32m<ipython-input-38-3873db00639f>\u001b[0m in \u001b[0;36m<module>\u001b[0;34m()\u001b[0m\n\u001b[0;32m----> 1\u001b[0;31m \u001b[0mgreeting\u001b[0m \u001b[0;34m=\u001b[0m \u001b[0;34m'Me llamo %d, de la familia %s de toda la vida'\u001b[0m \u001b[0;34m%\u001b[0m \u001b[0;34m(\u001b[0m\u001b[0;34m'1'\u001b[0m\u001b[0;34m,\u001b[0m \u001b[0msurname\u001b[0m\u001b[0;34m)\u001b[0m\u001b[0;34m\u001b[0m\u001b[0m\n\u001b[0m",
      "\u001b[0;31mTypeError\u001b[0m: %d format: a number is required, not str"
     ]
    }
   ],
   "source": [
    "greeting = 'Me llamo %d, de la familia %s de toda la vida' % (name, surname)"
   ]
  },
  {
   "cell_type": "markdown",
   "metadata": {
    "slideshow": {
     "slide_type": "fragment"
    }
   },
   "source": [
    "#### Ejercicio\n",
    "\n",
    "Dada unas variables\n",
    "```python\n",
    "name = \"Daniel\"\n",
    "students = 7\n",
    "```\n",
    "Saca por pantalla un saludo al estimado profesor de parte de sus 14 estudiantes, usando formateo de strings."
   ]
  },
  {
   "cell_type": "code",
   "execution_count": 43,
   "metadata": {},
   "outputs": [
    {
     "name": "stdout",
     "output_type": "stream",
     "text": [
      "Buenas tardes ínclito Daniel, de parte de tus 7 estudiantes\n"
     ]
    }
   ],
   "source": [
    "name = \"Daniel\"\n",
    "students = 7\n",
    "\n",
    "greeting = 'Buenas tardes ínclito %s, de parte de tus %d estudiantes' % (name, students)\n",
    "print(greeting)"
   ]
  },
  {
   "cell_type": "markdown",
   "metadata": {
    "slideshow": {
     "slide_type": "slide"
    }
   },
   "source": [
    "## Números decimales\n",
    "\n",
    "### Decimales en cadenas de texto \n",
    "\n",
    "`%n.m f`\n",
    "\n",
    "-   n es el número mínimo de columnas utilizadas en la\n",
    "    escritura\n",
    "\n",
    "-   m es el número de decimales"
   ]
  },
  {
   "cell_type": "markdown",
   "metadata": {
    "slideshow": {
     "slide_type": "slide"
    }
   },
   "source": [
    "### Ejemplos"
   ]
  },
  {
   "cell_type": "code",
   "execution_count": 44,
   "metadata": {
    "slideshow": {
     "slide_type": "fragment"
    }
   },
   "outputs": [
    {
     "data": {
      "text/plain": [
       "3.141592653589793"
      ]
     },
     "execution_count": 44,
     "metadata": {},
     "output_type": "execute_result"
    }
   ],
   "source": [
    "import math\n",
    "\n",
    "math.pi"
   ]
  },
  {
   "cell_type": "code",
   "execution_count": 49,
   "metadata": {},
   "outputs": [
    {
     "name": "stdout",
     "output_type": "stream",
     "text": [
      "El numero pi es 3.141593\n",
      "El numero pi es 3.1416\n",
      "El numero pi es 3.14\n"
     ]
    }
   ],
   "source": [
    "print('El numero pi es %f' % math.pi)\n",
    "print('El numero pi es %.4f' % math.pi)\n",
    "print('El numero pi es %.2f' % math.pi)"
   ]
  },
  {
   "cell_type": "code",
   "execution_count": 53,
   "metadata": {},
   "outputs": [
    {
     "name": "stdout",
     "output_type": "stream",
     "text": [
      "El numero pi es       3.14, seguro seguro\n",
      "El numero pi es     3.14, seguro seguro\n",
      "El numero pi es   3.1416, seguro seguro\n",
      "El numero pi es 3.1416, seguro seguro\n"
     ]
    }
   ],
   "source": [
    "print('El numero pi es %10.2f, seguro seguro' % math.pi)\n",
    "print('El numero pi es %8.2f, seguro seguro' % math.pi)\n",
    "print('El numero pi es %8.4f, seguro seguro' % math.pi)\n",
    "print('El numero pi es %4.4f, seguro seguro' % math.pi)"
   ]
  },
  {
   "cell_type": "markdown",
   "metadata": {},
   "source": [
    "#### Ejercicio\n",
    "\n",
    "Construye una expresión print que, dadas las variables\n",
    "\n",
    "```python\n",
    "progress = 45.3\n",
    "total = 120\n",
    "```\n",
    "\n",
    ", interpretadas como el total de megabytes de una descarga y el tamaño total del archivo, exprese su progreso de por pantalla de la forma:\n",
    "\n",
    "```python\n",
    "Descargados 115.6 de 120.0 mb\n",
    "```\n",
    "\n",
    "Queremos que, si mostramos el mensaje múltiples veces, los números queden alineados aunque tengan un número distinto de cifras."
   ]
  },
  {
   "cell_type": "code",
   "execution_count": 60,
   "metadata": {},
   "outputs": [
    {
     "name": "stdout",
     "output_type": "stream",
     "text": [
      "Descargados   4.30 de un total de 120.00 mb bytes de tu video porno \n",
      "Descargados  45.30 de un total de 120.00 mb bytes de tu video porno \n",
      "Descargados  89.21 de un total de 120.00 mb bytes de tu video porno \n",
      "Descargados 112.00 de un total de 120.00 mb bytes de tu video porno \n"
     ]
    }
   ],
   "source": [
    "progress_1 = 4.3\n",
    "progress_2 = 45.3\n",
    "progress_3 = 89.2131132\n",
    "progress_4 = 112\n",
    "total = 120\n",
    "\n",
    "print('Descargados %6.2f de un total de %6.2f mb bytes de tu video porno ' % (progress_1, total))\n",
    "print('Descargados %6.2f de un total de %6.2f mb bytes de tu video porno ' % (progress_2, total))\n",
    "print('Descargados %6.2f de un total de %6.2f mb bytes de tu video porno ' % (progress_3, total))\n",
    "print('Descargados %6.2f de un total de %6.2f mb bytes de tu video porno ' % (progress_4, total))"
   ]
  },
  {
   "cell_type": "markdown",
   "metadata": {},
   "source": [
    "Nos estamos repitiendo mucho. Mucho mejor abstraer los componentes comunes a variables para reutilizarlos"
   ]
  },
  {
   "cell_type": "code",
   "execution_count": 1,
   "metadata": {},
   "outputs": [
    {
     "name": "stdout",
     "output_type": "stream",
     "text": [
      "Descargados     4.30 de un total de   120.00 mbs\n",
      "Descargados    45.30 de un total de   120.00 mbs\n",
      "Descargados    89.21 de un total de   120.00 mbs\n",
      "Descargados   112.00 de un total de   120.00 mbs\n"
     ]
    }
   ],
   "source": [
    "progress_1 = 4.3\n",
    "progress_2 = 45.3\n",
    "progress_3 = 89.2131132\n",
    "progress_4 = 112\n",
    "total = 120\n",
    "template = 'Descargados %8.2f de un total de %8.2f mbs'\n",
    "\n",
    "print(template % (progress_1, total))\n",
    "print(template % (progress_2, total))\n",
    "print(template % (progress_3, total))\n",
    "print(template % (progress_4, total))"
   ]
  },
  {
   "cell_type": "markdown",
   "metadata": {
    "slideshow": {
     "slide_type": "slide"
    }
   },
   "source": [
    "## Números enteros\n",
    "\n",
    "Enteros en cadaneas de texto %n.m d\n",
    "\n",
    "-   n es el número mínimo de columnas utilizadas en la\n",
    "    escritura\n",
    "\n",
    "-   m es el número de dígitos"
   ]
  },
  {
   "cell_type": "markdown",
   "metadata": {
    "slideshow": {
     "slide_type": "fragment"
    }
   },
   "source": [
    "#### Ejemplos"
   ]
  },
  {
   "cell_type": "code",
   "execution_count": 71,
   "metadata": {
    "slideshow": {
     "slide_type": "fragment"
    }
   },
   "outputs": [
    {
     "name": "stdout",
     "output_type": "stream",
     "text": [
      "Tengo  34 anios\n",
      "bautizo_trini_0034.jpg\n",
      "bautizo_trini_  0034.jpg\n",
      "bautizo_trini_0034.jpg\n"
     ]
    }
   ],
   "source": [
    "print('Tengo %3.d anios' % 34)\n",
    "\n",
    "print('bautizo_trini_%.4d.jpg' % 34)\n",
    "print('bautizo_trini_%6.4d.jpg' % 34)\n",
    "print('bautizo_trini_%2.4d.jpg' % 34)"
   ]
  },
  {
   "cell_type": "markdown",
   "metadata": {
    "slideshow": {
     "slide_type": "slide"
    }
   },
   "source": [
    "# Pedir datos al usuario "
   ]
  },
  {
   "cell_type": "markdown",
   "metadata": {
    "slideshow": {
     "slide_type": "fragment"
    }
   },
   "source": [
    "Muchos programas pueden necesitar preguntar datos al usuario. Para ello usamos el comando:\n",
    "\n",
    "-   `input`"
   ]
  },
  {
   "cell_type": "markdown",
   "metadata": {
    "slideshow": {
     "slide_type": "fragment"
    }
   },
   "source": [
    "#### Ejemplo: Pedir un número"
   ]
  },
  {
   "cell_type": "code",
   "execution_count": 2,
   "metadata": {
    "slideshow": {
     "slide_type": "fragment"
    }
   },
   "outputs": [
    {
     "name": "stdout",
     "output_type": "stream",
     "text": [
      "Please input your username Dani\n"
     ]
    },
    {
     "data": {
      "text/plain": [
       "'Dani'"
      ]
     },
     "execution_count": 2,
     "metadata": {},
     "output_type": "execute_result"
    }
   ],
   "source": [
    "input('Please input your username ')"
   ]
  },
  {
   "cell_type": "code",
   "execution_count": 74,
   "metadata": {},
   "outputs": [
    {
     "name": "stdout",
     "output_type": "stream",
     "text": [
      "Please input your username dani\n"
     ]
    }
   ],
   "source": [
    "username = input('Please input your username ')"
   ]
  },
  {
   "cell_type": "markdown",
   "metadata": {
    "slideshow": {
     "slide_type": "slide"
    }
   },
   "source": [
    "## `input` siempre devuelve una string\n",
    "\n",
    "Si necesitamos otro tipo de dato, tendremos que modificarlo nosotros. \n",
    "\n",
    "La interacción con el usuario es un punto en el que típicamente se producen errores."
   ]
  },
  {
   "cell_type": "code",
   "execution_count": 77,
   "metadata": {
    "slideshow": {
     "slide_type": "fragment"
    }
   },
   "outputs": [
    {
     "name": "stdout",
     "output_type": "stream",
     "text": [
      "Whats your age, precious?34\n"
     ]
    },
    {
     "ename": "TypeError",
     "evalue": "must be str, not int",
     "output_type": "error",
     "traceback": [
      "\u001b[0;31m---------------------------------------------------------------------------\u001b[0m",
      "\u001b[0;31mTypeError\u001b[0m                                 Traceback (most recent call last)",
      "\u001b[0;32m<ipython-input-77-934c08825a68>\u001b[0m in \u001b[0;36m<module>\u001b[0;34m()\u001b[0m\n\u001b[1;32m      1\u001b[0m \u001b[0muser_age\u001b[0m \u001b[0;34m=\u001b[0m \u001b[0minput\u001b[0m\u001b[0;34m(\u001b[0m\u001b[0;34m'Whats your age, precious?'\u001b[0m\u001b[0;34m)\u001b[0m\u001b[0;34m\u001b[0m\u001b[0m\n\u001b[0;32m----> 2\u001b[0;31m \u001b[0muser_age_in_2050\u001b[0m \u001b[0;34m=\u001b[0m \u001b[0muser_age\u001b[0m \u001b[0;34m+\u001b[0m \u001b[0;36m32\u001b[0m\u001b[0;34m\u001b[0m\u001b[0m\n\u001b[0m",
      "\u001b[0;31mTypeError\u001b[0m: must be str, not int"
     ]
    }
   ],
   "source": [
    "user_age = input('Whats your age, precious?')\n",
    "user_age_in_2050 = user_age + 32"
   ]
  },
  {
   "cell_type": "code",
   "execution_count": 79,
   "metadata": {
    "slideshow": {
     "slide_type": "fragment"
    }
   },
   "outputs": [
    {
     "name": "stdout",
     "output_type": "stream",
     "text": [
      "Whats your age, precious?34\n",
      "Your gorgeous flesh will be 66 in 2050, so get cracking\n"
     ]
    }
   ],
   "source": [
    "user_age = int(input('Whats your age, precious?'))\n",
    "user_age_in_2050 = user_age + 32\n",
    "print('Your gorgeous flesh will be %d in 2050, so get cracking' % user_age_in_2050)"
   ]
  },
  {
   "cell_type": "markdown",
   "metadata": {},
   "source": [
    "No podemos dar por sentado que el usuario hará lo que le pedimos:"
   ]
  },
  {
   "cell_type": "code",
   "execution_count": 89,
   "metadata": {
    "scrolled": true,
    "slideshow": {
     "slide_type": "fragment"
    }
   },
   "outputs": [
    {
     "name": "stdout",
     "output_type": "stream",
     "text": [
      "Whats your age, precious?vete a peinar\n"
     ]
    },
    {
     "ename": "ValueError",
     "evalue": "invalid literal for int() with base 10: 'vete a peinar'",
     "output_type": "error",
     "traceback": [
      "\u001b[0;31m---------------------------------------------------------------------------\u001b[0m",
      "\u001b[0;31mValueError\u001b[0m                                Traceback (most recent call last)",
      "\u001b[0;32m<ipython-input-89-843a872e6a95>\u001b[0m in \u001b[0;36m<module>\u001b[0;34m()\u001b[0m\n\u001b[0;32m----> 1\u001b[0;31m \u001b[0muser_age\u001b[0m \u001b[0;34m=\u001b[0m \u001b[0mint\u001b[0m\u001b[0;34m(\u001b[0m\u001b[0minput\u001b[0m\u001b[0;34m(\u001b[0m\u001b[0;34m'Whats your age, precious?'\u001b[0m\u001b[0;34m)\u001b[0m\u001b[0;34m)\u001b[0m\u001b[0;34m\u001b[0m\u001b[0m\n\u001b[0m\u001b[1;32m      2\u001b[0m \u001b[0muser_age_in_2050\u001b[0m \u001b[0;34m=\u001b[0m \u001b[0muser_age\u001b[0m \u001b[0;34m+\u001b[0m \u001b[0;36m32\u001b[0m\u001b[0;34m\u001b[0m\u001b[0m\n\u001b[1;32m      3\u001b[0m \u001b[0mprint\u001b[0m\u001b[0;34m(\u001b[0m\u001b[0;34m'Your gorgeous flesh will be %d in 2050, so get cracking'\u001b[0m \u001b[0;34m%\u001b[0m \u001b[0muser_age_in_2050\u001b[0m\u001b[0;34m)\u001b[0m\u001b[0;34m\u001b[0m\u001b[0m\n",
      "\u001b[0;31mValueError\u001b[0m: invalid literal for int() with base 10: 'vete a peinar'"
     ]
    }
   ],
   "source": [
    "user_age = int(input('Whats your age, precious?'))\n",
    "user_age_in_2050 = user_age + 32\n",
    "print('Your gorgeous flesh will be %d in 2050, so get cracking' % user_age_in_2050)"
   ]
  },
  {
   "cell_type": "markdown",
   "metadata": {
    "slideshow": {
     "slide_type": "slide"
    }
   },
   "source": [
    "# Ficheros de datos "
   ]
  },
  {
   "cell_type": "markdown",
   "metadata": {
    "slideshow": {
     "slide_type": "slide"
    }
   },
   "source": [
    "## Leer datos de un fichero\n",
    "\n",
    "Normalmente, en *data science* leeremos los datos desde ficheros, no se los pediremos al usuario.\n",
    "\n",
    "-   En realidad, usaremos bibliotecas específicas para leer y escribir\n",
    "    datos, como por ejemplo **`pandas`**"
   ]
  },
  {
   "cell_type": "markdown",
   "metadata": {
    "slideshow": {
     "slide_type": "slide"
    }
   },
   "source": [
    "## Abrir y cerrar ficheros\n",
    "Es necesario abrir un fichero usando un **modo de apertura** para poder trabajar con un fichero."
   ]
  },
  {
   "cell_type": "markdown",
   "metadata": {},
   "source": [
    "Necesitamos tener el archivo `fichero.csv` en el directorio donde estamos: el _current working directory_. \n",
    "\n",
    "Para saber cuál es podemos usar la función `os.getcwd()`"
   ]
  },
  {
   "cell_type": "code",
   "execution_count": 90,
   "metadata": {},
   "outputs": [
    {
     "data": {
      "text/plain": [
       "'/home/dani/repos/intro-programming/edition_10'"
      ]
     },
     "execution_count": 90,
     "metadata": {},
     "output_type": "execute_result"
    }
   ],
   "source": [
    "import os \n",
    "\n",
    "os.getcwd()"
   ]
  },
  {
   "cell_type": "code",
   "execution_count": 94,
   "metadata": {},
   "outputs": [
    {
     "ename": "FileNotFoundError",
     "evalue": "[Errno 2] No such file or directory: 'tocoto.csv'",
     "output_type": "error",
     "traceback": [
      "\u001b[0;31m---------------------------------------------------------------------------\u001b[0m",
      "\u001b[0;31mFileNotFoundError\u001b[0m                         Traceback (most recent call last)",
      "\u001b[0;32m<ipython-input-94-b3178565ac4c>\u001b[0m in \u001b[0;36m<module>\u001b[0;34m()\u001b[0m\n\u001b[0;32m----> 1\u001b[0;31m \u001b[0mfile\u001b[0m \u001b[0;34m=\u001b[0m \u001b[0mopen\u001b[0m\u001b[0;34m(\u001b[0m\u001b[0;34m'tocoto.csv'\u001b[0m\u001b[0;34m)\u001b[0m\u001b[0;34m\u001b[0m\u001b[0m\n\u001b[0m\u001b[1;32m      2\u001b[0m \u001b[0mfile\u001b[0m\u001b[0;34m\u001b[0m\u001b[0m\n",
      "\u001b[0;31mFileNotFoundError\u001b[0m: [Errno 2] No such file or directory: 'tocoto.csv'"
     ]
    }
   ],
   "source": [
    "file = open('tocoto.csv')\n",
    "file"
   ]
  },
  {
   "cell_type": "code",
   "execution_count": 98,
   "metadata": {},
   "outputs": [
    {
     "data": {
      "text/plain": [
       "<_io.TextIOWrapper name='fichero.csv' mode='r' encoding='UTF-8'>"
      ]
     },
     "execution_count": 98,
     "metadata": {},
     "output_type": "execute_result"
    }
   ],
   "source": [
    "file = open('fichero.csv')\n",
    "file"
   ]
  },
  {
   "cell_type": "markdown",
   "metadata": {
    "slideshow": {
     "slide_type": "slide"
    }
   },
   "source": [
    "## Leer ficheros\n",
    "\n",
    "Tenemos varias instrucciones que podemos usar para leer ficheros:\n",
    "\n",
    "-   `read` para leer el contenido entero del fichero\n",
    "\n",
    "-   `readline` para leer el fichero línea a línea\n",
    "\n",
    "-   `readlines` para leer todas las líneas en una lista\n",
    "\n",
    "    -   Esta función es iterable, es decir, no necesitamos cargar el\n",
    "        fichero en memoria entero si usamos readlines"
   ]
  },
  {
   "cell_type": "markdown",
   "metadata": {
    "slideshow": {
     "slide_type": "fragment"
    }
   },
   "source": [
    "-   Veamos un ejemplo con un fichero de datos"
   ]
  },
  {
   "cell_type": "code",
   "execution_count": 99,
   "metadata": {},
   "outputs": [
    {
     "data": {
      "text/plain": [
       "'id,type,article,price\\n001,garden,SawMaster,200.0\\n002,kitchen,CutPlus,99.95\\n003,personal_hygiene,IntiMus,19.99\\n'"
      ]
     },
     "execution_count": 99,
     "metadata": {},
     "output_type": "execute_result"
    }
   ],
   "source": [
    "content = file.read()\n",
    "content"
   ]
  },
  {
   "cell_type": "markdown",
   "metadata": {},
   "source": [
    "`readline()` nos devuelve una única línea, con su salto de línea al final."
   ]
  },
  {
   "cell_type": "code",
   "execution_count": 100,
   "metadata": {},
   "outputs": [
    {
     "data": {
      "text/plain": [
       "'id,type,article,price\\n'"
      ]
     },
     "execution_count": 100,
     "metadata": {},
     "output_type": "execute_result"
    }
   ],
   "source": [
    "file = open('fichero.csv')\n",
    "file.readline()"
   ]
  },
  {
   "cell_type": "markdown",
   "metadata": {},
   "source": [
    "Si lo volvemos a llamar, nos devuelve la siguiente línea."
   ]
  },
  {
   "cell_type": "code",
   "execution_count": 101,
   "metadata": {},
   "outputs": [
    {
     "data": {
      "text/plain": [
       "'001,garden,SawMaster,200.0\\n'"
      ]
     },
     "execution_count": 101,
     "metadata": {},
     "output_type": "execute_result"
    }
   ],
   "source": [
    "file.readline()"
   ]
  },
  {
   "cell_type": "markdown",
   "metadata": {},
   "source": [
    "Y así sucesivamente hasta que..."
   ]
  },
  {
   "cell_type": "code",
   "execution_count": 111,
   "metadata": {},
   "outputs": [
    {
     "data": {
      "text/plain": [
       "''"
      ]
     },
     "execution_count": 111,
     "metadata": {},
     "output_type": "execute_result"
    }
   ],
   "source": [
    "file.readline()"
   ]
  },
  {
   "cell_type": "code",
   "execution_count": 112,
   "metadata": {},
   "outputs": [
    {
     "data": {
      "text/plain": [
       "''"
      ]
     },
     "execution_count": 112,
     "metadata": {},
     "output_type": "execute_result"
    }
   ],
   "source": [
    "file = open('fichero.csv')\n",
    "file.read()\n",
    "file.read()"
   ]
  },
  {
   "cell_type": "markdown",
   "metadata": {},
   "source": [
    "Con `seek()` podemos recolocar el \"cursor\", la posición actual, dentro del archivo."
   ]
  },
  {
   "cell_type": "code",
   "execution_count": 125,
   "metadata": {},
   "outputs": [
    {
     "data": {
      "text/plain": [
       "'id,type,article,price\\n001,garden,SawMaster,200.0\\n002,kitchen,CutPlus,99.95\\n003,personal_hygiene,IntiMus,19.99\\n'"
      ]
     },
     "execution_count": 125,
     "metadata": {},
     "output_type": "execute_result"
    }
   ],
   "source": [
    "file = open('fichero.csv')\n",
    "file.read()\n",
    "file.seek(0)\n",
    "file.read()"
   ]
  },
  {
   "cell_type": "markdown",
   "metadata": {},
   "source": [
    "`readlines` nos devuelve todas las líneas en forma de listas. \n",
    "\n",
    "Si el archivo es lo suficientemente grande, podemos llenar la memoria."
   ]
  },
  {
   "cell_type": "code",
   "execution_count": 126,
   "metadata": {},
   "outputs": [
    {
     "data": {
      "text/plain": [
       "['id,type,article,price\\n',\n",
       " '001,garden,SawMaster,200.0\\n',\n",
       " '002,kitchen,CutPlus,99.95\\n',\n",
       " '003,personal_hygiene,IntiMus,19.99\\n']"
      ]
     },
     "execution_count": 126,
     "metadata": {},
     "output_type": "execute_result"
    }
   ],
   "source": [
    "file = open('fichero.csv')\n",
    "file.readlines()"
   ]
  },
  {
   "cell_type": "code",
   "execution_count": 133,
   "metadata": {},
   "outputs": [],
   "source": [
    "file = open('fichero.csv')\n",
    "lines = file.readlines()"
   ]
  },
  {
   "cell_type": "code",
   "execution_count": 134,
   "metadata": {},
   "outputs": [
    {
     "data": {
      "text/plain": [
       "'001,garden,SawMaster,200.0\\n'"
      ]
     },
     "execution_count": 134,
     "metadata": {},
     "output_type": "execute_result"
    }
   ],
   "source": [
    "lines[1]"
   ]
  },
  {
   "cell_type": "markdown",
   "metadata": {},
   "source": [
    "Por defecto, los archivos se abren en modo de lectura, 'r'"
   ]
  },
  {
   "cell_type": "code",
   "execution_count": 135,
   "metadata": {},
   "outputs": [
    {
     "data": {
      "text/plain": [
       "<_io.TextIOWrapper name='fichero.csv' mode='r' encoding='UTF-8'>"
      ]
     },
     "execution_count": 135,
     "metadata": {},
     "output_type": "execute_result"
    }
   ],
   "source": [
    "file"
   ]
  },
  {
   "cell_type": "markdown",
   "metadata": {},
   "source": [
    "Siempre hay que cerrar los archivos cuando hemos terminado de usarlos."
   ]
  },
  {
   "cell_type": "code",
   "execution_count": 136,
   "metadata": {},
   "outputs": [
    {
     "data": {
      "text/plain": [
       "False"
      ]
     },
     "execution_count": 136,
     "metadata": {},
     "output_type": "execute_result"
    }
   ],
   "source": [
    "file.closed"
   ]
  },
  {
   "cell_type": "code",
   "execution_count": 137,
   "metadata": {},
   "outputs": [],
   "source": [
    "file.close()"
   ]
  },
  {
   "cell_type": "code",
   "execution_count": 138,
   "metadata": {},
   "outputs": [
    {
     "data": {
      "text/plain": [
       "True"
      ]
     },
     "execution_count": 138,
     "metadata": {},
     "output_type": "execute_result"
    }
   ],
   "source": [
    "file.closed"
   ]
  },
  {
   "cell_type": "markdown",
   "metadata": {
    "slideshow": {
     "slide_type": "slide"
    }
   },
   "source": [
    "## Escribir ficheros\n",
    "\n",
    "Usaremos la instrucción *write*\n",
    "\n",
    "-   Acepta solo cadenas de texto\n",
    "\n",
    "-   No escribe saltos de línea por defecto, por lo que tenemos que\n",
    "    añadir saltos de línea al final de cada línea de texto\n",
    "    \n",
    "-   Tenemos que abrir el archivo en modo 'w', de escritura"
   ]
  },
  {
   "cell_type": "code",
   "execution_count": 139,
   "metadata": {},
   "outputs": [
    {
     "ename": "FileNotFoundError",
     "evalue": "[Errno 2] No such file or directory: 'newfile.txt'",
     "output_type": "error",
     "traceback": [
      "\u001b[0;31m---------------------------------------------------------------------------\u001b[0m",
      "\u001b[0;31mFileNotFoundError\u001b[0m                         Traceback (most recent call last)",
      "\u001b[0;32m<ipython-input-139-67356e673476>\u001b[0m in \u001b[0;36m<module>\u001b[0;34m()\u001b[0m\n\u001b[0;32m----> 1\u001b[0;31m \u001b[0mnew_file\u001b[0m \u001b[0;34m=\u001b[0m \u001b[0mopen\u001b[0m\u001b[0;34m(\u001b[0m\u001b[0;34m'newfile.txt'\u001b[0m\u001b[0;34m)\u001b[0m\u001b[0;34m\u001b[0m\u001b[0m\n\u001b[0m",
      "\u001b[0;31mFileNotFoundError\u001b[0m: [Errno 2] No such file or directory: 'newfile.txt'"
     ]
    }
   ],
   "source": [
    "new_file = open('newfile.txt')"
   ]
  },
  {
   "cell_type": "code",
   "execution_count": 143,
   "metadata": {},
   "outputs": [
    {
     "data": {
      "text/plain": [
       "10"
      ]
     },
     "execution_count": 143,
     "metadata": {},
     "output_type": "execute_result"
    }
   ],
   "source": [
    "new_file = open('newfile.txt', 'w')\n",
    "new_file.write('holi guapi')"
   ]
  },
  {
   "cell_type": "code",
   "execution_count": 144,
   "metadata": {},
   "outputs": [],
   "source": [
    "new_file.close() "
   ]
  },
  {
   "cell_type": "markdown",
   "metadata": {
    "slideshow": {
     "slide_type": "slide"
    }
   },
   "source": [
    "## Cerrar ficheros\n",
    "\n",
    "Corrupción de datos\n",
    "\n",
    "-   Siempre que escribamos en un fichero, no podemos estar \n",
    "    seguros de que los datos se han guardado en el\n",
    "    disco hasta que no hemos cerrado el fichero.\n",
    "\n",
    "-   Cuando leemos, esto no es imprescindible, pero sí  **altamente\n",
    "    recomendable**\n",
    "    \n",
    "-   Podemos forzar al sistema operativo a guardarlos con `flush()`, \n",
    "    pero aún así deberemos cerrar el archivo al terminar con él."
   ]
  },
  {
   "cell_type": "code",
   "execution_count": 146,
   "metadata": {},
   "outputs": [
    {
     "data": {
      "text/plain": [
       "29"
      ]
     },
     "execution_count": 146,
     "metadata": {},
     "output_type": "execute_result"
    }
   ],
   "source": [
    "new_file = open('newfile.txt', 'w')\n",
    "new_file.write('holi guapi como te va la vida')"
   ]
  },
  {
   "cell_type": "code",
   "execution_count": 147,
   "metadata": {},
   "outputs": [
    {
     "data": {
      "text/plain": [
       "False"
      ]
     },
     "execution_count": 147,
     "metadata": {},
     "output_type": "execute_result"
    }
   ],
   "source": [
    "new_file.flush()\n",
    "new_file.closed"
   ]
  },
  {
   "cell_type": "code",
   "execution_count": 148,
   "metadata": {},
   "outputs": [],
   "source": [
    "new_file.close()"
   ]
  },
  {
   "cell_type": "markdown",
   "metadata": {
    "slideshow": {
     "slide_type": "slide"
    }
   },
   "source": [
    "## Cláusula with\n",
    "\n",
    "Se asegura de que el fichero quede cerrado cuando se sale del contexto de `with`"
   ]
  },
  {
   "cell_type": "code",
   "execution_count": 150,
   "metadata": {
    "slideshow": {
     "slide_type": "fragment"
    }
   },
   "outputs": [
    {
     "name": "stdout",
     "output_type": "stream",
     "text": [
      "uy se me olvida cerrar el archivo\n"
     ]
    },
    {
     "data": {
      "text/plain": [
       "True"
      ]
     },
     "execution_count": 150,
     "metadata": {},
     "output_type": "execute_result"
    }
   ],
   "source": [
    "with open('newfile.txt') as f:\n",
    "    print('uy se me olvida cerrar el archivo')\n",
    "    f.read()\n",
    "    \n",
    "f.closed"
   ]
  },
  {
   "cell_type": "markdown",
   "metadata": {
    "slideshow": {
     "slide_type": "slide"
    }
   },
   "source": [
    "## Leer un CSV con Pandas\n",
    "\n",
    "En la práctica de *Data Science*, no usaríamos una API de tan\n",
    "bajo nivel. Existen muchas bibliotecas de análisis de datos que nos\n",
    "permiten cargar los datos en un *dataframe*"
   ]
  },
  {
   "cell_type": "code",
   "execution_count": 3,
   "metadata": {
    "slideshow": {
     "slide_type": "fragment"
    }
   },
   "outputs": [
    {
     "data": {
      "text/plain": [
       "0              garden\n",
       "1             kitchen\n",
       "2    personal_hygiene\n",
       "Name: type, dtype: object"
      ]
     },
     "execution_count": 3,
     "metadata": {},
     "output_type": "execute_result"
    }
   ],
   "source": [
    "import pandas as pd\n",
    "\n",
    "data = pd.read_csv('fichero.csv')\n",
    "data['type']"
   ]
  },
  {
   "cell_type": "markdown",
   "metadata": {},
   "source": [
    "`pandas` nos hace extremadamente fácil leer datos en distintos formatos, incluso de fuentes remotas:"
   ]
  },
  {
   "cell_type": "code",
   "execution_count": 5,
   "metadata": {},
   "outputs": [],
   "source": [
    "tables = pd.read_html('https://en.wikipedia.org/wiki/List_of_accidents_and_disasters_by_death_toll')"
   ]
  },
  {
   "cell_type": "code",
   "execution_count": 8,
   "metadata": {
    "scrolled": true
   },
   "outputs": [
    {
     "data": {
      "text/html": [
       "<div>\n",
       "<style scoped>\n",
       "    .dataframe tbody tr th:only-of-type {\n",
       "        vertical-align: middle;\n",
       "    }\n",
       "\n",
       "    .dataframe tbody tr th {\n",
       "        vertical-align: top;\n",
       "    }\n",
       "\n",
       "    .dataframe thead th {\n",
       "        text-align: right;\n",
       "    }\n",
       "</style>\n",
       "<table border=\"1\" class=\"dataframe\">\n",
       "  <thead>\n",
       "    <tr style=\"text-align: right;\">\n",
       "      <th></th>\n",
       "      <th>0</th>\n",
       "      <th>1</th>\n",
       "      <th>2</th>\n",
       "      <th>3</th>\n",
       "    </tr>\n",
       "  </thead>\n",
       "  <tbody>\n",
       "    <tr>\n",
       "      <th>0</th>\n",
       "      <td>Deaths</td>\n",
       "      <td>Date</td>\n",
       "      <td>Incident</td>\n",
       "      <td>Location</td>\n",
       "    </tr>\n",
       "    <tr>\n",
       "      <th>1</th>\n",
       "      <td>155</td>\n",
       "      <td>11 November 2000</td>\n",
       "      <td>Kaprun disaster[27]</td>\n",
       "      <td>Kaprun, Austria</td>\n",
       "    </tr>\n",
       "    <tr>\n",
       "      <th>2</th>\n",
       "      <td>43</td>\n",
       "      <td>9 March 1976</td>\n",
       "      <td>1976 Cavalese cable car disaster[28]</td>\n",
       "      <td>Cavalese, Italy</td>\n",
       "    </tr>\n",
       "    <tr>\n",
       "      <th>3</th>\n",
       "      <td>20</td>\n",
       "      <td>1 June 1990</td>\n",
       "      <td>Tbilisi cable car disaster[29]</td>\n",
       "      <td>Tbilisi, Georgia</td>\n",
       "    </tr>\n",
       "    <tr>\n",
       "      <th>4</th>\n",
       "      <td>20</td>\n",
       "      <td>3 February 1998</td>\n",
       "      <td>1998 Cavalese cable car disaster[30]</td>\n",
       "      <td>Cavalese, Italy</td>\n",
       "    </tr>\n",
       "    <tr>\n",
       "      <th>5</th>\n",
       "      <td>20</td>\n",
       "      <td>1 July 1999</td>\n",
       "      <td>Saint-Étienne-en-Dévoluy cable car disaster[31]</td>\n",
       "      <td>Saint-Étienne-en-Dévoluy, France</td>\n",
       "    </tr>\n",
       "    <tr>\n",
       "      <th>6</th>\n",
       "      <td>13</td>\n",
       "      <td>12 July 1972</td>\n",
       "      <td>Bettmeralp cable car disaster[32][33]</td>\n",
       "      <td>Bettmeralp, Switzerland</td>\n",
       "    </tr>\n",
       "    <tr>\n",
       "      <th>7</th>\n",
       "      <td>12</td>\n",
       "      <td>29 June 2017</td>\n",
       "      <td>Charra Pani cable car disaster[34]</td>\n",
       "      <td>Charra Pani, Galyat, Pakistan</td>\n",
       "    </tr>\n",
       "    <tr>\n",
       "      <th>8</th>\n",
       "      <td>11</td>\n",
       "      <td>13 February 1983</td>\n",
       "      <td>Champoluc cable car disaster[35]</td>\n",
       "      <td>Champoluc, Italy</td>\n",
       "    </tr>\n",
       "    <tr>\n",
       "      <th>9</th>\n",
       "      <td>9</td>\n",
       "      <td>26 October 1972</td>\n",
       "      <td>Les Deux Alpes cable car disaster[32]</td>\n",
       "      <td>Les Deux Alpes, Isère, France</td>\n",
       "    </tr>\n",
       "    <tr>\n",
       "      <th>10</th>\n",
       "      <td>9</td>\n",
       "      <td>5 September 2005</td>\n",
       "      <td>Sölden cable car disaster[36]</td>\n",
       "      <td>Sölden, Austria</td>\n",
       "    </tr>\n",
       "    <tr>\n",
       "      <th>11</th>\n",
       "      <td>8</td>\n",
       "      <td>13 January 1989</td>\n",
       "      <td>Vaujany cable car disaster[37]</td>\n",
       "      <td>Vaujany, France</td>\n",
       "    </tr>\n",
       "    <tr>\n",
       "      <th>12</th>\n",
       "      <td>7</td>\n",
       "      <td>25 December 1965</td>\n",
       "      <td>Le Mont-Dore cable car disaster[31]</td>\n",
       "      <td>Le Mont-Dore, France</td>\n",
       "    </tr>\n",
       "    <tr>\n",
       "      <th>13</th>\n",
       "      <td>7</td>\n",
       "      <td>29 January 1983</td>\n",
       "      <td>Singapore Cable Car disaster[38]</td>\n",
       "      <td>Singapore</td>\n",
       "    </tr>\n",
       "    <tr>\n",
       "      <th>14</th>\n",
       "      <td>7</td>\n",
       "      <td>19 January 2003</td>\n",
       "      <td>2003 Pavagadh cable car disaster[39]</td>\n",
       "      <td>Pavagadh, India</td>\n",
       "    </tr>\n",
       "    <tr>\n",
       "      <th>15</th>\n",
       "      <td>7</td>\n",
       "      <td>25 June 2017</td>\n",
       "      <td>Gulmarg cable car disaster[40]</td>\n",
       "      <td>Gulmarg, India</td>\n",
       "    </tr>\n",
       "    <tr>\n",
       "      <th>16</th>\n",
       "      <td>6</td>\n",
       "      <td>29 August 1961</td>\n",
       "      <td>Aiguille du Midi cable car accident[31]</td>\n",
       "      <td>Aiguille du Midi, Mont Blanc, France</td>\n",
       "    </tr>\n",
       "    <tr>\n",
       "      <th>17</th>\n",
       "      <td>6</td>\n",
       "      <td>1 March 1987</td>\n",
       "      <td>Luz-Ardiden cable car accident[31]</td>\n",
       "      <td>Luz-Ardiden, Hautes-Pyrénées, France</td>\n",
       "    </tr>\n",
       "    <tr>\n",
       "      <th>18</th>\n",
       "      <td>5</td>\n",
       "      <td>8 December 1970</td>\n",
       "      <td>Merano cable car accident[35]</td>\n",
       "      <td>Merano, Italy</td>\n",
       "    </tr>\n",
       "    <tr>\n",
       "      <th>19</th>\n",
       "      <td>4</td>\n",
       "      <td>1 August 1971</td>\n",
       "      <td>Alagna Valsesia cable car accident[31]</td>\n",
       "      <td>Alagna Valsesia, Italy</td>\n",
       "    </tr>\n",
       "    <tr>\n",
       "      <th>20</th>\n",
       "      <td>4</td>\n",
       "      <td>9 July 1974</td>\n",
       "      <td>Ulriken cable car accident[31]</td>\n",
       "      <td>Ulriken, Norway</td>\n",
       "    </tr>\n",
       "    <tr>\n",
       "      <th>21</th>\n",
       "      <td>4</td>\n",
       "      <td>26 March 1976</td>\n",
       "      <td>Vail cable car accident[41]</td>\n",
       "      <td>Vail, Colorado, USA</td>\n",
       "    </tr>\n",
       "    <tr>\n",
       "      <th>22</th>\n",
       "      <td>4</td>\n",
       "      <td>15 April 1978</td>\n",
       "      <td>Squaw Valley cable car accident[31]</td>\n",
       "      <td>Olympic Valley, California, USA</td>\n",
       "    </tr>\n",
       "    <tr>\n",
       "      <th>23</th>\n",
       "      <td>4</td>\n",
       "      <td>29 January 1992</td>\n",
       "      <td>Nassfeld cable car accident[31]</td>\n",
       "      <td>Nassfeld, Austria</td>\n",
       "    </tr>\n",
       "    <tr>\n",
       "      <th>24</th>\n",
       "      <td>4</td>\n",
       "      <td>19 October 2003</td>\n",
       "      <td>Darjeeling cable car accident[31][40]</td>\n",
       "      <td>Darjeeling, India</td>\n",
       "    </tr>\n",
       "    <tr>\n",
       "      <th>25</th>\n",
       "      <td>4</td>\n",
       "      <td>24 April 2016</td>\n",
       "      <td>2016 Pavagadh cable car accident[42]</td>\n",
       "      <td>Pavagadh, India</td>\n",
       "    </tr>\n",
       "    <tr>\n",
       "      <th>26</th>\n",
       "      <td>3</td>\n",
       "      <td>26 July 1978</td>\n",
       "      <td>Skyway cable car accident[15]</td>\n",
       "      <td>Eureka, Missouri, USA</td>\n",
       "    </tr>\n",
       "    <tr>\n",
       "      <th>27</th>\n",
       "      <td>3</td>\n",
       "      <td>2 April 2004</td>\n",
       "      <td>Yerevan funicular accident[31]</td>\n",
       "      <td>Yerevan, Armenia</td>\n",
       "    </tr>\n",
       "    <tr>\n",
       "      <th>28</th>\n",
       "      <td>2</td>\n",
       "      <td>15 August 1960</td>\n",
       "      <td>Monte Faito cable car accident[31]</td>\n",
       "      <td>Monte Faito, Italy</td>\n",
       "    </tr>\n",
       "    <tr>\n",
       "      <th>29</th>\n",
       "      <td>2</td>\n",
       "      <td>5 September 1965</td>\n",
       "      <td>Lincoln cable car accident[31]</td>\n",
       "      <td>Lincoln, Nebraska, USA</td>\n",
       "    </tr>\n",
       "    <tr>\n",
       "      <th>30</th>\n",
       "      <td>2</td>\n",
       "      <td>9 July 1966</td>\n",
       "      <td>Aiguille du Midi cable car accident[31]</td>\n",
       "      <td>Aiguille du Midi, Mont Blanc, France</td>\n",
       "    </tr>\n",
       "    <tr>\n",
       "      <th>31</th>\n",
       "      <td>2</td>\n",
       "      <td>14 December 1985</td>\n",
       "      <td>Keystone cable car accident[43]</td>\n",
       "      <td>Keystone, Colorado, USA</td>\n",
       "    </tr>\n",
       "    <tr>\n",
       "      <th>32</th>\n",
       "      <td>2</td>\n",
       "      <td>24 November 1991</td>\n",
       "      <td>Pico Espejo cable car accident[31]</td>\n",
       "      <td>Pico Espejo, Mérida, Venezuela</td>\n",
       "    </tr>\n",
       "    <tr>\n",
       "      <th>33</th>\n",
       "      <td>2</td>\n",
       "      <td>23 December 1995</td>\n",
       "      <td>Whistler Blackcomb cable car accident[44]</td>\n",
       "      <td>Whistler Blackcomb, British Columbia, Canada</td>\n",
       "    </tr>\n",
       "    <tr>\n",
       "      <th>34</th>\n",
       "      <td>2</td>\n",
       "      <td>3 August 2013</td>\n",
       "      <td>Gross Aubrig cable car accident[45]</td>\n",
       "      <td>Gross Aubrig, Switzerland</td>\n",
       "    </tr>\n",
       "    <tr>\n",
       "      <th>35</th>\n",
       "      <td>1</td>\n",
       "      <td>1 September 1943</td>\n",
       "      <td>1943 Angels Flight funicular accident[46]</td>\n",
       "      <td>Angels Flight, Los Angeles, California, USA</td>\n",
       "    </tr>\n",
       "    <tr>\n",
       "      <th>36</th>\n",
       "      <td>1</td>\n",
       "      <td>9 April 1947</td>\n",
       "      <td>Monte Serrate funicular accident[31]</td>\n",
       "      <td>Monte Serrate, São Paulo, Brazil</td>\n",
       "    </tr>\n",
       "    <tr>\n",
       "      <th>37</th>\n",
       "      <td>1</td>\n",
       "      <td>26 July 1956</td>\n",
       "      <td>Mount Rowe cable car accident[31]</td>\n",
       "      <td>Mount Rowe, New Hampshire, USA</td>\n",
       "    </tr>\n",
       "    <tr>\n",
       "      <th>38</th>\n",
       "      <td>1</td>\n",
       "      <td>10 August 1957</td>\n",
       "      <td>Cogne cable car accident[31]</td>\n",
       "      <td>Cogne, Val d'Aosta, Italy</td>\n",
       "    </tr>\n",
       "    <tr>\n",
       "      <th>39</th>\n",
       "      <td>1</td>\n",
       "      <td>15 June 1968</td>\n",
       "      <td>Raton Pass cable car accident[31]</td>\n",
       "      <td>Raton Pass, New Mexico, USA</td>\n",
       "    </tr>\n",
       "    <tr>\n",
       "      <th>40</th>\n",
       "      <td>1</td>\n",
       "      <td>22 October 1979</td>\n",
       "      <td>Texas State Fair cable car accident[47]</td>\n",
       "      <td>Dallas, Texas, USA</td>\n",
       "    </tr>\n",
       "    <tr>\n",
       "      <th>41</th>\n",
       "      <td>1</td>\n",
       "      <td>4 February 1984</td>\n",
       "      <td>Big Powderhorn Mountain cable car accident[31]</td>\n",
       "      <td>Big Powderhorn Mountain, Michigan, USA</td>\n",
       "    </tr>\n",
       "    <tr>\n",
       "      <th>42</th>\n",
       "      <td>1</td>\n",
       "      <td>23 December 1989</td>\n",
       "      <td>Maple Mountain cable car accident[31]</td>\n",
       "      <td>Maple Mountain, Michigan, USA</td>\n",
       "    </tr>\n",
       "    <tr>\n",
       "      <th>43</th>\n",
       "      <td>1</td>\n",
       "      <td>4 April 1993</td>\n",
       "      <td>Sierra-at-Tahoe cable car accident[31]</td>\n",
       "      <td>Sierra-at-Tahoe, Twin Bridges, California, USA</td>\n",
       "    </tr>\n",
       "    <tr>\n",
       "      <th>44</th>\n",
       "      <td>1</td>\n",
       "      <td>28 August 1993</td>\n",
       "      <td>Monte Solaro cable car accident[31]</td>\n",
       "      <td>Monte Solaro, Anacapri, Italy</td>\n",
       "    </tr>\n",
       "    <tr>\n",
       "      <th>45</th>\n",
       "      <td>1</td>\n",
       "      <td>12 October 1996</td>\n",
       "      <td>Quebec funicular accident[48]</td>\n",
       "      <td>Old Quebec Funicular, Quebec, Canada</td>\n",
       "    </tr>\n",
       "    <tr>\n",
       "      <th>46</th>\n",
       "      <td>1</td>\n",
       "      <td>8 December 1996</td>\n",
       "      <td>Snow Valley cable car accident[31]</td>\n",
       "      <td>Snow Valley, Ontario, Canada</td>\n",
       "    </tr>\n",
       "    <tr>\n",
       "      <th>47</th>\n",
       "      <td>1</td>\n",
       "      <td>14 December 1996</td>\n",
       "      <td>Riederalp cable car accident[29]</td>\n",
       "      <td>Riederalp, Switzerland</td>\n",
       "    </tr>\n",
       "    <tr>\n",
       "      <th>48</th>\n",
       "      <td>1</td>\n",
       "      <td>26 December 1999</td>\n",
       "      <td>Crans Montana cable car accident[31]</td>\n",
       "      <td>Crans Montana, Switzerland</td>\n",
       "    </tr>\n",
       "    <tr>\n",
       "      <th>49</th>\n",
       "      <td>1</td>\n",
       "      <td>3 January 2001</td>\n",
       "      <td>Table Mountain cable car accident[49]</td>\n",
       "      <td>Cape Town, South Africa</td>\n",
       "    </tr>\n",
       "    <tr>\n",
       "      <th>50</th>\n",
       "      <td>1</td>\n",
       "      <td>4 January 2001</td>\n",
       "      <td>Powder Ridge cable car accident[31]</td>\n",
       "      <td>Powder Ridge, Kimball, Minnesota, USA</td>\n",
       "    </tr>\n",
       "    <tr>\n",
       "      <th>51</th>\n",
       "      <td>1</td>\n",
       "      <td>1 February 2001</td>\n",
       "      <td>2001 Angels Flight funicular accident[50]</td>\n",
       "      <td>Angels Flight, Los Angeles, California, USA</td>\n",
       "    </tr>\n",
       "    <tr>\n",
       "      <th>52</th>\n",
       "      <td>1</td>\n",
       "      <td>27 July 2004</td>\n",
       "      <td>Abisko National Park cable car accident[31]</td>\n",
       "      <td>Abisko National Park, Sweden</td>\n",
       "    </tr>\n",
       "    <tr>\n",
       "      <th>53</th>\n",
       "      <td>1</td>\n",
       "      <td>24 May 2007</td>\n",
       "      <td>Zillertal cable car accident[31]</td>\n",
       "      <td>Zillertal, Mayrhofen, Austria</td>\n",
       "    </tr>\n",
       "    <tr>\n",
       "      <th>54</th>\n",
       "      <td>1</td>\n",
       "      <td>28 November 2007</td>\n",
       "      <td>2007 Heavenly cable car accident[31]</td>\n",
       "      <td>Heavenly Mountain Resort, near South Lake Taho...</td>\n",
       "    </tr>\n",
       "    <tr>\n",
       "      <th>55</th>\n",
       "      <td>1</td>\n",
       "      <td>3 January 2008</td>\n",
       "      <td>Grindelwald cable car accident[31]</td>\n",
       "      <td>Grindelwald, Switzerland</td>\n",
       "    </tr>\n",
       "    <tr>\n",
       "      <th>56</th>\n",
       "      <td>1</td>\n",
       "      <td>2 March 2008</td>\n",
       "      <td>Chamonix cable car accident[31]</td>\n",
       "      <td>Chamonix, France</td>\n",
       "    </tr>\n",
       "    <tr>\n",
       "      <th>57</th>\n",
       "      <td>1</td>\n",
       "      <td>1 September 2009</td>\n",
       "      <td>2009 Heavenly cable car accident[31]</td>\n",
       "      <td>Heavenly Mountain Resort, near South Lake Taho...</td>\n",
       "    </tr>\n",
       "    <tr>\n",
       "      <th>58</th>\n",
       "      <td>1</td>\n",
       "      <td>2 June 2010</td>\n",
       "      <td>Glenwood Canyon cable car accident[51]</td>\n",
       "      <td>Glenwood Canyon Resort, near Glenwood Springs,...</td>\n",
       "    </tr>\n",
       "    <tr>\n",
       "      <th>59</th>\n",
       "      <td>1</td>\n",
       "      <td>12 April 2014</td>\n",
       "      <td>Jinggangshan cable car accident[52]</td>\n",
       "      <td>Jinggangshan, Jiangxi, China</td>\n",
       "    </tr>\n",
       "  </tbody>\n",
       "</table>\n",
       "</div>"
      ],
      "text/plain": [
       "         0                 1                                                2  \\\n",
       "0   Deaths              Date                                         Incident   \n",
       "1      155  11 November 2000                              Kaprun disaster[27]   \n",
       "2       43      9 March 1976             1976 Cavalese cable car disaster[28]   \n",
       "3       20       1 June 1990                   Tbilisi cable car disaster[29]   \n",
       "4       20   3 February 1998             1998 Cavalese cable car disaster[30]   \n",
       "5       20       1 July 1999  Saint-Étienne-en-Dévoluy cable car disaster[31]   \n",
       "6       13      12 July 1972            Bettmeralp cable car disaster[32][33]   \n",
       "7       12      29 June 2017               Charra Pani cable car disaster[34]   \n",
       "8       11  13 February 1983                 Champoluc cable car disaster[35]   \n",
       "9        9   26 October 1972            Les Deux Alpes cable car disaster[32]   \n",
       "10       9  5 September 2005                    Sölden cable car disaster[36]   \n",
       "11       8   13 January 1989                   Vaujany cable car disaster[37]   \n",
       "12       7  25 December 1965              Le Mont-Dore cable car disaster[31]   \n",
       "13       7   29 January 1983                 Singapore Cable Car disaster[38]   \n",
       "14       7   19 January 2003             2003 Pavagadh cable car disaster[39]   \n",
       "15       7      25 June 2017                   Gulmarg cable car disaster[40]   \n",
       "16       6    29 August 1961          Aiguille du Midi cable car accident[31]   \n",
       "17       6      1 March 1987               Luz-Ardiden cable car accident[31]   \n",
       "18       5   8 December 1970                    Merano cable car accident[35]   \n",
       "19       4     1 August 1971           Alagna Valsesia cable car accident[31]   \n",
       "20       4       9 July 1974                   Ulriken cable car accident[31]   \n",
       "21       4     26 March 1976                      Vail cable car accident[41]   \n",
       "22       4     15 April 1978              Squaw Valley cable car accident[31]   \n",
       "23       4   29 January 1992                  Nassfeld cable car accident[31]   \n",
       "24       4   19 October 2003            Darjeeling cable car accident[31][40]   \n",
       "25       4     24 April 2016             2016 Pavagadh cable car accident[42]   \n",
       "26       3      26 July 1978                    Skyway cable car accident[15]   \n",
       "27       3      2 April 2004                   Yerevan funicular accident[31]   \n",
       "28       2    15 August 1960               Monte Faito cable car accident[31]   \n",
       "29       2  5 September 1965                   Lincoln cable car accident[31]   \n",
       "30       2       9 July 1966          Aiguille du Midi cable car accident[31]   \n",
       "31       2  14 December 1985                  Keystone cable car accident[43]   \n",
       "32       2  24 November 1991               Pico Espejo cable car accident[31]   \n",
       "33       2  23 December 1995        Whistler Blackcomb cable car accident[44]   \n",
       "34       2     3 August 2013              Gross Aubrig cable car accident[45]   \n",
       "35       1  1 September 1943        1943 Angels Flight funicular accident[46]   \n",
       "36       1      9 April 1947             Monte Serrate funicular accident[31]   \n",
       "37       1      26 July 1956                Mount Rowe cable car accident[31]   \n",
       "38       1    10 August 1957                     Cogne cable car accident[31]   \n",
       "39       1      15 June 1968                Raton Pass cable car accident[31]   \n",
       "40       1   22 October 1979          Texas State Fair cable car accident[47]   \n",
       "41       1   4 February 1984   Big Powderhorn Mountain cable car accident[31]   \n",
       "42       1  23 December 1989            Maple Mountain cable car accident[31]   \n",
       "43       1      4 April 1993           Sierra-at-Tahoe cable car accident[31]   \n",
       "44       1    28 August 1993              Monte Solaro cable car accident[31]   \n",
       "45       1   12 October 1996                    Quebec funicular accident[48]   \n",
       "46       1   8 December 1996               Snow Valley cable car accident[31]   \n",
       "47       1  14 December 1996                 Riederalp cable car accident[29]   \n",
       "48       1  26 December 1999             Crans Montana cable car accident[31]   \n",
       "49       1    3 January 2001            Table Mountain cable car accident[49]   \n",
       "50       1    4 January 2001              Powder Ridge cable car accident[31]   \n",
       "51       1   1 February 2001        2001 Angels Flight funicular accident[50]   \n",
       "52       1      27 July 2004      Abisko National Park cable car accident[31]   \n",
       "53       1       24 May 2007                 Zillertal cable car accident[31]   \n",
       "54       1  28 November 2007             2007 Heavenly cable car accident[31]   \n",
       "55       1    3 January 2008               Grindelwald cable car accident[31]   \n",
       "56       1      2 March 2008                  Chamonix cable car accident[31]   \n",
       "57       1  1 September 2009             2009 Heavenly cable car accident[31]   \n",
       "58       1       2 June 2010           Glenwood Canyon cable car accident[51]   \n",
       "59       1     12 April 2014              Jinggangshan cable car accident[52]   \n",
       "\n",
       "                                                    3  \n",
       "0                                            Location  \n",
       "1                                     Kaprun, Austria  \n",
       "2                                     Cavalese, Italy  \n",
       "3                                    Tbilisi, Georgia  \n",
       "4                                     Cavalese, Italy  \n",
       "5                    Saint-Étienne-en-Dévoluy, France  \n",
       "6                             Bettmeralp, Switzerland  \n",
       "7                       Charra Pani, Galyat, Pakistan  \n",
       "8                                    Champoluc, Italy  \n",
       "9                       Les Deux Alpes, Isère, France  \n",
       "10                                    Sölden, Austria  \n",
       "11                                    Vaujany, France  \n",
       "12                               Le Mont-Dore, France  \n",
       "13                                          Singapore  \n",
       "14                                    Pavagadh, India  \n",
       "15                                     Gulmarg, India  \n",
       "16               Aiguille du Midi, Mont Blanc, France  \n",
       "17               Luz-Ardiden, Hautes-Pyrénées, France  \n",
       "18                                      Merano, Italy  \n",
       "19                             Alagna Valsesia, Italy  \n",
       "20                                    Ulriken, Norway  \n",
       "21                                Vail, Colorado, USA  \n",
       "22                    Olympic Valley, California, USA  \n",
       "23                                  Nassfeld, Austria  \n",
       "24                                  Darjeeling, India  \n",
       "25                                    Pavagadh, India  \n",
       "26                              Eureka, Missouri, USA  \n",
       "27                                   Yerevan, Armenia  \n",
       "28                                 Monte Faito, Italy  \n",
       "29                             Lincoln, Nebraska, USA  \n",
       "30               Aiguille du Midi, Mont Blanc, France  \n",
       "31                            Keystone, Colorado, USA  \n",
       "32                     Pico Espejo, Mérida, Venezuela  \n",
       "33       Whistler Blackcomb, British Columbia, Canada  \n",
       "34                          Gross Aubrig, Switzerland  \n",
       "35        Angels Flight, Los Angeles, California, USA  \n",
       "36                   Monte Serrate, São Paulo, Brazil  \n",
       "37                     Mount Rowe, New Hampshire, USA  \n",
       "38                          Cogne, Val d'Aosta, Italy  \n",
       "39                        Raton Pass, New Mexico, USA  \n",
       "40                                 Dallas, Texas, USA  \n",
       "41             Big Powderhorn Mountain, Michigan, USA  \n",
       "42                      Maple Mountain, Michigan, USA  \n",
       "43     Sierra-at-Tahoe, Twin Bridges, California, USA  \n",
       "44                      Monte Solaro, Anacapri, Italy  \n",
       "45               Old Quebec Funicular, Quebec, Canada  \n",
       "46                       Snow Valley, Ontario, Canada  \n",
       "47                             Riederalp, Switzerland  \n",
       "48                         Crans Montana, Switzerland  \n",
       "49                            Cape Town, South Africa  \n",
       "50              Powder Ridge, Kimball, Minnesota, USA  \n",
       "51        Angels Flight, Los Angeles, California, USA  \n",
       "52                       Abisko National Park, Sweden  \n",
       "53                      Zillertal, Mayrhofen, Austria  \n",
       "54  Heavenly Mountain Resort, near South Lake Taho...  \n",
       "55                           Grindelwald, Switzerland  \n",
       "56                                   Chamonix, France  \n",
       "57  Heavenly Mountain Resort, near South Lake Taho...  \n",
       "58  Glenwood Canyon Resort, near Glenwood Springs,...  \n",
       "59                       Jinggangshan, Jiangxi, China  "
      ]
     },
     "execution_count": 8,
     "metadata": {},
     "output_type": "execute_result"
    }
   ],
   "source": [
    "tables[3]"
   ]
  },
  {
   "cell_type": "markdown",
   "metadata": {},
   "source": [
    "También escribir en distintos formatos: csv, excel..."
   ]
  },
  {
   "cell_type": "code",
   "execution_count": 164,
   "metadata": {},
   "outputs": [],
   "source": [
    "tables[1].to_excel('amusement_park_accidents.xls')"
   ]
  },
  {
   "cell_type": "markdown",
   "metadata": {},
   "source": [
    "\\* Para poder leer y escribir archivos excel necesitaremos instalar los módulos xlrd y xlwt, respectivamente."
   ]
  },
  {
   "cell_type": "markdown",
   "metadata": {},
   "source": [
    "Podemos hacer procesados de datos bastante complejos con muy poco código y a mucha velocidad. En este ejemplo, estamos tomando un archivo csv de 479797 filas y 110 columnas que representan vuelos individuales, y calculando el retraso medio que cada avión ha tenido en todos sus vuelos."
   ]
  },
  {
   "cell_type": "code",
   "execution_count": 9,
   "metadata": {},
   "outputs": [
    {
     "name": "stderr",
     "output_type": "stream",
     "text": [
      "<string>:2: DtypeWarning: Columns (77,84,85) have mixed types. Specify dtype option on import or set low_memory=False.\n"
     ]
    },
    {
     "name": "stdout",
     "output_type": "stream",
     "text": [
      "CPU times: user 6.02 s, sys: 716 ms, total: 6.73 s\n",
      "Wall time: 5.72 s\n"
     ]
    }
   ],
   "source": [
    "%%time\n",
    "from zipfile import ZipFile\n",
    "\n",
    "zf = ZipFile('../../master-data-science/data/us_dot/otp/On_Time_On_Time_Performance_2015_1.zip')\n",
    "csv = zf.open('On_Time_On_Time_Performance_2015_1.csv')\n",
    "\n",
    "data = pd.read_csv(csv)\n",
    "\n",
    "delays = data.groupby('TailNum')['DepDelay'].agg(['mean', 'count'])\n",
    "delays"
   ]
  },
  {
   "cell_type": "code",
   "execution_count": 10,
   "metadata": {
    "collapsed": true
   },
   "outputs": [
    {
     "data": {
      "text/html": [
       "<div>\n",
       "<style scoped>\n",
       "    .dataframe tbody tr th:only-of-type {\n",
       "        vertical-align: middle;\n",
       "    }\n",
       "\n",
       "    .dataframe tbody tr th {\n",
       "        vertical-align: top;\n",
       "    }\n",
       "\n",
       "    .dataframe thead th {\n",
       "        text-align: right;\n",
       "    }\n",
       "</style>\n",
       "<table border=\"1\" class=\"dataframe\">\n",
       "  <thead>\n",
       "    <tr style=\"text-align: right;\">\n",
       "      <th></th>\n",
       "      <th>mean</th>\n",
       "      <th>count</th>\n",
       "    </tr>\n",
       "    <tr>\n",
       "      <th>TailNum</th>\n",
       "      <th></th>\n",
       "      <th></th>\n",
       "    </tr>\n",
       "  </thead>\n",
       "  <tbody>\n",
       "    <tr>\n",
       "      <th>N79011</th>\n",
       "      <td>232.000000</td>\n",
       "      <td>2</td>\n",
       "    </tr>\n",
       "    <tr>\n",
       "      <th>N228UA</th>\n",
       "      <td>217.500000</td>\n",
       "      <td>2</td>\n",
       "    </tr>\n",
       "    <tr>\n",
       "      <th>N707DN</th>\n",
       "      <td>204.000000</td>\n",
       "      <td>2</td>\n",
       "    </tr>\n",
       "    <tr>\n",
       "      <th>N651UA</th>\n",
       "      <td>167.000000</td>\n",
       "      <td>4</td>\n",
       "    </tr>\n",
       "    <tr>\n",
       "      <th>N776UA</th>\n",
       "      <td>159.000000</td>\n",
       "      <td>2</td>\n",
       "    </tr>\n",
       "    <tr>\n",
       "      <th>N660UA</th>\n",
       "      <td>150.500000</td>\n",
       "      <td>2</td>\n",
       "    </tr>\n",
       "    <tr>\n",
       "      <th>N116UA</th>\n",
       "      <td>129.000000</td>\n",
       "      <td>2</td>\n",
       "    </tr>\n",
       "    <tr>\n",
       "      <th>N780UA</th>\n",
       "      <td>119.000000</td>\n",
       "      <td>2</td>\n",
       "    </tr>\n",
       "    <tr>\n",
       "      <th>N398AA</th>\n",
       "      <td>118.733333</td>\n",
       "      <td>15</td>\n",
       "    </tr>\n",
       "    <tr>\n",
       "      <th>N76065</th>\n",
       "      <td>117.416667</td>\n",
       "      <td>12</td>\n",
       "    </tr>\n",
       "  </tbody>\n",
       "</table>\n",
       "</div>"
      ],
      "text/plain": [
       "               mean  count\n",
       "TailNum                   \n",
       "N79011   232.000000      2\n",
       "N228UA   217.500000      2\n",
       "N707DN   204.000000      2\n",
       "N651UA   167.000000      4\n",
       "N776UA   159.000000      2\n",
       "N660UA   150.500000      2\n",
       "N116UA   129.000000      2\n",
       "N780UA   119.000000      2\n",
       "N398AA   118.733333     15\n",
       "N76065   117.416667     12"
      ]
     },
     "execution_count": 10,
     "metadata": {},
     "output_type": "execute_result"
    }
   ],
   "source": [
    "delays.sort_values('mean', ascending=False).head(10)"
   ]
  },
  {
   "cell_type": "code",
   "execution_count": 181,
   "metadata": {},
   "outputs": [
    {
     "data": {
      "text/html": [
       "<div>\n",
       "<style scoped>\n",
       "    .dataframe tbody tr th:only-of-type {\n",
       "        vertical-align: middle;\n",
       "    }\n",
       "\n",
       "    .dataframe tbody tr th {\n",
       "        vertical-align: top;\n",
       "    }\n",
       "\n",
       "    .dataframe thead th {\n",
       "        text-align: right;\n",
       "    }\n",
       "</style>\n",
       "<table border=\"1\" class=\"dataframe\">\n",
       "  <thead>\n",
       "    <tr style=\"text-align: right;\">\n",
       "      <th></th>\n",
       "      <th>Year</th>\n",
       "      <th>Quarter</th>\n",
       "      <th>Month</th>\n",
       "      <th>DayofMonth</th>\n",
       "      <th>DayOfWeek</th>\n",
       "      <th>FlightDate</th>\n",
       "      <th>UniqueCarrier</th>\n",
       "      <th>AirlineID</th>\n",
       "      <th>Carrier</th>\n",
       "      <th>TailNum</th>\n",
       "      <th>...</th>\n",
       "      <th>Div4TailNum</th>\n",
       "      <th>Div5Airport</th>\n",
       "      <th>Div5AirportID</th>\n",
       "      <th>Div5AirportSeqID</th>\n",
       "      <th>Div5WheelsOn</th>\n",
       "      <th>Div5TotalGTime</th>\n",
       "      <th>Div5LongestGTime</th>\n",
       "      <th>Div5WheelsOff</th>\n",
       "      <th>Div5TailNum</th>\n",
       "      <th>Unnamed: 109</th>\n",
       "    </tr>\n",
       "  </thead>\n",
       "  <tbody>\n",
       "    <tr>\n",
       "      <th>0</th>\n",
       "      <td>2015</td>\n",
       "      <td>1</td>\n",
       "      <td>1</td>\n",
       "      <td>1</td>\n",
       "      <td>4</td>\n",
       "      <td>2015-01-01</td>\n",
       "      <td>AA</td>\n",
       "      <td>19805</td>\n",
       "      <td>AA</td>\n",
       "      <td>N787AA</td>\n",
       "      <td>...</td>\n",
       "      <td>NaN</td>\n",
       "      <td>NaN</td>\n",
       "      <td>NaN</td>\n",
       "      <td>NaN</td>\n",
       "      <td>NaN</td>\n",
       "      <td>NaN</td>\n",
       "      <td>NaN</td>\n",
       "      <td>NaN</td>\n",
       "      <td>NaN</td>\n",
       "      <td>NaN</td>\n",
       "    </tr>\n",
       "    <tr>\n",
       "      <th>1</th>\n",
       "      <td>2015</td>\n",
       "      <td>1</td>\n",
       "      <td>1</td>\n",
       "      <td>2</td>\n",
       "      <td>5</td>\n",
       "      <td>2015-01-02</td>\n",
       "      <td>AA</td>\n",
       "      <td>19805</td>\n",
       "      <td>AA</td>\n",
       "      <td>N795AA</td>\n",
       "      <td>...</td>\n",
       "      <td>NaN</td>\n",
       "      <td>NaN</td>\n",
       "      <td>NaN</td>\n",
       "      <td>NaN</td>\n",
       "      <td>NaN</td>\n",
       "      <td>NaN</td>\n",
       "      <td>NaN</td>\n",
       "      <td>NaN</td>\n",
       "      <td>NaN</td>\n",
       "      <td>NaN</td>\n",
       "    </tr>\n",
       "    <tr>\n",
       "      <th>2</th>\n",
       "      <td>2015</td>\n",
       "      <td>1</td>\n",
       "      <td>1</td>\n",
       "      <td>3</td>\n",
       "      <td>6</td>\n",
       "      <td>2015-01-03</td>\n",
       "      <td>AA</td>\n",
       "      <td>19805</td>\n",
       "      <td>AA</td>\n",
       "      <td>N788AA</td>\n",
       "      <td>...</td>\n",
       "      <td>NaN</td>\n",
       "      <td>NaN</td>\n",
       "      <td>NaN</td>\n",
       "      <td>NaN</td>\n",
       "      <td>NaN</td>\n",
       "      <td>NaN</td>\n",
       "      <td>NaN</td>\n",
       "      <td>NaN</td>\n",
       "      <td>NaN</td>\n",
       "      <td>NaN</td>\n",
       "    </tr>\n",
       "    <tr>\n",
       "      <th>3</th>\n",
       "      <td>2015</td>\n",
       "      <td>1</td>\n",
       "      <td>1</td>\n",
       "      <td>4</td>\n",
       "      <td>7</td>\n",
       "      <td>2015-01-04</td>\n",
       "      <td>AA</td>\n",
       "      <td>19805</td>\n",
       "      <td>AA</td>\n",
       "      <td>N791AA</td>\n",
       "      <td>...</td>\n",
       "      <td>NaN</td>\n",
       "      <td>NaN</td>\n",
       "      <td>NaN</td>\n",
       "      <td>NaN</td>\n",
       "      <td>NaN</td>\n",
       "      <td>NaN</td>\n",
       "      <td>NaN</td>\n",
       "      <td>NaN</td>\n",
       "      <td>NaN</td>\n",
       "      <td>NaN</td>\n",
       "    </tr>\n",
       "    <tr>\n",
       "      <th>4</th>\n",
       "      <td>2015</td>\n",
       "      <td>1</td>\n",
       "      <td>1</td>\n",
       "      <td>5</td>\n",
       "      <td>1</td>\n",
       "      <td>2015-01-05</td>\n",
       "      <td>AA</td>\n",
       "      <td>19805</td>\n",
       "      <td>AA</td>\n",
       "      <td>N783AA</td>\n",
       "      <td>...</td>\n",
       "      <td>NaN</td>\n",
       "      <td>NaN</td>\n",
       "      <td>NaN</td>\n",
       "      <td>NaN</td>\n",
       "      <td>NaN</td>\n",
       "      <td>NaN</td>\n",
       "      <td>NaN</td>\n",
       "      <td>NaN</td>\n",
       "      <td>NaN</td>\n",
       "      <td>NaN</td>\n",
       "    </tr>\n",
       "    <tr>\n",
       "      <th>5</th>\n",
       "      <td>2015</td>\n",
       "      <td>1</td>\n",
       "      <td>1</td>\n",
       "      <td>6</td>\n",
       "      <td>2</td>\n",
       "      <td>2015-01-06</td>\n",
       "      <td>AA</td>\n",
       "      <td>19805</td>\n",
       "      <td>AA</td>\n",
       "      <td>N799AA</td>\n",
       "      <td>...</td>\n",
       "      <td>NaN</td>\n",
       "      <td>NaN</td>\n",
       "      <td>NaN</td>\n",
       "      <td>NaN</td>\n",
       "      <td>NaN</td>\n",
       "      <td>NaN</td>\n",
       "      <td>NaN</td>\n",
       "      <td>NaN</td>\n",
       "      <td>NaN</td>\n",
       "      <td>NaN</td>\n",
       "    </tr>\n",
       "    <tr>\n",
       "      <th>6</th>\n",
       "      <td>2015</td>\n",
       "      <td>1</td>\n",
       "      <td>1</td>\n",
       "      <td>7</td>\n",
       "      <td>3</td>\n",
       "      <td>2015-01-07</td>\n",
       "      <td>AA</td>\n",
       "      <td>19805</td>\n",
       "      <td>AA</td>\n",
       "      <td>N784AA</td>\n",
       "      <td>...</td>\n",
       "      <td>NaN</td>\n",
       "      <td>NaN</td>\n",
       "      <td>NaN</td>\n",
       "      <td>NaN</td>\n",
       "      <td>NaN</td>\n",
       "      <td>NaN</td>\n",
       "      <td>NaN</td>\n",
       "      <td>NaN</td>\n",
       "      <td>NaN</td>\n",
       "      <td>NaN</td>\n",
       "    </tr>\n",
       "    <tr>\n",
       "      <th>7</th>\n",
       "      <td>2015</td>\n",
       "      <td>1</td>\n",
       "      <td>1</td>\n",
       "      <td>8</td>\n",
       "      <td>4</td>\n",
       "      <td>2015-01-08</td>\n",
       "      <td>AA</td>\n",
       "      <td>19805</td>\n",
       "      <td>AA</td>\n",
       "      <td>N787AA</td>\n",
       "      <td>...</td>\n",
       "      <td>NaN</td>\n",
       "      <td>NaN</td>\n",
       "      <td>NaN</td>\n",
       "      <td>NaN</td>\n",
       "      <td>NaN</td>\n",
       "      <td>NaN</td>\n",
       "      <td>NaN</td>\n",
       "      <td>NaN</td>\n",
       "      <td>NaN</td>\n",
       "      <td>NaN</td>\n",
       "    </tr>\n",
       "    <tr>\n",
       "      <th>8</th>\n",
       "      <td>2015</td>\n",
       "      <td>1</td>\n",
       "      <td>1</td>\n",
       "      <td>9</td>\n",
       "      <td>5</td>\n",
       "      <td>2015-01-09</td>\n",
       "      <td>AA</td>\n",
       "      <td>19805</td>\n",
       "      <td>AA</td>\n",
       "      <td>N795AA</td>\n",
       "      <td>...</td>\n",
       "      <td>NaN</td>\n",
       "      <td>NaN</td>\n",
       "      <td>NaN</td>\n",
       "      <td>NaN</td>\n",
       "      <td>NaN</td>\n",
       "      <td>NaN</td>\n",
       "      <td>NaN</td>\n",
       "      <td>NaN</td>\n",
       "      <td>NaN</td>\n",
       "      <td>NaN</td>\n",
       "    </tr>\n",
       "    <tr>\n",
       "      <th>9</th>\n",
       "      <td>2015</td>\n",
       "      <td>1</td>\n",
       "      <td>1</td>\n",
       "      <td>10</td>\n",
       "      <td>6</td>\n",
       "      <td>2015-01-10</td>\n",
       "      <td>AA</td>\n",
       "      <td>19805</td>\n",
       "      <td>AA</td>\n",
       "      <td>N790AA</td>\n",
       "      <td>...</td>\n",
       "      <td>NaN</td>\n",
       "      <td>NaN</td>\n",
       "      <td>NaN</td>\n",
       "      <td>NaN</td>\n",
       "      <td>NaN</td>\n",
       "      <td>NaN</td>\n",
       "      <td>NaN</td>\n",
       "      <td>NaN</td>\n",
       "      <td>NaN</td>\n",
       "      <td>NaN</td>\n",
       "    </tr>\n",
       "    <tr>\n",
       "      <th>10</th>\n",
       "      <td>2015</td>\n",
       "      <td>1</td>\n",
       "      <td>1</td>\n",
       "      <td>11</td>\n",
       "      <td>7</td>\n",
       "      <td>2015-01-11</td>\n",
       "      <td>AA</td>\n",
       "      <td>19805</td>\n",
       "      <td>AA</td>\n",
       "      <td>N786AA</td>\n",
       "      <td>...</td>\n",
       "      <td>NaN</td>\n",
       "      <td>NaN</td>\n",
       "      <td>NaN</td>\n",
       "      <td>NaN</td>\n",
       "      <td>NaN</td>\n",
       "      <td>NaN</td>\n",
       "      <td>NaN</td>\n",
       "      <td>NaN</td>\n",
       "      <td>NaN</td>\n",
       "      <td>NaN</td>\n",
       "    </tr>\n",
       "    <tr>\n",
       "      <th>11</th>\n",
       "      <td>2015</td>\n",
       "      <td>1</td>\n",
       "      <td>1</td>\n",
       "      <td>12</td>\n",
       "      <td>1</td>\n",
       "      <td>2015-01-12</td>\n",
       "      <td>AA</td>\n",
       "      <td>19805</td>\n",
       "      <td>AA</td>\n",
       "      <td>N790AA</td>\n",
       "      <td>...</td>\n",
       "      <td>NaN</td>\n",
       "      <td>NaN</td>\n",
       "      <td>NaN</td>\n",
       "      <td>NaN</td>\n",
       "      <td>NaN</td>\n",
       "      <td>NaN</td>\n",
       "      <td>NaN</td>\n",
       "      <td>NaN</td>\n",
       "      <td>NaN</td>\n",
       "      <td>NaN</td>\n",
       "    </tr>\n",
       "    <tr>\n",
       "      <th>12</th>\n",
       "      <td>2015</td>\n",
       "      <td>1</td>\n",
       "      <td>1</td>\n",
       "      <td>13</td>\n",
       "      <td>2</td>\n",
       "      <td>2015-01-13</td>\n",
       "      <td>AA</td>\n",
       "      <td>19805</td>\n",
       "      <td>AA</td>\n",
       "      <td>N796AA</td>\n",
       "      <td>...</td>\n",
       "      <td>NaN</td>\n",
       "      <td>NaN</td>\n",
       "      <td>NaN</td>\n",
       "      <td>NaN</td>\n",
       "      <td>NaN</td>\n",
       "      <td>NaN</td>\n",
       "      <td>NaN</td>\n",
       "      <td>NaN</td>\n",
       "      <td>NaN</td>\n",
       "      <td>NaN</td>\n",
       "    </tr>\n",
       "    <tr>\n",
       "      <th>13</th>\n",
       "      <td>2015</td>\n",
       "      <td>1</td>\n",
       "      <td>1</td>\n",
       "      <td>14</td>\n",
       "      <td>3</td>\n",
       "      <td>2015-01-14</td>\n",
       "      <td>AA</td>\n",
       "      <td>19805</td>\n",
       "      <td>AA</td>\n",
       "      <td>N793AA</td>\n",
       "      <td>...</td>\n",
       "      <td>NaN</td>\n",
       "      <td>NaN</td>\n",
       "      <td>NaN</td>\n",
       "      <td>NaN</td>\n",
       "      <td>NaN</td>\n",
       "      <td>NaN</td>\n",
       "      <td>NaN</td>\n",
       "      <td>NaN</td>\n",
       "      <td>NaN</td>\n",
       "      <td>NaN</td>\n",
       "    </tr>\n",
       "    <tr>\n",
       "      <th>14</th>\n",
       "      <td>2015</td>\n",
       "      <td>1</td>\n",
       "      <td>1</td>\n",
       "      <td>15</td>\n",
       "      <td>4</td>\n",
       "      <td>2015-01-15</td>\n",
       "      <td>AA</td>\n",
       "      <td>19805</td>\n",
       "      <td>AA</td>\n",
       "      <td>N790AA</td>\n",
       "      <td>...</td>\n",
       "      <td>NaN</td>\n",
       "      <td>NaN</td>\n",
       "      <td>NaN</td>\n",
       "      <td>NaN</td>\n",
       "      <td>NaN</td>\n",
       "      <td>NaN</td>\n",
       "      <td>NaN</td>\n",
       "      <td>NaN</td>\n",
       "      <td>NaN</td>\n",
       "      <td>NaN</td>\n",
       "    </tr>\n",
       "    <tr>\n",
       "      <th>15</th>\n",
       "      <td>2015</td>\n",
       "      <td>1</td>\n",
       "      <td>1</td>\n",
       "      <td>16</td>\n",
       "      <td>5</td>\n",
       "      <td>2015-01-16</td>\n",
       "      <td>AA</td>\n",
       "      <td>19805</td>\n",
       "      <td>AA</td>\n",
       "      <td>N797AA</td>\n",
       "      <td>...</td>\n",
       "      <td>NaN</td>\n",
       "      <td>NaN</td>\n",
       "      <td>NaN</td>\n",
       "      <td>NaN</td>\n",
       "      <td>NaN</td>\n",
       "      <td>NaN</td>\n",
       "      <td>NaN</td>\n",
       "      <td>NaN</td>\n",
       "      <td>NaN</td>\n",
       "      <td>NaN</td>\n",
       "    </tr>\n",
       "    <tr>\n",
       "      <th>16</th>\n",
       "      <td>2015</td>\n",
       "      <td>1</td>\n",
       "      <td>1</td>\n",
       "      <td>17</td>\n",
       "      <td>6</td>\n",
       "      <td>2015-01-17</td>\n",
       "      <td>AA</td>\n",
       "      <td>19805</td>\n",
       "      <td>AA</td>\n",
       "      <td>N795AA</td>\n",
       "      <td>...</td>\n",
       "      <td>NaN</td>\n",
       "      <td>NaN</td>\n",
       "      <td>NaN</td>\n",
       "      <td>NaN</td>\n",
       "      <td>NaN</td>\n",
       "      <td>NaN</td>\n",
       "      <td>NaN</td>\n",
       "      <td>NaN</td>\n",
       "      <td>NaN</td>\n",
       "      <td>NaN</td>\n",
       "    </tr>\n",
       "    <tr>\n",
       "      <th>17</th>\n",
       "      <td>2015</td>\n",
       "      <td>1</td>\n",
       "      <td>1</td>\n",
       "      <td>18</td>\n",
       "      <td>7</td>\n",
       "      <td>2015-01-18</td>\n",
       "      <td>AA</td>\n",
       "      <td>19805</td>\n",
       "      <td>AA</td>\n",
       "      <td>N786AA</td>\n",
       "      <td>...</td>\n",
       "      <td>NaN</td>\n",
       "      <td>NaN</td>\n",
       "      <td>NaN</td>\n",
       "      <td>NaN</td>\n",
       "      <td>NaN</td>\n",
       "      <td>NaN</td>\n",
       "      <td>NaN</td>\n",
       "      <td>NaN</td>\n",
       "      <td>NaN</td>\n",
       "      <td>NaN</td>\n",
       "    </tr>\n",
       "    <tr>\n",
       "      <th>18</th>\n",
       "      <td>2015</td>\n",
       "      <td>1</td>\n",
       "      <td>1</td>\n",
       "      <td>19</td>\n",
       "      <td>1</td>\n",
       "      <td>2015-01-19</td>\n",
       "      <td>AA</td>\n",
       "      <td>19805</td>\n",
       "      <td>AA</td>\n",
       "      <td>N785AA</td>\n",
       "      <td>...</td>\n",
       "      <td>NaN</td>\n",
       "      <td>NaN</td>\n",
       "      <td>NaN</td>\n",
       "      <td>NaN</td>\n",
       "      <td>NaN</td>\n",
       "      <td>NaN</td>\n",
       "      <td>NaN</td>\n",
       "      <td>NaN</td>\n",
       "      <td>NaN</td>\n",
       "      <td>NaN</td>\n",
       "    </tr>\n",
       "    <tr>\n",
       "      <th>19</th>\n",
       "      <td>2015</td>\n",
       "      <td>1</td>\n",
       "      <td>1</td>\n",
       "      <td>20</td>\n",
       "      <td>2</td>\n",
       "      <td>2015-01-20</td>\n",
       "      <td>AA</td>\n",
       "      <td>19805</td>\n",
       "      <td>AA</td>\n",
       "      <td>N797AA</td>\n",
       "      <td>...</td>\n",
       "      <td>NaN</td>\n",
       "      <td>NaN</td>\n",
       "      <td>NaN</td>\n",
       "      <td>NaN</td>\n",
       "      <td>NaN</td>\n",
       "      <td>NaN</td>\n",
       "      <td>NaN</td>\n",
       "      <td>NaN</td>\n",
       "      <td>NaN</td>\n",
       "      <td>NaN</td>\n",
       "    </tr>\n",
       "    <tr>\n",
       "      <th>20</th>\n",
       "      <td>2015</td>\n",
       "      <td>1</td>\n",
       "      <td>1</td>\n",
       "      <td>21</td>\n",
       "      <td>3</td>\n",
       "      <td>2015-01-21</td>\n",
       "      <td>AA</td>\n",
       "      <td>19805</td>\n",
       "      <td>AA</td>\n",
       "      <td>N789AA</td>\n",
       "      <td>...</td>\n",
       "      <td>NaN</td>\n",
       "      <td>NaN</td>\n",
       "      <td>NaN</td>\n",
       "      <td>NaN</td>\n",
       "      <td>NaN</td>\n",
       "      <td>NaN</td>\n",
       "      <td>NaN</td>\n",
       "      <td>NaN</td>\n",
       "      <td>NaN</td>\n",
       "      <td>NaN</td>\n",
       "    </tr>\n",
       "    <tr>\n",
       "      <th>21</th>\n",
       "      <td>2015</td>\n",
       "      <td>1</td>\n",
       "      <td>1</td>\n",
       "      <td>22</td>\n",
       "      <td>4</td>\n",
       "      <td>2015-01-22</td>\n",
       "      <td>AA</td>\n",
       "      <td>19805</td>\n",
       "      <td>AA</td>\n",
       "      <td>N790AA</td>\n",
       "      <td>...</td>\n",
       "      <td>NaN</td>\n",
       "      <td>NaN</td>\n",
       "      <td>NaN</td>\n",
       "      <td>NaN</td>\n",
       "      <td>NaN</td>\n",
       "      <td>NaN</td>\n",
       "      <td>NaN</td>\n",
       "      <td>NaN</td>\n",
       "      <td>NaN</td>\n",
       "      <td>NaN</td>\n",
       "    </tr>\n",
       "    <tr>\n",
       "      <th>22</th>\n",
       "      <td>2015</td>\n",
       "      <td>1</td>\n",
       "      <td>1</td>\n",
       "      <td>23</td>\n",
       "      <td>5</td>\n",
       "      <td>2015-01-23</td>\n",
       "      <td>AA</td>\n",
       "      <td>19805</td>\n",
       "      <td>AA</td>\n",
       "      <td>N790AA</td>\n",
       "      <td>...</td>\n",
       "      <td>NaN</td>\n",
       "      <td>NaN</td>\n",
       "      <td>NaN</td>\n",
       "      <td>NaN</td>\n",
       "      <td>NaN</td>\n",
       "      <td>NaN</td>\n",
       "      <td>NaN</td>\n",
       "      <td>NaN</td>\n",
       "      <td>NaN</td>\n",
       "      <td>NaN</td>\n",
       "    </tr>\n",
       "    <tr>\n",
       "      <th>23</th>\n",
       "      <td>2015</td>\n",
       "      <td>1</td>\n",
       "      <td>1</td>\n",
       "      <td>24</td>\n",
       "      <td>6</td>\n",
       "      <td>2015-01-24</td>\n",
       "      <td>AA</td>\n",
       "      <td>19805</td>\n",
       "      <td>AA</td>\n",
       "      <td>N787AA</td>\n",
       "      <td>...</td>\n",
       "      <td>NaN</td>\n",
       "      <td>NaN</td>\n",
       "      <td>NaN</td>\n",
       "      <td>NaN</td>\n",
       "      <td>NaN</td>\n",
       "      <td>NaN</td>\n",
       "      <td>NaN</td>\n",
       "      <td>NaN</td>\n",
       "      <td>NaN</td>\n",
       "      <td>NaN</td>\n",
       "    </tr>\n",
       "    <tr>\n",
       "      <th>24</th>\n",
       "      <td>2015</td>\n",
       "      <td>1</td>\n",
       "      <td>1</td>\n",
       "      <td>25</td>\n",
       "      <td>7</td>\n",
       "      <td>2015-01-25</td>\n",
       "      <td>AA</td>\n",
       "      <td>19805</td>\n",
       "      <td>AA</td>\n",
       "      <td>N791AA</td>\n",
       "      <td>...</td>\n",
       "      <td>NaN</td>\n",
       "      <td>NaN</td>\n",
       "      <td>NaN</td>\n",
       "      <td>NaN</td>\n",
       "      <td>NaN</td>\n",
       "      <td>NaN</td>\n",
       "      <td>NaN</td>\n",
       "      <td>NaN</td>\n",
       "      <td>NaN</td>\n",
       "      <td>NaN</td>\n",
       "    </tr>\n",
       "    <tr>\n",
       "      <th>25</th>\n",
       "      <td>2015</td>\n",
       "      <td>1</td>\n",
       "      <td>1</td>\n",
       "      <td>26</td>\n",
       "      <td>1</td>\n",
       "      <td>2015-01-26</td>\n",
       "      <td>AA</td>\n",
       "      <td>19805</td>\n",
       "      <td>AA</td>\n",
       "      <td>N783AA</td>\n",
       "      <td>...</td>\n",
       "      <td>NaN</td>\n",
       "      <td>NaN</td>\n",
       "      <td>NaN</td>\n",
       "      <td>NaN</td>\n",
       "      <td>NaN</td>\n",
       "      <td>NaN</td>\n",
       "      <td>NaN</td>\n",
       "      <td>NaN</td>\n",
       "      <td>NaN</td>\n",
       "      <td>NaN</td>\n",
       "    </tr>\n",
       "    <tr>\n",
       "      <th>26</th>\n",
       "      <td>2015</td>\n",
       "      <td>1</td>\n",
       "      <td>1</td>\n",
       "      <td>27</td>\n",
       "      <td>2</td>\n",
       "      <td>2015-01-27</td>\n",
       "      <td>AA</td>\n",
       "      <td>19805</td>\n",
       "      <td>AA</td>\n",
       "      <td>NaN</td>\n",
       "      <td>...</td>\n",
       "      <td>NaN</td>\n",
       "      <td>NaN</td>\n",
       "      <td>NaN</td>\n",
       "      <td>NaN</td>\n",
       "      <td>NaN</td>\n",
       "      <td>NaN</td>\n",
       "      <td>NaN</td>\n",
       "      <td>NaN</td>\n",
       "      <td>NaN</td>\n",
       "      <td>NaN</td>\n",
       "    </tr>\n",
       "    <tr>\n",
       "      <th>27</th>\n",
       "      <td>2015</td>\n",
       "      <td>1</td>\n",
       "      <td>1</td>\n",
       "      <td>28</td>\n",
       "      <td>3</td>\n",
       "      <td>2015-01-28</td>\n",
       "      <td>AA</td>\n",
       "      <td>19805</td>\n",
       "      <td>AA</td>\n",
       "      <td>NaN</td>\n",
       "      <td>...</td>\n",
       "      <td>NaN</td>\n",
       "      <td>NaN</td>\n",
       "      <td>NaN</td>\n",
       "      <td>NaN</td>\n",
       "      <td>NaN</td>\n",
       "      <td>NaN</td>\n",
       "      <td>NaN</td>\n",
       "      <td>NaN</td>\n",
       "      <td>NaN</td>\n",
       "      <td>NaN</td>\n",
       "    </tr>\n",
       "    <tr>\n",
       "      <th>28</th>\n",
       "      <td>2015</td>\n",
       "      <td>1</td>\n",
       "      <td>1</td>\n",
       "      <td>29</td>\n",
       "      <td>4</td>\n",
       "      <td>2015-01-29</td>\n",
       "      <td>AA</td>\n",
       "      <td>19805</td>\n",
       "      <td>AA</td>\n",
       "      <td>N794AA</td>\n",
       "      <td>...</td>\n",
       "      <td>NaN</td>\n",
       "      <td>NaN</td>\n",
       "      <td>NaN</td>\n",
       "      <td>NaN</td>\n",
       "      <td>NaN</td>\n",
       "      <td>NaN</td>\n",
       "      <td>NaN</td>\n",
       "      <td>NaN</td>\n",
       "      <td>NaN</td>\n",
       "      <td>NaN</td>\n",
       "    </tr>\n",
       "    <tr>\n",
       "      <th>29</th>\n",
       "      <td>2015</td>\n",
       "      <td>1</td>\n",
       "      <td>1</td>\n",
       "      <td>30</td>\n",
       "      <td>5</td>\n",
       "      <td>2015-01-30</td>\n",
       "      <td>AA</td>\n",
       "      <td>19805</td>\n",
       "      <td>AA</td>\n",
       "      <td>N792AA</td>\n",
       "      <td>...</td>\n",
       "      <td>NaN</td>\n",
       "      <td>NaN</td>\n",
       "      <td>NaN</td>\n",
       "      <td>NaN</td>\n",
       "      <td>NaN</td>\n",
       "      <td>NaN</td>\n",
       "      <td>NaN</td>\n",
       "      <td>NaN</td>\n",
       "      <td>NaN</td>\n",
       "      <td>NaN</td>\n",
       "    </tr>\n",
       "    <tr>\n",
       "      <th>...</th>\n",
       "      <td>...</td>\n",
       "      <td>...</td>\n",
       "      <td>...</td>\n",
       "      <td>...</td>\n",
       "      <td>...</td>\n",
       "      <td>...</td>\n",
       "      <td>...</td>\n",
       "      <td>...</td>\n",
       "      <td>...</td>\n",
       "      <td>...</td>\n",
       "      <td>...</td>\n",
       "      <td>...</td>\n",
       "      <td>...</td>\n",
       "      <td>...</td>\n",
       "      <td>...</td>\n",
       "      <td>...</td>\n",
       "      <td>...</td>\n",
       "      <td>...</td>\n",
       "      <td>...</td>\n",
       "      <td>...</td>\n",
       "      <td>...</td>\n",
       "    </tr>\n",
       "    <tr>\n",
       "      <th>469938</th>\n",
       "      <td>2015</td>\n",
       "      <td>1</td>\n",
       "      <td>1</td>\n",
       "      <td>3</td>\n",
       "      <td>6</td>\n",
       "      <td>2015-01-03</td>\n",
       "      <td>NK</td>\n",
       "      <td>20416</td>\n",
       "      <td>NK</td>\n",
       "      <td>N505NK</td>\n",
       "      <td>...</td>\n",
       "      <td>NaN</td>\n",
       "      <td>NaN</td>\n",
       "      <td>NaN</td>\n",
       "      <td>NaN</td>\n",
       "      <td>NaN</td>\n",
       "      <td>NaN</td>\n",
       "      <td>NaN</td>\n",
       "      <td>NaN</td>\n",
       "      <td>NaN</td>\n",
       "      <td>NaN</td>\n",
       "    </tr>\n",
       "    <tr>\n",
       "      <th>469939</th>\n",
       "      <td>2015</td>\n",
       "      <td>1</td>\n",
       "      <td>1</td>\n",
       "      <td>4</td>\n",
       "      <td>7</td>\n",
       "      <td>2015-01-04</td>\n",
       "      <td>NK</td>\n",
       "      <td>20416</td>\n",
       "      <td>NK</td>\n",
       "      <td>N503NK</td>\n",
       "      <td>...</td>\n",
       "      <td>NaN</td>\n",
       "      <td>NaN</td>\n",
       "      <td>NaN</td>\n",
       "      <td>NaN</td>\n",
       "      <td>NaN</td>\n",
       "      <td>NaN</td>\n",
       "      <td>NaN</td>\n",
       "      <td>NaN</td>\n",
       "      <td>NaN</td>\n",
       "      <td>NaN</td>\n",
       "    </tr>\n",
       "    <tr>\n",
       "      <th>469940</th>\n",
       "      <td>2015</td>\n",
       "      <td>1</td>\n",
       "      <td>1</td>\n",
       "      <td>5</td>\n",
       "      <td>1</td>\n",
       "      <td>2015-01-05</td>\n",
       "      <td>NK</td>\n",
       "      <td>20416</td>\n",
       "      <td>NK</td>\n",
       "      <td>N508NK</td>\n",
       "      <td>...</td>\n",
       "      <td>NaN</td>\n",
       "      <td>NaN</td>\n",
       "      <td>NaN</td>\n",
       "      <td>NaN</td>\n",
       "      <td>NaN</td>\n",
       "      <td>NaN</td>\n",
       "      <td>NaN</td>\n",
       "      <td>NaN</td>\n",
       "      <td>NaN</td>\n",
       "      <td>NaN</td>\n",
       "    </tr>\n",
       "    <tr>\n",
       "      <th>469941</th>\n",
       "      <td>2015</td>\n",
       "      <td>1</td>\n",
       "      <td>1</td>\n",
       "      <td>6</td>\n",
       "      <td>2</td>\n",
       "      <td>2015-01-06</td>\n",
       "      <td>NK</td>\n",
       "      <td>20416</td>\n",
       "      <td>NK</td>\n",
       "      <td>N503NK</td>\n",
       "      <td>...</td>\n",
       "      <td>NaN</td>\n",
       "      <td>NaN</td>\n",
       "      <td>NaN</td>\n",
       "      <td>NaN</td>\n",
       "      <td>NaN</td>\n",
       "      <td>NaN</td>\n",
       "      <td>NaN</td>\n",
       "      <td>NaN</td>\n",
       "      <td>NaN</td>\n",
       "      <td>NaN</td>\n",
       "    </tr>\n",
       "    <tr>\n",
       "      <th>469942</th>\n",
       "      <td>2015</td>\n",
       "      <td>1</td>\n",
       "      <td>1</td>\n",
       "      <td>7</td>\n",
       "      <td>3</td>\n",
       "      <td>2015-01-07</td>\n",
       "      <td>NK</td>\n",
       "      <td>20416</td>\n",
       "      <td>NK</td>\n",
       "      <td>N508NK</td>\n",
       "      <td>...</td>\n",
       "      <td>NaN</td>\n",
       "      <td>NaN</td>\n",
       "      <td>NaN</td>\n",
       "      <td>NaN</td>\n",
       "      <td>NaN</td>\n",
       "      <td>NaN</td>\n",
       "      <td>NaN</td>\n",
       "      <td>NaN</td>\n",
       "      <td>NaN</td>\n",
       "      <td>NaN</td>\n",
       "    </tr>\n",
       "    <tr>\n",
       "      <th>469943</th>\n",
       "      <td>2015</td>\n",
       "      <td>1</td>\n",
       "      <td>1</td>\n",
       "      <td>8</td>\n",
       "      <td>4</td>\n",
       "      <td>2015-01-08</td>\n",
       "      <td>NK</td>\n",
       "      <td>20416</td>\n",
       "      <td>NK</td>\n",
       "      <td>N503NK</td>\n",
       "      <td>...</td>\n",
       "      <td>NaN</td>\n",
       "      <td>NaN</td>\n",
       "      <td>NaN</td>\n",
       "      <td>NaN</td>\n",
       "      <td>NaN</td>\n",
       "      <td>NaN</td>\n",
       "      <td>NaN</td>\n",
       "      <td>NaN</td>\n",
       "      <td>NaN</td>\n",
       "      <td>NaN</td>\n",
       "    </tr>\n",
       "    <tr>\n",
       "      <th>469944</th>\n",
       "      <td>2015</td>\n",
       "      <td>1</td>\n",
       "      <td>1</td>\n",
       "      <td>9</td>\n",
       "      <td>5</td>\n",
       "      <td>2015-01-09</td>\n",
       "      <td>NK</td>\n",
       "      <td>20416</td>\n",
       "      <td>NK</td>\n",
       "      <td>N508NK</td>\n",
       "      <td>...</td>\n",
       "      <td>NaN</td>\n",
       "      <td>NaN</td>\n",
       "      <td>NaN</td>\n",
       "      <td>NaN</td>\n",
       "      <td>NaN</td>\n",
       "      <td>NaN</td>\n",
       "      <td>NaN</td>\n",
       "      <td>NaN</td>\n",
       "      <td>NaN</td>\n",
       "      <td>NaN</td>\n",
       "    </tr>\n",
       "    <tr>\n",
       "      <th>469945</th>\n",
       "      <td>2015</td>\n",
       "      <td>1</td>\n",
       "      <td>1</td>\n",
       "      <td>10</td>\n",
       "      <td>6</td>\n",
       "      <td>2015-01-10</td>\n",
       "      <td>NK</td>\n",
       "      <td>20416</td>\n",
       "      <td>NK</td>\n",
       "      <td>N503NK</td>\n",
       "      <td>...</td>\n",
       "      <td>NaN</td>\n",
       "      <td>NaN</td>\n",
       "      <td>NaN</td>\n",
       "      <td>NaN</td>\n",
       "      <td>NaN</td>\n",
       "      <td>NaN</td>\n",
       "      <td>NaN</td>\n",
       "      <td>NaN</td>\n",
       "      <td>NaN</td>\n",
       "      <td>NaN</td>\n",
       "    </tr>\n",
       "    <tr>\n",
       "      <th>469946</th>\n",
       "      <td>2015</td>\n",
       "      <td>1</td>\n",
       "      <td>1</td>\n",
       "      <td>11</td>\n",
       "      <td>7</td>\n",
       "      <td>2015-01-11</td>\n",
       "      <td>NK</td>\n",
       "      <td>20416</td>\n",
       "      <td>NK</td>\n",
       "      <td>N508NK</td>\n",
       "      <td>...</td>\n",
       "      <td>NaN</td>\n",
       "      <td>NaN</td>\n",
       "      <td>NaN</td>\n",
       "      <td>NaN</td>\n",
       "      <td>NaN</td>\n",
       "      <td>NaN</td>\n",
       "      <td>NaN</td>\n",
       "      <td>NaN</td>\n",
       "      <td>NaN</td>\n",
       "      <td>NaN</td>\n",
       "    </tr>\n",
       "    <tr>\n",
       "      <th>469947</th>\n",
       "      <td>2015</td>\n",
       "      <td>1</td>\n",
       "      <td>1</td>\n",
       "      <td>12</td>\n",
       "      <td>1</td>\n",
       "      <td>2015-01-12</td>\n",
       "      <td>NK</td>\n",
       "      <td>20416</td>\n",
       "      <td>NK</td>\n",
       "      <td>N503NK</td>\n",
       "      <td>...</td>\n",
       "      <td>NaN</td>\n",
       "      <td>NaN</td>\n",
       "      <td>NaN</td>\n",
       "      <td>NaN</td>\n",
       "      <td>NaN</td>\n",
       "      <td>NaN</td>\n",
       "      <td>NaN</td>\n",
       "      <td>NaN</td>\n",
       "      <td>NaN</td>\n",
       "      <td>NaN</td>\n",
       "    </tr>\n",
       "    <tr>\n",
       "      <th>469948</th>\n",
       "      <td>2015</td>\n",
       "      <td>1</td>\n",
       "      <td>1</td>\n",
       "      <td>13</td>\n",
       "      <td>2</td>\n",
       "      <td>2015-01-13</td>\n",
       "      <td>NK</td>\n",
       "      <td>20416</td>\n",
       "      <td>NK</td>\n",
       "      <td>N514NK</td>\n",
       "      <td>...</td>\n",
       "      <td>NaN</td>\n",
       "      <td>NaN</td>\n",
       "      <td>NaN</td>\n",
       "      <td>NaN</td>\n",
       "      <td>NaN</td>\n",
       "      <td>NaN</td>\n",
       "      <td>NaN</td>\n",
       "      <td>NaN</td>\n",
       "      <td>NaN</td>\n",
       "      <td>NaN</td>\n",
       "    </tr>\n",
       "    <tr>\n",
       "      <th>469949</th>\n",
       "      <td>2015</td>\n",
       "      <td>1</td>\n",
       "      <td>1</td>\n",
       "      <td>14</td>\n",
       "      <td>3</td>\n",
       "      <td>2015-01-14</td>\n",
       "      <td>NK</td>\n",
       "      <td>20416</td>\n",
       "      <td>NK</td>\n",
       "      <td>N528NK</td>\n",
       "      <td>...</td>\n",
       "      <td>NaN</td>\n",
       "      <td>NaN</td>\n",
       "      <td>NaN</td>\n",
       "      <td>NaN</td>\n",
       "      <td>NaN</td>\n",
       "      <td>NaN</td>\n",
       "      <td>NaN</td>\n",
       "      <td>NaN</td>\n",
       "      <td>NaN</td>\n",
       "      <td>NaN</td>\n",
       "    </tr>\n",
       "    <tr>\n",
       "      <th>469950</th>\n",
       "      <td>2015</td>\n",
       "      <td>1</td>\n",
       "      <td>1</td>\n",
       "      <td>15</td>\n",
       "      <td>4</td>\n",
       "      <td>2015-01-15</td>\n",
       "      <td>NK</td>\n",
       "      <td>20416</td>\n",
       "      <td>NK</td>\n",
       "      <td>N508NK</td>\n",
       "      <td>...</td>\n",
       "      <td>NaN</td>\n",
       "      <td>NaN</td>\n",
       "      <td>NaN</td>\n",
       "      <td>NaN</td>\n",
       "      <td>NaN</td>\n",
       "      <td>NaN</td>\n",
       "      <td>NaN</td>\n",
       "      <td>NaN</td>\n",
       "      <td>NaN</td>\n",
       "      <td>NaN</td>\n",
       "    </tr>\n",
       "    <tr>\n",
       "      <th>469951</th>\n",
       "      <td>2015</td>\n",
       "      <td>1</td>\n",
       "      <td>1</td>\n",
       "      <td>16</td>\n",
       "      <td>5</td>\n",
       "      <td>2015-01-16</td>\n",
       "      <td>NK</td>\n",
       "      <td>20416</td>\n",
       "      <td>NK</td>\n",
       "      <td>N528NK</td>\n",
       "      <td>...</td>\n",
       "      <td>NaN</td>\n",
       "      <td>NaN</td>\n",
       "      <td>NaN</td>\n",
       "      <td>NaN</td>\n",
       "      <td>NaN</td>\n",
       "      <td>NaN</td>\n",
       "      <td>NaN</td>\n",
       "      <td>NaN</td>\n",
       "      <td>NaN</td>\n",
       "      <td>NaN</td>\n",
       "    </tr>\n",
       "    <tr>\n",
       "      <th>469952</th>\n",
       "      <td>2015</td>\n",
       "      <td>1</td>\n",
       "      <td>1</td>\n",
       "      <td>17</td>\n",
       "      <td>6</td>\n",
       "      <td>2015-01-17</td>\n",
       "      <td>NK</td>\n",
       "      <td>20416</td>\n",
       "      <td>NK</td>\n",
       "      <td>N508NK</td>\n",
       "      <td>...</td>\n",
       "      <td>NaN</td>\n",
       "      <td>NaN</td>\n",
       "      <td>NaN</td>\n",
       "      <td>NaN</td>\n",
       "      <td>NaN</td>\n",
       "      <td>NaN</td>\n",
       "      <td>NaN</td>\n",
       "      <td>NaN</td>\n",
       "      <td>NaN</td>\n",
       "      <td>NaN</td>\n",
       "    </tr>\n",
       "    <tr>\n",
       "      <th>469953</th>\n",
       "      <td>2015</td>\n",
       "      <td>1</td>\n",
       "      <td>1</td>\n",
       "      <td>18</td>\n",
       "      <td>7</td>\n",
       "      <td>2015-01-18</td>\n",
       "      <td>NK</td>\n",
       "      <td>20416</td>\n",
       "      <td>NK</td>\n",
       "      <td>N528NK</td>\n",
       "      <td>...</td>\n",
       "      <td>NaN</td>\n",
       "      <td>NaN</td>\n",
       "      <td>NaN</td>\n",
       "      <td>NaN</td>\n",
       "      <td>NaN</td>\n",
       "      <td>NaN</td>\n",
       "      <td>NaN</td>\n",
       "      <td>NaN</td>\n",
       "      <td>NaN</td>\n",
       "      <td>NaN</td>\n",
       "    </tr>\n",
       "    <tr>\n",
       "      <th>469954</th>\n",
       "      <td>2015</td>\n",
       "      <td>1</td>\n",
       "      <td>1</td>\n",
       "      <td>19</td>\n",
       "      <td>1</td>\n",
       "      <td>2015-01-19</td>\n",
       "      <td>NK</td>\n",
       "      <td>20416</td>\n",
       "      <td>NK</td>\n",
       "      <td>N505NK</td>\n",
       "      <td>...</td>\n",
       "      <td>NaN</td>\n",
       "      <td>NaN</td>\n",
       "      <td>NaN</td>\n",
       "      <td>NaN</td>\n",
       "      <td>NaN</td>\n",
       "      <td>NaN</td>\n",
       "      <td>NaN</td>\n",
       "      <td>NaN</td>\n",
       "      <td>NaN</td>\n",
       "      <td>NaN</td>\n",
       "    </tr>\n",
       "    <tr>\n",
       "      <th>469955</th>\n",
       "      <td>2015</td>\n",
       "      <td>1</td>\n",
       "      <td>1</td>\n",
       "      <td>20</td>\n",
       "      <td>2</td>\n",
       "      <td>2015-01-20</td>\n",
       "      <td>NK</td>\n",
       "      <td>20416</td>\n",
       "      <td>NK</td>\n",
       "      <td>N521NK</td>\n",
       "      <td>...</td>\n",
       "      <td>NaN</td>\n",
       "      <td>NaN</td>\n",
       "      <td>NaN</td>\n",
       "      <td>NaN</td>\n",
       "      <td>NaN</td>\n",
       "      <td>NaN</td>\n",
       "      <td>NaN</td>\n",
       "      <td>NaN</td>\n",
       "      <td>NaN</td>\n",
       "      <td>NaN</td>\n",
       "    </tr>\n",
       "    <tr>\n",
       "      <th>469956</th>\n",
       "      <td>2015</td>\n",
       "      <td>1</td>\n",
       "      <td>1</td>\n",
       "      <td>21</td>\n",
       "      <td>3</td>\n",
       "      <td>2015-01-21</td>\n",
       "      <td>NK</td>\n",
       "      <td>20416</td>\n",
       "      <td>NK</td>\n",
       "      <td>N505NK</td>\n",
       "      <td>...</td>\n",
       "      <td>NaN</td>\n",
       "      <td>NaN</td>\n",
       "      <td>NaN</td>\n",
       "      <td>NaN</td>\n",
       "      <td>NaN</td>\n",
       "      <td>NaN</td>\n",
       "      <td>NaN</td>\n",
       "      <td>NaN</td>\n",
       "      <td>NaN</td>\n",
       "      <td>NaN</td>\n",
       "    </tr>\n",
       "    <tr>\n",
       "      <th>469957</th>\n",
       "      <td>2015</td>\n",
       "      <td>1</td>\n",
       "      <td>1</td>\n",
       "      <td>22</td>\n",
       "      <td>4</td>\n",
       "      <td>2015-01-22</td>\n",
       "      <td>NK</td>\n",
       "      <td>20416</td>\n",
       "      <td>NK</td>\n",
       "      <td>N522NK</td>\n",
       "      <td>...</td>\n",
       "      <td>NaN</td>\n",
       "      <td>NaN</td>\n",
       "      <td>NaN</td>\n",
       "      <td>NaN</td>\n",
       "      <td>NaN</td>\n",
       "      <td>NaN</td>\n",
       "      <td>NaN</td>\n",
       "      <td>NaN</td>\n",
       "      <td>NaN</td>\n",
       "      <td>NaN</td>\n",
       "    </tr>\n",
       "    <tr>\n",
       "      <th>469958</th>\n",
       "      <td>2015</td>\n",
       "      <td>1</td>\n",
       "      <td>1</td>\n",
       "      <td>23</td>\n",
       "      <td>5</td>\n",
       "      <td>2015-01-23</td>\n",
       "      <td>NK</td>\n",
       "      <td>20416</td>\n",
       "      <td>NK</td>\n",
       "      <td>N502NK</td>\n",
       "      <td>...</td>\n",
       "      <td>NaN</td>\n",
       "      <td>NaN</td>\n",
       "      <td>NaN</td>\n",
       "      <td>NaN</td>\n",
       "      <td>NaN</td>\n",
       "      <td>NaN</td>\n",
       "      <td>NaN</td>\n",
       "      <td>NaN</td>\n",
       "      <td>NaN</td>\n",
       "      <td>NaN</td>\n",
       "    </tr>\n",
       "    <tr>\n",
       "      <th>469959</th>\n",
       "      <td>2015</td>\n",
       "      <td>1</td>\n",
       "      <td>1</td>\n",
       "      <td>24</td>\n",
       "      <td>6</td>\n",
       "      <td>2015-01-24</td>\n",
       "      <td>NK</td>\n",
       "      <td>20416</td>\n",
       "      <td>NK</td>\n",
       "      <td>N524NK</td>\n",
       "      <td>...</td>\n",
       "      <td>NaN</td>\n",
       "      <td>NaN</td>\n",
       "      <td>NaN</td>\n",
       "      <td>NaN</td>\n",
       "      <td>NaN</td>\n",
       "      <td>NaN</td>\n",
       "      <td>NaN</td>\n",
       "      <td>NaN</td>\n",
       "      <td>NaN</td>\n",
       "      <td>NaN</td>\n",
       "    </tr>\n",
       "    <tr>\n",
       "      <th>469960</th>\n",
       "      <td>2015</td>\n",
       "      <td>1</td>\n",
       "      <td>1</td>\n",
       "      <td>25</td>\n",
       "      <td>7</td>\n",
       "      <td>2015-01-25</td>\n",
       "      <td>NK</td>\n",
       "      <td>20416</td>\n",
       "      <td>NK</td>\n",
       "      <td>N502NK</td>\n",
       "      <td>...</td>\n",
       "      <td>NaN</td>\n",
       "      <td>NaN</td>\n",
       "      <td>NaN</td>\n",
       "      <td>NaN</td>\n",
       "      <td>NaN</td>\n",
       "      <td>NaN</td>\n",
       "      <td>NaN</td>\n",
       "      <td>NaN</td>\n",
       "      <td>NaN</td>\n",
       "      <td>NaN</td>\n",
       "    </tr>\n",
       "    <tr>\n",
       "      <th>469961</th>\n",
       "      <td>2015</td>\n",
       "      <td>1</td>\n",
       "      <td>1</td>\n",
       "      <td>26</td>\n",
       "      <td>1</td>\n",
       "      <td>2015-01-26</td>\n",
       "      <td>NK</td>\n",
       "      <td>20416</td>\n",
       "      <td>NK</td>\n",
       "      <td>N524NK</td>\n",
       "      <td>...</td>\n",
       "      <td>NaN</td>\n",
       "      <td>NaN</td>\n",
       "      <td>NaN</td>\n",
       "      <td>NaN</td>\n",
       "      <td>NaN</td>\n",
       "      <td>NaN</td>\n",
       "      <td>NaN</td>\n",
       "      <td>NaN</td>\n",
       "      <td>NaN</td>\n",
       "      <td>NaN</td>\n",
       "    </tr>\n",
       "    <tr>\n",
       "      <th>469962</th>\n",
       "      <td>2015</td>\n",
       "      <td>1</td>\n",
       "      <td>1</td>\n",
       "      <td>27</td>\n",
       "      <td>2</td>\n",
       "      <td>2015-01-27</td>\n",
       "      <td>NK</td>\n",
       "      <td>20416</td>\n",
       "      <td>NK</td>\n",
       "      <td>N502NK</td>\n",
       "      <td>...</td>\n",
       "      <td>NaN</td>\n",
       "      <td>NaN</td>\n",
       "      <td>NaN</td>\n",
       "      <td>NaN</td>\n",
       "      <td>NaN</td>\n",
       "      <td>NaN</td>\n",
       "      <td>NaN</td>\n",
       "      <td>NaN</td>\n",
       "      <td>NaN</td>\n",
       "      <td>NaN</td>\n",
       "    </tr>\n",
       "    <tr>\n",
       "      <th>469963</th>\n",
       "      <td>2015</td>\n",
       "      <td>1</td>\n",
       "      <td>1</td>\n",
       "      <td>28</td>\n",
       "      <td>3</td>\n",
       "      <td>2015-01-28</td>\n",
       "      <td>NK</td>\n",
       "      <td>20416</td>\n",
       "      <td>NK</td>\n",
       "      <td>N524NK</td>\n",
       "      <td>...</td>\n",
       "      <td>NaN</td>\n",
       "      <td>NaN</td>\n",
       "      <td>NaN</td>\n",
       "      <td>NaN</td>\n",
       "      <td>NaN</td>\n",
       "      <td>NaN</td>\n",
       "      <td>NaN</td>\n",
       "      <td>NaN</td>\n",
       "      <td>NaN</td>\n",
       "      <td>NaN</td>\n",
       "    </tr>\n",
       "    <tr>\n",
       "      <th>469964</th>\n",
       "      <td>2015</td>\n",
       "      <td>1</td>\n",
       "      <td>1</td>\n",
       "      <td>29</td>\n",
       "      <td>4</td>\n",
       "      <td>2015-01-29</td>\n",
       "      <td>NK</td>\n",
       "      <td>20416</td>\n",
       "      <td>NK</td>\n",
       "      <td>N502NK</td>\n",
       "      <td>...</td>\n",
       "      <td>NaN</td>\n",
       "      <td>NaN</td>\n",
       "      <td>NaN</td>\n",
       "      <td>NaN</td>\n",
       "      <td>NaN</td>\n",
       "      <td>NaN</td>\n",
       "      <td>NaN</td>\n",
       "      <td>NaN</td>\n",
       "      <td>NaN</td>\n",
       "      <td>NaN</td>\n",
       "    </tr>\n",
       "    <tr>\n",
       "      <th>469965</th>\n",
       "      <td>2015</td>\n",
       "      <td>1</td>\n",
       "      <td>1</td>\n",
       "      <td>30</td>\n",
       "      <td>5</td>\n",
       "      <td>2015-01-30</td>\n",
       "      <td>NK</td>\n",
       "      <td>20416</td>\n",
       "      <td>NK</td>\n",
       "      <td>N519NK</td>\n",
       "      <td>...</td>\n",
       "      <td>NaN</td>\n",
       "      <td>NaN</td>\n",
       "      <td>NaN</td>\n",
       "      <td>NaN</td>\n",
       "      <td>NaN</td>\n",
       "      <td>NaN</td>\n",
       "      <td>NaN</td>\n",
       "      <td>NaN</td>\n",
       "      <td>NaN</td>\n",
       "      <td>NaN</td>\n",
       "    </tr>\n",
       "    <tr>\n",
       "      <th>469966</th>\n",
       "      <td>2015</td>\n",
       "      <td>1</td>\n",
       "      <td>1</td>\n",
       "      <td>31</td>\n",
       "      <td>6</td>\n",
       "      <td>2015-01-31</td>\n",
       "      <td>NK</td>\n",
       "      <td>20416</td>\n",
       "      <td>NK</td>\n",
       "      <td>N502NK</td>\n",
       "      <td>...</td>\n",
       "      <td>NaN</td>\n",
       "      <td>NaN</td>\n",
       "      <td>NaN</td>\n",
       "      <td>NaN</td>\n",
       "      <td>NaN</td>\n",
       "      <td>NaN</td>\n",
       "      <td>NaN</td>\n",
       "      <td>NaN</td>\n",
       "      <td>NaN</td>\n",
       "      <td>NaN</td>\n",
       "    </tr>\n",
       "    <tr>\n",
       "      <th>469967</th>\n",
       "      <td>2015</td>\n",
       "      <td>1</td>\n",
       "      <td>1</td>\n",
       "      <td>1</td>\n",
       "      <td>4</td>\n",
       "      <td>2015-01-01</td>\n",
       "      <td>NK</td>\n",
       "      <td>20416</td>\n",
       "      <td>NK</td>\n",
       "      <td>N502NK</td>\n",
       "      <td>...</td>\n",
       "      <td>NaN</td>\n",
       "      <td>NaN</td>\n",
       "      <td>NaN</td>\n",
       "      <td>NaN</td>\n",
       "      <td>NaN</td>\n",
       "      <td>NaN</td>\n",
       "      <td>NaN</td>\n",
       "      <td>NaN</td>\n",
       "      <td>NaN</td>\n",
       "      <td>NaN</td>\n",
       "    </tr>\n",
       "  </tbody>\n",
       "</table>\n",
       "<p>469968 rows × 110 columns</p>\n",
       "</div>"
      ],
      "text/plain": [
       "        Year  Quarter  Month  DayofMonth  DayOfWeek  FlightDate UniqueCarrier  \\\n",
       "0       2015        1      1           1          4  2015-01-01            AA   \n",
       "1       2015        1      1           2          5  2015-01-02            AA   \n",
       "2       2015        1      1           3          6  2015-01-03            AA   \n",
       "3       2015        1      1           4          7  2015-01-04            AA   \n",
       "4       2015        1      1           5          1  2015-01-05            AA   \n",
       "5       2015        1      1           6          2  2015-01-06            AA   \n",
       "6       2015        1      1           7          3  2015-01-07            AA   \n",
       "7       2015        1      1           8          4  2015-01-08            AA   \n",
       "8       2015        1      1           9          5  2015-01-09            AA   \n",
       "9       2015        1      1          10          6  2015-01-10            AA   \n",
       "10      2015        1      1          11          7  2015-01-11            AA   \n",
       "11      2015        1      1          12          1  2015-01-12            AA   \n",
       "12      2015        1      1          13          2  2015-01-13            AA   \n",
       "13      2015        1      1          14          3  2015-01-14            AA   \n",
       "14      2015        1      1          15          4  2015-01-15            AA   \n",
       "15      2015        1      1          16          5  2015-01-16            AA   \n",
       "16      2015        1      1          17          6  2015-01-17            AA   \n",
       "17      2015        1      1          18          7  2015-01-18            AA   \n",
       "18      2015        1      1          19          1  2015-01-19            AA   \n",
       "19      2015        1      1          20          2  2015-01-20            AA   \n",
       "20      2015        1      1          21          3  2015-01-21            AA   \n",
       "21      2015        1      1          22          4  2015-01-22            AA   \n",
       "22      2015        1      1          23          5  2015-01-23            AA   \n",
       "23      2015        1      1          24          6  2015-01-24            AA   \n",
       "24      2015        1      1          25          7  2015-01-25            AA   \n",
       "25      2015        1      1          26          1  2015-01-26            AA   \n",
       "26      2015        1      1          27          2  2015-01-27            AA   \n",
       "27      2015        1      1          28          3  2015-01-28            AA   \n",
       "28      2015        1      1          29          4  2015-01-29            AA   \n",
       "29      2015        1      1          30          5  2015-01-30            AA   \n",
       "...      ...      ...    ...         ...        ...         ...           ...   \n",
       "469938  2015        1      1           3          6  2015-01-03            NK   \n",
       "469939  2015        1      1           4          7  2015-01-04            NK   \n",
       "469940  2015        1      1           5          1  2015-01-05            NK   \n",
       "469941  2015        1      1           6          2  2015-01-06            NK   \n",
       "469942  2015        1      1           7          3  2015-01-07            NK   \n",
       "469943  2015        1      1           8          4  2015-01-08            NK   \n",
       "469944  2015        1      1           9          5  2015-01-09            NK   \n",
       "469945  2015        1      1          10          6  2015-01-10            NK   \n",
       "469946  2015        1      1          11          7  2015-01-11            NK   \n",
       "469947  2015        1      1          12          1  2015-01-12            NK   \n",
       "469948  2015        1      1          13          2  2015-01-13            NK   \n",
       "469949  2015        1      1          14          3  2015-01-14            NK   \n",
       "469950  2015        1      1          15          4  2015-01-15            NK   \n",
       "469951  2015        1      1          16          5  2015-01-16            NK   \n",
       "469952  2015        1      1          17          6  2015-01-17            NK   \n",
       "469953  2015        1      1          18          7  2015-01-18            NK   \n",
       "469954  2015        1      1          19          1  2015-01-19            NK   \n",
       "469955  2015        1      1          20          2  2015-01-20            NK   \n",
       "469956  2015        1      1          21          3  2015-01-21            NK   \n",
       "469957  2015        1      1          22          4  2015-01-22            NK   \n",
       "469958  2015        1      1          23          5  2015-01-23            NK   \n",
       "469959  2015        1      1          24          6  2015-01-24            NK   \n",
       "469960  2015        1      1          25          7  2015-01-25            NK   \n",
       "469961  2015        1      1          26          1  2015-01-26            NK   \n",
       "469962  2015        1      1          27          2  2015-01-27            NK   \n",
       "469963  2015        1      1          28          3  2015-01-28            NK   \n",
       "469964  2015        1      1          29          4  2015-01-29            NK   \n",
       "469965  2015        1      1          30          5  2015-01-30            NK   \n",
       "469966  2015        1      1          31          6  2015-01-31            NK   \n",
       "469967  2015        1      1           1          4  2015-01-01            NK   \n",
       "\n",
       "        AirlineID Carrier TailNum      ...       Div4TailNum  Div5Airport  \\\n",
       "0           19805      AA  N787AA      ...               NaN          NaN   \n",
       "1           19805      AA  N795AA      ...               NaN          NaN   \n",
       "2           19805      AA  N788AA      ...               NaN          NaN   \n",
       "3           19805      AA  N791AA      ...               NaN          NaN   \n",
       "4           19805      AA  N783AA      ...               NaN          NaN   \n",
       "5           19805      AA  N799AA      ...               NaN          NaN   \n",
       "6           19805      AA  N784AA      ...               NaN          NaN   \n",
       "7           19805      AA  N787AA      ...               NaN          NaN   \n",
       "8           19805      AA  N795AA      ...               NaN          NaN   \n",
       "9           19805      AA  N790AA      ...               NaN          NaN   \n",
       "10          19805      AA  N786AA      ...               NaN          NaN   \n",
       "11          19805      AA  N790AA      ...               NaN          NaN   \n",
       "12          19805      AA  N796AA      ...               NaN          NaN   \n",
       "13          19805      AA  N793AA      ...               NaN          NaN   \n",
       "14          19805      AA  N790AA      ...               NaN          NaN   \n",
       "15          19805      AA  N797AA      ...               NaN          NaN   \n",
       "16          19805      AA  N795AA      ...               NaN          NaN   \n",
       "17          19805      AA  N786AA      ...               NaN          NaN   \n",
       "18          19805      AA  N785AA      ...               NaN          NaN   \n",
       "19          19805      AA  N797AA      ...               NaN          NaN   \n",
       "20          19805      AA  N789AA      ...               NaN          NaN   \n",
       "21          19805      AA  N790AA      ...               NaN          NaN   \n",
       "22          19805      AA  N790AA      ...               NaN          NaN   \n",
       "23          19805      AA  N787AA      ...               NaN          NaN   \n",
       "24          19805      AA  N791AA      ...               NaN          NaN   \n",
       "25          19805      AA  N783AA      ...               NaN          NaN   \n",
       "26          19805      AA     NaN      ...               NaN          NaN   \n",
       "27          19805      AA     NaN      ...               NaN          NaN   \n",
       "28          19805      AA  N794AA      ...               NaN          NaN   \n",
       "29          19805      AA  N792AA      ...               NaN          NaN   \n",
       "...           ...     ...     ...      ...               ...          ...   \n",
       "469938      20416      NK  N505NK      ...               NaN          NaN   \n",
       "469939      20416      NK  N503NK      ...               NaN          NaN   \n",
       "469940      20416      NK  N508NK      ...               NaN          NaN   \n",
       "469941      20416      NK  N503NK      ...               NaN          NaN   \n",
       "469942      20416      NK  N508NK      ...               NaN          NaN   \n",
       "469943      20416      NK  N503NK      ...               NaN          NaN   \n",
       "469944      20416      NK  N508NK      ...               NaN          NaN   \n",
       "469945      20416      NK  N503NK      ...               NaN          NaN   \n",
       "469946      20416      NK  N508NK      ...               NaN          NaN   \n",
       "469947      20416      NK  N503NK      ...               NaN          NaN   \n",
       "469948      20416      NK  N514NK      ...               NaN          NaN   \n",
       "469949      20416      NK  N528NK      ...               NaN          NaN   \n",
       "469950      20416      NK  N508NK      ...               NaN          NaN   \n",
       "469951      20416      NK  N528NK      ...               NaN          NaN   \n",
       "469952      20416      NK  N508NK      ...               NaN          NaN   \n",
       "469953      20416      NK  N528NK      ...               NaN          NaN   \n",
       "469954      20416      NK  N505NK      ...               NaN          NaN   \n",
       "469955      20416      NK  N521NK      ...               NaN          NaN   \n",
       "469956      20416      NK  N505NK      ...               NaN          NaN   \n",
       "469957      20416      NK  N522NK      ...               NaN          NaN   \n",
       "469958      20416      NK  N502NK      ...               NaN          NaN   \n",
       "469959      20416      NK  N524NK      ...               NaN          NaN   \n",
       "469960      20416      NK  N502NK      ...               NaN          NaN   \n",
       "469961      20416      NK  N524NK      ...               NaN          NaN   \n",
       "469962      20416      NK  N502NK      ...               NaN          NaN   \n",
       "469963      20416      NK  N524NK      ...               NaN          NaN   \n",
       "469964      20416      NK  N502NK      ...               NaN          NaN   \n",
       "469965      20416      NK  N519NK      ...               NaN          NaN   \n",
       "469966      20416      NK  N502NK      ...               NaN          NaN   \n",
       "469967      20416      NK  N502NK      ...               NaN          NaN   \n",
       "\n",
       "        Div5AirportID  Div5AirportSeqID Div5WheelsOn Div5TotalGTime  \\\n",
       "0                 NaN               NaN          NaN            NaN   \n",
       "1                 NaN               NaN          NaN            NaN   \n",
       "2                 NaN               NaN          NaN            NaN   \n",
       "3                 NaN               NaN          NaN            NaN   \n",
       "4                 NaN               NaN          NaN            NaN   \n",
       "5                 NaN               NaN          NaN            NaN   \n",
       "6                 NaN               NaN          NaN            NaN   \n",
       "7                 NaN               NaN          NaN            NaN   \n",
       "8                 NaN               NaN          NaN            NaN   \n",
       "9                 NaN               NaN          NaN            NaN   \n",
       "10                NaN               NaN          NaN            NaN   \n",
       "11                NaN               NaN          NaN            NaN   \n",
       "12                NaN               NaN          NaN            NaN   \n",
       "13                NaN               NaN          NaN            NaN   \n",
       "14                NaN               NaN          NaN            NaN   \n",
       "15                NaN               NaN          NaN            NaN   \n",
       "16                NaN               NaN          NaN            NaN   \n",
       "17                NaN               NaN          NaN            NaN   \n",
       "18                NaN               NaN          NaN            NaN   \n",
       "19                NaN               NaN          NaN            NaN   \n",
       "20                NaN               NaN          NaN            NaN   \n",
       "21                NaN               NaN          NaN            NaN   \n",
       "22                NaN               NaN          NaN            NaN   \n",
       "23                NaN               NaN          NaN            NaN   \n",
       "24                NaN               NaN          NaN            NaN   \n",
       "25                NaN               NaN          NaN            NaN   \n",
       "26                NaN               NaN          NaN            NaN   \n",
       "27                NaN               NaN          NaN            NaN   \n",
       "28                NaN               NaN          NaN            NaN   \n",
       "29                NaN               NaN          NaN            NaN   \n",
       "...               ...               ...          ...            ...   \n",
       "469938            NaN               NaN          NaN            NaN   \n",
       "469939            NaN               NaN          NaN            NaN   \n",
       "469940            NaN               NaN          NaN            NaN   \n",
       "469941            NaN               NaN          NaN            NaN   \n",
       "469942            NaN               NaN          NaN            NaN   \n",
       "469943            NaN               NaN          NaN            NaN   \n",
       "469944            NaN               NaN          NaN            NaN   \n",
       "469945            NaN               NaN          NaN            NaN   \n",
       "469946            NaN               NaN          NaN            NaN   \n",
       "469947            NaN               NaN          NaN            NaN   \n",
       "469948            NaN               NaN          NaN            NaN   \n",
       "469949            NaN               NaN          NaN            NaN   \n",
       "469950            NaN               NaN          NaN            NaN   \n",
       "469951            NaN               NaN          NaN            NaN   \n",
       "469952            NaN               NaN          NaN            NaN   \n",
       "469953            NaN               NaN          NaN            NaN   \n",
       "469954            NaN               NaN          NaN            NaN   \n",
       "469955            NaN               NaN          NaN            NaN   \n",
       "469956            NaN               NaN          NaN            NaN   \n",
       "469957            NaN               NaN          NaN            NaN   \n",
       "469958            NaN               NaN          NaN            NaN   \n",
       "469959            NaN               NaN          NaN            NaN   \n",
       "469960            NaN               NaN          NaN            NaN   \n",
       "469961            NaN               NaN          NaN            NaN   \n",
       "469962            NaN               NaN          NaN            NaN   \n",
       "469963            NaN               NaN          NaN            NaN   \n",
       "469964            NaN               NaN          NaN            NaN   \n",
       "469965            NaN               NaN          NaN            NaN   \n",
       "469966            NaN               NaN          NaN            NaN   \n",
       "469967            NaN               NaN          NaN            NaN   \n",
       "\n",
       "       Div5LongestGTime  Div5WheelsOff Div5TailNum  Unnamed: 109  \n",
       "0                   NaN            NaN         NaN           NaN  \n",
       "1                   NaN            NaN         NaN           NaN  \n",
       "2                   NaN            NaN         NaN           NaN  \n",
       "3                   NaN            NaN         NaN           NaN  \n",
       "4                   NaN            NaN         NaN           NaN  \n",
       "5                   NaN            NaN         NaN           NaN  \n",
       "6                   NaN            NaN         NaN           NaN  \n",
       "7                   NaN            NaN         NaN           NaN  \n",
       "8                   NaN            NaN         NaN           NaN  \n",
       "9                   NaN            NaN         NaN           NaN  \n",
       "10                  NaN            NaN         NaN           NaN  \n",
       "11                  NaN            NaN         NaN           NaN  \n",
       "12                  NaN            NaN         NaN           NaN  \n",
       "13                  NaN            NaN         NaN           NaN  \n",
       "14                  NaN            NaN         NaN           NaN  \n",
       "15                  NaN            NaN         NaN           NaN  \n",
       "16                  NaN            NaN         NaN           NaN  \n",
       "17                  NaN            NaN         NaN           NaN  \n",
       "18                  NaN            NaN         NaN           NaN  \n",
       "19                  NaN            NaN         NaN           NaN  \n",
       "20                  NaN            NaN         NaN           NaN  \n",
       "21                  NaN            NaN         NaN           NaN  \n",
       "22                  NaN            NaN         NaN           NaN  \n",
       "23                  NaN            NaN         NaN           NaN  \n",
       "24                  NaN            NaN         NaN           NaN  \n",
       "25                  NaN            NaN         NaN           NaN  \n",
       "26                  NaN            NaN         NaN           NaN  \n",
       "27                  NaN            NaN         NaN           NaN  \n",
       "28                  NaN            NaN         NaN           NaN  \n",
       "29                  NaN            NaN         NaN           NaN  \n",
       "...                 ...            ...         ...           ...  \n",
       "469938              NaN            NaN         NaN           NaN  \n",
       "469939              NaN            NaN         NaN           NaN  \n",
       "469940              NaN            NaN         NaN           NaN  \n",
       "469941              NaN            NaN         NaN           NaN  \n",
       "469942              NaN            NaN         NaN           NaN  \n",
       "469943              NaN            NaN         NaN           NaN  \n",
       "469944              NaN            NaN         NaN           NaN  \n",
       "469945              NaN            NaN         NaN           NaN  \n",
       "469946              NaN            NaN         NaN           NaN  \n",
       "469947              NaN            NaN         NaN           NaN  \n",
       "469948              NaN            NaN         NaN           NaN  \n",
       "469949              NaN            NaN         NaN           NaN  \n",
       "469950              NaN            NaN         NaN           NaN  \n",
       "469951              NaN            NaN         NaN           NaN  \n",
       "469952              NaN            NaN         NaN           NaN  \n",
       "469953              NaN            NaN         NaN           NaN  \n",
       "469954              NaN            NaN         NaN           NaN  \n",
       "469955              NaN            NaN         NaN           NaN  \n",
       "469956              NaN            NaN         NaN           NaN  \n",
       "469957              NaN            NaN         NaN           NaN  \n",
       "469958              NaN            NaN         NaN           NaN  \n",
       "469959              NaN            NaN         NaN           NaN  \n",
       "469960              NaN            NaN         NaN           NaN  \n",
       "469961              NaN            NaN         NaN           NaN  \n",
       "469962              NaN            NaN         NaN           NaN  \n",
       "469963              NaN            NaN         NaN           NaN  \n",
       "469964              NaN            NaN         NaN           NaN  \n",
       "469965              NaN            NaN         NaN           NaN  \n",
       "469966              NaN            NaN         NaN           NaN  \n",
       "469967              NaN            NaN         NaN           NaN  \n",
       "\n",
       "[469968 rows x 110 columns]"
      ]
     },
     "execution_count": 181,
     "metadata": {},
     "output_type": "execute_result"
    }
   ],
   "source": [
    "data"
   ]
  },
  {
   "cell_type": "code",
   "execution_count": 182,
   "metadata": {},
   "outputs": [
    {
     "data": {
      "text/html": [
       "<div>\n",
       "<style scoped>\n",
       "    .dataframe tbody tr th:only-of-type {\n",
       "        vertical-align: middle;\n",
       "    }\n",
       "\n",
       "    .dataframe tbody tr th {\n",
       "        vertical-align: top;\n",
       "    }\n",
       "\n",
       "    .dataframe thead th {\n",
       "        text-align: right;\n",
       "    }\n",
       "</style>\n",
       "<table border=\"1\" class=\"dataframe\">\n",
       "  <thead>\n",
       "    <tr style=\"text-align: right;\">\n",
       "      <th></th>\n",
       "      <th>mean</th>\n",
       "      <th>count</th>\n",
       "    </tr>\n",
       "    <tr>\n",
       "      <th>Carrier</th>\n",
       "      <th></th>\n",
       "      <th></th>\n",
       "    </tr>\n",
       "  </thead>\n",
       "  <tbody>\n",
       "    <tr>\n",
       "      <th>F9</th>\n",
       "      <td>17.984433</td>\n",
       "      <td>6745</td>\n",
       "    </tr>\n",
       "    <tr>\n",
       "      <th>MQ</th>\n",
       "      <td>16.081207</td>\n",
       "      <td>27670</td>\n",
       "    </tr>\n",
       "    <tr>\n",
       "      <th>UA</th>\n",
       "      <td>14.010359</td>\n",
       "      <td>37454</td>\n",
       "    </tr>\n",
       "    <tr>\n",
       "      <th>NK</th>\n",
       "      <td>13.146294</td>\n",
       "      <td>8647</td>\n",
       "    </tr>\n",
       "    <tr>\n",
       "      <th>OO</th>\n",
       "      <td>12.155157</td>\n",
       "      <td>46946</td>\n",
       "    </tr>\n",
       "    <tr>\n",
       "      <th>AA</th>\n",
       "      <td>10.593542</td>\n",
       "      <td>43173</td>\n",
       "    </tr>\n",
       "    <tr>\n",
       "      <th>B6</th>\n",
       "      <td>10.035556</td>\n",
       "      <td>20531</td>\n",
       "    </tr>\n",
       "    <tr>\n",
       "      <th>EV</th>\n",
       "      <td>9.752522</td>\n",
       "      <td>48267</td>\n",
       "    </tr>\n",
       "    <tr>\n",
       "      <th>WN</th>\n",
       "      <td>9.514470</td>\n",
       "      <td>98307</td>\n",
       "    </tr>\n",
       "    <tr>\n",
       "      <th>VX</th>\n",
       "      <td>6.910772</td>\n",
       "      <td>4651</td>\n",
       "    </tr>\n",
       "    <tr>\n",
       "      <th>DL</th>\n",
       "      <td>5.904238</td>\n",
       "      <td>63752</td>\n",
       "    </tr>\n",
       "    <tr>\n",
       "      <th>US</th>\n",
       "      <td>5.197315</td>\n",
       "      <td>32552</td>\n",
       "    </tr>\n",
       "    <tr>\n",
       "      <th>AS</th>\n",
       "      <td>3.178209</td>\n",
       "      <td>13198</td>\n",
       "    </tr>\n",
       "    <tr>\n",
       "      <th>HA</th>\n",
       "      <td>1.310065</td>\n",
       "      <td>6418</td>\n",
       "    </tr>\n",
       "  </tbody>\n",
       "</table>\n",
       "</div>"
      ],
      "text/plain": [
       "              mean  count\n",
       "Carrier                  \n",
       "F9       17.984433   6745\n",
       "MQ       16.081207  27670\n",
       "UA       14.010359  37454\n",
       "NK       13.146294   8647\n",
       "OO       12.155157  46946\n",
       "AA       10.593542  43173\n",
       "B6       10.035556  20531\n",
       "EV        9.752522  48267\n",
       "WN        9.514470  98307\n",
       "VX        6.910772   4651\n",
       "DL        5.904238  63752\n",
       "US        5.197315  32552\n",
       "AS        3.178209  13198\n",
       "HA        1.310065   6418"
      ]
     },
     "execution_count": 182,
     "metadata": {},
     "output_type": "execute_result"
    }
   ],
   "source": [
    "data.groupby('Carrier')['DepDelay'].agg(['mean', 'count']).sort_values('mean', ascending=False)"
   ]
  },
  {
   "cell_type": "markdown",
   "metadata": {
    "slideshow": {
     "slide_type": "slide"
    }
   },
   "source": [
    "# Ejemplo de programa con entrada / salida \n",
    "\n",
    "Vamos a calcular el área de un círculo"
   ]
  },
  {
   "cell_type": "markdown",
   "metadata": {
    "slideshow": {
     "slide_type": "slide"
    }
   },
   "source": [
    "## Pasos para hacer un programa\n",
    "\n",
    "1.  Definir bien el problema\n",
    "\n",
    "    -   En nuestro caso, calcular el área de un círculo\n",
    "\n",
    "\n",
    "\n",
    "2.  Identificar las entradas de datos al programa\n",
    "\n",
    "    -   El radio del círculo\n",
    "\n",
    "\n",
    "3.  Identificar las salidas de datos del programa\n",
    "\n",
    "    -   El valor del área\n",
    "\n",
    "\n",
    "4.  Decidir el algoritmo que calculará las salidas de datos a partir de\n",
    "    las entradas"
   ]
  },
  {
   "cell_type": "markdown",
   "metadata": {
    "slideshow": {
     "slide_type": "slide"
    }
   },
   "source": [
    "## Algoritmo\n",
    "\n",
    "Área de un círculo\n",
    "\n",
    "Si sabemos el radio, podemos calcular el área\n",
    "$$A= \\pi r^2$$"
   ]
  },
  {
   "cell_type": "markdown",
   "metadata": {
    "slideshow": {
     "slide_type": "fragment"
    }
   },
   "source": [
    "![image](figs/area.png)"
   ]
  },
  {
   "cell_type": "markdown",
   "metadata": {
    "slideshow": {
     "slide_type": "slide"
    }
   },
   "source": [
    "#### Ejercicio:\n",
    "\n",
    "Escribe el programa para calcular el área del círculo, según el patrón que venimos estableciendo:\n",
    "\n",
    "- Entrada de datos\n",
    "\n",
    "- Algoritmo\n",
    "\n",
    "- Salida de datos"
   ]
  },
  {
   "cell_type": "code",
   "execution_count": 28,
   "metadata": {},
   "outputs": [
    {
     "name": "stdout",
     "output_type": "stream",
     "text": [
      "please input the radius of your circle 2.3\n",
      "The area of a circle with radius 2.300 is 16.619\n"
     ]
    }
   ],
   "source": [
    "# Input\n",
    "radius = float(input('please input the radius of your circle ')) \n",
    "\n",
    "# Algorithm\n",
    "pi = 3.141592\n",
    "area = pi * radius ** 2\n",
    "\n",
    "# Output\n",
    "print('The area of a circle with radius %.3f is %.3f' % (radius, area))"
   ]
  },
  {
   "cell_type": "code",
   "execution_count": 29,
   "metadata": {},
   "outputs": [
    {
     "name": "stdout",
     "output_type": "stream",
     "text": [
      "please input the radius of your circle 2.3\n",
      "The area of a circle with radius 3.142 is 16.619\n"
     ]
    }
   ],
   "source": [
    "# Input\n",
    "sadkjfasd = float(input('please input the radius of your circle ')) \n",
    "\n",
    "# Algorithm\n",
    "Zorg = 3.141592\n",
    "blargh = Zorg * sadkjfasd ** 2\n",
    "\n",
    "# Output\n",
    "print('The area of a circle with radius %.3f is %.3f' % (Zorg, blargh))"
   ]
  },
  {
   "cell_type": "code",
   "execution_count": 23,
   "metadata": {},
   "outputs": [
    {
     "data": {
      "text/plain": [
       "9.7"
      ]
     },
     "execution_count": 23,
     "metadata": {},
     "output_type": "execute_result"
    }
   ],
   "source": [
    "radius"
   ]
  },
  {
   "cell_type": "markdown",
   "metadata": {},
   "source": [
    "Muchas variables están definidas en módulos. Por ejemplo, `pi` está definida en el módulo `math`. Podemos traerla a nuestro entorno con `import`:"
   ]
  },
  {
   "cell_type": "code",
   "execution_count": 35,
   "metadata": {},
   "outputs": [
    {
     "name": "stdout",
     "output_type": "stream",
     "text": [
      "please input the radius of your circle 1.2\n",
      "The area of a circle with radius 1.200 is 4.524\n"
     ]
    }
   ],
   "source": [
    "import math\n",
    "\n",
    "# Input\n",
    "radius = float(input('please input the radius of your circle ')) \n",
    "\n",
    "# Algorithm\n",
    "area = math.pi * radius ** 2\n",
    "\n",
    "# Output\n",
    "print('The area of a circle with radius %.3f is %.3f' % (radius, area))"
   ]
  },
  {
   "cell_type": "markdown",
   "metadata": {
    "slideshow": {
     "slide_type": "slide"
    }
   },
   "source": [
    "# Para llevar\n",
    "\n",
    "### resumen del tema\n",
    "\n",
    "-   Para mostrar el valor de una variable, o un mensaje sencillo, usamos\n",
    "    la función `print`\n",
    "\n",
    "-   Si queremos mostrar mensajes complejos podemos componer mensajes con\n",
    "    formato\n",
    "\n",
    "-   Podemos mostrar:\n",
    "\n",
    "    -   %d: Números enteros\n",
    "\n",
    "    -   %f: Números decimales\n",
    "\n",
    "    -   %s: Texto"
   ]
  },
  {
   "cell_type": "markdown",
   "metadata": {
    "slideshow": {
     "slide_type": "slide"
    }
   },
   "source": [
    "## Para llevar: resumen del tema\n",
    "\n",
    "-   Podemos pedir datos al usuario con input\n",
    "\n",
    "    -   Con input, la entrada **no** se evalúa: siempre será una `str`\n",
    "\n",
    "-   Podemos abrir ficheros con open tanto para lectura como\n",
    "    escritura\n",
    "\n",
    "-   Con readline, lo podemos leer de manera iterativa sin\n",
    "    cargar el fichero en memoria\n",
    "\n",
    "-   Siempre tenemos que cerrar el fichero después de leerlo. Lo mejor es\n",
    "    usar with para no olvidarnos de cerrarlo."
   ]
  },
  {
   "cell_type": "markdown",
   "metadata": {
    "slideshow": {
     "slide_type": "slide"
    }
   },
   "source": [
    "## Para llevar: resumen del tema\n",
    "\n",
    "-   Nuestros programas deben tener siempre la estructura:\n",
    "\n",
    "    -   Entrada de datos\n",
    "\n",
    "    -   Algoritmo\n",
    "\n",
    "    -   Salida de datos\n",
    "\n",
    "-   El primer paso para programar es siempre definir bien el problema\n",
    "\n",
    "    -   Dejar claro qué hay que hacer\n",
    "\n",
    "    -   Cómo hay que hacerlo será lo que escribamos en el programa"
   ]
  },
  {
   "cell_type": "markdown",
   "metadata": {},
   "source": [
    "# Para saber más\n",
    "\n",
    "http://www.cprogramming.com/tutorial/printf-format-strings.html\n",
    "\n",
    "http://www.practicepython.org/\n",
    "\n",
    "http://codingbat.com/python"
   ]
  },
  {
   "cell_type": "markdown",
   "metadata": {},
   "source": [
    "# Ejercicios para fijar"
   ]
  },
  {
   "cell_type": "markdown",
   "metadata": {},
   "source": [
    "#### Ejercicio\n",
    "\n",
    "Escribe un programa que acepte el apellido y nombre de un usuario y los muestre por pantalla en orden inverso, con un espacio entre ellos"
   ]
  },
  {
   "cell_type": "code",
   "execution_count": 36,
   "metadata": {},
   "outputs": [
    {
     "name": "stdout",
     "output_type": "stream",
     "text": [
      "cual es su nombre?Daniel\n",
      "cual es su apellido?Mateos\n",
      "Mateos Daniel\n"
     ]
    }
   ],
   "source": [
    "name = input('cual es su nombre?')\n",
    "surname = input('cual es su apellido?')\n",
    "\n",
    "print(surname, name)"
   ]
  },
  {
   "cell_type": "markdown",
   "metadata": {},
   "source": [
    "#### Ejercicio\n",
    "\n",
    "Escribe un programa Python que acepte una secuencia de 4 números separados por comas y los imprima cada uno en una línea. \n",
    "\n",
    "_Pista_: en los [métodos de `str`](https://docs.python.org/3/library/stdtypes.html#string-methods) seguro que encuentras algo que te sea útil.\n",
    "\n",
    "_Entrada de muestra_: `\"1,53,3,12\"`\n",
    "\n",
    "_Salida de muestra_: \n",
    "```python\n",
    "1\n",
    "53\n",
    "3\n",
    "12\n",
    "```"
   ]
  },
  {
   "cell_type": "code",
   "execution_count": 37,
   "metadata": {},
   "outputs": [
    {
     "data": {
      "text/plain": [
       "['123', '78', 'fg']"
      ]
     },
     "execution_count": 37,
     "metadata": {},
     "output_type": "execute_result"
    }
   ],
   "source": [
    "a_sample_string = '123 78 fg'\n",
    "a_sample_string.split()"
   ]
  },
  {
   "cell_type": "code",
   "execution_count": 39,
   "metadata": {},
   "outputs": [
    {
     "data": {
      "text/plain": [
       "['asdf', 'asdfasdf', 'ASDF']"
      ]
     },
     "execution_count": 39,
     "metadata": {},
     "output_type": "execute_result"
    }
   ],
   "source": [
    "another_sample_string = 'asdf|asdfasdf|ASDF'\n",
    "fields = another_sample_string.split('|')\n",
    "fields"
   ]
  },
  {
   "cell_type": "code",
   "execution_count": 40,
   "metadata": {},
   "outputs": [
    {
     "data": {
      "text/plain": [
       "'asdf'"
      ]
     },
     "execution_count": 40,
     "metadata": {},
     "output_type": "execute_result"
    }
   ],
   "source": [
    "fields[0] "
   ]
  },
  {
   "cell_type": "code",
   "execution_count": 41,
   "metadata": {},
   "outputs": [
    {
     "data": {
      "text/plain": [
       "'asdfasdf'"
      ]
     },
     "execution_count": 41,
     "metadata": {},
     "output_type": "execute_result"
    }
   ],
   "source": [
    "fields[1]  "
   ]
  },
  {
   "cell_type": "code",
   "execution_count": 5,
   "metadata": {},
   "outputs": [
    {
     "name": "stdout",
     "output_type": "stream",
     "text": [
      "please enter your numbers5,6,7,8\n",
      "5\n",
      "6\n",
      "7\n",
      "8\n"
     ]
    }
   ],
   "source": [
    "user_input = input('please enter your numbers')\n",
    "\n",
    "fields = user_input.split(',')\n",
    "\n",
    "print(fields[0])\n",
    "print(fields[1])\n",
    "print(fields[2])\n",
    "print(fields[3])"
   ]
  },
  {
   "cell_type": "markdown",
   "metadata": {},
   "source": [
    "splitlines no nos vale porque sólo sabe cortar por saltos de línea."
   ]
  },
  {
   "cell_type": "code",
   "execution_count": 49,
   "metadata": {},
   "outputs": [
    {
     "data": {
      "text/plain": [
       "['123 78 fg']"
      ]
     },
     "execution_count": 49,
     "metadata": {},
     "output_type": "execute_result"
    }
   ],
   "source": [
    "a_sample_string.splitlines()"
   ]
  },
  {
   "cell_type": "code",
   "execution_count": 50,
   "metadata": {},
   "outputs": [],
   "source": [
    "multiline_string = '''first line\n",
    "second line\n",
    "and so on\n",
    "'''"
   ]
  },
  {
   "cell_type": "code",
   "execution_count": 52,
   "metadata": {},
   "outputs": [
    {
     "data": {
      "text/plain": [
       "['first line', 'second line', 'and so on']"
      ]
     },
     "execution_count": 52,
     "metadata": {},
     "output_type": "execute_result"
    }
   ],
   "source": [
    "multiline_string.splitlines()"
   ]
  },
  {
   "cell_type": "markdown",
   "metadata": {},
   "source": [
    "#### Ejercicio\n",
    "\n",
    "Escribe un programa que acepte del usuario una ruta absoluta (en formato Unix) de archivo y muestre por pantalla el nombre de archivo y la extensión, en líneas consecutivas.\n",
    "\n",
    "_Entrada de muestra_: `/home/user/course/best-class-ever.ipynb`\n",
    "\n",
    "_Salida de muestra_: \n",
    "```\n",
    "best-class-ever\n",
    ".ipynb\n",
    "```\n",
    "\n"
   ]
  },
  {
   "cell_type": "code",
   "execution_count": 16,
   "metadata": {},
   "outputs": [
    {
     "name": "stdout",
     "output_type": "stream",
     "text": [
      "path to the file? /home/user/course/best-class-ever.ipynb\n",
      "best-class-ever\n",
      ".ipynb\n"
     ]
    }
   ],
   "source": [
    "# Input\n",
    "path = input('path to the file? ')\n",
    "\n",
    "# Algorithm\n",
    "path_elements = path.split('/')\n",
    "full_filename = path_elements[-1] \n",
    "filename = full_filename.split('.')[0]\n",
    "extension = full_filename.split('.')[1]\n",
    "\n",
    "# Output\n",
    "print(filename)\n",
    "print('.' + extension) "
   ]
  },
  {
   "cell_type": "markdown",
   "metadata": {},
   "source": [
    "#### Ejercicio\n",
    "\n",
    "Extiende el programa del ejercicio anterior (es decir, cópialo en una celda nueva y modifícalo) para que ahora muestre el resultado en una frase de lenguaje natural.\n",
    "\n",
    "_Entrada de muestra_: `/home/user/course/best-class-ever.ipynb`\n",
    "\n",
    "_Salida de muestra_: \n",
    "```\n",
    "El archivo \"best-class-ever\" está en el directorio \"/home/user/course/\" y tiene extensión \".ipynb\"\n",
    "\n",
    "```\n",
    "\n"
   ]
  },
  {
   "cell_type": "code",
   "execution_count": 24,
   "metadata": {},
   "outputs": [
    {
     "name": "stdout",
     "output_type": "stream",
     "text": [
      "path to the file? /home/user/course/best-class-ever.ipynb\n",
      "El archivo \"best-class-ever\" está en el directorio /home/user/course y tiene extensión \".ipynb\"\n"
     ]
    }
   ],
   "source": [
    "# Input\n",
    "path = input('path to the file? ')\n",
    "\n",
    "# Algorithm\n",
    "path_elements = path.split('/')\n",
    "full_filename = path_elements[-1] \n",
    "filename = full_filename.split('.')[0] \n",
    "extension = '.' + full_filename.split('.')[1]\n",
    "folder = '/'.join(path_elements[:-1])  \n",
    "\n",
    "# Output\n",
    "message = 'El archivo \"%s\" está en el directorio %s y tiene extensión \"%s\"' % (filename, folder, extension)\n",
    "print(message)"
   ]
  },
  {
   "cell_type": "markdown",
   "metadata": {},
   "source": [
    "#### Ejercicio\n",
    "\n",
    "Escribe un programa que acepte dos números por separado, y compruebe si están \"cerca\" para un nivel de precisión arbitrario, indicado por un tercer número.\n",
    "\n",
    "_Entrada de muestra_:\n",
    "```python\n",
    "0.0003\n",
    "0.000302\n",
    "0.000005\n",
    "```\n",
    "\n",
    "_Salida de muestra_: \n",
    "```python\n",
    "True\n",
    "```"
   ]
  },
  {
   "cell_type": "code",
   "execution_count": null,
   "metadata": {
    "collapsed": true
   },
   "outputs": [],
   "source": []
  },
  {
   "cell_type": "markdown",
   "metadata": {},
   "source": [
    "#### Ejercicio\n",
    "\n",
    "Escribe un programa para convertir una presión en kilopascales en psi, mmHg y atm. Muestra el resultado con un formato adecuado.\n",
    "\n",
    "\n",
    "_Entrada de muestra_:\n",
    "```python\n",
    "1000\n",
    "```\n",
    "\n",
    "_Salida de muestra_: \n",
    "```python\n",
    "1000 kPa equivalen a 145.04 psi, 7500.6 o 9.869 atm\n",
    "```"
   ]
  },
  {
   "cell_type": "code",
   "execution_count": null,
   "metadata": {
    "collapsed": true
   },
   "outputs": [],
   "source": []
  },
  {
   "cell_type": "markdown",
   "metadata": {},
   "source": [
    "#### Ejercicio\n",
    "\n",
    "Escribe un programa que reciba un número de segundos y lo convierta en años, meses, días, horas, minutos y segundos (considera que todos los meses tienen 30 días),\n",
    "\n",
    "_Entrada de muestra_:\n",
    "```python\n",
    "50000000\n",
    "```\n",
    "\n",
    "_Salida de muestra_: \n",
    "```python\n",
    "50000000 segundos son 1 año(s), 7 mes(es), 3 día(s), 16 hora(s), 53 minuto(s) y 20 segundo(s).\n",
    "```"
   ]
  },
  {
   "cell_type": "code",
   "execution_count": null,
   "metadata": {},
   "outputs": [],
   "source": []
  }
 ],
 "metadata": {
  "anaconda-cloud": {},
  "celltoolbar": "Slideshow",
  "kernelspec": {
   "display_name": "Python 3",
   "language": "python",
   "name": "python3"
  },
  "language_info": {
   "codemirror_mode": {
    "name": "ipython",
    "version": 3
   },
   "file_extension": ".py",
   "mimetype": "text/x-python",
   "name": "python",
   "nbconvert_exporter": "python",
   "pygments_lexer": "ipython3",
   "version": "3.6.6"
  },
  "livereveal": {
   "scroll": true,
   "start_slideshow_at": "selected"
  }
 },
 "nbformat": 4,
 "nbformat_minor": 2
}
