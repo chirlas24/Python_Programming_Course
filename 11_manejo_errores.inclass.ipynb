{
 "cells": [
  {
   "cell_type": "markdown",
   "metadata": {
    "slideshow": {
     "slide_type": "slide"
    }
   },
   "source": [
    "# Manejo de errores\n",
    "\n",
    "<img src=\"https://www.python.org/static/img/python-logo.png\" alt=\"yogen\" style=\"width: 200px; float: right;\"/>\n",
    "<br>\n",
    "<br>\n",
    "<br>\n",
    "<a href = \"http://yogen.io\"><img src=\"http://yogen.io/assets/logo.svg\" alt=\"yogen\" style=\"width: 200px; float: right;\"/></a>"
   ]
  },
  {
   "cell_type": "markdown",
   "metadata": {
    "slideshow": {
     "slide_type": "slide"
    }
   },
   "source": [
    "# Objetivos\n",
    "\n",
    "- Aprender a reaccionar ante errores\n",
    "\n",
    "- Saber qué es una _stack trace_ y qué representa\n",
    "\n",
    "- Aprender a leer mensajes de error"
   ]
  },
  {
   "cell_type": "markdown",
   "metadata": {},
   "source": [
    "# Los distintos tipos de errores:\n",
    "\n",
    "Los errores en nuestros programas son de distintos tipos:\n",
    "\n",
    "* Errores sintacticos\n",
    "* Errores semanticos\n",
    "* Errores de tiempo de ejecucion"
   ]
  },
  {
   "cell_type": "markdown",
   "metadata": {},
   "source": [
    "## 1) Errores sintacticos:"
   ]
  },
  {
   "cell_type": "code",
   "execution_count": 1,
   "metadata": {},
   "outputs": [
    {
     "ename": "SyntaxError",
     "evalue": "EOL while scanning string literal (<ipython-input-1-8804920819e4>, line 1)",
     "output_type": "error",
     "traceback": [
      "\u001b[0;36m  File \u001b[0;32m\"<ipython-input-1-8804920819e4>\"\u001b[0;36m, line \u001b[0;32m1\u001b[0m\n\u001b[0;31m    print(')\u001b[0m\n\u001b[0m            ^\u001b[0m\n\u001b[0;31mSyntaxError\u001b[0m\u001b[0;31m:\u001b[0m EOL while scanning string literal\n"
     ]
    }
   ],
   "source": [
    "print(')"
   ]
  },
  {
   "cell_type": "code",
   "execution_count": 2,
   "metadata": {},
   "outputs": [
    {
     "ename": "SyntaxError",
     "evalue": "EOL while scanning string literal (<ipython-input-2-8e57d4d5d48d>, line 1)",
     "output_type": "error",
     "traceback": [
      "\u001b[0;36m  File \u001b[0;32m\"<ipython-input-2-8e57d4d5d48d>\"\u001b[0;36m, line \u001b[0;32m1\u001b[0m\n\u001b[0;31m    'asdfasdfdsaf\u001b[0m\n\u001b[0m                 ^\u001b[0m\n\u001b[0;31mSyntaxError\u001b[0m\u001b[0;31m:\u001b[0m EOL while scanning string literal\n"
     ]
    }
   ],
   "source": [
    "'asdfasdfdsaf\n",
    "'"
   ]
  },
  {
   "cell_type": "code",
   "execution_count": 3,
   "metadata": {},
   "outputs": [
    {
     "ename": "NameError",
     "evalue": "name 'mark' is not defined",
     "output_type": "error",
     "traceback": [
      "\u001b[0;31m---------------------------------------------------------------------------\u001b[0m",
      "\u001b[0;31mNameError\u001b[0m                                 Traceback (most recent call last)",
      "\u001b[0;32m<ipython-input-3-36ca4fd7f214>\u001b[0m in \u001b[0;36m<module>\u001b[0;34m()\u001b[0m\n\u001b[0;32m----> 1\u001b[0;31m \u001b[0;32mif\u001b[0m \u001b[0mmark\u001b[0m \u001b[0;34m==\u001b[0m \u001b[0;36m2\u001b[0m\u001b[0;34m:\u001b[0m\u001b[0;34m\u001b[0m\u001b[0m\n\u001b[0m\u001b[1;32m      2\u001b[0m     \u001b[0mprint\u001b[0m\u001b[0;34m(\u001b[0m\u001b[0;34m'Holi'\u001b[0m\u001b[0;34m)\u001b[0m\u001b[0;34m\u001b[0m\u001b[0m\n",
      "\u001b[0;31mNameError\u001b[0m: name 'mark' is not defined"
     ]
    }
   ],
   "source": [
    "if mark == 2:\n",
    "    print('Holi')"
   ]
  },
  {
   "cell_type": "code",
   "execution_count": 4,
   "metadata": {},
   "outputs": [
    {
     "ename": "SyntaxError",
     "evalue": "invalid syntax (<ipython-input-4-8caeaebda61e>, line 2)",
     "output_type": "error",
     "traceback": [
      "\u001b[0;36m  File \u001b[0;32m\"<ipython-input-4-8caeaebda61e>\"\u001b[0;36m, line \u001b[0;32m2\u001b[0m\n\u001b[0;31m    if mark == 2\u001b[0m\n\u001b[0m                ^\u001b[0m\n\u001b[0;31mSyntaxError\u001b[0m\u001b[0;31m:\u001b[0m invalid syntax\n"
     ]
    }
   ],
   "source": [
    "mark = 2\n",
    "if mark == 2\n",
    "    print('Holi')"
   ]
  },
  {
   "cell_type": "markdown",
   "metadata": {},
   "source": [
    "## 2) Errores semanticos (aka logicos)"
   ]
  },
  {
   "cell_type": "markdown",
   "metadata": {},
   "source": [
    "#### Ejercicio\n",
    "\n",
    "Señala posibles errores logicos en este codigo:"
   ]
  },
  {
   "cell_type": "code",
   "execution_count": 11,
   "metadata": {},
   "outputs": [
    {
     "name": "stdout",
     "output_type": "stream",
     "text": [
      "0\n",
      "81\n",
      "0\n"
     ]
    }
   ],
   "source": [
    "total = 1\n",
    "\n",
    "for n in range(10):\n",
    "    total *= n\n",
    "print(total)\n",
    "\n",
    "sum_squares = 0\n",
    "for i in range(10):\n",
    "    i_sq = i ** 2\n",
    "sum_squares += i_sq\n",
    "print(sum_squares)\n",
    "\n",
    "nums = 0\n",
    "for num in range(10):\n",
    "    num += num\n",
    "print(nums)"
   ]
  },
  {
   "cell_type": "markdown",
   "metadata": {},
   "source": [
    "Lo mejor que podemos hacer TODO"
   ]
  },
  {
   "cell_type": "markdown",
   "metadata": {},
   "source": [
    "## 3) Errores de tiempo de ejecucion: las excepciones"
   ]
  },
  {
   "cell_type": "markdown",
   "metadata": {},
   "source": [
    "Las mas tipicas: `TypeError`, `ValueError`, `IndexError`, `KeyError`, pero hay muchiiisimas mas\n",
    "\n",
    "[Tipos de excepciones estandar](https://docs.python.org/3/library/exceptions.html)"
   ]
  },
  {
   "cell_type": "code",
   "execution_count": 16,
   "metadata": {},
   "outputs": [
    {
     "ename": "TypeError",
     "evalue": "'<' not supported between instances of 'int' and 'str'",
     "output_type": "error",
     "traceback": [
      "\u001b[0;31m---------------------------------------------------------------------------\u001b[0m",
      "\u001b[0;31mTypeError\u001b[0m                                 Traceback (most recent call last)",
      "\u001b[0;32m<ipython-input-16-ee7753be6ea1>\u001b[0m in \u001b[0;36m<module>\u001b[0;34m()\u001b[0m\n\u001b[0;32m----> 1\u001b[0;31m \u001b[0;36m1\u001b[0m \u001b[0;34m<\u001b[0m \u001b[0;34m'2'\u001b[0m\u001b[0;34m\u001b[0m\u001b[0m\n\u001b[0m",
      "\u001b[0;31mTypeError\u001b[0m: '<' not supported between instances of 'int' and 'str'"
     ]
    }
   ],
   "source": [
    "1 < '2'"
   ]
  },
  {
   "cell_type": "code",
   "execution_count": 17,
   "metadata": {},
   "outputs": [
    {
     "ename": "ValueError",
     "evalue": "invalid literal for int() with base 10: '2.0'",
     "output_type": "error",
     "traceback": [
      "\u001b[0;31m---------------------------------------------------------------------------\u001b[0m",
      "\u001b[0;31mValueError\u001b[0m                                Traceback (most recent call last)",
      "\u001b[0;32m<ipython-input-17-27ade5403981>\u001b[0m in \u001b[0;36m<module>\u001b[0;34m()\u001b[0m\n\u001b[0;32m----> 1\u001b[0;31m \u001b[0mint\u001b[0m\u001b[0;34m(\u001b[0m\u001b[0;34m'2.0'\u001b[0m\u001b[0;34m)\u001b[0m\u001b[0;34m\u001b[0m\u001b[0m\n\u001b[0m",
      "\u001b[0;31mValueError\u001b[0m: invalid literal for int() with base 10: '2.0'"
     ]
    }
   ],
   "source": [
    "int('2.0')"
   ]
  },
  {
   "cell_type": "markdown",
   "metadata": {},
   "source": [
    "#### Ejercicio: \n",
    "\n",
    "Señala posibles fuentes de excepciones en este codigo. Después, córrelo y comprueba si estabas en lo cierto\n",
    "\n",
    "```python\n",
    "import math\n",
    "\n",
    "dividend = float(input(\"Please enter the dividend: \"))\n",
    "divisor = float(input(\"Please enter the divisor: \"))\n",
    "quotient = dividend / divisor\n",
    "quotient_rounded = math.round(quotient)\n",
    "\n",
    "```"
   ]
  },
  {
   "cell_type": "code",
   "execution_count": 20,
   "metadata": {},
   "outputs": [
    {
     "name": "stdout",
     "output_type": "stream",
     "text": [
      "Please enter the dividend: cuatro\n"
     ]
    },
    {
     "ename": "ValueError",
     "evalue": "could not convert string to float: 'cuatro'",
     "output_type": "error",
     "traceback": [
      "\u001b[0;31m---------------------------------------------------------------------------\u001b[0m",
      "\u001b[0;31mValueError\u001b[0m                                Traceback (most recent call last)",
      "\u001b[0;32m<ipython-input-20-8365c97cd77a>\u001b[0m in \u001b[0;36m<module>\u001b[0;34m()\u001b[0m\n\u001b[1;32m      1\u001b[0m \u001b[0;32mimport\u001b[0m \u001b[0mmath\u001b[0m\u001b[0;34m\u001b[0m\u001b[0m\n\u001b[1;32m      2\u001b[0m \u001b[0;34m\u001b[0m\u001b[0m\n\u001b[0;32m----> 3\u001b[0;31m \u001b[0mdividend\u001b[0m \u001b[0;34m=\u001b[0m \u001b[0mfloat\u001b[0m\u001b[0;34m(\u001b[0m\u001b[0minput\u001b[0m\u001b[0;34m(\u001b[0m\u001b[0;34m\"Please enter the dividend: \"\u001b[0m\u001b[0;34m)\u001b[0m\u001b[0;34m)\u001b[0m\u001b[0;34m\u001b[0m\u001b[0m\n\u001b[0m\u001b[1;32m      4\u001b[0m \u001b[0mdivisor\u001b[0m \u001b[0;34m=\u001b[0m \u001b[0mfloat\u001b[0m\u001b[0;34m(\u001b[0m\u001b[0minput\u001b[0m\u001b[0;34m(\u001b[0m\u001b[0;34m\"Please enter the divisor: \"\u001b[0m\u001b[0;34m)\u001b[0m\u001b[0;34m)\u001b[0m\u001b[0;34m\u001b[0m\u001b[0m\n\u001b[1;32m      5\u001b[0m \u001b[0mquotient\u001b[0m \u001b[0;34m=\u001b[0m \u001b[0mdividend\u001b[0m \u001b[0;34m/\u001b[0m \u001b[0mdivisor\u001b[0m\u001b[0;34m\u001b[0m\u001b[0m\n",
      "\u001b[0;31mValueError\u001b[0m: could not convert string to float: 'cuatro'"
     ]
    }
   ],
   "source": [
    "import math\n",
    "\n",
    "dividend = float(input(\"Please enter the dividend: \"))\n",
    "divisor = float(input(\"Please enter the divisor: \"))\n",
    "quotient = dividend / divisor\n",
    "quotient_rounded = math.round(quotient)"
   ]
  },
  {
   "cell_type": "markdown",
   "metadata": {},
   "source": [
    "#### Ejercicio: \n",
    "\n",
    "Señala posibles fuentes de excepciones en este codigo. Después, córrelo y comprueba si estabas en lo cierto\n",
    "\n",
    "```python \n",
    "for x in range(a, b):\n",
    "    print(\"(%f, %f, %f)\" % my_list[x])\n",
    "```"
   ]
  },
  {
   "cell_type": "code",
   "execution_count": 24,
   "metadata": {},
   "outputs": [
    {
     "ename": "TypeError",
     "evalue": "not enough arguments for format string",
     "output_type": "error",
     "traceback": [
      "\u001b[0;31m---------------------------------------------------------------------------\u001b[0m",
      "\u001b[0;31mTypeError\u001b[0m                                 Traceback (most recent call last)",
      "\u001b[0;32m<ipython-input-24-5d6cee85b29f>\u001b[0m in \u001b[0;36m<module>\u001b[0;34m()\u001b[0m\n\u001b[1;32m      4\u001b[0m \u001b[0mmy_list\u001b[0m \u001b[0;34m=\u001b[0m \u001b[0;34m[\u001b[0m\u001b[0;36m1\u001b[0m\u001b[0;34m,\u001b[0m\u001b[0;36m2\u001b[0m\u001b[0;34m,\u001b[0m\u001b[0;36m3\u001b[0m\u001b[0;34m]\u001b[0m\u001b[0;34m\u001b[0m\u001b[0m\n\u001b[1;32m      5\u001b[0m \u001b[0;32mfor\u001b[0m \u001b[0mx\u001b[0m \u001b[0;32min\u001b[0m \u001b[0mrange\u001b[0m\u001b[0;34m(\u001b[0m\u001b[0ma\u001b[0m\u001b[0;34m,\u001b[0m \u001b[0mb\u001b[0m\u001b[0;34m)\u001b[0m\u001b[0;34m:\u001b[0m\u001b[0;34m\u001b[0m\u001b[0m\n\u001b[0;32m----> 6\u001b[0;31m     \u001b[0mprint\u001b[0m\u001b[0;34m(\u001b[0m\u001b[0;34m\"(%f, %f, %f)\"\u001b[0m \u001b[0;34m%\u001b[0m \u001b[0mmy_list\u001b[0m\u001b[0;34m[\u001b[0m\u001b[0mx\u001b[0m\u001b[0;34m]\u001b[0m\u001b[0;34m)\u001b[0m\u001b[0;34m\u001b[0m\u001b[0m\n\u001b[0m",
      "\u001b[0;31mTypeError\u001b[0m: not enough arguments for format string"
     ]
    }
   ],
   "source": [
    "a = 2\n",
    "b = 5\n",
    "\n",
    "my_list = [1,2,3]\n",
    "for x in range(a, b):\n",
    "    print(\"(%f, %f, %f)\" % my_list[x])"
   ]
  },
  {
   "cell_type": "markdown",
   "metadata": {},
   "source": [
    "\n",
    "# Manejo de excepciones"
   ]
  },
  {
   "cell_type": "markdown",
   "metadata": {},
   "source": [
    "## `try / except`\n",
    "\n",
    "Las cláusulas try / except son nuestra principal herramienta en el manejo de errores.\n",
    "\n",
    "Podemos pensar en ellas como una rama if que se ejecuta sólo si se produce un error"
   ]
  },
  {
   "cell_type": "markdown",
   "metadata": {},
   "source": [
    "### Uso\n",
    "\n",
    "```python\n",
    "try:\n",
    "    # Operation that can possibly fail\n",
    "except:\n",
    "    # Reaction to take in case of failure.\n",
    "```"
   ]
  },
  {
   "cell_type": "code",
   "execution_count": 40,
   "metadata": {},
   "outputs": [
    {
     "name": "stdout",
     "output_type": "stream",
     "text": [
      "There was an error\n"
     ]
    },
    {
     "data": {
      "text/plain": [
       "20000000.0"
      ]
     },
     "execution_count": 40,
     "metadata": {},
     "output_type": "execute_result"
    }
   ],
   "source": [
    "height = 20\n",
    "divisor = 0\n",
    "\n",
    "try:\n",
    "    ratio = 3 / divisor\n",
    "except:\n",
    "    ratio = None\n",
    "    print('There was an error')\n",
    "    \n",
    "if ratio == None:\n",
    "    height *= 1e6\n",
    "else:\n",
    "    height *= ratio\n",
    "\n",
    "height"
   ]
  },
  {
   "cell_type": "markdown",
   "metadata": {},
   "source": [
    "#### Ejercicio\n",
    "\n",
    "Escribe un programa que tome un número del usuario con input() y escriba por pantalla si es par o no. Si el usuario nos da una entrada que no se puede transformar a número, la función le informará de que no ha podido calcular la respuesta."
   ]
  },
  {
   "cell_type": "code",
   "execution_count": 49,
   "metadata": {},
   "outputs": [
    {
     "name": "stdout",
     "output_type": "stream",
     "text": [
      "Por favor escriba un numero holi amiguito\n",
      "No se que decirte colegui\n"
     ]
    }
   ],
   "source": [
    "user_input = input('Por favor escriba un numero ')\n",
    "try:\n",
    "    n = int(user_input)\n",
    "    if n % 2 == 0:\n",
    "        print('es par')\n",
    "    else:\n",
    "        print('no es par')    \n",
    "except:\n",
    "    print('No se que decirte colegui')"
   ]
  },
  {
   "cell_type": "markdown",
   "metadata": {},
   "source": [
    "## Multiples clausulas except\n",
    "\n",
    "Podemos reaccionar de manera distinta según el tipo de error."
   ]
  },
  {
   "cell_type": "code",
   "execution_count": 53,
   "metadata": {},
   "outputs": [
    {
     "name": "stdout",
     "output_type": "stream",
     "text": [
      "Por favor escriba un numerador heheh hehee\n",
      "Por favor escriba un denominador culo\n"
     ]
    },
    {
     "ename": "ValueError",
     "evalue": "could not convert string to float: 'heheh hehee'",
     "output_type": "error",
     "traceback": [
      "\u001b[0;31m---------------------------------------------------------------------------\u001b[0m",
      "\u001b[0;31mValueError\u001b[0m                                Traceback (most recent call last)",
      "\u001b[0;32m<ipython-input-53-354f684bc170>\u001b[0m in \u001b[0;36m<module>\u001b[0;34m()\u001b[0m\n\u001b[1;32m      2\u001b[0m \u001b[0muser_input_2\u001b[0m \u001b[0;34m=\u001b[0m \u001b[0minput\u001b[0m\u001b[0;34m(\u001b[0m\u001b[0;34m'Por favor escriba un denominador '\u001b[0m\u001b[0;34m)\u001b[0m\u001b[0;34m\u001b[0m\u001b[0m\n\u001b[1;32m      3\u001b[0m \u001b[0;34m\u001b[0m\u001b[0m\n\u001b[0;32m----> 4\u001b[0;31m \u001b[0mnumerator\u001b[0m \u001b[0;34m=\u001b[0m \u001b[0mfloat\u001b[0m\u001b[0;34m(\u001b[0m\u001b[0muser_input_1\u001b[0m\u001b[0;34m)\u001b[0m\u001b[0;34m\u001b[0m\u001b[0m\n\u001b[0m\u001b[1;32m      5\u001b[0m \u001b[0mdenominator\u001b[0m \u001b[0;34m=\u001b[0m \u001b[0mfloat\u001b[0m\u001b[0;34m(\u001b[0m\u001b[0muser_input_2\u001b[0m\u001b[0;34m)\u001b[0m\u001b[0;34m\u001b[0m\u001b[0m\n\u001b[1;32m      6\u001b[0m \u001b[0;34m\u001b[0m\u001b[0m\n",
      "\u001b[0;31mValueError\u001b[0m: could not convert string to float: 'heheh hehee'"
     ]
    }
   ],
   "source": [
    "user_input_1 = input('Por favor escriba un numerador ')\n",
    "user_input_2 = input('Por favor escriba un denominador ')\n",
    "\n",
    "numerator = float(user_input_1) \n",
    "denominator = float(user_input_2) \n",
    "\n",
    "quotient = numerator / denominator\n",
    "print('%.3f' % quotient)\n"
   ]
  },
  {
   "cell_type": "code",
   "execution_count": 55,
   "metadata": {},
   "outputs": [
    {
     "name": "stdout",
     "output_type": "stream",
     "text": [
      "Por favor escriba un numerador 123213safdiuagsdhfoiuahfpiweuniawfuenwae\n",
      "Por favor escriba un denominador asdfasfd\n",
      "gañán, mete un número\n"
     ]
    }
   ],
   "source": [
    "user_input_1 = input('Por favor escriba un numerador ')\n",
    "user_input_2 = input('Por favor escriba un denominador ')\n",
    "\n",
    "try:\n",
    "    numerator = float(user_input_1) \n",
    "    denominator = float(user_input_2) \n",
    "\n",
    "    quotient = numerator / denominator\n",
    "    print('%.3f' % quotient)\n",
    "except ValueError:\n",
    "    print('gañán, mete un número')\n",
    "    "
   ]
  },
  {
   "cell_type": "code",
   "execution_count": 56,
   "metadata": {},
   "outputs": [
    {
     "name": "stdout",
     "output_type": "stream",
     "text": [
      "Por favor escriba un numerador 0\n",
      "Por favor escriba un denominador 0\n"
     ]
    },
    {
     "ename": "ZeroDivisionError",
     "evalue": "float division by zero",
     "output_type": "error",
     "traceback": [
      "\u001b[0;31m---------------------------------------------------------------------------\u001b[0m",
      "\u001b[0;31mZeroDivisionError\u001b[0m                         Traceback (most recent call last)",
      "\u001b[0;32m<ipython-input-56-2f24440b95b8>\u001b[0m in \u001b[0;36m<module>\u001b[0;34m()\u001b[0m\n\u001b[1;32m      6\u001b[0m     \u001b[0mdenominator\u001b[0m \u001b[0;34m=\u001b[0m \u001b[0mfloat\u001b[0m\u001b[0;34m(\u001b[0m\u001b[0muser_input_2\u001b[0m\u001b[0;34m)\u001b[0m\u001b[0;34m\u001b[0m\u001b[0m\n\u001b[1;32m      7\u001b[0m \u001b[0;34m\u001b[0m\u001b[0m\n\u001b[0;32m----> 8\u001b[0;31m     \u001b[0mquotient\u001b[0m \u001b[0;34m=\u001b[0m \u001b[0mnumerator\u001b[0m \u001b[0;34m/\u001b[0m \u001b[0mdenominator\u001b[0m\u001b[0;34m\u001b[0m\u001b[0m\n\u001b[0m\u001b[1;32m      9\u001b[0m     \u001b[0mprint\u001b[0m\u001b[0;34m(\u001b[0m\u001b[0;34m'%.3f'\u001b[0m \u001b[0;34m%\u001b[0m \u001b[0mquotient\u001b[0m\u001b[0;34m)\u001b[0m\u001b[0;34m\u001b[0m\u001b[0m\n\u001b[1;32m     10\u001b[0m \u001b[0;32mexcept\u001b[0m \u001b[0mValueError\u001b[0m\u001b[0;34m:\u001b[0m\u001b[0;34m\u001b[0m\u001b[0m\n",
      "\u001b[0;31mZeroDivisionError\u001b[0m: float division by zero"
     ]
    }
   ],
   "source": [
    "user_input_1 = input('Por favor escriba un numerador ')\n",
    "user_input_2 = input('Por favor escriba un denominador ')\n",
    "\n",
    "try:\n",
    "    numerator = float(user_input_1) \n",
    "    denominator = float(user_input_2) \n",
    "\n",
    "    quotient = numerator / denominator\n",
    "    print('%.3f' % quotient)\n",
    "except ValueError:\n",
    "    print('gañán, mete un número')\n",
    "    "
   ]
  },
  {
   "cell_type": "code",
   "execution_count": 60,
   "metadata": {},
   "outputs": [
    {
     "name": "stdout",
     "output_type": "stream",
     "text": [
      "Por favor escriba un numerador 2\n",
      "Por favor escriba un denominador 0\n",
      "madre mía, nadie te ha dicho que está muy feo dividir por cero?\n"
     ]
    }
   ],
   "source": [
    "user_input_1 = input('Por favor escriba un numerador ')\n",
    "user_input_2 = input('Por favor escriba un denominador ')\n",
    "\n",
    "try:\n",
    "    numerator = float(user_input_1) \n",
    "    denominator = float(user_input_2) \n",
    "\n",
    "    quotient = numerator / denominator\n",
    "    print('%.3f' % quotient)\n",
    "except ValueError:\n",
    "    print('gañán, mete un número')\n",
    "except ZeroDivisionError:\n",
    "    print('madre mía, nadie te ha dicho que está muy feo dividir por cero?')"
   ]
  },
  {
   "cell_type": "markdown",
   "metadata": {},
   "source": [
    "## Capturar el error\n",
    "\n",
    "Si le damos un nombre al error, podemos extraer de él la información que nos haga falta. Esto puede ser útil para registrarlo en un log."
   ]
  },
  {
   "cell_type": "code",
   "execution_count": 65,
   "metadata": {},
   "outputs": [
    {
     "name": "stdout",
     "output_type": "stream",
     "text": [
      "Por favor escriba un numerador 20\n",
      "Por favor escriba un denominador 0\n",
      "madre mía, nadie te ha dicho que está muy feo dividir por cero?\n",
      "Mira la que me has liado en la cocina: float division by zero\n",
      " Hoy no cenas\n"
     ]
    }
   ],
   "source": [
    "user_input_1 = input('Por favor escriba un numerador ')\n",
    "user_input_2 = input('Por favor escriba un denominador ')\n",
    "\n",
    "try:\n",
    "    numerator = float(user_input_1) \n",
    "    denominator = float(user_input_2) \n",
    "\n",
    "    quotient = numerator / denominator\n",
    "    print('%.3f' % quotient)\n",
    "except ValueError:\n",
    "    print('gañán, mete un número')\n",
    "except ZeroDivisionError as error:\n",
    "    print('''madre mía, nadie te ha dicho que está muy feo dividir por cero?\n",
    "Mira la que me has liado en la cocina: %s\\nHoy no cenas''' % error)"
   ]
  },
  {
   "cell_type": "markdown",
   "metadata": {},
   "source": [
    "# `raise`\n",
    "\n",
    "No estamos limitados sólo a reaccionar a errores que nos lancen.\n",
    "\n",
    "Si en el curso de un programa nos encontramos con una situación que imposibilita la continuación del programa, la respuesta más apropiada es elevar una excepción."
   ]
  },
  {
   "cell_type": "code",
   "execution_count": 71,
   "metadata": {},
   "outputs": [
    {
     "ename": "ZeroDivisionError",
     "evalue": "Average is not defined for list [] with length 0",
     "output_type": "error",
     "traceback": [
      "\u001b[0;31m---------------------------------------------------------------------------\u001b[0m",
      "\u001b[0;31mZeroDivisionError\u001b[0m                         Traceback (most recent call last)",
      "\u001b[0;32m<ipython-input-71-3be76bccc54f>\u001b[0m in \u001b[0;36m<module>\u001b[0;34m()\u001b[0m\n\u001b[1;32m      7\u001b[0m \u001b[0;34m\u001b[0m\u001b[0m\n\u001b[1;32m      8\u001b[0m \u001b[0;34m\u001b[0m\u001b[0m\n\u001b[0;32m----> 9\u001b[0;31m \u001b[0maverage\u001b[0m\u001b[0;34m(\u001b[0m\u001b[0;34m[\u001b[0m\u001b[0;34m]\u001b[0m\u001b[0;34m)\u001b[0m\u001b[0;34m\u001b[0m\u001b[0m\n\u001b[0m",
      "\u001b[0;32m<ipython-input-71-3be76bccc54f>\u001b[0m in \u001b[0;36maverage\u001b[0;34m(my_list)\u001b[0m\n\u001b[1;32m      2\u001b[0m \u001b[0;34m\u001b[0m\u001b[0m\n\u001b[1;32m      3\u001b[0m     \u001b[0;32mif\u001b[0m \u001b[0mlen\u001b[0m\u001b[0;34m(\u001b[0m\u001b[0mmy_list\u001b[0m\u001b[0;34m)\u001b[0m \u001b[0;34m==\u001b[0m \u001b[0;36m0\u001b[0m\u001b[0;34m:\u001b[0m\u001b[0;34m\u001b[0m\u001b[0m\n\u001b[0;32m----> 4\u001b[0;31m         \u001b[0;32mraise\u001b[0m \u001b[0mZeroDivisionError\u001b[0m\u001b[0;34m(\u001b[0m\u001b[0;34m'Average is not defined for list %s with length 0'\u001b[0m \u001b[0;34m%\u001b[0m \u001b[0mmy_list\u001b[0m\u001b[0;34m)\u001b[0m\u001b[0;34m\u001b[0m\u001b[0m\n\u001b[0m\u001b[1;32m      5\u001b[0m \u001b[0;34m\u001b[0m\u001b[0m\n\u001b[1;32m      6\u001b[0m     \u001b[0;32mreturn\u001b[0m \u001b[0msum\u001b[0m\u001b[0;34m(\u001b[0m\u001b[0mmy_list\u001b[0m\u001b[0;34m)\u001b[0m \u001b[0;34m/\u001b[0m \u001b[0mlen\u001b[0m\u001b[0;34m(\u001b[0m\u001b[0mmy_list\u001b[0m\u001b[0;34m)\u001b[0m\u001b[0;34m\u001b[0m\u001b[0m\n",
      "\u001b[0;31mZeroDivisionError\u001b[0m: Average is not defined for list [] with length 0"
     ]
    }
   ],
   "source": [
    "def average(my_list):\n",
    "    \n",
    "    if len(my_list) == 0:\n",
    "        raise ZeroDivisionError('Average is not defined for list %s with length 0' % my_list) \n",
    "    \n",
    "    return sum(my_list) / len(my_list)\n",
    "\n",
    "\n",
    "average([]) "
   ]
  },
  {
   "cell_type": "markdown",
   "metadata": {},
   "source": [
    "#### Ejercicio: \n",
    "\n",
    "Cambia el manejo de errores que hace la funcion my_sqrt, que definimos en episodios anteriores. Considera que lineas pueden dar error, y como deberiamos reaccionar ante los tipos previsibles de errores."
   ]
  },
  {
   "cell_type": "code",
   "execution_count": 92,
   "metadata": {},
   "outputs": [
    {
     "data": {
      "text/plain": [
       "-3.95"
      ]
     },
     "execution_count": 92,
     "metadata": {},
     "output_type": "execute_result"
    }
   ],
   "source": [
    "# Entrada\n",
    "def my_sqrt(A, error_threshold=1e-5):\n",
    "    if A < 0:\n",
    "        raise ValueError('Cant calculate the square root of a negative number')\n",
    "    \n",
    "    # Algorithm\n",
    "    W = 1\n",
    "    L = A / W\n",
    "    good_enough = False\n",
    "    steps = 0\n",
    "    \n",
    "    while not good_enough:\n",
    "        L = (L + W) / 2\n",
    "        W = A / L\n",
    "        error = abs(L - W) / L\n",
    "        good_enough = error < error_threshold\n",
    "        steps += 1\n",
    "\n",
    "    # Salida    \n",
    "    return L\n",
    "\n",
    "\n",
    "my_sqrt(-8.9)"
   ]
  },
  {
   "cell_type": "markdown",
   "metadata": {},
   "source": [
    "# Interpretar stack traces\n",
    "\n",
    "Lo más importante para nosotros es ser capaces de interpretar los mensajes de error. \n",
    "\n",
    "En ellos, además del tipo de error y el mensaje de error, obtenemos una stack trace.\n",
    "\n",
    "Esa stack trace representa el estado del _call stack_ en el momento del error y nos permite saber dónde se ha producido el error."
   ]
  },
  {
   "cell_type": "code",
   "execution_count": 91,
   "metadata": {},
   "outputs": [
    {
     "ename": "ValueError",
     "evalue": "Cant calculate the square root of a negative number",
     "output_type": "error",
     "traceback": [
      "\u001b[0;31m---------------------------------------------------------------------------\u001b[0m",
      "\u001b[0;31mValueError\u001b[0m                                Traceback (most recent call last)",
      "\u001b[0;32m<ipython-input-91-817fdce4daac>\u001b[0m in \u001b[0;36m<module>\u001b[0;34m()\u001b[0m\n\u001b[1;32m      7\u001b[0m \u001b[0;34m\u001b[0m\u001b[0m\n\u001b[1;32m      8\u001b[0m \u001b[0mh\u001b[0m\u001b[0;34m,\u001b[0m \u001b[0ml\u001b[0m \u001b[0;34m=\u001b[0m \u001b[0;36m10\u001b[0m\u001b[0;34m,\u001b[0m \u001b[0;34m-\u001b[0m\u001b[0;36m14\u001b[0m\u001b[0;34m\u001b[0m\u001b[0m\n\u001b[0;32m----> 9\u001b[0;31m \u001b[0mside\u001b[0m \u001b[0;34m=\u001b[0m \u001b[0mequivalent_square\u001b[0m\u001b[0;34m(\u001b[0m\u001b[0mh\u001b[0m\u001b[0;34m,\u001b[0m \u001b[0ml\u001b[0m\u001b[0;34m)\u001b[0m\u001b[0;34m\u001b[0m\u001b[0m\n\u001b[0m\u001b[1;32m     10\u001b[0m \u001b[0mside\u001b[0m\u001b[0;34m\u001b[0m\u001b[0m\n",
      "\u001b[0;32m<ipython-input-91-817fdce4daac>\u001b[0m in \u001b[0;36mequivalent_square\u001b[0;34m(h, l)\u001b[0m\n\u001b[1;32m      2\u001b[0m     \u001b[0;34m'Calculate the side of a square that is equivalent to the rectangle h, l'\u001b[0m\u001b[0;34m\u001b[0m\u001b[0m\n\u001b[1;32m      3\u001b[0m     \u001b[0marea\u001b[0m \u001b[0;34m=\u001b[0m \u001b[0mh\u001b[0m \u001b[0;34m*\u001b[0m \u001b[0ml\u001b[0m\u001b[0;34m\u001b[0m\u001b[0m\n\u001b[0;32m----> 4\u001b[0;31m     \u001b[0mresult\u001b[0m \u001b[0;34m=\u001b[0m \u001b[0mmy_sqrt\u001b[0m\u001b[0;34m(\u001b[0m\u001b[0marea\u001b[0m\u001b[0;34m)\u001b[0m\u001b[0;34m\u001b[0m\u001b[0m\n\u001b[0m\u001b[1;32m      5\u001b[0m \u001b[0;34m\u001b[0m\u001b[0m\n\u001b[1;32m      6\u001b[0m     \u001b[0;32mreturn\u001b[0m \u001b[0mresult\u001b[0m\u001b[0;34m\u001b[0m\u001b[0m\n",
      "\u001b[0;32m<ipython-input-75-be347c7f8257>\u001b[0m in \u001b[0;36mmy_sqrt\u001b[0;34m(A, error_threshold)\u001b[0m\n\u001b[1;32m      2\u001b[0m \u001b[0;32mdef\u001b[0m \u001b[0mmy_sqrt\u001b[0m\u001b[0;34m(\u001b[0m\u001b[0mA\u001b[0m\u001b[0;34m,\u001b[0m \u001b[0merror_threshold\u001b[0m\u001b[0;34m=\u001b[0m\u001b[0;36m1e-5\u001b[0m\u001b[0;34m)\u001b[0m\u001b[0;34m:\u001b[0m\u001b[0;34m\u001b[0m\u001b[0m\n\u001b[1;32m      3\u001b[0m     \u001b[0;32mif\u001b[0m \u001b[0mA\u001b[0m \u001b[0;34m<\u001b[0m \u001b[0;36m0\u001b[0m\u001b[0;34m:\u001b[0m\u001b[0;34m\u001b[0m\u001b[0m\n\u001b[0;32m----> 4\u001b[0;31m         \u001b[0;32mraise\u001b[0m \u001b[0mValueError\u001b[0m\u001b[0;34m(\u001b[0m\u001b[0;34m'Cant calculate the square root of a negative number'\u001b[0m\u001b[0;34m)\u001b[0m\u001b[0;34m\u001b[0m\u001b[0m\n\u001b[0m\u001b[1;32m      5\u001b[0m \u001b[0;34m\u001b[0m\u001b[0m\n\u001b[1;32m      6\u001b[0m     \u001b[0;31m# Algorithm\u001b[0m\u001b[0;34m\u001b[0m\u001b[0;34m\u001b[0m\u001b[0m\n",
      "\u001b[0;31mValueError\u001b[0m: Cant calculate the square root of a negative number"
     ]
    }
   ],
   "source": [
    "def equivalent_square(h, l):\n",
    "    'Calculate the side of a square that is equivalent to the rectangle h, l'\n",
    "    area = h * l\n",
    "    result = my_sqrt(area)\n",
    "\n",
    "    return result\n",
    "    \n",
    "h, l = 10, -14\n",
    "side = equivalent_square(h, l)\n",
    "side"
   ]
  },
  {
   "cell_type": "markdown",
   "metadata": {},
   "source": [
    "#### Ejercicio: \n",
    "\n",
    "Haz una función que tome un número del usuario y maneje con una cláusula try/except la posibilidad de que el usuario introduzca otro tipo de dato. La función no debería retornar hasta que tenga un valor válido."
   ]
  },
  {
   "cell_type": "code",
   "execution_count": 102,
   "metadata": {},
   "outputs": [
    {
     "name": "stdout",
     "output_type": "stream",
     "text": [
      "Por favor introduzca un numero \n",
      "pufff\n",
      "Eso no es un número\n",
      "Por favor introduzca un numero \n",
      "ya estamos\n",
      "Eso no es un número\n",
      "Por favor introduzca un numero \n",
      "12\n"
     ]
    },
    {
     "data": {
      "text/plain": [
       "12"
      ]
     },
     "execution_count": 102,
     "metadata": {},
     "output_type": "execute_result"
    }
   ],
   "source": [
    "def get_input():\n",
    "    valid_input = False\n",
    "    \n",
    "    while not valid_input:\n",
    "        user_input = input('Por favor introduzca un numero \\n')\n",
    "        try:\n",
    "            result = int(user_input)\n",
    "            valid_input = True\n",
    "        except:\n",
    "            print('Eso no es un número')\n",
    "            \n",
    "    return result\n",
    "\n",
    "x = get_input()\n",
    "x"
   ]
  },
  {
   "cell_type": "markdown",
   "metadata": {},
   "source": [
    "#### Ejercicio: \n",
    "\n",
    "Recuerda que existe un metodo `.get(key[,default])` en los diccionarios que nos permite extraer un valor a partir de su clave sin dar errores. Implementalo usando excepciones. Es decir, escribe una funcion `get(dictionary, key, default)` que haga lo mismo *sin usar `dict.get`*\n"
   ]
  },
  {
   "cell_type": "code",
   "execution_count": 104,
   "metadata": {},
   "outputs": [
    {
     "ename": "KeyError",
     "evalue": "'Isra'",
     "output_type": "error",
     "traceback": [
      "\u001b[0;31m---------------------------------------------------------------------------\u001b[0m",
      "\u001b[0;31mKeyError\u001b[0m                                  Traceback (most recent call last)",
      "\u001b[0;32m<ipython-input-104-ff0bb3c36448>\u001b[0m in \u001b[0;36m<module>\u001b[0;34m()\u001b[0m\n\u001b[1;32m      1\u001b[0m \u001b[0mteacher_scores\u001b[0m \u001b[0;34m=\u001b[0m \u001b[0;34m{\u001b[0m\u001b[0;34m'Dani'\u001b[0m \u001b[0;34m:\u001b[0m \u001b[0;36m10\u001b[0m\u001b[0;34m,\u001b[0m \u001b[0;34m'Sebas'\u001b[0m \u001b[0;34m:\u001b[0m \u001b[0;36m9\u001b[0m\u001b[0;34m}\u001b[0m\u001b[0;34m\u001b[0m\u001b[0m\n\u001b[1;32m      2\u001b[0m \u001b[0;34m\u001b[0m\u001b[0m\n\u001b[0;32m----> 3\u001b[0;31m \u001b[0mteacher_scores\u001b[0m\u001b[0;34m[\u001b[0m\u001b[0;34m'Isra'\u001b[0m\u001b[0;34m]\u001b[0m\u001b[0;34m\u001b[0m\u001b[0m\n\u001b[0m",
      "\u001b[0;31mKeyError\u001b[0m: 'Isra'"
     ]
    }
   ],
   "source": [
    "teacher_scores = {'Dani' : 10, 'Sebas' : 9}\n",
    "\n",
    "teacher_scores['Isra']"
   ]
  },
  {
   "cell_type": "code",
   "execution_count": 119,
   "metadata": {},
   "outputs": [
    {
     "name": "stdout",
     "output_type": "stream",
     "text": [
      "None\n"
     ]
    }
   ],
   "source": [
    "print(teacher_scores.get('Alex'))"
   ]
  },
  {
   "cell_type": "code",
   "execution_count": 109,
   "metadata": {},
   "outputs": [
    {
     "name": "stdout",
     "output_type": "stream",
     "text": [
      "Isra Not evaluated yet\n",
      "Dani 10\n",
      "Sebas 9\n",
      "Alex Not evaluated yet\n"
     ]
    }
   ],
   "source": [
    "teachers = ['Isra', 'Dani', 'Sebas', 'Alex']\n",
    "for teacher in teachers:\n",
    "    print(teacher, teacher_scores.get(teacher, 'Not evaluated yet'))"
   ]
  },
  {
   "cell_type": "code",
   "execution_count": 117,
   "metadata": {},
   "outputs": [
    {
     "name": "stdout",
     "output_type": "stream",
     "text": [
      "Not evaluated yet\n",
      "None\n"
     ]
    }
   ],
   "source": [
    "def get(dictionary, key, default=None):\n",
    "    try:\n",
    "        result = dictionary[key]\n",
    "    except:\n",
    "        result = default\n",
    "        \n",
    "    return result\n",
    "    \n",
    "print(get(teacher_scores, 'Alex', 'Not evaluated yet'))\n",
    "print(get(teacher_scores, 'Alex'))"
   ]
  },
  {
   "cell_type": "code",
   "execution_count": null,
   "metadata": {},
   "outputs": [],
   "source": []
  },
  {
   "cell_type": "code",
   "execution_count": null,
   "metadata": {},
   "outputs": [],
   "source": []
  },
  {
   "cell_type": "code",
   "execution_count": null,
   "metadata": {},
   "outputs": [],
   "source": []
  },
  {
   "cell_type": "code",
   "execution_count": null,
   "metadata": {},
   "outputs": [],
   "source": []
  },
  {
   "cell_type": "code",
   "execution_count": null,
   "metadata": {},
   "outputs": [],
   "source": []
  },
  {
   "cell_type": "code",
   "execution_count": null,
   "metadata": {},
   "outputs": [],
   "source": []
  },
  {
   "cell_type": "markdown",
   "metadata": {},
   "source": [
    "## Pass-through: partial handling"
   ]
  },
  {
   "cell_type": "code",
   "execution_count": null,
   "metadata": {
    "collapsed": true
   },
   "outputs": [],
   "source": []
  },
  {
   "cell_type": "markdown",
   "metadata": {},
   "source": [
    "## `else`"
   ]
  },
  {
   "cell_type": "markdown",
   "metadata": {},
   "source": [
    "Aqui tiene un uso un poco \"exotico\""
   ]
  },
  {
   "cell_type": "markdown",
   "metadata": {},
   "source": [
    "## `finally`"
   ]
  },
  {
   "cell_type": "code",
   "execution_count": null,
   "metadata": {},
   "outputs": [],
   "source": []
  },
  {
   "cell_type": "markdown",
   "metadata": {},
   "source": [
    "# Para llevar: resumen del tema\n",
    "\n",
    "- Hay errores de tres tipos, sintácticos, semánticos y de tiempo de ejecución.\n",
    "\n",
    "- Usamos una cláusula `try` para envolver operaciones susceptibles de fallar, de forma que podamos reaccionar a ese potencial fallo.\n",
    "\n",
    "- Usamos una cláusula except para reaccionar ante ese fallo.\n",
    "\n",
    "- En un mensaje de error, tenemos tres partes: El tipo de error, el mensaje de error y la _stack trace_.\n",
    "\n",
    "- Las stack traces representan el estado del _call stack_ en el momento en que se produjo la excepción."
   ]
  },
  {
   "cell_type": "markdown",
   "metadata": {},
   "source": [
    "# Para saber más\n",
    "\n",
    "https://docs.python.org/3/tutorial/errors.html"
   ]
  }
 ],
 "metadata": {
  "kernelspec": {
   "display_name": "Python 3",
   "language": "python",
   "name": "python3"
  },
  "language_info": {
   "codemirror_mode": {
    "name": "ipython",
    "version": 3
   },
   "file_extension": ".py",
   "mimetype": "text/x-python",
   "name": "python",
   "nbconvert_exporter": "python",
   "pygments_lexer": "ipython3",
   "version": "3.6.6"
  }
 },
 "nbformat": 4,
 "nbformat_minor": 1
}
